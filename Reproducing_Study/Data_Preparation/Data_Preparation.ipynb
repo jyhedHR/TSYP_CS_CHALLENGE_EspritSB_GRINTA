{
  "cells": [
    {
      "cell_type": "markdown",
      "metadata": {},
      "source": [
        "# Deep-fake Forensics Challenge 🌐\n",
        "![Flag_of_Tunisia_(1959–1999).svg.png](data:image/png;base64,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)\n",
        "\n"
      ]
    },
    {
      "cell_type": "markdown",
      "metadata": {},
      "source": [
        "<span style=\"color:orange;font:bold\">**IEEE COMPUTER SOCIETY ESPRIT SB**</span><br>\n",
        "\n",
        "![image/cs.png](data:image/jpeg;base64,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)"
      ]
    },
    {
      "cell_type": "markdown",
      "metadata": {},
      "source": [
        "### **Team Members**"
      ]
    },
    {
      "cell_type": "markdown",
      "metadata": {},
      "source": [
        "* Yasmine Mzoughi\n",
        "* Adam Sfar\n",
        "* Jihed Horchani\n",
        "* Fares Frini\n",
        "* Ons Kchaou\n",
        "* Ahmed Hadded"
      ]
    },
    {
      "cell_type": "markdown",
      "metadata": {},
      "source": [
        " # <span style=\"color:#E3242B\" >  I - Introduction</span>"
      ]
    },
    {
      "cell_type": "markdown",
      "metadata": {},
      "source": [
        "Mounting the drive represents a critical step in maximizing efficiency. This process empowers immediate access and utilization of existing data directly from the source, bypassing the need for repetitive downloads. This not only saves valuable time but also streamlines workflows, ensuring seamless and readily available access to required data whenever needed. By eliminating the download bottleneck, we unlock a world of enhanced productivity and data exploration."
      ]
    },
    {
      "cell_type": "code",
      "execution_count": null,
      "metadata": {
        "colab": {
          "base_uri": "https://localhost:8080/"
        },
        "id": "S-Yw8L_RxZaF",
        "outputId": "e8410d09-af9b-4cdc-a6f8-0e9912c092eb"
      },
      "outputs": [],
      "source": [
        "from google.colab import drive\n",
        "drive.mount('/content/drive')"
      ]
    },
    {
      "cell_type": "markdown",
      "metadata": {},
      "source": [
        "Following the successful mounting of the drive, we proceed to set the working directory. Subsequently, we commence the process of constructing and downloading the required data."
      ]
    },
    {
      "cell_type": "code",
      "execution_count": null,
      "metadata": {},
      "outputs": [],
      "source": [
        "%cd /content/drive/MyDrive"
      ]
    },
    {
      "cell_type": "markdown",
      "metadata": {},
      "source": [
        "We clone the main project from github and we create new directory called data to put on it the required dataset used for both training and evaluation in same time "
      ]
    },
    {
      "cell_type": "code",
      "execution_count": null,
      "metadata": {},
      "outputs": [],
      "source": [
        "!git clone https://github.com/zjbthomas/ShallowDeepFakesLocalization.git"
      ]
    },
    {
      "cell_type": "markdown",
      "metadata": {},
      "source": [
        "# <span style=\"color:#E3242B\" > II - Downloading Required Datasets </span>"
      ]
    },
    {
      "cell_type": "markdown",
      "metadata": {},
      "source": [
        "#### <span style=\"color:orange\" > **Deepfakes** </span>"
      ]
    },
    {
      "cell_type": "markdown",
      "metadata": {},
      "source": [
        "We use wget (linux command-line) to rapidly and directly download data in our working directory "
      ]
    },
    {
      "cell_type": "code",
      "execution_count": null,
      "metadata": {
        "id": "XsGr1NDSM5fW"
      },
      "outputs": [],
      "source": [
        "!wget https://www.dropbox.com/s/o5410tl5v4vxsth/ICNC2023-Deepfakes.tar.xz"
      ]
    },
    {
      "cell_type": "code",
      "execution_count": null,
      "metadata": {
        "id": "6i5zeKccNA6s"
      },
      "outputs": [],
      "source": [
        "import tarfile\n",
        "import lzma\n",
        "\n",
        "file_path = 'ICNC2023-Deepfakes.tar.xz'\n",
        "\n",
        "with lzma.open(file_path, 'rb') as file:\n",
        "    with tarfile.open(fileobj=file, mode='r') as tar:\n",
        "        tar.extractall()"
      ]
    },
    {
      "cell_type": "markdown",
      "metadata": {},
      "source": [
        "####  <span style=\"color:orange\" > **CASIA V2**"
      ]
    },
    {
      "cell_type": "markdown",
      "metadata": {},
      "source": [
        "CASIA V2 is hosted on Google Drive, so we utilize the gdown command to swiftly download the images and then use unzip to extract them ."
      ]
    },
    {
      "cell_type": "code",
      "execution_count": null,
      "metadata": {
        "id": "5aBaNJHTY3nF"
      },
      "outputs": [],
      "source": [
        "!gdown 1IDUgcoUeonBxx2rASX-_QwV9fhbtqdY8"
      ]
    },
    {
      "cell_type": "code",
      "execution_count": null,
      "metadata": {
        "id": "n7l8uH9WKRhI"
      },
      "outputs": [],
      "source": [
        "!unzip CASIA2.0_revised.zip"
      ]
    },
    {
      "cell_type": "markdown",
      "metadata": {},
      "source": [
        "#### <span style=\"color:orange\" > **CASIA V1**"
      ]
    },
    {
      "cell_type": "markdown",
      "metadata": {},
      "source": [
        "CASIA V1 is accessible in a GitHub repository, and we clone the directory before extracting its contents into our designated drive directory."
      ]
    },
    {
      "cell_type": "code",
      "execution_count": null,
      "metadata": {},
      "outputs": [],
      "source": [
        "!git clone https://github.com/namtpham/casia1groundtruth.git\n",
        "!unzip casia1groundtruth/CASIA 1.0 groundtruth.zip"
      ]
    },
    {
      "cell_type": "markdown",
      "metadata": {},
      "source": [
        "#### <span style=\"color:orange\" > **COLUMBIA**"
      ]
    },
    {
      "cell_type": "code",
      "execution_count": null,
      "metadata": {
        "id": "couxfK-9KvzD"
      },
      "outputs": [],
      "source": [
        "!wget https://www.dropbox.com/s/bo10et4p1zg08aj/ImSpliceDataset.rar\n"
      ]
    },
    {
      "cell_type": "markdown",
      "metadata": {},
      "source": [
        "Here we used the rarfile library to extract our \".rar\" file ."
      ]
    },
    {
      "cell_type": "code",
      "execution_count": null,
      "metadata": {},
      "outputs": [],
      "source": [
        "import rarfile\n",
        "\n",
        "# Specify the path to the RAR file\n",
        "rar_file = \"ImSpliceDataset.rar\"\n",
        "\n",
        "# Open the RAR file in read mode\n",
        "with rarfile.RarFile(rar_file, \"r\") as rar:\n",
        "    # Extract all files to the current directory\n",
        "    rar.extractall()\n",
        "\n",
        "# Print completion message\n",
        "print(\"Files extracted successfully!\")"
      ]
    },
    {
      "cell_type": "markdown",
      "metadata": {},
      "source": [
        "#### <span style=\"color:orange\" > **COVERAGE**"
      ]
    },
    {
      "cell_type": "markdown",
      "metadata": {},
      "source": [
        "For COVERAGE, We manually downloaded the data and then uploaded it to the designated drive directory ."
      ]
    },
    {
      "cell_type": "markdown",
      "metadata": {},
      "source": [
        "#### <span style=\"color:orange\" >**NIST16**"
      ]
    },
    {
      "cell_type": "markdown",
      "metadata": {},
      "source": [
        "for NIST16 , it is only dedicated for model testing."
      ]
    },
    {
      "cell_type": "code",
      "execution_count": null,
      "metadata": {},
      "outputs": [],
      "source": [
        "!wget https://mig.nist.gov/MFC/PubData/NC2016_Test0613.SCI.tgz\n",
        "!wget https://mig.nist.gov/MFC/PubData/NC2016_Test0613.tar.bz2"
      ]
    },
    {
      "cell_type": "code",
      "execution_count": null,
      "metadata": {},
      "outputs": [],
      "source": [
        "import tarfile\n",
        "\n",
        "def create_tarball(file_path, tarball_name):\n",
        "    with tarfile.open(tarball_name, \"w:gz\") as tar:\n",
        "        tar.add(file_path, arcname=file_path)\n",
        "\n",
        "# Replace 'NC2016_Test0613.SCI' with your actual file name\n",
        "file_to_tar = 'NC2016_Test0613.SCI'\n",
        "tarball_name = f'{file_to_tar}.tgz'\n",
        "\n",
        "create_tarball(file_to_tar, tarball_name)\n",
        "print(f'Tarball \"{tarball_name}\" created successfully.')\n",
        "\n",
        "file_to_tar = 'NC2016_Test0613.tar'\n",
        "tarball_name = f'{file_to_tar}.tgz'\n",
        "\n",
        "create_tarball(file_to_tar, tarball_name)\n",
        "print(f'Tarball \"{tarball_name}\" created successfully.')\n"
      ]
    },
    {
      "cell_type": "markdown",
      "metadata": {},
      "source": [
        "Now after we downloaded all the required datasets, our Drive folder looks like this : "
      ]
    },
    {
      "cell_type": "markdown",
      "metadata": {},
      "source": [
        "![images/images/data_in_gdrive.png](data:image/png;base64,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)"
      ]
    },
    {
      "cell_type": "markdown",
      "metadata": {},
      "source": [
        "# <span style=\"color:#E3242B\" > III - Updating Paths : </span> "
      ]
    },
    {
      "cell_type": "markdown",
      "metadata": {},
      "source": [
        "The subsequent task involves updating the image paths in train_paths.txt, val_paths.txt, and test_paths.txt from the provided paths.zip file, enabling us to proceed with training the model."
      ]
    },
    {
      "cell_type": "markdown",
      "metadata": {},
      "source": [
        "# <span style=\"color:#E3242B\" > VI - Environments Preparation : </span> "
      ]
    },
    {
      "cell_type": "markdown",
      "metadata": {},
      "source": [
        "In this section, our focus is on setting up our working environments by installing the necessary libraries and packages. This step is crucial due to the absence of documentation and a requirements of .txt file outlining the specific environment configurations within the main project ."
      ]
    },
    {
      "cell_type": "code",
      "execution_count": null,
      "metadata": {
        "colab": {
          "base_uri": "https://localhost:8080/"
        },
        "id": "tQW0L8VEhE7g",
        "outputId": "f8dfe144-4569-4087-b249-b0f077cfd337"
      },
      "outputs": [],
      "source": [
        "!pip install -q torch torchvision torchdata Ninja"
      ]
    },
    {
      "cell_type": "markdown",
      "metadata": {},
      "source": [
        "##### Installation is now complete, paving the way for both the reproduction of the paper's results and the commencement of model training."
      ]
    }
  ],
  "metadata": {
    "accelerator": "GPU",
    "colab": {
      "provenance": []
    },
    "kernelspec": {
      "display_name": "Python 3",
      "name": "python3"
    },
    "language_info": {
      "codemirror_mode": {
        "name": "ipython",
        "version": 3
      },
      "file_extension": ".py",
      "mimetype": "text/x-python",
      "name": "python",
      "nbconvert_exporter": "python",
      "pygments_lexer": "ipython3",
      "version": "3.9.17"
    }
  },
  "nbformat": 4,
  "nbformat_minor": 0
}
