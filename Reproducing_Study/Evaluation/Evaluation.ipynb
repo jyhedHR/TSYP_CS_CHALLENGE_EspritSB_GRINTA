{
  "cells": [
    {
      "cell_type": "markdown",
      "metadata": {},
      "source": [
        "# Deep-fake Forensics Challenge 🌐\n",
        "![Flag_of_Tunisia_(1959–1999).svg.png](data:image/png;base64,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)\n",
        "\n"
      ]
    },
    {
      "cell_type": "markdown",
      "metadata": {},
      "source": [
        "<span style=\"color:orange;font:bold\">**IEEE COMPUTER SOCIETY ESPRIT SB**</span><br>\n",
        "\n",
        "![image/cs.png](data:image/jpeg;base64,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)"
      ]
    },
    {
      "cell_type": "markdown",
      "metadata": {},
      "source": [
        "### **Team Members**"
      ]
    },
    {
      "cell_type": "markdown",
      "metadata": {},
      "source": [
        "* Yasmine Mzoughi\n",
        "* Adam Sfar\n",
        "* Jihed Horchani\n",
        "* Fares Frini\n",
        "* Ons Kchaou\n",
        "* Ahmed Hadded"
      ]
    },
    {
      "cell_type": "markdown",
      "metadata": {
        "id": "AUrwjAgGfJ1e"
      },
      "source": [
        "## **Evaluation Notebook**"
      ]
    },
    {
      "cell_type": "markdown",
      "metadata": {
        "id": "BKbr76-CfJ1g"
      },
      "source": [
        "## <span style=\"color:#E3242B\" > I - Introduction"
      ]
    },
    {
      "cell_type": "markdown",
      "metadata": {
        "id": "F-rUDL_dfJ1h"
      },
      "source": [
        "Within this notebook, we are set to conduct a comprehensive assessment of the model across both shallow and deepfake datasets."
      ]
    },
    {
      "cell_type": "markdown",
      "metadata": {
        "id": "iPpXLd8HfJ1h"
      },
      "source": [
        "### <span style=\"color:orange\" >Mounting Drive"
      ]
    },
    {
      "cell_type": "markdown",
      "metadata": {
        "id": "OVfV-Y-4fJ1h"
      },
      "source": [
        "We start by mounting drive to access our working directory"
      ]
    },
    {
      "cell_type": "code",
      "execution_count": 3,
      "metadata": {
        "colab": {
          "base_uri": "https://localhost:8080/"
        },
        "id": "S-Yw8L_RxZaF",
        "outputId": "01b00c60-f894-46d1-c06a-e1f757638988"
      },
      "outputs": [
        {
          "name": "stdout",
          "output_type": "stream",
          "text": [
            "Mounted at /content/drive\n"
          ]
        }
      ],
      "source": [
        "from google.colab import drive\n",
        "drive.mount('/content/drive')"
      ]
    },
    {
      "cell_type": "code",
      "execution_count": 4,
      "metadata": {
        "colab": {
          "base_uri": "https://localhost:8080/"
        },
        "id": "d2ht33VpgTH5",
        "outputId": "d8f10f18-0d8c-4bb8-f65a-ab226013a4ef"
      },
      "outputs": [
        {
          "name": "stdout",
          "output_type": "stream",
          "text": [
            "/content/drive/MyDrive/ShallowDeepFakesLocalization\n"
          ]
        }
      ],
      "source": [
        "%cd /content/drive/MyDrive/ShallowDeepFakesLocalization"
      ]
    },
    {
      "cell_type": "markdown",
      "metadata": {
        "id": "Kkeu3a0ffJ1j"
      },
      "source": [
        "## <span style=\"color:#E3242B\" > II - Evaluation"
      ]
    },
    {
      "cell_type": "markdown",
      "metadata": {
        "id": "ShUoaGszfJ1j"
      },
      "source": [
        "#### **We have successfully conducted an evaluation of the model using :**"
      ]
    },
    {
      "cell_type": "markdown",
      "metadata": {
        "id": "xQFOy8ODjEDZ"
      },
      "source": [
        " ### <span style=\"color:orange\" > 1 - Only ShallowFakes images"
      ]
    },
    {
      "cell_type": "code",
      "execution_count": null,
      "metadata": {
        "colab": {
          "base_uri": "https://localhost:8080/"
        },
        "id": "XJWv4IcVm9fU",
        "outputId": "abdab523-7549-49ce-d4be-a98f13f12483"
      },
      "outputs": [
        {
          "name": "stdout",
          "output_type": "stream",
          "text": [
            "Using /root/.cache/torch_extensions/py310_cu102 as PyTorch extensions root...\n",
            "Detected CUDA files, patching ldflags\n",
            "Emitting ninja build file /root/.cache/torch_extensions/py310_cu102/_prroi_pooling/build.ninja...\n",
            "Building extension module _prroi_pooling...\n",
            "Allowing ninja to set a default number of workers... (overridable by setting the environment variable MAX_JOBS=N)\n",
            "ninja: no work to do.\n",
            "Loading extension module _prroi_pooling...\n",
            "load 20231209183144_79_end.pth finish\n",
            "Predicted maps will be saved in :out\n",
            " 46% 1629/3526 [10:40<18:14,  1.73it/s]/content/drive/MyDrive/ShallowDeepFakesLocalization/data/CASIA20revised/Tp/Tp_D_CRN_S_N_nat10130_pla00049_11524.jpg size not match\n",
            " 95% 3347/3526 [31:34<02:28,  1.21it/s]/content/drive/MyDrive/ShallowDeepFakesLocalization/data/COVERAGE/image/95t.tif size not match\n"
          ]
        }
      ],
      "source": [
        "!python -u evaluate.py --paths_file sf_test.txt --load_path /content/drive/MyDrive/ShallowDeepFakesLocalization/checkpoints/20231209183144_79_end.pth --model ours"
      ]
    },
    {
      "cell_type": "markdown",
      "metadata": {
        "id": "0tO7CIaTjMob"
      },
      "source": [
        "### <span style=\"color:orange\" > 2- Only DeepFakes images"
      ]
    },
    {
      "cell_type": "code",
      "execution_count": 8,
      "metadata": {
        "colab": {
          "base_uri": "https://localhost:8080/"
        },
        "id": "Mt84rmCYgcaM",
        "outputId": "ce9f59a0-e776-4045-a6e9-bd53dae7340a"
      },
      "outputs": [
        {
          "name": "stdout",
          "output_type": "stream",
          "text": [
            "Using /root/.cache/torch_extensions/py310_cu102 as PyTorch extensions root...\n",
            "Detected CUDA files, patching ldflags\n",
            "Emitting ninja build file /root/.cache/torch_extensions/py310_cu102/_prroi_pooling/build.ninja...\n",
            "Building extension module _prroi_pooling...\n",
            "Allowing ninja to set a default number of workers... (overridable by setting the environment variable MAX_JOBS=N)\n",
            "ninja: no work to do.\n",
            "Loading extension module _prroi_pooling...\n",
            "load 20231209183144_79_end.pth finish\n",
            "Predicted maps will be saved in :out\n",
            "100% 3887/3887 [44:20<00:00,  1.46it/s]\n",
            "number of images in subset ALL is 3887\n",
            "best threshold=0.307297, G-Mean=0.945\n",
            "threshold 0.5000, pixel-f1: 0.9097\n",
            "threshold 0.5000, img level acc: 0.9421 sen: 0.9322  spe: 0.9550  f1: 0.9435 auc: 0.9877\n",
            "threshold 0.5000, combine f1: 0.9263\n"
          ]
        }
      ],
      "source": [
        "!python -u evaluate.py --paths_file df_test.txt --load_path /content/drive/MyDrive/ShallowDeepFakesLocalization/checkpoints/20231209183144_79_end.pth --model ours"
      ]
    },
    {
      "cell_type": "markdown",
      "metadata": {
        "id": "guJq1UYNjU-a"
      },
      "source": [
        "### <span style=\"color:orange\" > 3 - Both images"
      ]
    },
    {
      "cell_type": "code",
      "execution_count": 9,
      "metadata": {
        "colab": {
          "base_uri": "https://localhost:8080/"
        },
        "id": "N8qaozyKge3T",
        "outputId": "1838326a-dc4b-4d5f-a606-5d41d99f0862"
      },
      "outputs": [
        {
          "name": "stdout",
          "output_type": "stream",
          "text": [
            "Using /root/.cache/torch_extensions/py310_cu102 as PyTorch extensions root...\n",
            "Detected CUDA files, patching ldflags\n",
            "Emitting ninja build file /root/.cache/torch_extensions/py310_cu102/_prroi_pooling/build.ninja...\n",
            "Building extension module _prroi_pooling...\n",
            "Allowing ninja to set a default number of workers... (overridable by setting the environment variable MAX_JOBS=N)\n",
            "ninja: no work to do.\n",
            "Loading extension module _prroi_pooling...\n",
            "load 20231209183144_79_end.pth finish\n",
            "Predicted maps will be saved in :out\n",
            " 16% 1179/7413 [02:20<10:33,  9.84it/s]/content/drive/MyDrive/ShallowDeepFakesLocalization/data/CASIA20revised/Tp/Tp_D_CRN_S_N_nat10130_pla00049_11524.jpg size not match\n",
            " 39% 2919/7413 [05:20<07:43,  9.70it/s]/content/drive/MyDrive/ShallowDeepFakesLocalization/data/COVERAGE/image/95t.tif size not match\n",
            "/content/drive/MyDrive/ShallowDeepFakesLocalization/data/COVERAGE/image/59t.tif size not match\n",
            "/content/drive/MyDrive/ShallowDeepFakesLocalization/data/COVERAGE/image/61t.tif size not match\n",
            " 46% 3419/7413 [06:00<07:12,  9.23it/s]/content/drive/MyDrive/ShallowDeepFakesLocalization/data/COVERAGE/image/58t.tif size not match\n",
            "/content/drive/MyDrive/ShallowDeepFakesLocalization/data/COVERAGE/image/56t.tif size not match\n",
            "/content/drive/MyDrive/ShallowDeepFakesLocalization/data/COVERAGE/image/48t.tif size not match\n",
            "/content/drive/MyDrive/ShallowDeepFakesLocalization/data/COVERAGE/image/57t.tif size not match\n",
            "/content/drive/MyDrive/ShallowDeepFakesLocalization/data/COVERAGE/image/41t.tif size not match\n",
            "/content/drive/MyDrive/ShallowDeepFakesLocalization/data/COVERAGE/image/55t.tif size not match\n",
            "100% 7413/7413 [15:01<00:00,  8.22it/s]\n",
            "number of images in subset ALL is 7413\n",
            "best threshold=0.141037, G-Mean=0.857\n",
            "threshold 0.5000, pixel-f1: 0.8044\n",
            "threshold 0.5000, img level acc: 0.8505 sen: 0.7547  spe: 0.9565  f1: 0.8437 auc: 0.9172\n",
            "threshold 0.5000, combine f1: 0.8236\n"
          ]
        }
      ],
      "source": [
        "!python -u evaluate.py --paths_file test_paths.txt --load_path /content/drive/MyDrive/ShallowDeepFakesLocalization/checkpoints/20231209183144_79_end.pth --model ours"
      ]
    },
    {
      "cell_type": "markdown",
      "metadata": {
        "id": "MZMR4Smvo0zT"
      },
      "source": [
        "## <span style=\"color:#E3242B\" > III- Conclusion"
      ]
    },
    {
      "cell_type": "markdown",
      "metadata": {
        "id": "UvEuHN9Lnmei"
      },
      "source": [
        "**The current results unveil valuable insights for the crucial final phase of model enhancement. A critical question emerges: which areas of the existing architecture necessitate refinement to bolster overall performance? Additionally, identifying the most efficient and cost-effective approach for result improvement becomes a paramount concern. Moving forward, meticulously analyzing the results and implementing strategically targeted optimization techniques will propel the model towards achieving its full potential.**"
      ]
    }
  ],
  "metadata": {
    "accelerator": "GPU",
    "colab": {
      "provenance": []
    },
    "kernelspec": {
      "display_name": "Python 3",
      "name": "python3"
    },
    "language_info": {
      "name": "python"
    }
  },
  "nbformat": 4,
  "nbformat_minor": 0
}
