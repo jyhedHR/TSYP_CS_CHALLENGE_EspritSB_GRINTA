{
  "cells": [
    {
      "cell_type": "markdown",
      "metadata": {},
      "source": [
        "# Deep-fake Forensics Challenge 🌐\n",
        "![Flag_of_Tunisia_(1959–1999).svg.png](data:image/png;base64,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)\n",
        "\n"
      ]
    },
    {
      "cell_type": "markdown",
      "metadata": {},
      "source": [
        "<span style=\"color:orange;font:bold\">**IEEE COMPUTER SOCIETY ESPRIT SB**</span><br>\n",
        "\n",
        "![image/cs.png](data:image/jpeg;base64,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)"
      ]
    },
    {
      "cell_type": "markdown",
      "metadata": {},
      "source": [
        "### **Team Members**"
      ]
    },
    {
      "cell_type": "markdown",
      "metadata": {},
      "source": [
        "* Yasmine Mzoughi\n",
        "* Adam Sfar\n",
        "* Jihed Horchani\n",
        "* Fares Frini\n",
        "* Ons Kchaou\n",
        "* Ahmed Hadded"
      ]
    },
    {
      "cell_type": "markdown",
      "metadata": {},
      "source": [
        "# Section II : Enhancements and Performance Optimization"
      ]
    },
    {
      "cell_type": "markdown",
      "metadata": {},
      "source": [
        "## <span style=\"color:#E3242B\" > **I - Introduction**"
      ]
    },
    {
      "cell_type": "markdown",
      "metadata": {},
      "source": [
        "In this notebook, we will delve into a detailed, step-by-step discussion of the three primary approaches proposed in the paper. \n",
        "\n",
        "The goal is to thoroughly explore and elucidate each approach, aiming to enhance the results reported in the research document. \n",
        "\n",
        "This comprehensive examination will provide a nuanced understanding of the methodologies proposed, allowing for a more in-depth analysis of their potential impact and effectiveness in improving the outcomes as presented in the paper."
      ]
    },
    {
      "cell_type": "markdown",
      "metadata": {},
      "source": [
        "## <span style=\"color:#E3242B\" > **II - Optimization**"
      ]
    },
    {
      "cell_type": "markdown",
      "metadata": {},
      "source": [
        "Now after finishing evalution and exploring in depth the results listed in the paper we choose three primary approaches which are :\n",
        "<ol>\n",
        "  <li>  Architecture Modifying : In this approach we suggest to change Resnet50 backbonex</li>\n",
        "  <li>  Hyperparameter Tuning  : In this approach we suggest re-train the model with new more complexe hyperparameters</li>\n",
        "  <li>  Dataset: In this section we suggest to finetune the model in new ShallowFakes datasets </li>\n",
        "</ol>"
      ]
    },
    {
      "cell_type": "markdown",
      "metadata": {},
      "source": [
        "### <span style=\"color:orange\" > 1 - Architecture Modifying :"
      ]
    },
    {
      "cell_type": "markdown",
      "metadata": {},
      "source": [
        "\n",
        "In the Architecture Modification approach, we suggest changing the foundational structure of our model by replacing the Resnet50 backbone. This means we'll look for a different, potentially more suitable structure that can better adapt to the specific needs of our task. By doing this, we hope to find a backbone architecture that improves the overall performance of our model, making it more effective in addressing the challenges of the problem we're tackling."
      ]
    },
    {
      "cell_type": "markdown",
      "metadata": {},
      "source": [
        "####  <span style=\"color:green\" > Backbone Benchmarking"
      ]
    },
    {
      "cell_type": "code",
      "execution_count": 2,
      "metadata": {},
      "outputs": [],
      "source": [
        "from numpy.core.fromnumeric import size\n",
        "import plotly.express as px\n",
        "import pandas as pd"
      ]
    },
    {
      "cell_type": "code",
      "execution_count": 3,
      "metadata": {},
      "outputs": [],
      "source": [
        "df = pd.read_csv(\"benchmark.csv\")"
      ]
    },
    {
      "cell_type": "code",
      "execution_count": 4,
      "metadata": {},
      "outputs": [
        {
          "data": {
            "application/vnd.plotly.v1+json": {
              "config": {
                "plotlyServerURL": "https://plot.ly"
              },
              "data": [
                {
                  "customdata": [
                    [
                      227
                    ]
                  ],
                  "hovertemplate": "model=swsl_resnet18<br>param_count=%{x}<br>top1=%{y}<br>fps=%{customdata[0]}<extra></extra>",
                  "legendgroup": "swsl_resnet18",
                  "marker": {
                    "color": "#636efa",
                    "symbol": "circle"
                  },
                  "mode": "markers",
                  "name": "swsl_resnet18",
                  "orientation": "v",
                  "showlegend": true,
                  "type": "scatter",
                  "x": [
                    11.69
                  ],
                  "xaxis": "x",
                  "y": [
                    73.276
                  ],
                  "yaxis": "y"
                },
                {
                  "customdata": [
                    [
                      222
                    ]
                  ],
                  "hovertemplate": "model=resnet18<br>param_count=%{x}<br>top1=%{y}<br>fps=%{customdata[0]}<extra></extra>",
                  "legendgroup": "resnet18",
                  "marker": {
                    "color": "#EF553B",
                    "symbol": "circle"
                  },
                  "mode": "markers",
                  "name": "resnet18",
                  "orientation": "v",
                  "showlegend": true,
                  "type": "scatter",
                  "x": [
                    11.69
                  ],
                  "xaxis": "x",
                  "y": [
                    69.748
                  ],
                  "yaxis": "y"
                },
                {
                  "customdata": [
                    [
                      222
                    ]
                  ],
                  "hovertemplate": "model=gluon_resnet18_v1b<br>param_count=%{x}<br>top1=%{y}<br>fps=%{customdata[0]}<extra></extra>",
                  "legendgroup": "gluon_resnet18_v1b",
                  "marker": {
                    "color": "#00cc96",
                    "symbol": "circle"
                  },
                  "mode": "markers",
                  "name": "gluon_resnet18_v1b",
                  "orientation": "v",
                  "showlegend": true,
                  "type": "scatter",
                  "x": [
                    11.69
                  ],
                  "xaxis": "x",
                  "y": [
                    70.836
                  ],
                  "yaxis": "y"
                },
                {
                  "customdata": [
                    [
                      222
                    ]
                  ],
                  "hovertemplate": "model=ssl_resnet18<br>param_count=%{x}<br>top1=%{y}<br>fps=%{customdata[0]}<extra></extra>",
                  "legendgroup": "ssl_resnet18",
                  "marker": {
                    "color": "#ab63fa",
                    "symbol": "circle"
                  },
                  "mode": "markers",
                  "name": "ssl_resnet18",
                  "orientation": "v",
                  "showlegend": true,
                  "type": "scatter",
                  "x": [
                    11.69
                  ],
                  "xaxis": "x",
                  "y": [
                    72.61
                  ],
                  "yaxis": "y"
                },
                {
                  "customdata": [
                    [
                      208
                    ]
                  ],
                  "hovertemplate": "model=resnet18d<br>param_count=%{x}<br>top1=%{y}<br>fps=%{customdata[0]}<extra></extra>",
                  "legendgroup": "resnet18d",
                  "marker": {
                    "color": "#FFA15A",
                    "symbol": "circle"
                  },
                  "mode": "markers",
                  "name": "resnet18d",
                  "orientation": "v",
                  "showlegend": true,
                  "type": "scatter",
                  "x": [
                    11.71
                  ],
                  "xaxis": "x",
                  "y": [
                    72.26
                  ],
                  "yaxis": "y"
                },
                {
                  "customdata": [
                    [
                      181
                    ]
                  ],
                  "hovertemplate": "model=tf_mobilenetv3_small_minimal_100<br>param_count=%{x}<br>top1=%{y}<br>fps=%{customdata[0]}<extra></extra>",
                  "legendgroup": "tf_mobilenetv3_small_minimal_100",
                  "marker": {
                    "color": "#19d3f3",
                    "symbol": "circle"
                  },
                  "mode": "markers",
                  "name": "tf_mobilenetv3_small_minimal_100",
                  "orientation": "v",
                  "showlegend": true,
                  "type": "scatter",
                  "x": [
                    2.04
                  ],
                  "xaxis": "x",
                  "y": [
                    62.906
                  ],
                  "yaxis": "y"
                },
                {
                  "customdata": [
                    [
                      153
                    ]
                  ],
                  "hovertemplate": "model=legacy_seresnet18<br>param_count=%{x}<br>top1=%{y}<br>fps=%{customdata[0]}<extra></extra>",
                  "legendgroup": "legacy_seresnet18",
                  "marker": {
                    "color": "#FF6692",
                    "symbol": "circle"
                  },
                  "mode": "markers",
                  "name": "legacy_seresnet18",
                  "orientation": "v",
                  "showlegend": true,
                  "type": "scatter",
                  "x": [
                    11.78
                  ],
                  "xaxis": "x",
                  "y": [
                    71.742
                  ],
                  "yaxis": "y"
                },
                {
                  "customdata": [
                    [
                      136
                    ]
                  ],
                  "hovertemplate": "model=tf_mobilenetv3_large_minimal_100<br>param_count=%{x}<br>top1=%{y}<br>fps=%{customdata[0]}<extra></extra>",
                  "legendgroup": "tf_mobilenetv3_large_minimal_100",
                  "marker": {
                    "color": "#B6E880",
                    "symbol": "circle"
                  },
                  "mode": "markers",
                  "name": "tf_mobilenetv3_large_minimal_100",
                  "orientation": "v",
                  "showlegend": true,
                  "type": "scatter",
                  "x": [
                    3.92
                  ],
                  "xaxis": "x",
                  "y": [
                    72.248
                  ],
                  "yaxis": "y"
                },
                {
                  "customdata": [
                    [
                      135
                    ]
                  ],
                  "hovertemplate": "model=efficientnet_lite0<br>param_count=%{x}<br>top1=%{y}<br>fps=%{customdata[0]}<extra></extra>",
                  "legendgroup": "efficientnet_lite0",
                  "marker": {
                    "color": "#FF97FF",
                    "symbol": "circle"
                  },
                  "mode": "markers",
                  "name": "efficientnet_lite0",
                  "orientation": "v",
                  "showlegend": true,
                  "type": "scatter",
                  "x": [
                    4.65
                  ],
                  "xaxis": "x",
                  "y": [
                    75.484
                  ],
                  "yaxis": "y"
                },
                {
                  "customdata": [
                    [
                      135
                    ]
                  ],
                  "hovertemplate": "model=ese_vovnet19b_dw<br>param_count=%{x}<br>top1=%{y}<br>fps=%{customdata[0]}<extra></extra>",
                  "legendgroup": "ese_vovnet19b_dw",
                  "marker": {
                    "color": "#FECB52",
                    "symbol": "circle"
                  },
                  "mode": "markers",
                  "name": "ese_vovnet19b_dw",
                  "orientation": "v",
                  "showlegend": true,
                  "type": "scatter",
                  "x": [
                    6.54
                  ],
                  "xaxis": "x",
                  "y": [
                    76.798
                  ],
                  "yaxis": "y"
                },
                {
                  "customdata": [
                    [
                      135
                    ]
                  ],
                  "hovertemplate": "model=gluon_resnet34_v1b<br>param_count=%{x}<br>top1=%{y}<br>fps=%{customdata[0]}<extra></extra>",
                  "legendgroup": "gluon_resnet34_v1b",
                  "marker": {
                    "color": "#636efa",
                    "symbol": "circle"
                  },
                  "mode": "markers",
                  "name": "gluon_resnet34_v1b",
                  "orientation": "v",
                  "showlegend": true,
                  "type": "scatter",
                  "x": [
                    21.8
                  ],
                  "xaxis": "x",
                  "y": [
                    74.588
                  ],
                  "yaxis": "y"
                },
                {
                  "customdata": [
                    [
                      133
                    ]
                  ],
                  "hovertemplate": "model=tv_resnet34<br>param_count=%{x}<br>top1=%{y}<br>fps=%{customdata[0]}<extra></extra>",
                  "legendgroup": "tv_resnet34",
                  "marker": {
                    "color": "#EF553B",
                    "symbol": "circle"
                  },
                  "mode": "markers",
                  "name": "tv_resnet34",
                  "orientation": "v",
                  "showlegend": true,
                  "type": "scatter",
                  "x": [
                    21.8
                  ],
                  "xaxis": "x",
                  "y": [
                    73.312
                  ],
                  "yaxis": "y"
                },
                {
                  "customdata": [
                    [
                      131
                    ]
                  ],
                  "hovertemplate": "model=resnet34<br>param_count=%{x}<br>top1=%{y}<br>fps=%{customdata[0]}<extra></extra>",
                  "legendgroup": "resnet34",
                  "marker": {
                    "color": "#00cc96",
                    "symbol": "circle"
                  },
                  "mode": "markers",
                  "name": "resnet34",
                  "orientation": "v",
                  "showlegend": true,
                  "type": "scatter",
                  "x": [
                    21.8
                  ],
                  "xaxis": "x",
                  "y": [
                    75.11
                  ],
                  "yaxis": "y"
                },
                {
                  "customdata": [
                    [
                      131
                    ]
                  ],
                  "hovertemplate": "model=mobilenetv2_140<br>param_count=%{x}<br>top1=%{y}<br>fps=%{customdata[0]}<extra></extra>",
                  "legendgroup": "mobilenetv2_140",
                  "marker": {
                    "color": "#ab63fa",
                    "symbol": "circle"
                  },
                  "mode": "markers",
                  "name": "mobilenetv2_140",
                  "orientation": "v",
                  "showlegend": true,
                  "type": "scatter",
                  "x": [
                    6.11
                  ],
                  "xaxis": "x",
                  "y": [
                    76.516
                  ],
                  "yaxis": "y"
                },
                {
                  "customdata": [
                    [
                      131
                    ]
                  ],
                  "hovertemplate": "model=regnetx_002<br>param_count=%{x}<br>top1=%{y}<br>fps=%{customdata[0]}<extra></extra>",
                  "legendgroup": "regnetx_002",
                  "marker": {
                    "color": "#FFA15A",
                    "symbol": "circle"
                  },
                  "mode": "markers",
                  "name": "regnetx_002",
                  "orientation": "v",
                  "showlegend": true,
                  "type": "scatter",
                  "x": [
                    2.68
                  ],
                  "xaxis": "x",
                  "y": [
                    68.762
                  ],
                  "yaxis": "y"
                },
                {
                  "customdata": [
                    [
                      129
                    ]
                  ],
                  "hovertemplate": "model=dla34<br>param_count=%{x}<br>top1=%{y}<br>fps=%{customdata[0]}<extra></extra>",
                  "legendgroup": "dla34",
                  "marker": {
                    "color": "#19d3f3",
                    "symbol": "circle"
                  },
                  "mode": "markers",
                  "name": "dla34",
                  "orientation": "v",
                  "showlegend": true,
                  "type": "scatter",
                  "x": [
                    15.74
                  ],
                  "xaxis": "x",
                  "y": [
                    74.63
                  ],
                  "yaxis": "y"
                },
                {
                  "customdata": [
                    [
                      129
                    ]
                  ],
                  "hovertemplate": "model=tf_efficientnet_lite0<br>param_count=%{x}<br>top1=%{y}<br>fps=%{customdata[0]}<extra></extra>",
                  "legendgroup": "tf_efficientnet_lite0",
                  "marker": {
                    "color": "#FF6692",
                    "symbol": "circle"
                  },
                  "mode": "markers",
                  "name": "tf_efficientnet_lite0",
                  "orientation": "v",
                  "showlegend": true,
                  "type": "scatter",
                  "x": [
                    4.65
                  ],
                  "xaxis": "x",
                  "y": [
                    74.83
                  ],
                  "yaxis": "y"
                },
                {
                  "customdata": [
                    [
                      128
                    ]
                  ],
                  "hovertemplate": "model=mnasnet_100<br>param_count=%{x}<br>top1=%{y}<br>fps=%{customdata[0]}<extra></extra>",
                  "legendgroup": "mnasnet_100",
                  "marker": {
                    "color": "#B6E880",
                    "symbol": "circle"
                  },
                  "mode": "markers",
                  "name": "mnasnet_100",
                  "orientation": "v",
                  "showlegend": true,
                  "type": "scatter",
                  "x": [
                    4.38
                  ],
                  "xaxis": "x",
                  "y": [
                    74.658
                  ],
                  "yaxis": "y"
                },
                {
                  "customdata": [
                    [
                      126
                    ]
                  ],
                  "hovertemplate": "model=efficientnet_es_pruned<br>param_count=%{x}<br>top1=%{y}<br>fps=%{customdata[0]}<extra></extra>",
                  "legendgroup": "efficientnet_es_pruned",
                  "marker": {
                    "color": "#FF97FF",
                    "symbol": "circle"
                  },
                  "mode": "markers",
                  "name": "efficientnet_es_pruned",
                  "orientation": "v",
                  "showlegend": true,
                  "type": "scatter",
                  "x": [
                    5.44
                  ],
                  "xaxis": "x",
                  "y": [
                    75
                  ],
                  "yaxis": "y"
                },
                {
                  "customdata": [
                    [
                      126
                    ]
                  ],
                  "hovertemplate": "model=efficientnet_es<br>param_count=%{x}<br>top1=%{y}<br>fps=%{customdata[0]}<extra></extra>",
                  "legendgroup": "efficientnet_es",
                  "marker": {
                    "color": "#FECB52",
                    "symbol": "circle"
                  },
                  "mode": "markers",
                  "name": "efficientnet_es",
                  "orientation": "v",
                  "showlegend": true,
                  "type": "scatter",
                  "x": [
                    5.44
                  ],
                  "xaxis": "x",
                  "y": [
                    78.066
                  ],
                  "yaxis": "y"
                },
                {
                  "customdata": [
                    [
                      125
                    ]
                  ],
                  "hovertemplate": "model=mobilenetv2_100<br>param_count=%{x}<br>top1=%{y}<br>fps=%{customdata[0]}<extra></extra>",
                  "legendgroup": "mobilenetv2_100",
                  "marker": {
                    "color": "#636efa",
                    "symbol": "circle"
                  },
                  "mode": "markers",
                  "name": "mobilenetv2_100",
                  "orientation": "v",
                  "showlegend": true,
                  "type": "scatter",
                  "x": [
                    3.5
                  ],
                  "xaxis": "x",
                  "y": [
                    72.97
                  ],
                  "yaxis": "y"
                },
                {
                  "customdata": [
                    [
                      125
                    ]
                  ],
                  "hovertemplate": "model=tf_efficientnet_es<br>param_count=%{x}<br>top1=%{y}<br>fps=%{customdata[0]}<extra></extra>",
                  "legendgroup": "tf_efficientnet_es",
                  "marker": {
                    "color": "#EF553B",
                    "symbol": "circle"
                  },
                  "mode": "markers",
                  "name": "tf_efficientnet_es",
                  "orientation": "v",
                  "showlegend": true,
                  "type": "scatter",
                  "x": [
                    5.44
                  ],
                  "xaxis": "x",
                  "y": [
                    76.594
                  ],
                  "yaxis": "y"
                },
                {
                  "customdata": [
                    [
                      125
                    ]
                  ],
                  "hovertemplate": "model=resnet26<br>param_count=%{x}<br>top1=%{y}<br>fps=%{customdata[0]}<extra></extra>",
                  "legendgroup": "resnet26",
                  "marker": {
                    "color": "#00cc96",
                    "symbol": "circle"
                  },
                  "mode": "markers",
                  "name": "resnet26",
                  "orientation": "v",
                  "showlegend": true,
                  "type": "scatter",
                  "x": [
                    16
                  ],
                  "xaxis": "x",
                  "y": [
                    75.292
                  ],
                  "yaxis": "y"
                },
                {
                  "customdata": [
                    [
                      120
                    ]
                  ],
                  "hovertemplate": "model=dla46x_c<br>param_count=%{x}<br>top1=%{y}<br>fps=%{customdata[0]}<extra></extra>",
                  "legendgroup": "dla46x_c",
                  "marker": {
                    "color": "#ab63fa",
                    "symbol": "circle"
                  },
                  "mode": "markers",
                  "name": "dla46x_c",
                  "orientation": "v",
                  "showlegend": true,
                  "type": "scatter",
                  "x": [
                    1.07
                  ],
                  "xaxis": "x",
                  "y": [
                    65.97
                  ],
                  "yaxis": "y"
                },
                {
                  "customdata": [
                    [
                      120
                    ]
                  ],
                  "hovertemplate": "model=resnet34d<br>param_count=%{x}<br>top1=%{y}<br>fps=%{customdata[0]}<extra></extra>",
                  "legendgroup": "resnet34d",
                  "marker": {
                    "color": "#FFA15A",
                    "symbol": "circle"
                  },
                  "mode": "markers",
                  "name": "resnet34d",
                  "orientation": "v",
                  "showlegend": true,
                  "type": "scatter",
                  "x": [
                    21.82
                  ],
                  "xaxis": "x",
                  "y": [
                    77.116
                  ],
                  "yaxis": "y"
                },
                {
                  "customdata": [
                    [
                      119
                    ]
                  ],
                  "hovertemplate": "model=dla46_c<br>param_count=%{x}<br>top1=%{y}<br>fps=%{customdata[0]}<extra></extra>",
                  "legendgroup": "dla46_c",
                  "marker": {
                    "color": "#19d3f3",
                    "symbol": "circle"
                  },
                  "mode": "markers",
                  "name": "dla46_c",
                  "orientation": "v",
                  "showlegend": true,
                  "type": "scatter",
                  "x": [
                    1.3
                  ],
                  "xaxis": "x",
                  "y": [
                    64.866
                  ],
                  "yaxis": "y"
                },
                {
                  "customdata": [
                    [
                      119
                    ]
                  ],
                  "hovertemplate": "model=gernet_s<br>param_count=%{x}<br>top1=%{y}<br>fps=%{customdata[0]}<extra></extra>",
                  "legendgroup": "gernet_s",
                  "marker": {
                    "color": "#FF6692",
                    "symbol": "circle"
                  },
                  "mode": "markers",
                  "name": "gernet_s",
                  "orientation": "v",
                  "showlegend": true,
                  "type": "scatter",
                  "x": [
                    8.17
                  ],
                  "xaxis": "x",
                  "y": [
                    76.916
                  ],
                  "yaxis": "y"
                },
                {
                  "customdata": [
                    [
                      119
                    ]
                  ],
                  "hovertemplate": "model=resnest14d<br>param_count=%{x}<br>top1=%{y}<br>fps=%{customdata[0]}<extra></extra>",
                  "legendgroup": "resnest14d",
                  "marker": {
                    "color": "#B6E880",
                    "symbol": "circle"
                  },
                  "mode": "markers",
                  "name": "resnest14d",
                  "orientation": "v",
                  "showlegend": true,
                  "type": "scatter",
                  "x": [
                    10.61
                  ],
                  "xaxis": "x",
                  "y": [
                    75.506
                  ],
                  "yaxis": "y"
                },
                {
                  "customdata": [
                    [
                      116
                    ]
                  ],
                  "hovertemplate": "model=hardcorenas_a<br>param_count=%{x}<br>top1=%{y}<br>fps=%{customdata[0]}<extra></extra>",
                  "legendgroup": "hardcorenas_a",
                  "marker": {
                    "color": "#FF97FF",
                    "symbol": "circle"
                  },
                  "mode": "markers",
                  "name": "hardcorenas_a",
                  "orientation": "v",
                  "showlegend": true,
                  "type": "scatter",
                  "x": [
                    5.26
                  ],
                  "xaxis": "x",
                  "y": [
                    75.916
                  ],
                  "yaxis": "y"
                },
                {
                  "customdata": [
                    [
                      116
                    ]
                  ],
                  "hovertemplate": "model=selecsls42b<br>param_count=%{x}<br>top1=%{y}<br>fps=%{customdata[0]}<extra></extra>",
                  "legendgroup": "selecsls42b",
                  "marker": {
                    "color": "#FECB52",
                    "symbol": "circle"
                  },
                  "mode": "markers",
                  "name": "selecsls42b",
                  "orientation": "v",
                  "showlegend": true,
                  "type": "scatter",
                  "x": [
                    32.46
                  ],
                  "xaxis": "x",
                  "y": [
                    77.174
                  ],
                  "yaxis": "y"
                },
                {
                  "customdata": [
                    [
                      114
                    ]
                  ],
                  "hovertemplate": "model=resnet26d<br>param_count=%{x}<br>top1=%{y}<br>fps=%{customdata[0]}<extra></extra>",
                  "legendgroup": "resnet26d",
                  "marker": {
                    "color": "#636efa",
                    "symbol": "circle"
                  },
                  "mode": "markers",
                  "name": "resnet26d",
                  "orientation": "v",
                  "showlegend": true,
                  "type": "scatter",
                  "x": [
                    16.01
                  ],
                  "xaxis": "x",
                  "y": [
                    76.696
                  ],
                  "yaxis": "y"
                },
                {
                  "customdata": [
                    [
                      113
                    ]
                  ],
                  "hovertemplate": "model=gernet_m<br>param_count=%{x}<br>top1=%{y}<br>fps=%{customdata[0]}<extra></extra>",
                  "legendgroup": "gernet_m",
                  "marker": {
                    "color": "#EF553B",
                    "symbol": "circle"
                  },
                  "mode": "markers",
                  "name": "gernet_m",
                  "orientation": "v",
                  "showlegend": true,
                  "type": "scatter",
                  "x": [
                    21.14
                  ],
                  "xaxis": "x",
                  "y": [
                    80.732
                  ],
                  "yaxis": "y"
                },
                {
                  "customdata": [
                    [
                      107
                    ]
                  ],
                  "hovertemplate": "model=semnasnet_100<br>param_count=%{x}<br>top1=%{y}<br>fps=%{customdata[0]}<extra></extra>",
                  "legendgroup": "semnasnet_100",
                  "marker": {
                    "color": "#00cc96",
                    "symbol": "circle"
                  },
                  "mode": "markers",
                  "name": "semnasnet_100",
                  "orientation": "v",
                  "showlegend": true,
                  "type": "scatter",
                  "x": [
                    3.89
                  ],
                  "xaxis": "x",
                  "y": [
                    75.448
                  ],
                  "yaxis": "y"
                },
                {
                  "customdata": [
                    [
                      106
                    ]
                  ],
                  "hovertemplate": "model=ecaresnet26t<br>param_count=%{x}<br>top1=%{y}<br>fps=%{customdata[0]}<extra></extra>",
                  "legendgroup": "ecaresnet26t",
                  "marker": {
                    "color": "#ab63fa",
                    "symbol": "circle"
                  },
                  "mode": "markers",
                  "name": "ecaresnet26t",
                  "orientation": "v",
                  "showlegend": true,
                  "type": "scatter",
                  "x": [
                    16.01
                  ],
                  "xaxis": "x",
                  "y": [
                    79.854
                  ],
                  "yaxis": "y"
                },
                {
                  "customdata": [
                    [
                      106
                    ]
                  ],
                  "hovertemplate": "model=regnetx_006<br>param_count=%{x}<br>top1=%{y}<br>fps=%{customdata[0]}<extra></extra>",
                  "legendgroup": "regnetx_006",
                  "marker": {
                    "color": "#FFA15A",
                    "symbol": "circle"
                  },
                  "mode": "markers",
                  "name": "regnetx_006",
                  "orientation": "v",
                  "showlegend": true,
                  "type": "scatter",
                  "x": [
                    6.2
                  ],
                  "xaxis": "x",
                  "y": [
                    73.852
                  ],
                  "yaxis": "y"
                },
                {
                  "customdata": [
                    [
                      106
                    ]
                  ],
                  "hovertemplate": "model=skresnet18<br>param_count=%{x}<br>top1=%{y}<br>fps=%{customdata[0]}<extra></extra>",
                  "legendgroup": "skresnet18",
                  "marker": {
                    "color": "#19d3f3",
                    "symbol": "circle"
                  },
                  "mode": "markers",
                  "name": "skresnet18",
                  "orientation": "v",
                  "showlegend": true,
                  "type": "scatter",
                  "x": [
                    11.96
                  ],
                  "xaxis": "x",
                  "y": [
                    73.038
                  ],
                  "yaxis": "y"
                },
                {
                  "customdata": [
                    [
                      105
                    ]
                  ],
                  "hovertemplate": "model=spnasnet_100<br>param_count=%{x}<br>top1=%{y}<br>fps=%{customdata[0]}<extra></extra>",
                  "legendgroup": "spnasnet_100",
                  "marker": {
                    "color": "#FF6692",
                    "symbol": "circle"
                  },
                  "mode": "markers",
                  "name": "spnasnet_100",
                  "orientation": "v",
                  "showlegend": true,
                  "type": "scatter",
                  "x": [
                    4.42
                  ],
                  "xaxis": "x",
                  "y": [
                    74.084
                  ],
                  "yaxis": "y"
                },
                {
                  "customdata": [
                    [
                      104
                    ]
                  ],
                  "hovertemplate": "model=fbnetc_100<br>param_count=%{x}<br>top1=%{y}<br>fps=%{customdata[0]}<extra></extra>",
                  "legendgroup": "fbnetc_100",
                  "marker": {
                    "color": "#B6E880",
                    "symbol": "circle"
                  },
                  "mode": "markers",
                  "name": "fbnetc_100",
                  "orientation": "v",
                  "showlegend": true,
                  "type": "scatter",
                  "x": [
                    5.57
                  ],
                  "xaxis": "x",
                  "y": [
                    75.124
                  ],
                  "yaxis": "y"
                },
                {
                  "customdata": [
                    [
                      104
                    ]
                  ],
                  "hovertemplate": "model=mobilenetv2_110d<br>param_count=%{x}<br>top1=%{y}<br>fps=%{customdata[0]}<extra></extra>",
                  "legendgroup": "mobilenetv2_110d",
                  "marker": {
                    "color": "#FF97FF",
                    "symbol": "circle"
                  },
                  "mode": "markers",
                  "name": "mobilenetv2_110d",
                  "orientation": "v",
                  "showlegend": true,
                  "type": "scatter",
                  "x": [
                    4.52
                  ],
                  "xaxis": "x",
                  "y": [
                    75.036
                  ],
                  "yaxis": "y"
                },
                {
                  "customdata": [
                    [
                      103
                    ]
                  ],
                  "hovertemplate": "model=tf_efficientnet_lite1<br>param_count=%{x}<br>top1=%{y}<br>fps=%{customdata[0]}<extra></extra>",
                  "legendgroup": "tf_efficientnet_lite1",
                  "marker": {
                    "color": "#FECB52",
                    "symbol": "circle"
                  },
                  "mode": "markers",
                  "name": "tf_efficientnet_lite1",
                  "orientation": "v",
                  "showlegend": true,
                  "type": "scatter",
                  "x": [
                    5.42
                  ],
                  "xaxis": "x",
                  "y": [
                    76.642
                  ],
                  "yaxis": "y"
                },
                {
                  "customdata": [
                    [
                      103
                    ]
                  ],
                  "hovertemplate": "model=regnetx_008<br>param_count=%{x}<br>top1=%{y}<br>fps=%{customdata[0]}<extra></extra>",
                  "legendgroup": "regnetx_008",
                  "marker": {
                    "color": "#636efa",
                    "symbol": "circle"
                  },
                  "mode": "markers",
                  "name": "regnetx_008",
                  "orientation": "v",
                  "showlegend": true,
                  "type": "scatter",
                  "x": [
                    7.26
                  ],
                  "xaxis": "x",
                  "y": [
                    75.038
                  ],
                  "yaxis": "y"
                },
                {
                  "customdata": [
                    [
                      102
                    ]
                  ],
                  "hovertemplate": "model=tf_efficientnet_lite2<br>param_count=%{x}<br>top1=%{y}<br>fps=%{customdata[0]}<extra></extra>",
                  "legendgroup": "tf_efficientnet_lite2",
                  "marker": {
                    "color": "#EF553B",
                    "symbol": "circle"
                  },
                  "mode": "markers",
                  "name": "tf_efficientnet_lite2",
                  "orientation": "v",
                  "showlegend": true,
                  "type": "scatter",
                  "x": [
                    6.09
                  ],
                  "xaxis": "x",
                  "y": [
                    77.468
                  ],
                  "yaxis": "y"
                },
                {
                  "customdata": [
                    [
                      95
                    ]
                  ],
                  "hovertemplate": "model=tf_mobilenetv3_small_100<br>param_count=%{x}<br>top1=%{y}<br>fps=%{customdata[0]}<extra></extra>",
                  "legendgroup": "tf_mobilenetv3_small_100",
                  "marker": {
                    "color": "#00cc96",
                    "symbol": "circle"
                  },
                  "mode": "markers",
                  "name": "tf_mobilenetv3_small_100",
                  "orientation": "v",
                  "showlegend": true,
                  "type": "scatter",
                  "x": [
                    2.54
                  ],
                  "xaxis": "x",
                  "y": [
                    67.922
                  ],
                  "yaxis": "y"
                },
                {
                  "customdata": [
                    [
                      94
                    ]
                  ],
                  "hovertemplate": "model=hardcorenas_b<br>param_count=%{x}<br>top1=%{y}<br>fps=%{customdata[0]}<extra></extra>",
                  "legendgroup": "hardcorenas_b",
                  "marker": {
                    "color": "#ab63fa",
                    "symbol": "circle"
                  },
                  "mode": "markers",
                  "name": "hardcorenas_b",
                  "orientation": "v",
                  "showlegend": true,
                  "type": "scatter",
                  "x": [
                    5.18
                  ],
                  "xaxis": "x",
                  "y": [
                    76.538
                  ],
                  "yaxis": "y"
                },
                {
                  "customdata": [
                    [
                      94
                    ]
                  ],
                  "hovertemplate": "model=efficientnet_em<br>param_count=%{x}<br>top1=%{y}<br>fps=%{customdata[0]}<extra></extra>",
                  "legendgroup": "efficientnet_em",
                  "marker": {
                    "color": "#FFA15A",
                    "symbol": "circle"
                  },
                  "mode": "markers",
                  "name": "efficientnet_em",
                  "orientation": "v",
                  "showlegend": true,
                  "type": "scatter",
                  "x": [
                    6.9
                  ],
                  "xaxis": "x",
                  "y": [
                    79.252
                  ],
                  "yaxis": "y"
                },
                {
                  "customdata": [
                    [
                      93
                    ]
                  ],
                  "hovertemplate": "model=gernet_l<br>param_count=%{x}<br>top1=%{y}<br>fps=%{customdata[0]}<extra></extra>",
                  "legendgroup": "gernet_l",
                  "marker": {
                    "color": "#19d3f3",
                    "symbol": "circle"
                  },
                  "mode": "markers",
                  "name": "gernet_l",
                  "orientation": "v",
                  "showlegend": true,
                  "type": "scatter",
                  "x": [
                    31.08
                  ],
                  "xaxis": "x",
                  "y": [
                    81.354
                  ],
                  "yaxis": "y"
                },
                {
                  "customdata": [
                    [
                      92
                    ]
                  ],
                  "hovertemplate": "model=dla60x_c<br>param_count=%{x}<br>top1=%{y}<br>fps=%{customdata[0]}<extra></extra>",
                  "legendgroup": "dla60x_c",
                  "marker": {
                    "color": "#FF6692",
                    "symbol": "circle"
                  },
                  "mode": "markers",
                  "name": "dla60x_c",
                  "orientation": "v",
                  "showlegend": true,
                  "type": "scatter",
                  "x": [
                    1.32
                  ],
                  "xaxis": "x",
                  "y": [
                    67.892
                  ],
                  "yaxis": "y"
                },
                {
                  "customdata": [
                    [
                      92
                    ]
                  ],
                  "hovertemplate": "model=cspresnet50<br>param_count=%{x}<br>top1=%{y}<br>fps=%{customdata[0]}<extra></extra>",
                  "legendgroup": "cspresnet50",
                  "marker": {
                    "color": "#B6E880",
                    "symbol": "circle"
                  },
                  "mode": "markers",
                  "name": "cspresnet50",
                  "orientation": "v",
                  "showlegend": true,
                  "type": "scatter",
                  "x": [
                    21.62
                  ],
                  "xaxis": "x",
                  "y": [
                    79.574
                  ],
                  "yaxis": "y"
                },
                {
                  "customdata": [
                    [
                      92
                    ]
                  ],
                  "hovertemplate": "model=tf_efficientnet_em<br>param_count=%{x}<br>top1=%{y}<br>fps=%{customdata[0]}<extra></extra>",
                  "legendgroup": "tf_efficientnet_em",
                  "marker": {
                    "color": "#FF97FF",
                    "symbol": "circle"
                  },
                  "mode": "markers",
                  "name": "tf_efficientnet_em",
                  "orientation": "v",
                  "showlegend": true,
                  "type": "scatter",
                  "x": [
                    6.9
                  ],
                  "xaxis": "x",
                  "y": [
                    78.13
                  ],
                  "yaxis": "y"
                },
                {
                  "customdata": [
                    [
                      90
                    ]
                  ],
                  "hovertemplate": "model=selecsls60<br>param_count=%{x}<br>top1=%{y}<br>fps=%{customdata[0]}<extra></extra>",
                  "legendgroup": "selecsls60",
                  "marker": {
                    "color": "#FECB52",
                    "symbol": "circle"
                  },
                  "mode": "markers",
                  "name": "selecsls60",
                  "orientation": "v",
                  "showlegend": true,
                  "type": "scatter",
                  "x": [
                    30.67
                  ],
                  "xaxis": "x",
                  "y": [
                    77.982
                  ],
                  "yaxis": "y"
                },
                {
                  "customdata": [
                    [
                      90
                    ]
                  ],
                  "hovertemplate": "model=tf_mobilenetv3_small_075<br>param_count=%{x}<br>top1=%{y}<br>fps=%{customdata[0]}<extra></extra>",
                  "legendgroup": "tf_mobilenetv3_small_075",
                  "marker": {
                    "color": "#636efa",
                    "symbol": "circle"
                  },
                  "mode": "markers",
                  "name": "tf_mobilenetv3_small_075",
                  "orientation": "v",
                  "showlegend": true,
                  "type": "scatter",
                  "x": [
                    2.04
                  ],
                  "xaxis": "x",
                  "y": [
                    65.716
                  ],
                  "yaxis": "y"
                },
                {
                  "customdata": [
                    [
                      90
                    ]
                  ],
                  "hovertemplate": "model=tf_efficientnet_lite3<br>param_count=%{x}<br>top1=%{y}<br>fps=%{customdata[0]}<extra></extra>",
                  "legendgroup": "tf_efficientnet_lite3",
                  "marker": {
                    "color": "#EF553B",
                    "symbol": "circle"
                  },
                  "mode": "markers",
                  "name": "tf_efficientnet_lite3",
                  "orientation": "v",
                  "showlegend": true,
                  "type": "scatter",
                  "x": [
                    8.2
                  ],
                  "xaxis": "x",
                  "y": [
                    79.82
                  ],
                  "yaxis": "y"
                },
                {
                  "customdata": [
                    [
                      89
                    ]
                  ],
                  "hovertemplate": "model=regnety_002<br>param_count=%{x}<br>top1=%{y}<br>fps=%{customdata[0]}<extra></extra>",
                  "legendgroup": "regnety_002",
                  "marker": {
                    "color": "#00cc96",
                    "symbol": "circle"
                  },
                  "mode": "markers",
                  "name": "regnety_002",
                  "orientation": "v",
                  "showlegend": true,
                  "type": "scatter",
                  "x": [
                    3.16
                  ],
                  "xaxis": "x",
                  "y": [
                    70.252
                  ],
                  "yaxis": "y"
                },
                {
                  "customdata": [
                    [
                      89
                    ]
                  ],
                  "hovertemplate": "model=repvgg_a2<br>param_count=%{x}<br>top1=%{y}<br>fps=%{customdata[0]}<extra></extra>",
                  "legendgroup": "repvgg_a2",
                  "marker": {
                    "color": "#ab63fa",
                    "symbol": "circle"
                  },
                  "mode": "markers",
                  "name": "repvgg_a2",
                  "orientation": "v",
                  "showlegend": true,
                  "type": "scatter",
                  "x": [
                    28.21
                  ],
                  "xaxis": "x",
                  "y": [
                    76.46
                  ],
                  "yaxis": "y"
                },
                {
                  "customdata": [
                    [
                      88
                    ]
                  ],
                  "hovertemplate": "model=regnetx_016<br>param_count=%{x}<br>top1=%{y}<br>fps=%{customdata[0]}<extra></extra>",
                  "legendgroup": "regnetx_016",
                  "marker": {
                    "color": "#FFA15A",
                    "symbol": "circle"
                  },
                  "mode": "markers",
                  "name": "regnetx_016",
                  "orientation": "v",
                  "showlegend": true,
                  "type": "scatter",
                  "x": [
                    9.19
                  ],
                  "xaxis": "x",
                  "y": [
                    76.95
                  ],
                  "yaxis": "y"
                },
                {
                  "customdata": [
                    [
                      87
                    ]
                  ],
                  "hovertemplate": "model=efficientnet_b0<br>param_count=%{x}<br>top1=%{y}<br>fps=%{customdata[0]}<extra></extra>",
                  "legendgroup": "efficientnet_b0",
                  "marker": {
                    "color": "#19d3f3",
                    "symbol": "circle"
                  },
                  "mode": "markers",
                  "name": "efficientnet_b0",
                  "orientation": "v",
                  "showlegend": true,
                  "type": "scatter",
                  "x": [
                    5.29
                  ],
                  "xaxis": "x",
                  "y": [
                    77.698
                  ],
                  "yaxis": "y"
                },
                {
                  "customdata": [
                    [
                      87
                    ]
                  ],
                  "hovertemplate": "model=selecsls60b<br>param_count=%{x}<br>top1=%{y}<br>fps=%{customdata[0]}<extra></extra>",
                  "legendgroup": "selecsls60b",
                  "marker": {
                    "color": "#FF6692",
                    "symbol": "circle"
                  },
                  "mode": "markers",
                  "name": "selecsls60b",
                  "orientation": "v",
                  "showlegend": true,
                  "type": "scatter",
                  "x": [
                    32.77
                  ],
                  "xaxis": "x",
                  "y": [
                    78.412
                  ],
                  "yaxis": "y"
                },
                {
                  "customdata": [
                    [
                      86
                    ]
                  ],
                  "hovertemplate": "model=mobilenetv3_large_100<br>param_count=%{x}<br>top1=%{y}<br>fps=%{customdata[0]}<extra></extra>",
                  "legendgroup": "mobilenetv3_large_100",
                  "marker": {
                    "color": "#B6E880",
                    "symbol": "circle"
                  },
                  "mode": "markers",
                  "name": "mobilenetv3_large_100",
                  "orientation": "v",
                  "showlegend": true,
                  "type": "scatter",
                  "x": [
                    5.48
                  ],
                  "xaxis": "x",
                  "y": [
                    75.766
                  ],
                  "yaxis": "y"
                },
                {
                  "customdata": [
                    [
                      86
                    ]
                  ],
                  "hovertemplate": "model=mobilenetv3_large_100_miil<br>param_count=%{x}<br>top1=%{y}<br>fps=%{customdata[0]}<extra></extra>",
                  "legendgroup": "mobilenetv3_large_100_miil",
                  "marker": {
                    "color": "#FF97FF",
                    "symbol": "circle"
                  },
                  "mode": "markers",
                  "name": "mobilenetv3_large_100_miil",
                  "orientation": "v",
                  "showlegend": true,
                  "type": "scatter",
                  "x": [
                    5.48
                  ],
                  "xaxis": "x",
                  "y": [
                    77.916
                  ],
                  "yaxis": "y"
                },
                {
                  "customdata": [
                    [
                      86
                    ]
                  ],
                  "hovertemplate": "model=hardcorenas_c<br>param_count=%{x}<br>top1=%{y}<br>fps=%{customdata[0]}<extra></extra>",
                  "legendgroup": "hardcorenas_c",
                  "marker": {
                    "color": "#FECB52",
                    "symbol": "circle"
                  },
                  "mode": "markers",
                  "name": "hardcorenas_c",
                  "orientation": "v",
                  "showlegend": true,
                  "type": "scatter",
                  "x": [
                    5.52
                  ],
                  "xaxis": "x",
                  "y": [
                    77.054
                  ],
                  "yaxis": "y"
                },
                {
                  "customdata": [
                    [
                      86
                    ]
                  ],
                  "hovertemplate": "model=mobilenetv2_120d<br>param_count=%{x}<br>top1=%{y}<br>fps=%{customdata[0]}<extra></extra>",
                  "legendgroup": "mobilenetv2_120d",
                  "marker": {
                    "color": "#636efa",
                    "symbol": "circle"
                  },
                  "mode": "markers",
                  "name": "mobilenetv2_120d",
                  "orientation": "v",
                  "showlegend": true,
                  "type": "scatter",
                  "x": [
                    5.83
                  ],
                  "xaxis": "x",
                  "y": [
                    77.284
                  ],
                  "yaxis": "y"
                },
                {
                  "customdata": [
                    [
                      86
                    ]
                  ],
                  "hovertemplate": "model=legacy_seresnext26_32x4d<br>param_count=%{x}<br>top1=%{y}<br>fps=%{customdata[0]}<extra></extra>",
                  "legendgroup": "legacy_seresnext26_32x4d",
                  "marker": {
                    "color": "#EF553B",
                    "symbol": "circle"
                  },
                  "mode": "markers",
                  "name": "legacy_seresnext26_32x4d",
                  "orientation": "v",
                  "showlegend": true,
                  "type": "scatter",
                  "x": [
                    16.79
                  ],
                  "xaxis": "x",
                  "y": [
                    77.104
                  ],
                  "yaxis": "y"
                },
                {
                  "customdata": [
                    [
                      86
                    ]
                  ],
                  "hovertemplate": "model=tf_efficientnet_b0_ns<br>param_count=%{x}<br>top1=%{y}<br>fps=%{customdata[0]}<extra></extra>",
                  "legendgroup": "tf_efficientnet_b0_ns",
                  "marker": {
                    "color": "#00cc96",
                    "symbol": "circle"
                  },
                  "mode": "markers",
                  "name": "tf_efficientnet_b0_ns",
                  "orientation": "v",
                  "showlegend": true,
                  "type": "scatter",
                  "x": [
                    5.29
                  ],
                  "xaxis": "x",
                  "y": [
                    78.658
                  ],
                  "yaxis": "y"
                },
                {
                  "customdata": [
                    [
                      86
                    ]
                  ],
                  "hovertemplate": "model=tf_mobilenetv3_large_100<br>param_count=%{x}<br>top1=%{y}<br>fps=%{customdata[0]}<extra></extra>",
                  "legendgroup": "tf_mobilenetv3_large_100",
                  "marker": {
                    "color": "#ab63fa",
                    "symbol": "circle"
                  },
                  "mode": "markers",
                  "name": "tf_mobilenetv3_large_100",
                  "orientation": "v",
                  "showlegend": true,
                  "type": "scatter",
                  "x": [
                    5.48
                  ],
                  "xaxis": "x",
                  "y": [
                    75.518
                  ],
                  "yaxis": "y"
                },
                {
                  "customdata": [
                    [
                      85
                    ]
                  ],
                  "hovertemplate": "model=resnest26d<br>param_count=%{x}<br>top1=%{y}<br>fps=%{customdata[0]}<extra></extra>",
                  "legendgroup": "resnest26d",
                  "marker": {
                    "color": "#FFA15A",
                    "symbol": "circle"
                  },
                  "mode": "markers",
                  "name": "resnest26d",
                  "orientation": "v",
                  "showlegend": true,
                  "type": "scatter",
                  "x": [
                    17.07
                  ],
                  "xaxis": "x",
                  "y": [
                    78.478
                  ],
                  "yaxis": "y"
                },
                {
                  "customdata": [
                    [
                      83
                    ]
                  ],
                  "hovertemplate": "model=tf_efficientnet_b0<br>param_count=%{x}<br>top1=%{y}<br>fps=%{customdata[0]}<extra></extra>",
                  "legendgroup": "tf_efficientnet_b0",
                  "marker": {
                    "color": "#19d3f3",
                    "symbol": "circle"
                  },
                  "mode": "markers",
                  "name": "tf_efficientnet_b0",
                  "orientation": "v",
                  "showlegend": true,
                  "type": "scatter",
                  "x": [
                    5.29
                  ],
                  "xaxis": "x",
                  "y": [
                    76.848
                  ],
                  "yaxis": "y"
                },
                {
                  "customdata": [
                    [
                      83
                    ]
                  ],
                  "hovertemplate": "model=legacy_seresnet34<br>param_count=%{x}<br>top1=%{y}<br>fps=%{customdata[0]}<extra></extra>",
                  "legendgroup": "legacy_seresnet34",
                  "marker": {
                    "color": "#FF6692",
                    "symbol": "circle"
                  },
                  "mode": "markers",
                  "name": "legacy_seresnet34",
                  "orientation": "v",
                  "showlegend": true,
                  "type": "scatter",
                  "x": [
                    21.96
                  ],
                  "xaxis": "x",
                  "y": [
                    74.808
                  ],
                  "yaxis": "y"
                },
                {
                  "customdata": [
                    [
                      83
                    ]
                  ],
                  "hovertemplate": "model=tf_efficientnet_b0_ap<br>param_count=%{x}<br>top1=%{y}<br>fps=%{customdata[0]}<extra></extra>",
                  "legendgroup": "tf_efficientnet_b0_ap",
                  "marker": {
                    "color": "#B6E880",
                    "symbol": "circle"
                  },
                  "mode": "markers",
                  "name": "tf_efficientnet_b0_ap",
                  "orientation": "v",
                  "showlegend": true,
                  "type": "scatter",
                  "x": [
                    5.29
                  ],
                  "xaxis": "x",
                  "y": [
                    77.086
                  ],
                  "yaxis": "y"
                },
                {
                  "customdata": [
                    [
                      81
                    ]
                  ],
                  "hovertemplate": "model=mobilenetv3_rw<br>param_count=%{x}<br>top1=%{y}<br>fps=%{customdata[0]}<extra></extra>",
                  "legendgroup": "mobilenetv3_rw",
                  "marker": {
                    "color": "#FF97FF",
                    "symbol": "circle"
                  },
                  "mode": "markers",
                  "name": "mobilenetv3_rw",
                  "orientation": "v",
                  "showlegend": true,
                  "type": "scatter",
                  "x": [
                    5.48
                  ],
                  "xaxis": "x",
                  "y": [
                    75.634
                  ],
                  "yaxis": "y"
                },
                {
                  "customdata": [
                    [
                      81
                    ]
                  ],
                  "hovertemplate": "model=seresnext26d_32x4d<br>param_count=%{x}<br>top1=%{y}<br>fps=%{customdata[0]}<extra></extra>",
                  "legendgroup": "seresnext26d_32x4d",
                  "marker": {
                    "color": "#FECB52",
                    "symbol": "circle"
                  },
                  "mode": "markers",
                  "name": "seresnext26d_32x4d",
                  "orientation": "v",
                  "showlegend": true,
                  "type": "scatter",
                  "x": [
                    16.81
                  ],
                  "xaxis": "x",
                  "y": [
                    77.602
                  ],
                  "yaxis": "y"
                },
                {
                  "customdata": [
                    [
                      81
                    ]
                  ],
                  "hovertemplate": "model=seresnext26t_32x4d<br>param_count=%{x}<br>top1=%{y}<br>fps=%{customdata[0]}<extra></extra>",
                  "legendgroup": "seresnext26t_32x4d",
                  "marker": {
                    "color": "#636efa",
                    "symbol": "circle"
                  },
                  "mode": "markers",
                  "name": "seresnext26t_32x4d",
                  "orientation": "v",
                  "showlegend": true,
                  "type": "scatter",
                  "x": [
                    16.81
                  ],
                  "xaxis": "x",
                  "y": [
                    77.986
                  ],
                  "yaxis": "y"
                },
                {
                  "customdata": [
                    [
                      80
                    ]
                  ],
                  "hovertemplate": "model=regnetx_004<br>param_count=%{x}<br>top1=%{y}<br>fps=%{customdata[0]}<extra></extra>",
                  "legendgroup": "regnetx_004",
                  "marker": {
                    "color": "#EF553B",
                    "symbol": "circle"
                  },
                  "mode": "markers",
                  "name": "regnetx_004",
                  "orientation": "v",
                  "showlegend": true,
                  "type": "scatter",
                  "x": [
                    5.16
                  ],
                  "xaxis": "x",
                  "y": [
                    72.396
                  ],
                  "yaxis": "y"
                },
                {
                  "customdata": [
                    [
                      79
                    ]
                  ],
                  "hovertemplate": "model=ese_vovnet39b<br>param_count=%{x}<br>top1=%{y}<br>fps=%{customdata[0]}<extra></extra>",
                  "legendgroup": "ese_vovnet39b",
                  "marker": {
                    "color": "#00cc96",
                    "symbol": "circle"
                  },
                  "mode": "markers",
                  "name": "ese_vovnet39b",
                  "orientation": "v",
                  "showlegend": true,
                  "type": "scatter",
                  "x": [
                    24.57
                  ],
                  "xaxis": "x",
                  "y": [
                    79.32
                  ],
                  "yaxis": "y"
                },
                {
                  "customdata": [
                    [
                      78
                    ]
                  ],
                  "hovertemplate": "model=ecaresnet50d_pruned<br>param_count=%{x}<br>top1=%{y}<br>fps=%{customdata[0]}<extra></extra>",
                  "legendgroup": "ecaresnet50d_pruned",
                  "marker": {
                    "color": "#ab63fa",
                    "symbol": "circle"
                  },
                  "mode": "markers",
                  "name": "ecaresnet50d_pruned",
                  "orientation": "v",
                  "showlegend": true,
                  "type": "scatter",
                  "x": [
                    19.94
                  ],
                  "xaxis": "x",
                  "y": [
                    79.716
                  ],
                  "yaxis": "y"
                },
                {
                  "customdata": [
                    [
                      78
                    ]
                  ],
                  "hovertemplate": "model=rexnet_100<br>param_count=%{x}<br>top1=%{y}<br>fps=%{customdata[0]}<extra></extra>",
                  "legendgroup": "rexnet_100",
                  "marker": {
                    "color": "#FFA15A",
                    "symbol": "circle"
                  },
                  "mode": "markers",
                  "name": "rexnet_100",
                  "orientation": "v",
                  "showlegend": true,
                  "type": "scatter",
                  "x": [
                    4.8
                  ],
                  "xaxis": "x",
                  "y": [
                    77.858
                  ],
                  "yaxis": "y"
                },
                {
                  "customdata": [
                    [
                      78
                    ]
                  ],
                  "hovertemplate": "model=ecaresnetlight<br>param_count=%{x}<br>top1=%{y}<br>fps=%{customdata[0]}<extra></extra>",
                  "legendgroup": "ecaresnetlight",
                  "marker": {
                    "color": "#19d3f3",
                    "symbol": "circle"
                  },
                  "mode": "markers",
                  "name": "ecaresnetlight",
                  "orientation": "v",
                  "showlegend": true,
                  "type": "scatter",
                  "x": [
                    30.16
                  ],
                  "xaxis": "x",
                  "y": [
                    80.462
                  ],
                  "yaxis": "y"
                },
                {
                  "customdata": [
                    [
                      78
                    ]
                  ],
                  "hovertemplate": "model=rexnet_130<br>param_count=%{x}<br>top1=%{y}<br>fps=%{customdata[0]}<extra></extra>",
                  "legendgroup": "rexnet_130",
                  "marker": {
                    "color": "#FF6692",
                    "symbol": "circle"
                  },
                  "mode": "markers",
                  "name": "rexnet_130",
                  "orientation": "v",
                  "showlegend": true,
                  "type": "scatter",
                  "x": [
                    7.56
                  ],
                  "xaxis": "x",
                  "y": [
                    79.5
                  ],
                  "yaxis": "y"
                },
                {
                  "customdata": [
                    [
                      78
                    ]
                  ],
                  "hovertemplate": "model=tv_resnet50<br>param_count=%{x}<br>top1=%{y}<br>fps=%{customdata[0]}<extra></extra>",
                  "legendgroup": "tv_resnet50",
                  "marker": {
                    "color": "#B6E880",
                    "symbol": "circle"
                  },
                  "mode": "markers",
                  "name": "tv_resnet50",
                  "orientation": "v",
                  "showlegend": true,
                  "type": "scatter",
                  "x": [
                    25.56
                  ],
                  "xaxis": "x",
                  "y": [
                    76.138
                  ],
                  "yaxis": "y"
                },
                {
                  "customdata": [
                    [
                      78
                    ]
                  ],
                  "hovertemplate": "model=swsl_resnet50<br>param_count=%{x}<br>top1=%{y}<br>fps=%{customdata[0]}<extra></extra>",
                  "legendgroup": "swsl_resnet50",
                  "marker": {
                    "color": "#FF97FF",
                    "symbol": "circle"
                  },
                  "mode": "markers",
                  "name": "swsl_resnet50",
                  "orientation": "v",
                  "showlegend": true,
                  "type": "scatter",
                  "x": [
                    25.56
                  ],
                  "xaxis": "x",
                  "y": [
                    81.166
                  ],
                  "yaxis": "y"
                },
                {
                  "customdata": [
                    [
                      78
                    ]
                  ],
                  "hovertemplate": "model=tf_mobilenetv3_large_075<br>param_count=%{x}<br>top1=%{y}<br>fps=%{customdata[0]}<extra></extra>",
                  "legendgroup": "tf_mobilenetv3_large_075",
                  "marker": {
                    "color": "#FECB52",
                    "symbol": "circle"
                  },
                  "mode": "markers",
                  "name": "tf_mobilenetv3_large_075",
                  "orientation": "v",
                  "showlegend": true,
                  "type": "scatter",
                  "x": [
                    3.99
                  ],
                  "xaxis": "x",
                  "y": [
                    73.438
                  ],
                  "yaxis": "y"
                },
                {
                  "customdata": [
                    [
                      78
                    ]
                  ],
                  "hovertemplate": "model=repvgg_b0<br>param_count=%{x}<br>top1=%{y}<br>fps=%{customdata[0]}<extra></extra>",
                  "legendgroup": "repvgg_b0",
                  "marker": {
                    "color": "#636efa",
                    "symbol": "circle"
                  },
                  "mode": "markers",
                  "name": "repvgg_b0",
                  "orientation": "v",
                  "showlegend": true,
                  "type": "scatter",
                  "x": [
                    15.82
                  ],
                  "xaxis": "x",
                  "y": [
                    75.152
                  ],
                  "yaxis": "y"
                },
                {
                  "customdata": [
                    [
                      78
                    ]
                  ],
                  "hovertemplate": "model=resnet50<br>param_count=%{x}<br>top1=%{y}<br>fps=%{customdata[0]}<extra></extra>",
                  "legendgroup": "resnet50",
                  "marker": {
                    "color": "#EF553B",
                    "symbol": "circle"
                  },
                  "mode": "markers",
                  "name": "resnet50",
                  "orientation": "v",
                  "showlegend": true,
                  "type": "scatter",
                  "x": [
                    25.56
                  ],
                  "xaxis": "x",
                  "y": [
                    79.038
                  ],
                  "yaxis": "y"
                },
                {
                  "customdata": [
                    [
                      78
                    ]
                  ],
                  "hovertemplate": "model=ssl_resnet50<br>param_count=%{x}<br>top1=%{y}<br>fps=%{customdata[0]}<extra></extra>",
                  "legendgroup": "ssl_resnet50",
                  "marker": {
                    "color": "#00cc96",
                    "symbol": "circle"
                  },
                  "mode": "markers",
                  "name": "ssl_resnet50",
                  "orientation": "v",
                  "showlegend": true,
                  "type": "scatter",
                  "x": [
                    25.56
                  ],
                  "xaxis": "x",
                  "y": [
                    79.222
                  ],
                  "yaxis": "y"
                },
                {
                  "customdata": [
                    [
                      78
                    ]
                  ],
                  "hovertemplate": "model=rexnet_150<br>param_count=%{x}<br>top1=%{y}<br>fps=%{customdata[0]}<extra></extra>",
                  "legendgroup": "rexnet_150",
                  "marker": {
                    "color": "#ab63fa",
                    "symbol": "circle"
                  },
                  "mode": "markers",
                  "name": "rexnet_150",
                  "orientation": "v",
                  "showlegend": true,
                  "type": "scatter",
                  "x": [
                    9.73
                  ],
                  "xaxis": "x",
                  "y": [
                    80.31
                  ],
                  "yaxis": "y"
                },
                {
                  "customdata": [
                    [
                      78
                    ]
                  ],
                  "hovertemplate": "model=regnety_008<br>param_count=%{x}<br>top1=%{y}<br>fps=%{customdata[0]}<extra></extra>",
                  "legendgroup": "regnety_008",
                  "marker": {
                    "color": "#FFA15A",
                    "symbol": "circle"
                  },
                  "mode": "markers",
                  "name": "regnety_008",
                  "orientation": "v",
                  "showlegend": true,
                  "type": "scatter",
                  "x": [
                    6.26
                  ],
                  "xaxis": "x",
                  "y": [
                    76.316
                  ],
                  "yaxis": "y"
                },
                {
                  "customdata": [
                    [
                      77
                    ]
                  ],
                  "hovertemplate": "model=gluon_resnet50_v1b<br>param_count=%{x}<br>top1=%{y}<br>fps=%{customdata[0]}<extra></extra>",
                  "legendgroup": "gluon_resnet50_v1b",
                  "marker": {
                    "color": "#19d3f3",
                    "symbol": "circle"
                  },
                  "mode": "markers",
                  "name": "gluon_resnet50_v1b",
                  "orientation": "v",
                  "showlegend": true,
                  "type": "scatter",
                  "x": [
                    25.56
                  ],
                  "xaxis": "x",
                  "y": [
                    77.58
                  ],
                  "yaxis": "y"
                },
                {
                  "customdata": [
                    [
                      76
                    ]
                  ],
                  "hovertemplate": "model=dla60<br>param_count=%{x}<br>top1=%{y}<br>fps=%{customdata[0]}<extra></extra>",
                  "legendgroup": "dla60",
                  "marker": {
                    "color": "#FF6692",
                    "symbol": "circle"
                  },
                  "mode": "markers",
                  "name": "dla60",
                  "orientation": "v",
                  "showlegend": true,
                  "type": "scatter",
                  "x": [
                    22.04
                  ],
                  "xaxis": "x",
                  "y": [
                    77.032
                  ],
                  "yaxis": "y"
                },
                {
                  "customdata": [
                    [
                      76
                    ]
                  ],
                  "hovertemplate": "model=rexnet_200<br>param_count=%{x}<br>top1=%{y}<br>fps=%{customdata[0]}<extra></extra>",
                  "legendgroup": "rexnet_200",
                  "marker": {
                    "color": "#B6E880",
                    "symbol": "circle"
                  },
                  "mode": "markers",
                  "name": "rexnet_200",
                  "orientation": "v",
                  "showlegend": true,
                  "type": "scatter",
                  "x": [
                    16.37
                  ],
                  "xaxis": "x",
                  "y": [
                    81.632
                  ],
                  "yaxis": "y"
                },
                {
                  "customdata": [
                    [
                      75
                    ]
                  ],
                  "hovertemplate": "model=gluon_resnet50_v1c<br>param_count=%{x}<br>top1=%{y}<br>fps=%{customdata[0]}<extra></extra>",
                  "legendgroup": "gluon_resnet50_v1c",
                  "marker": {
                    "color": "#FF97FF",
                    "symbol": "circle"
                  },
                  "mode": "markers",
                  "name": "gluon_resnet50_v1c",
                  "orientation": "v",
                  "showlegend": true,
                  "type": "scatter",
                  "x": [
                    25.58
                  ],
                  "xaxis": "x",
                  "y": [
                    78.012
                  ],
                  "yaxis": "y"
                },
                {
                  "customdata": [
                    [
                      75
                    ]
                  ],
                  "hovertemplate": "model=regnety_006<br>param_count=%{x}<br>top1=%{y}<br>fps=%{customdata[0]}<extra></extra>",
                  "legendgroup": "regnety_006",
                  "marker": {
                    "color": "#FECB52",
                    "symbol": "circle"
                  },
                  "mode": "markers",
                  "name": "regnety_006",
                  "orientation": "v",
                  "showlegend": true,
                  "type": "scatter",
                  "x": [
                    6.06
                  ],
                  "xaxis": "x",
                  "y": [
                    75.246
                  ],
                  "yaxis": "y"
                },
                {
                  "customdata": [
                    [
                      74
                    ]
                  ],
                  "hovertemplate": "model=gluon_resnet50_v1d<br>param_count=%{x}<br>top1=%{y}<br>fps=%{customdata[0]}<extra></extra>",
                  "legendgroup": "gluon_resnet50_v1d",
                  "marker": {
                    "color": "#636efa",
                    "symbol": "circle"
                  },
                  "mode": "markers",
                  "name": "gluon_resnet50_v1d",
                  "orientation": "v",
                  "showlegend": true,
                  "type": "scatter",
                  "x": [
                    25.58
                  ],
                  "xaxis": "x",
                  "y": [
                    79.074
                  ],
                  "yaxis": "y"
                },
                {
                  "customdata": [
                    [
                      73
                    ]
                  ],
                  "hovertemplate": "model=resnet50d<br>param_count=%{x}<br>top1=%{y}<br>fps=%{customdata[0]}<extra></extra>",
                  "legendgroup": "resnet50d",
                  "marker": {
                    "color": "#EF553B",
                    "symbol": "circle"
                  },
                  "mode": "markers",
                  "name": "resnet50d",
                  "orientation": "v",
                  "showlegend": true,
                  "type": "scatter",
                  "x": [
                    25.58
                  ],
                  "xaxis": "x",
                  "y": [
                    80.53
                  ],
                  "yaxis": "y"
                },
                {
                  "customdata": [
                    [
                      72
                    ]
                  ],
                  "hovertemplate": "model=regnety_004<br>param_count=%{x}<br>top1=%{y}<br>fps=%{customdata[0]}<extra></extra>",
                  "legendgroup": "regnety_004",
                  "marker": {
                    "color": "#00cc96",
                    "symbol": "circle"
                  },
                  "mode": "markers",
                  "name": "regnety_004",
                  "orientation": "v",
                  "showlegend": true,
                  "type": "scatter",
                  "x": [
                    4.34
                  ],
                  "xaxis": "x",
                  "y": [
                    74.034
                  ],
                  "yaxis": "y"
                },
                {
                  "customdata": [
                    [
                      71
                    ]
                  ],
                  "hovertemplate": "model=tf_efficientnet_lite4<br>param_count=%{x}<br>top1=%{y}<br>fps=%{customdata[0]}<extra></extra>",
                  "legendgroup": "tf_efficientnet_lite4",
                  "marker": {
                    "color": "#ab63fa",
                    "symbol": "circle"
                  },
                  "mode": "markers",
                  "name": "tf_efficientnet_lite4",
                  "orientation": "v",
                  "showlegend": true,
                  "type": "scatter",
                  "x": [
                    13.01
                  ],
                  "xaxis": "x",
                  "y": [
                    81.536
                  ],
                  "yaxis": "y"
                },
                {
                  "customdata": [
                    [
                      71
                    ]
                  ],
                  "hovertemplate": "model=cspdarknet53<br>param_count=%{x}<br>top1=%{y}<br>fps=%{customdata[0]}<extra></extra>",
                  "legendgroup": "cspdarknet53",
                  "marker": {
                    "color": "#FFA15A",
                    "symbol": "circle"
                  },
                  "mode": "markers",
                  "name": "cspdarknet53",
                  "orientation": "v",
                  "showlegend": true,
                  "type": "scatter",
                  "x": [
                    27.64
                  ],
                  "xaxis": "x",
                  "y": [
                    80.058
                  ],
                  "yaxis": "y"
                },
                {
                  "customdata": [
                    [
                      70
                    ]
                  ],
                  "hovertemplate": "model=cspresnext50<br>param_count=%{x}<br>top1=%{y}<br>fps=%{customdata[0]}<extra></extra>",
                  "legendgroup": "cspresnext50",
                  "marker": {
                    "color": "#19d3f3",
                    "symbol": "circle"
                  },
                  "mode": "markers",
                  "name": "cspresnext50",
                  "orientation": "v",
                  "showlegend": true,
                  "type": "scatter",
                  "x": [
                    20.57
                  ],
                  "xaxis": "x",
                  "y": [
                    80.04
                  ],
                  "yaxis": "y"
                },
                {
                  "customdata": [
                    [
                      69
                    ]
                  ],
                  "hovertemplate": "model=hardcorenas_e<br>param_count=%{x}<br>top1=%{y}<br>fps=%{customdata[0]}<extra></extra>",
                  "legendgroup": "hardcorenas_e",
                  "marker": {
                    "color": "#FF6692",
                    "symbol": "circle"
                  },
                  "mode": "markers",
                  "name": "hardcorenas_e",
                  "orientation": "v",
                  "showlegend": true,
                  "type": "scatter",
                  "x": [
                    8.07
                  ],
                  "xaxis": "x",
                  "y": [
                    77.794
                  ],
                  "yaxis": "y"
                },
                {
                  "customdata": [
                    [
                      69
                    ]
                  ],
                  "hovertemplate": "model=resnetblur50<br>param_count=%{x}<br>top1=%{y}<br>fps=%{customdata[0]}<extra></extra>",
                  "legendgroup": "resnetblur50",
                  "marker": {
                    "color": "#B6E880",
                    "symbol": "circle"
                  },
                  "mode": "markers",
                  "name": "resnetblur50",
                  "orientation": "v",
                  "showlegend": true,
                  "type": "scatter",
                  "x": [
                    25.56
                  ],
                  "xaxis": "x",
                  "y": [
                    79.286
                  ],
                  "yaxis": "y"
                },
                {
                  "customdata": [
                    [
                      69
                    ]
                  ],
                  "hovertemplate": "model=tf_efficientnet_cc_b0_4e<br>param_count=%{x}<br>top1=%{y}<br>fps=%{customdata[0]}<extra></extra>",
                  "legendgroup": "tf_efficientnet_cc_b0_4e",
                  "marker": {
                    "color": "#FF97FF",
                    "symbol": "circle"
                  },
                  "mode": "markers",
                  "name": "tf_efficientnet_cc_b0_4e",
                  "orientation": "v",
                  "showlegend": true,
                  "type": "scatter",
                  "x": [
                    13.31
                  ],
                  "xaxis": "x",
                  "y": [
                    77.306
                  ],
                  "yaxis": "y"
                },
                {
                  "customdata": [
                    [
                      68
                    ]
                  ],
                  "hovertemplate": "model=tf_efficientnet_cc_b0_8e<br>param_count=%{x}<br>top1=%{y}<br>fps=%{customdata[0]}<extra></extra>",
                  "legendgroup": "tf_efficientnet_cc_b0_8e",
                  "marker": {
                    "color": "#FECB52",
                    "symbol": "circle"
                  },
                  "mode": "markers",
                  "name": "tf_efficientnet_cc_b0_8e",
                  "orientation": "v",
                  "showlegend": true,
                  "type": "scatter",
                  "x": [
                    24.01
                  ],
                  "xaxis": "x",
                  "y": [
                    77.908
                  ],
                  "yaxis": "y"
                },
                {
                  "customdata": [
                    [
                      68
                    ]
                  ],
                  "hovertemplate": "model=res2net50_48w_2s<br>param_count=%{x}<br>top1=%{y}<br>fps=%{customdata[0]}<extra></extra>",
                  "legendgroup": "res2net50_48w_2s",
                  "marker": {
                    "color": "#636efa",
                    "symbol": "circle"
                  },
                  "mode": "markers",
                  "name": "res2net50_48w_2s",
                  "orientation": "v",
                  "showlegend": true,
                  "type": "scatter",
                  "x": [
                    25.29
                  ],
                  "xaxis": "x",
                  "y": [
                    77.522
                  ],
                  "yaxis": "y"
                },
                {
                  "customdata": [
                    [
                      68
                    ]
                  ],
                  "hovertemplate": "model=legacy_seresnet50<br>param_count=%{x}<br>top1=%{y}<br>fps=%{customdata[0]}<extra></extra>",
                  "legendgroup": "legacy_seresnet50",
                  "marker": {
                    "color": "#EF553B",
                    "symbol": "circle"
                  },
                  "mode": "markers",
                  "name": "legacy_seresnet50",
                  "orientation": "v",
                  "showlegend": true,
                  "type": "scatter",
                  "x": [
                    28.09
                  ],
                  "xaxis": "x",
                  "y": [
                    77.63
                  ],
                  "yaxis": "y"
                },
                {
                  "customdata": [
                    [
                      68
                    ]
                  ],
                  "hovertemplate": "model=regnetx_032<br>param_count=%{x}<br>top1=%{y}<br>fps=%{customdata[0]}<extra></extra>",
                  "legendgroup": "regnetx_032",
                  "marker": {
                    "color": "#00cc96",
                    "symbol": "circle"
                  },
                  "mode": "markers",
                  "name": "regnetx_032",
                  "orientation": "v",
                  "showlegend": true,
                  "type": "scatter",
                  "x": [
                    15.3
                  ],
                  "xaxis": "x",
                  "y": [
                    78.172
                  ],
                  "yaxis": "y"
                },
                {
                  "customdata": [
                    [
                      68
                    ]
                  ],
                  "hovertemplate": "model=hardcorenas_f<br>param_count=%{x}<br>top1=%{y}<br>fps=%{customdata[0]}<extra></extra>",
                  "legendgroup": "hardcorenas_f",
                  "marker": {
                    "color": "#ab63fa",
                    "symbol": "circle"
                  },
                  "mode": "markers",
                  "name": "hardcorenas_f",
                  "orientation": "v",
                  "showlegend": true,
                  "type": "scatter",
                  "x": [
                    8.2
                  ],
                  "xaxis": "x",
                  "y": [
                    78.104
                  ],
                  "yaxis": "y"
                },
                {
                  "customdata": [
                    [
                      68
                    ]
                  ],
                  "hovertemplate": "model=ecaresnet50t<br>param_count=%{x}<br>top1=%{y}<br>fps=%{customdata[0]}<extra></extra>",
                  "legendgroup": "ecaresnet50t",
                  "marker": {
                    "color": "#FFA15A",
                    "symbol": "circle"
                  },
                  "mode": "markers",
                  "name": "ecaresnet50t",
                  "orientation": "v",
                  "showlegend": true,
                  "type": "scatter",
                  "x": [
                    25.57
                  ],
                  "xaxis": "x",
                  "y": [
                    82.346
                  ],
                  "yaxis": "y"
                },
                {
                  "customdata": [
                    [
                      67
                    ]
                  ],
                  "hovertemplate": "model=ecaresnet50d<br>param_count=%{x}<br>top1=%{y}<br>fps=%{customdata[0]}<extra></extra>",
                  "legendgroup": "ecaresnet50d",
                  "marker": {
                    "color": "#19d3f3",
                    "symbol": "circle"
                  },
                  "mode": "markers",
                  "name": "ecaresnet50d",
                  "orientation": "v",
                  "showlegend": true,
                  "type": "scatter",
                  "x": [
                    25.58
                  ],
                  "xaxis": "x",
                  "y": [
                    80.592
                  ],
                  "yaxis": "y"
                },
                {
                  "customdata": [
                    [
                      67
                    ]
                  ],
                  "hovertemplate": "model=mixnet_s<br>param_count=%{x}<br>top1=%{y}<br>fps=%{customdata[0]}<extra></extra>",
                  "legendgroup": "mixnet_s",
                  "marker": {
                    "color": "#FF6692",
                    "symbol": "circle"
                  },
                  "mode": "markers",
                  "name": "mixnet_s",
                  "orientation": "v",
                  "showlegend": true,
                  "type": "scatter",
                  "x": [
                    4.13
                  ],
                  "xaxis": "x",
                  "y": [
                    75.992
                  ],
                  "yaxis": "y"
                },
                {
                  "customdata": [
                    [
                      66
                    ]
                  ],
                  "hovertemplate": "model=gluon_resnet50_v1s<br>param_count=%{x}<br>top1=%{y}<br>fps=%{customdata[0]}<extra></extra>",
                  "legendgroup": "gluon_resnet50_v1s",
                  "marker": {
                    "color": "#B6E880",
                    "symbol": "circle"
                  },
                  "mode": "markers",
                  "name": "gluon_resnet50_v1s",
                  "orientation": "v",
                  "showlegend": true,
                  "type": "scatter",
                  "x": [
                    25.68
                  ],
                  "xaxis": "x",
                  "y": [
                    78.712
                  ],
                  "yaxis": "y"
                },
                {
                  "customdata": [
                    [
                      66
                    ]
                  ],
                  "hovertemplate": "model=ghostnet_100<br>param_count=%{x}<br>top1=%{y}<br>fps=%{customdata[0]}<extra></extra>",
                  "legendgroup": "ghostnet_100",
                  "marker": {
                    "color": "#FF97FF",
                    "symbol": "circle"
                  },
                  "mode": "markers",
                  "name": "ghostnet_100",
                  "orientation": "v",
                  "showlegend": true,
                  "type": "scatter",
                  "x": [
                    5.18
                  ],
                  "xaxis": "x",
                  "y": [
                    73.978
                  ],
                  "yaxis": "y"
                },
                {
                  "customdata": [
                    [
                      65
                    ]
                  ],
                  "hovertemplate": "model=seresnet50<br>param_count=%{x}<br>top1=%{y}<br>fps=%{customdata[0]}<extra></extra>",
                  "legendgroup": "seresnet50",
                  "marker": {
                    "color": "#FECB52",
                    "symbol": "circle"
                  },
                  "mode": "markers",
                  "name": "seresnet50",
                  "orientation": "v",
                  "showlegend": true,
                  "type": "scatter",
                  "x": [
                    28.09
                  ],
                  "xaxis": "x",
                  "y": [
                    80.274
                  ],
                  "yaxis": "y"
                },
                {
                  "customdata": [
                    [
                      65
                    ]
                  ],
                  "hovertemplate": "model=efficientnet_el_pruned<br>param_count=%{x}<br>top1=%{y}<br>fps=%{customdata[0]}<extra></extra>",
                  "legendgroup": "efficientnet_el_pruned",
                  "marker": {
                    "color": "#636efa",
                    "symbol": "circle"
                  },
                  "mode": "markers",
                  "name": "efficientnet_el_pruned",
                  "orientation": "v",
                  "showlegend": true,
                  "type": "scatter",
                  "x": [
                    10.59
                  ],
                  "xaxis": "x",
                  "y": [
                    80.3
                  ],
                  "yaxis": "y"
                },
                {
                  "customdata": [
                    [
                      64
                    ]
                  ],
                  "hovertemplate": "model=efficientnet_el<br>param_count=%{x}<br>top1=%{y}<br>fps=%{customdata[0]}<extra></extra>",
                  "legendgroup": "efficientnet_el",
                  "marker": {
                    "color": "#EF553B",
                    "symbol": "circle"
                  },
                  "mode": "markers",
                  "name": "efficientnet_el",
                  "orientation": "v",
                  "showlegend": true,
                  "type": "scatter",
                  "x": [
                    10.59
                  ],
                  "xaxis": "x",
                  "y": [
                    81.316
                  ],
                  "yaxis": "y"
                },
                {
                  "customdata": [
                    [
                      64
                    ]
                  ],
                  "hovertemplate": "model=tf_efficientnet_el<br>param_count=%{x}<br>top1=%{y}<br>fps=%{customdata[0]}<extra></extra>",
                  "legendgroup": "tf_efficientnet_el",
                  "marker": {
                    "color": "#00cc96",
                    "symbol": "circle"
                  },
                  "mode": "markers",
                  "name": "tf_efficientnet_el",
                  "orientation": "v",
                  "showlegend": true,
                  "type": "scatter",
                  "x": [
                    10.59
                  ],
                  "xaxis": "x",
                  "y": [
                    80.25
                  ],
                  "yaxis": "y"
                },
                {
                  "customdata": [
                    [
                      64
                    ]
                  ],
                  "hovertemplate": "model=dpn68<br>param_count=%{x}<br>top1=%{y}<br>fps=%{customdata[0]}<extra></extra>",
                  "legendgroup": "dpn68",
                  "marker": {
                    "color": "#ab63fa",
                    "symbol": "circle"
                  },
                  "mode": "markers",
                  "name": "dpn68",
                  "orientation": "v",
                  "showlegend": true,
                  "type": "scatter",
                  "x": [
                    12.61
                  ],
                  "xaxis": "x",
                  "y": [
                    76.318
                  ],
                  "yaxis": "y"
                },
                {
                  "customdata": [
                    [
                      64
                    ]
                  ],
                  "hovertemplate": "model=hardcorenas_d<br>param_count=%{x}<br>top1=%{y}<br>fps=%{customdata[0]}<extra></extra>",
                  "legendgroup": "hardcorenas_d",
                  "marker": {
                    "color": "#FFA15A",
                    "symbol": "circle"
                  },
                  "mode": "markers",
                  "name": "hardcorenas_d",
                  "orientation": "v",
                  "showlegend": true,
                  "type": "scatter",
                  "x": [
                    7.5
                  ],
                  "xaxis": "x",
                  "y": [
                    77.432
                  ],
                  "yaxis": "y"
                },
                {
                  "customdata": [
                    [
                      63
                    ]
                  ],
                  "hovertemplate": "model=efficientnet_b1<br>param_count=%{x}<br>top1=%{y}<br>fps=%{customdata[0]}<extra></extra>",
                  "legendgroup": "efficientnet_b1",
                  "marker": {
                    "color": "#19d3f3",
                    "symbol": "circle"
                  },
                  "mode": "markers",
                  "name": "efficientnet_b1",
                  "orientation": "v",
                  "showlegend": true,
                  "type": "scatter",
                  "x": [
                    7.79
                  ],
                  "xaxis": "x",
                  "y": [
                    78.794
                  ],
                  "yaxis": "y"
                },
                {
                  "customdata": [
                    [
                      63
                    ]
                  ],
                  "hovertemplate": "model=tf_mixnet_s<br>param_count=%{x}<br>top1=%{y}<br>fps=%{customdata[0]}<extra></extra>",
                  "legendgroup": "tf_mixnet_s",
                  "marker": {
                    "color": "#FF6692",
                    "symbol": "circle"
                  },
                  "mode": "markers",
                  "name": "tf_mixnet_s",
                  "orientation": "v",
                  "showlegend": true,
                  "type": "scatter",
                  "x": [
                    4.13
                  ],
                  "xaxis": "x",
                  "y": [
                    75.65
                  ],
                  "yaxis": "y"
                },
                {
                  "customdata": [
                    [
                      62
                    ]
                  ],
                  "hovertemplate": "model=tf_inception_v3<br>param_count=%{x}<br>top1=%{y}<br>fps=%{customdata[0]}<extra></extra>",
                  "legendgroup": "tf_inception_v3",
                  "marker": {
                    "color": "#B6E880",
                    "symbol": "circle"
                  },
                  "mode": "markers",
                  "name": "tf_inception_v3",
                  "orientation": "v",
                  "showlegend": true,
                  "type": "scatter",
                  "x": [
                    23.83
                  ],
                  "xaxis": "x",
                  "y": [
                    77.856
                  ],
                  "yaxis": "y"
                },
                {
                  "customdata": [
                    [
                      62
                    ]
                  ],
                  "hovertemplate": "model=inception_v3<br>param_count=%{x}<br>top1=%{y}<br>fps=%{customdata[0]}<extra></extra>",
                  "legendgroup": "inception_v3",
                  "marker": {
                    "color": "#FF97FF",
                    "symbol": "circle"
                  },
                  "mode": "markers",
                  "name": "inception_v3",
                  "orientation": "v",
                  "showlegend": true,
                  "type": "scatter",
                  "x": [
                    23.83
                  ],
                  "xaxis": "x",
                  "y": [
                    77.438
                  ],
                  "yaxis": "y"
                },
                {
                  "customdata": [
                    [
                      62
                    ]
                  ],
                  "hovertemplate": "model=adv_inception_v3<br>param_count=%{x}<br>top1=%{y}<br>fps=%{customdata[0]}<extra></extra>",
                  "legendgroup": "adv_inception_v3",
                  "marker": {
                    "color": "#FECB52",
                    "symbol": "circle"
                  },
                  "mode": "markers",
                  "name": "adv_inception_v3",
                  "orientation": "v",
                  "showlegend": true,
                  "type": "scatter",
                  "x": [
                    23.83
                  ],
                  "xaxis": "x",
                  "y": [
                    77.582
                  ],
                  "yaxis": "y"
                },
                {
                  "customdata": [
                    [
                      62
                    ]
                  ],
                  "hovertemplate": "model=xception<br>param_count=%{x}<br>top1=%{y}<br>fps=%{customdata[0]}<extra></extra>",
                  "legendgroup": "xception",
                  "marker": {
                    "color": "#636efa",
                    "symbol": "circle"
                  },
                  "mode": "markers",
                  "name": "xception",
                  "orientation": "v",
                  "showlegend": true,
                  "type": "scatter",
                  "x": [
                    22.86
                  ],
                  "xaxis": "x",
                  "y": [
                    79.052
                  ],
                  "yaxis": "y"
                },
                {
                  "customdata": [
                    [
                      62
                    ]
                  ],
                  "hovertemplate": "model=regnetx_040<br>param_count=%{x}<br>top1=%{y}<br>fps=%{customdata[0]}<extra></extra>",
                  "legendgroup": "regnetx_040",
                  "marker": {
                    "color": "#EF553B",
                    "symbol": "circle"
                  },
                  "mode": "markers",
                  "name": "regnetx_040",
                  "orientation": "v",
                  "showlegend": true,
                  "type": "scatter",
                  "x": [
                    22.12
                  ],
                  "xaxis": "x",
                  "y": [
                    78.482
                  ],
                  "yaxis": "y"
                },
                {
                  "customdata": [
                    [
                      62
                    ]
                  ],
                  "hovertemplate": "model=hrnet_w18_small<br>param_count=%{x}<br>top1=%{y}<br>fps=%{customdata[0]}<extra></extra>",
                  "legendgroup": "hrnet_w18_small",
                  "marker": {
                    "color": "#00cc96",
                    "symbol": "circle"
                  },
                  "mode": "markers",
                  "name": "hrnet_w18_small",
                  "orientation": "v",
                  "showlegend": true,
                  "type": "scatter",
                  "x": [
                    13.19
                  ],
                  "xaxis": "x",
                  "y": [
                    72.342
                  ],
                  "yaxis": "y"
                },
                {
                  "customdata": [
                    [
                      62
                    ]
                  ],
                  "hovertemplate": "model=gluon_inception_v3<br>param_count=%{x}<br>top1=%{y}<br>fps=%{customdata[0]}<extra></extra>",
                  "legendgroup": "gluon_inception_v3",
                  "marker": {
                    "color": "#ab63fa",
                    "symbol": "circle"
                  },
                  "mode": "markers",
                  "name": "gluon_inception_v3",
                  "orientation": "v",
                  "showlegend": true,
                  "type": "scatter",
                  "x": [
                    23.83
                  ],
                  "xaxis": "x",
                  "y": [
                    78.806
                  ],
                  "yaxis": "y"
                },
                {
                  "customdata": [
                    [
                      62
                    ]
                  ],
                  "hovertemplate": "model=efficientnet_b2<br>param_count=%{x}<br>top1=%{y}<br>fps=%{customdata[0]}<extra></extra>",
                  "legendgroup": "efficientnet_b2",
                  "marker": {
                    "color": "#FFA15A",
                    "symbol": "circle"
                  },
                  "mode": "markers",
                  "name": "efficientnet_b2",
                  "orientation": "v",
                  "showlegend": true,
                  "type": "scatter",
                  "x": [
                    9.11
                  ],
                  "xaxis": "x",
                  "y": [
                    80.612
                  ],
                  "yaxis": "y"
                },
                {
                  "customdata": [
                    [
                      62
                    ]
                  ],
                  "hovertemplate": "model=tf_efficientnet_b2_ap<br>param_count=%{x}<br>top1=%{y}<br>fps=%{customdata[0]}<extra></extra>",
                  "legendgroup": "tf_efficientnet_b2_ap",
                  "marker": {
                    "color": "#19d3f3",
                    "symbol": "circle"
                  },
                  "mode": "markers",
                  "name": "tf_efficientnet_b2_ap",
                  "orientation": "v",
                  "showlegend": true,
                  "type": "scatter",
                  "x": [
                    9.11
                  ],
                  "xaxis": "x",
                  "y": [
                    80.3
                  ],
                  "yaxis": "y"
                },
                {
                  "customdata": [
                    [
                      62
                    ]
                  ],
                  "hovertemplate": "model=efficientnet_b1_pruned<br>param_count=%{x}<br>top1=%{y}<br>fps=%{customdata[0]}<extra></extra>",
                  "legendgroup": "efficientnet_b1_pruned",
                  "marker": {
                    "color": "#FF6692",
                    "symbol": "circle"
                  },
                  "mode": "markers",
                  "name": "efficientnet_b1_pruned",
                  "orientation": "v",
                  "showlegend": true,
                  "type": "scatter",
                  "x": [
                    6.33
                  ],
                  "xaxis": "x",
                  "y": [
                    78.236
                  ],
                  "yaxis": "y"
                },
                {
                  "customdata": [
                    [
                      61
                    ]
                  ],
                  "hovertemplate": "model=efficientnet_b2_pruned<br>param_count=%{x}<br>top1=%{y}<br>fps=%{customdata[0]}<extra></extra>",
                  "legendgroup": "efficientnet_b2_pruned",
                  "marker": {
                    "color": "#B6E880",
                    "symbol": "circle"
                  },
                  "mode": "markers",
                  "name": "efficientnet_b2_pruned",
                  "orientation": "v",
                  "showlegend": true,
                  "type": "scatter",
                  "x": [
                    8.31
                  ],
                  "xaxis": "x",
                  "y": [
                    79.916
                  ],
                  "yaxis": "y"
                },
                {
                  "customdata": [
                    [
                      61
                    ]
                  ],
                  "hovertemplate": "model=dla60x<br>param_count=%{x}<br>top1=%{y}<br>fps=%{customdata[0]}<extra></extra>",
                  "legendgroup": "dla60x",
                  "marker": {
                    "color": "#FF97FF",
                    "symbol": "circle"
                  },
                  "mode": "markers",
                  "name": "dla60x",
                  "orientation": "v",
                  "showlegend": true,
                  "type": "scatter",
                  "x": [
                    17.35
                  ],
                  "xaxis": "x",
                  "y": [
                    78.246
                  ],
                  "yaxis": "y"
                },
                {
                  "customdata": [
                    [
                      61
                    ]
                  ],
                  "hovertemplate": "model=resnetv2_50x1_bitm<br>param_count=%{x}<br>top1=%{y}<br>fps=%{customdata[0]}<extra></extra>",
                  "legendgroup": "resnetv2_50x1_bitm",
                  "marker": {
                    "color": "#FECB52",
                    "symbol": "circle"
                  },
                  "mode": "markers",
                  "name": "resnetv2_50x1_bitm",
                  "orientation": "v",
                  "showlegend": true,
                  "type": "scatter",
                  "x": [
                    25.55
                  ],
                  "xaxis": "x",
                  "y": [
                    80.172
                  ],
                  "yaxis": "y"
                },
                {
                  "customdata": [
                    [
                      61
                    ]
                  ],
                  "hovertemplate": "model=tf_efficientnet_b1<br>param_count=%{x}<br>top1=%{y}<br>fps=%{customdata[0]}<extra></extra>",
                  "legendgroup": "tf_efficientnet_b1",
                  "marker": {
                    "color": "#636efa",
                    "symbol": "circle"
                  },
                  "mode": "markers",
                  "name": "tf_efficientnet_b1",
                  "orientation": "v",
                  "showlegend": true,
                  "type": "scatter",
                  "x": [
                    7.79
                  ],
                  "xaxis": "x",
                  "y": [
                    78.826
                  ],
                  "yaxis": "y"
                },
                {
                  "customdata": [
                    [
                      60
                    ]
                  ],
                  "hovertemplate": "model=tf_efficientnet_b1_ns<br>param_count=%{x}<br>top1=%{y}<br>fps=%{customdata[0]}<extra></extra>",
                  "legendgroup": "tf_efficientnet_b1_ns",
                  "marker": {
                    "color": "#EF553B",
                    "symbol": "circle"
                  },
                  "mode": "markers",
                  "name": "tf_efficientnet_b1_ns",
                  "orientation": "v",
                  "showlegend": true,
                  "type": "scatter",
                  "x": [
                    7.79
                  ],
                  "xaxis": "x",
                  "y": [
                    81.388
                  ],
                  "yaxis": "y"
                },
                {
                  "customdata": [
                    [
                      60
                    ]
                  ],
                  "hovertemplate": "model=resnetrs50<br>param_count=%{x}<br>top1=%{y}<br>fps=%{customdata[0]}<extra></extra>",
                  "legendgroup": "resnetrs50",
                  "marker": {
                    "color": "#00cc96",
                    "symbol": "circle"
                  },
                  "mode": "markers",
                  "name": "resnetrs50",
                  "orientation": "v",
                  "showlegend": true,
                  "type": "scatter",
                  "x": [
                    35.69
                  ],
                  "xaxis": "x",
                  "y": [
                    79.892
                  ],
                  "yaxis": "y"
                },
                {
                  "customdata": [
                    [
                      60
                    ]
                  ],
                  "hovertemplate": "model=tf_efficientnet_b1_ap<br>param_count=%{x}<br>top1=%{y}<br>fps=%{customdata[0]}<extra></extra>",
                  "legendgroup": "tf_efficientnet_b1_ap",
                  "marker": {
                    "color": "#ab63fa",
                    "symbol": "circle"
                  },
                  "mode": "markers",
                  "name": "tf_efficientnet_b1_ap",
                  "orientation": "v",
                  "showlegend": true,
                  "type": "scatter",
                  "x": [
                    7.79
                  ],
                  "xaxis": "x",
                  "y": [
                    79.28
                  ],
                  "yaxis": "y"
                },
                {
                  "customdata": [
                    [
                      60
                    ]
                  ],
                  "hovertemplate": "model=tf_efficientnet_b2_ns<br>param_count=%{x}<br>top1=%{y}<br>fps=%{customdata[0]}<extra></extra>",
                  "legendgroup": "tf_efficientnet_b2_ns",
                  "marker": {
                    "color": "#FFA15A",
                    "symbol": "circle"
                  },
                  "mode": "markers",
                  "name": "tf_efficientnet_b2_ns",
                  "orientation": "v",
                  "showlegend": true,
                  "type": "scatter",
                  "x": [
                    9.11
                  ],
                  "xaxis": "x",
                  "y": [
                    82.38
                  ],
                  "yaxis": "y"
                },
                {
                  "customdata": [
                    [
                      60
                    ]
                  ],
                  "hovertemplate": "model=tf_efficientnet_b2<br>param_count=%{x}<br>top1=%{y}<br>fps=%{customdata[0]}<extra></extra>",
                  "legendgroup": "tf_efficientnet_b2",
                  "marker": {
                    "color": "#19d3f3",
                    "symbol": "circle"
                  },
                  "mode": "markers",
                  "name": "tf_efficientnet_b2",
                  "orientation": "v",
                  "showlegend": true,
                  "type": "scatter",
                  "x": [
                    9.11
                  ],
                  "xaxis": "x",
                  "y": [
                    80.086
                  ],
                  "yaxis": "y"
                },
                {
                  "customdata": [
                    [
                      60
                    ]
                  ],
                  "hovertemplate": "model=res2net50_26w_4s<br>param_count=%{x}<br>top1=%{y}<br>fps=%{customdata[0]}<extra></extra>",
                  "legendgroup": "res2net50_26w_4s",
                  "marker": {
                    "color": "#FF6692",
                    "symbol": "circle"
                  },
                  "mode": "markers",
                  "name": "res2net50_26w_4s",
                  "orientation": "v",
                  "showlegend": true,
                  "type": "scatter",
                  "x": [
                    25.7
                  ],
                  "xaxis": "x",
                  "y": [
                    77.964
                  ],
                  "yaxis": "y"
                },
                {
                  "customdata": [
                    [
                      59
                    ]
                  ],
                  "hovertemplate": "model=tv_resnext50_32x4d<br>param_count=%{x}<br>top1=%{y}<br>fps=%{customdata[0]}<extra></extra>",
                  "legendgroup": "tv_resnext50_32x4d",
                  "marker": {
                    "color": "#B6E880",
                    "symbol": "circle"
                  },
                  "mode": "markers",
                  "name": "tv_resnext50_32x4d",
                  "orientation": "v",
                  "showlegend": true,
                  "type": "scatter",
                  "x": [
                    25.03
                  ],
                  "xaxis": "x",
                  "y": [
                    77.62
                  ],
                  "yaxis": "y"
                },
                {
                  "customdata": [
                    [
                      59
                    ]
                  ],
                  "hovertemplate": "model=ssl_resnext50_32x4d<br>param_count=%{x}<br>top1=%{y}<br>fps=%{customdata[0]}<extra></extra>",
                  "legendgroup": "ssl_resnext50_32x4d",
                  "marker": {
                    "color": "#FF97FF",
                    "symbol": "circle"
                  },
                  "mode": "markers",
                  "name": "ssl_resnext50_32x4d",
                  "orientation": "v",
                  "showlegend": true,
                  "type": "scatter",
                  "x": [
                    25.03
                  ],
                  "xaxis": "x",
                  "y": [
                    80.318
                  ],
                  "yaxis": "y"
                },
                {
                  "customdata": [
                    [
                      59
                    ]
                  ],
                  "hovertemplate": "model=dpn68b<br>param_count=%{x}<br>top1=%{y}<br>fps=%{customdata[0]}<extra></extra>",
                  "legendgroup": "dpn68b",
                  "marker": {
                    "color": "#FECB52",
                    "symbol": "circle"
                  },
                  "mode": "markers",
                  "name": "dpn68b",
                  "orientation": "v",
                  "showlegend": true,
                  "type": "scatter",
                  "x": [
                    12.61
                  ],
                  "xaxis": "x",
                  "y": [
                    79.216
                  ],
                  "yaxis": "y"
                },
                {
                  "customdata": [
                    [
                      59
                    ]
                  ],
                  "hovertemplate": "model=resnest50d_1s4x24d<br>param_count=%{x}<br>top1=%{y}<br>fps=%{customdata[0]}<extra></extra>",
                  "legendgroup": "resnest50d_1s4x24d",
                  "marker": {
                    "color": "#636efa",
                    "symbol": "circle"
                  },
                  "mode": "markers",
                  "name": "resnest50d_1s4x24d",
                  "orientation": "v",
                  "showlegend": true,
                  "type": "scatter",
                  "x": [
                    25.68
                  ],
                  "xaxis": "x",
                  "y": [
                    80.988
                  ],
                  "yaxis": "y"
                },
                {
                  "customdata": [
                    [
                      59
                    ]
                  ],
                  "hovertemplate": "model=swsl_resnext50_32x4d<br>param_count=%{x}<br>top1=%{y}<br>fps=%{customdata[0]}<extra></extra>",
                  "legendgroup": "swsl_resnext50_32x4d",
                  "marker": {
                    "color": "#EF553B",
                    "symbol": "circle"
                  },
                  "mode": "markers",
                  "name": "swsl_resnext50_32x4d",
                  "orientation": "v",
                  "showlegend": true,
                  "type": "scatter",
                  "x": [
                    25.03
                  ],
                  "xaxis": "x",
                  "y": [
                    82.182
                  ],
                  "yaxis": "y"
                },
                {
                  "customdata": [
                    [
                      59
                    ]
                  ],
                  "hovertemplate": "model=gluon_resnext50_32x4d<br>param_count=%{x}<br>top1=%{y}<br>fps=%{customdata[0]}<extra></extra>",
                  "legendgroup": "gluon_resnext50_32x4d",
                  "marker": {
                    "color": "#00cc96",
                    "symbol": "circle"
                  },
                  "mode": "markers",
                  "name": "gluon_resnext50_32x4d",
                  "orientation": "v",
                  "showlegend": true,
                  "type": "scatter",
                  "x": [
                    25.03
                  ],
                  "xaxis": "x",
                  "y": [
                    79.354
                  ],
                  "yaxis": "y"
                },
                {
                  "customdata": [
                    [
                      59
                    ]
                  ],
                  "hovertemplate": "model=resnext50_32x4d<br>param_count=%{x}<br>top1=%{y}<br>fps=%{customdata[0]}<extra></extra>",
                  "legendgroup": "resnext50_32x4d",
                  "marker": {
                    "color": "#ab63fa",
                    "symbol": "circle"
                  },
                  "mode": "markers",
                  "name": "resnext50_32x4d",
                  "orientation": "v",
                  "showlegend": true,
                  "type": "scatter",
                  "x": [
                    25.03
                  ],
                  "xaxis": "x",
                  "y": [
                    79.768
                  ],
                  "yaxis": "y"
                },
                {
                  "customdata": [
                    [
                      58
                    ]
                  ],
                  "hovertemplate": "model=res2next50<br>param_count=%{x}<br>top1=%{y}<br>fps=%{customdata[0]}<extra></extra>",
                  "legendgroup": "res2next50",
                  "marker": {
                    "color": "#FFA15A",
                    "symbol": "circle"
                  },
                  "mode": "markers",
                  "name": "res2next50",
                  "orientation": "v",
                  "showlegend": true,
                  "type": "scatter",
                  "x": [
                    24.67
                  ],
                  "xaxis": "x",
                  "y": [
                    78.246
                  ],
                  "yaxis": "y"
                },
                {
                  "customdata": [
                    [
                      57
                    ]
                  ],
                  "hovertemplate": "model=nf_resnet50<br>param_count=%{x}<br>top1=%{y}<br>fps=%{customdata[0]}<extra></extra>",
                  "legendgroup": "nf_resnet50",
                  "marker": {
                    "color": "#19d3f3",
                    "symbol": "circle"
                  },
                  "mode": "markers",
                  "name": "nf_resnet50",
                  "orientation": "v",
                  "showlegend": true,
                  "type": "scatter",
                  "x": [
                    25.56
                  ],
                  "xaxis": "x",
                  "y": [
                    80.694
                  ],
                  "yaxis": "y"
                },
                {
                  "customdata": [
                    [
                      57
                    ]
                  ],
                  "hovertemplate": "model=skresnet34<br>param_count=%{x}<br>top1=%{y}<br>fps=%{customdata[0]}<extra></extra>",
                  "legendgroup": "skresnet34",
                  "marker": {
                    "color": "#FF6692",
                    "symbol": "circle"
                  },
                  "mode": "markers",
                  "name": "skresnet34",
                  "orientation": "v",
                  "showlegend": true,
                  "type": "scatter",
                  "x": [
                    22.28
                  ],
                  "xaxis": "x",
                  "y": [
                    76.912
                  ],
                  "yaxis": "y"
                },
                {
                  "customdata": [
                    [
                      57
                    ]
                  ],
                  "hovertemplate": "model=resnext50d_32x4d<br>param_count=%{x}<br>top1=%{y}<br>fps=%{customdata[0]}<extra></extra>",
                  "legendgroup": "resnext50d_32x4d",
                  "marker": {
                    "color": "#B6E880",
                    "symbol": "circle"
                  },
                  "mode": "markers",
                  "name": "resnext50d_32x4d",
                  "orientation": "v",
                  "showlegend": true,
                  "type": "scatter",
                  "x": [
                    25.05
                  ],
                  "xaxis": "x",
                  "y": [
                    79.676
                  ],
                  "yaxis": "y"
                },
                {
                  "customdata": [
                    [
                      57
                    ]
                  ],
                  "hovertemplate": "model=repvgg_b1g4<br>param_count=%{x}<br>top1=%{y}<br>fps=%{customdata[0]}<extra></extra>",
                  "legendgroup": "repvgg_b1g4",
                  "marker": {
                    "color": "#FF97FF",
                    "symbol": "circle"
                  },
                  "mode": "markers",
                  "name": "repvgg_b1g4",
                  "orientation": "v",
                  "showlegend": true,
                  "type": "scatter",
                  "x": [
                    39.97
                  ],
                  "xaxis": "x",
                  "y": [
                    77.594
                  ],
                  "yaxis": "y"
                },
                {
                  "customdata": [
                    [
                      56
                    ]
                  ],
                  "hovertemplate": "model=mixnet_l<br>param_count=%{x}<br>top1=%{y}<br>fps=%{customdata[0]}<extra></extra>",
                  "legendgroup": "mixnet_l",
                  "marker": {
                    "color": "#FECB52",
                    "symbol": "circle"
                  },
                  "mode": "markers",
                  "name": "mixnet_l",
                  "orientation": "v",
                  "showlegend": true,
                  "type": "scatter",
                  "x": [
                    7.33
                  ],
                  "xaxis": "x",
                  "y": [
                    78.976
                  ],
                  "yaxis": "y"
                },
                {
                  "customdata": [
                    [
                      56
                    ]
                  ],
                  "hovertemplate": "model=dla60_res2net<br>param_count=%{x}<br>top1=%{y}<br>fps=%{customdata[0]}<extra></extra>",
                  "legendgroup": "dla60_res2net",
                  "marker": {
                    "color": "#636efa",
                    "symbol": "circle"
                  },
                  "mode": "markers",
                  "name": "dla60_res2net",
                  "orientation": "v",
                  "showlegend": true,
                  "type": "scatter",
                  "x": [
                    20.85
                  ],
                  "xaxis": "x",
                  "y": [
                    78.464
                  ],
                  "yaxis": "y"
                },
                {
                  "customdata": [
                    [
                      56
                    ]
                  ],
                  "hovertemplate": "model=vgg11<br>param_count=%{x}<br>top1=%{y}<br>fps=%{customdata[0]}<extra></extra>",
                  "legendgroup": "vgg11",
                  "marker": {
                    "color": "#EF553B",
                    "symbol": "circle"
                  },
                  "mode": "markers",
                  "name": "vgg11",
                  "orientation": "v",
                  "showlegend": true,
                  "type": "scatter",
                  "x": [
                    132.86
                  ],
                  "xaxis": "x",
                  "y": [
                    69.024
                  ],
                  "yaxis": "y"
                },
                {
                  "customdata": [
                    [
                      55
                    ]
                  ],
                  "hovertemplate": "model=mixnet_m<br>param_count=%{x}<br>top1=%{y}<br>fps=%{customdata[0]}<extra></extra>",
                  "legendgroup": "mixnet_m",
                  "marker": {
                    "color": "#00cc96",
                    "symbol": "circle"
                  },
                  "mode": "markers",
                  "name": "mixnet_m",
                  "orientation": "v",
                  "showlegend": true,
                  "type": "scatter",
                  "x": [
                    5.01
                  ],
                  "xaxis": "x",
                  "y": [
                    77.26
                  ],
                  "yaxis": "y"
                },
                {
                  "customdata": [
                    [
                      55
                    ]
                  ],
                  "hovertemplate": "model=resnest50d<br>param_count=%{x}<br>top1=%{y}<br>fps=%{customdata[0]}<extra></extra>",
                  "legendgroup": "resnest50d",
                  "marker": {
                    "color": "#ab63fa",
                    "symbol": "circle"
                  },
                  "mode": "markers",
                  "name": "resnest50d",
                  "orientation": "v",
                  "showlegend": true,
                  "type": "scatter",
                  "x": [
                    27.48
                  ],
                  "xaxis": "x",
                  "y": [
                    80.974
                  ],
                  "yaxis": "y"
                },
                {
                  "customdata": [
                    [
                      54
                    ]
                  ],
                  "hovertemplate": "model=tf_efficientnet_b3_ns<br>param_count=%{x}<br>top1=%{y}<br>fps=%{customdata[0]}<extra></extra>",
                  "legendgroup": "tf_efficientnet_b3_ns",
                  "marker": {
                    "color": "#FFA15A",
                    "symbol": "circle"
                  },
                  "mode": "markers",
                  "name": "tf_efficientnet_b3_ns",
                  "orientation": "v",
                  "showlegend": true,
                  "type": "scatter",
                  "x": [
                    12.23
                  ],
                  "xaxis": "x",
                  "y": [
                    84.048
                  ],
                  "yaxis": "y"
                },
                {
                  "customdata": [
                    [
                      54
                    ]
                  ],
                  "hovertemplate": "model=efficientnet_b3<br>param_count=%{x}<br>top1=%{y}<br>fps=%{customdata[0]}<extra></extra>",
                  "legendgroup": "efficientnet_b3",
                  "marker": {
                    "color": "#19d3f3",
                    "symbol": "circle"
                  },
                  "mode": "markers",
                  "name": "efficientnet_b3",
                  "orientation": "v",
                  "showlegend": true,
                  "type": "scatter",
                  "x": [
                    12.23
                  ],
                  "xaxis": "x",
                  "y": [
                    82.242
                  ],
                  "yaxis": "y"
                },
                {
                  "customdata": [
                    [
                      53
                    ]
                  ],
                  "hovertemplate": "model=tf_efficientnet_b3<br>param_count=%{x}<br>top1=%{y}<br>fps=%{customdata[0]}<extra></extra>",
                  "legendgroup": "tf_efficientnet_b3",
                  "marker": {
                    "color": "#FF6692",
                    "symbol": "circle"
                  },
                  "mode": "markers",
                  "name": "tf_efficientnet_b3",
                  "orientation": "v",
                  "showlegend": true,
                  "type": "scatter",
                  "x": [
                    12.23
                  ],
                  "xaxis": "x",
                  "y": [
                    81.636
                  ],
                  "yaxis": "y"
                },
                {
                  "customdata": [
                    [
                      53
                    ]
                  ],
                  "hovertemplate": "model=vgg11_bn<br>param_count=%{x}<br>top1=%{y}<br>fps=%{customdata[0]}<extra></extra>",
                  "legendgroup": "vgg11_bn",
                  "marker": {
                    "color": "#B6E880",
                    "symbol": "circle"
                  },
                  "mode": "markers",
                  "name": "vgg11_bn",
                  "orientation": "v",
                  "showlegend": true,
                  "type": "scatter",
                  "x": [
                    132.87
                  ],
                  "xaxis": "x",
                  "y": [
                    70.36
                  ],
                  "yaxis": "y"
                },
                {
                  "customdata": [
                    [
                      53
                    ]
                  ],
                  "hovertemplate": "model=xception41<br>param_count=%{x}<br>top1=%{y}<br>fps=%{customdata[0]}<extra></extra>",
                  "legendgroup": "xception41",
                  "marker": {
                    "color": "#FF97FF",
                    "symbol": "circle"
                  },
                  "mode": "markers",
                  "name": "xception41",
                  "orientation": "v",
                  "showlegend": true,
                  "type": "scatter",
                  "x": [
                    26.97
                  ],
                  "xaxis": "x",
                  "y": [
                    78.516
                  ],
                  "yaxis": "y"
                },
                {
                  "customdata": [
                    [
                      52
                    ]
                  ],
                  "hovertemplate": "model=tf_efficientnet_b3_ap<br>param_count=%{x}<br>top1=%{y}<br>fps=%{customdata[0]}<extra></extra>",
                  "legendgroup": "tf_efficientnet_b3_ap",
                  "marker": {
                    "color": "#FECB52",
                    "symbol": "circle"
                  },
                  "mode": "markers",
                  "name": "tf_efficientnet_b3_ap",
                  "orientation": "v",
                  "showlegend": true,
                  "type": "scatter",
                  "x": [
                    12.23
                  ],
                  "xaxis": "x",
                  "y": [
                    81.822
                  ],
                  "yaxis": "y"
                },
                {
                  "customdata": [
                    [
                      52
                    ]
                  ],
                  "hovertemplate": "model=efficientnet_b3_pruned<br>param_count=%{x}<br>top1=%{y}<br>fps=%{customdata[0]}<extra></extra>",
                  "legendgroup": "efficientnet_b3_pruned",
                  "marker": {
                    "color": "#636efa",
                    "symbol": "circle"
                  },
                  "mode": "markers",
                  "name": "efficientnet_b3_pruned",
                  "orientation": "v",
                  "showlegend": true,
                  "type": "scatter",
                  "x": [
                    9.86
                  ],
                  "xaxis": "x",
                  "y": [
                    80.858
                  ],
                  "yaxis": "y"
                },
                {
                  "customdata": [
                    [
                      52
                    ]
                  ],
                  "hovertemplate": "model=tf_mixnet_m<br>param_count=%{x}<br>top1=%{y}<br>fps=%{customdata[0]}<extra></extra>",
                  "legendgroup": "tf_mixnet_m",
                  "marker": {
                    "color": "#EF553B",
                    "symbol": "circle"
                  },
                  "mode": "markers",
                  "name": "tf_mixnet_m",
                  "orientation": "v",
                  "showlegend": true,
                  "type": "scatter",
                  "x": [
                    5.01
                  ],
                  "xaxis": "x",
                  "y": [
                    76.942
                  ],
                  "yaxis": "y"
                },
                {
                  "customdata": [
                    [
                      52
                    ]
                  ],
                  "hovertemplate": "model=tf_mixnet_l<br>param_count=%{x}<br>top1=%{y}<br>fps=%{customdata[0]}<extra></extra>",
                  "legendgroup": "tf_mixnet_l",
                  "marker": {
                    "color": "#00cc96",
                    "symbol": "circle"
                  },
                  "mode": "markers",
                  "name": "tf_mixnet_l",
                  "orientation": "v",
                  "showlegend": true,
                  "type": "scatter",
                  "x": [
                    7.33
                  ],
                  "xaxis": "x",
                  "y": [
                    78.774
                  ],
                  "yaxis": "y"
                },
                {
                  "customdata": [
                    [
                      52
                    ]
                  ],
                  "hovertemplate": "model=eca_nfnet_l0<br>param_count=%{x}<br>top1=%{y}<br>fps=%{customdata[0]}<extra></extra>",
                  "legendgroup": "eca_nfnet_l0",
                  "marker": {
                    "color": "#ab63fa",
                    "symbol": "circle"
                  },
                  "mode": "markers",
                  "name": "eca_nfnet_l0",
                  "orientation": "v",
                  "showlegend": true,
                  "type": "scatter",
                  "x": [
                    24.14
                  ],
                  "xaxis": "x",
                  "y": [
                    82.588
                  ],
                  "yaxis": "y"
                },
                {
                  "customdata": [
                    [
                      52
                    ]
                  ],
                  "hovertemplate": "model=dla60_res2next<br>param_count=%{x}<br>top1=%{y}<br>fps=%{customdata[0]}<extra></extra>",
                  "legendgroup": "dla60_res2next",
                  "marker": {
                    "color": "#FFA15A",
                    "symbol": "circle"
                  },
                  "mode": "markers",
                  "name": "dla60_res2next",
                  "orientation": "v",
                  "showlegend": true,
                  "type": "scatter",
                  "x": [
                    17.03
                  ],
                  "xaxis": "x",
                  "y": [
                    78.44
                  ],
                  "yaxis": "y"
                },
                {
                  "customdata": [
                    [
                      51
                    ]
                  ],
                  "hovertemplate": "model=gluon_seresnext50_32x4d<br>param_count=%{x}<br>top1=%{y}<br>fps=%{customdata[0]}<extra></extra>",
                  "legendgroup": "gluon_seresnext50_32x4d",
                  "marker": {
                    "color": "#19d3f3",
                    "symbol": "circle"
                  },
                  "mode": "markers",
                  "name": "gluon_seresnext50_32x4d",
                  "orientation": "v",
                  "showlegend": true,
                  "type": "scatter",
                  "x": [
                    27.56
                  ],
                  "xaxis": "x",
                  "y": [
                    79.918
                  ],
                  "yaxis": "y"
                },
                {
                  "customdata": [
                    [
                      51
                    ]
                  ],
                  "hovertemplate": "model=seresnext50_32x4d<br>param_count=%{x}<br>top1=%{y}<br>fps=%{customdata[0]}<extra></extra>",
                  "legendgroup": "seresnext50_32x4d",
                  "marker": {
                    "color": "#FF6692",
                    "symbol": "circle"
                  },
                  "mode": "markers",
                  "name": "seresnext50_32x4d",
                  "orientation": "v",
                  "showlegend": true,
                  "type": "scatter",
                  "x": [
                    27.56
                  ],
                  "xaxis": "x",
                  "y": [
                    81.266
                  ],
                  "yaxis": "y"
                },
                {
                  "customdata": [
                    [
                      51
                    ]
                  ],
                  "hovertemplate": "model=legacy_seresnext50_32x4d<br>param_count=%{x}<br>top1=%{y}<br>fps=%{customdata[0]}<extra></extra>",
                  "legendgroup": "legacy_seresnext50_32x4d",
                  "marker": {
                    "color": "#B6E880",
                    "symbol": "circle"
                  },
                  "mode": "markers",
                  "name": "legacy_seresnext50_32x4d",
                  "orientation": "v",
                  "showlegend": true,
                  "type": "scatter",
                  "x": [
                    27.56
                  ],
                  "xaxis": "x",
                  "y": [
                    79.078
                  ],
                  "yaxis": "y"
                },
                {
                  "customdata": [
                    [
                      51
                    ]
                  ],
                  "hovertemplate": "model=regnety_032<br>param_count=%{x}<br>top1=%{y}<br>fps=%{customdata[0]}<extra></extra>",
                  "legendgroup": "regnety_032",
                  "marker": {
                    "color": "#FF97FF",
                    "symbol": "circle"
                  },
                  "mode": "markers",
                  "name": "regnety_032",
                  "orientation": "v",
                  "showlegend": true,
                  "type": "scatter",
                  "x": [
                    19.44
                  ],
                  "xaxis": "x",
                  "y": [
                    82.724
                  ],
                  "yaxis": "y"
                },
                {
                  "customdata": [
                    [
                      50
                    ]
                  ],
                  "hovertemplate": "model=regnety_040<br>param_count=%{x}<br>top1=%{y}<br>fps=%{customdata[0]}<extra></extra>",
                  "legendgroup": "regnety_040",
                  "marker": {
                    "color": "#FECB52",
                    "symbol": "circle"
                  },
                  "mode": "markers",
                  "name": "regnety_040",
                  "orientation": "v",
                  "showlegend": true,
                  "type": "scatter",
                  "x": [
                    20.65
                  ],
                  "xaxis": "x",
                  "y": [
                    79.22
                  ],
                  "yaxis": "y"
                },
                {
                  "customdata": [
                    [
                      50
                    ]
                  ],
                  "hovertemplate": "model=regnetx_064<br>param_count=%{x}<br>top1=%{y}<br>fps=%{customdata[0]}<extra></extra>",
                  "legendgroup": "regnetx_064",
                  "marker": {
                    "color": "#636efa",
                    "symbol": "circle"
                  },
                  "mode": "markers",
                  "name": "regnetx_064",
                  "orientation": "v",
                  "showlegend": true,
                  "type": "scatter",
                  "x": [
                    26.21
                  ],
                  "xaxis": "x",
                  "y": [
                    79.072
                  ],
                  "yaxis": "y"
                },
                {
                  "customdata": [
                    [
                      49
                    ]
                  ],
                  "hovertemplate": "model=dla102<br>param_count=%{x}<br>top1=%{y}<br>fps=%{customdata[0]}<extra></extra>",
                  "legendgroup": "dla102",
                  "marker": {
                    "color": "#EF553B",
                    "symbol": "circle"
                  },
                  "mode": "markers",
                  "name": "dla102",
                  "orientation": "v",
                  "showlegend": true,
                  "type": "scatter",
                  "x": [
                    33.27
                  ],
                  "xaxis": "x",
                  "y": [
                    78.032
                  ],
                  "yaxis": "y"
                },
                {
                  "customdata": [
                    [
                      49
                    ]
                  ],
                  "hovertemplate": "model=regnetx_080<br>param_count=%{x}<br>top1=%{y}<br>fps=%{customdata[0]}<extra></extra>",
                  "legendgroup": "regnetx_080",
                  "marker": {
                    "color": "#00cc96",
                    "symbol": "circle"
                  },
                  "mode": "markers",
                  "name": "regnetx_080",
                  "orientation": "v",
                  "showlegend": true,
                  "type": "scatter",
                  "x": [
                    39.57
                  ],
                  "xaxis": "x",
                  "y": [
                    79.194
                  ],
                  "yaxis": "y"
                },
                {
                  "customdata": [
                    [
                      49
                    ]
                  ],
                  "hovertemplate": "model=tf_efficientnet_cc_b1_8e<br>param_count=%{x}<br>top1=%{y}<br>fps=%{customdata[0]}<extra></extra>",
                  "legendgroup": "tf_efficientnet_cc_b1_8e",
                  "marker": {
                    "color": "#ab63fa",
                    "symbol": "circle"
                  },
                  "mode": "markers",
                  "name": "tf_efficientnet_cc_b1_8e",
                  "orientation": "v",
                  "showlegend": true,
                  "type": "scatter",
                  "x": [
                    39.72
                  ],
                  "xaxis": "x",
                  "y": [
                    79.308
                  ],
                  "yaxis": "y"
                },
                {
                  "customdata": [
                    [
                      48
                    ]
                  ],
                  "hovertemplate": "model=nfnet_l0<br>param_count=%{x}<br>top1=%{y}<br>fps=%{customdata[0]}<extra></extra>",
                  "legendgroup": "nfnet_l0",
                  "marker": {
                    "color": "#FFA15A",
                    "symbol": "circle"
                  },
                  "mode": "markers",
                  "name": "nfnet_l0",
                  "orientation": "v",
                  "showlegend": true,
                  "type": "scatter",
                  "x": [
                    35.07
                  ],
                  "xaxis": "x",
                  "y": [
                    82.76
                  ],
                  "yaxis": "y"
                },
                {
                  "customdata": [
                    [
                      46
                    ]
                  ],
                  "hovertemplate": "model=resnest50d_4s2x40d<br>param_count=%{x}<br>top1=%{y}<br>fps=%{customdata[0]}<extra></extra>",
                  "legendgroup": "resnest50d_4s2x40d",
                  "marker": {
                    "color": "#19d3f3",
                    "symbol": "circle"
                  },
                  "mode": "markers",
                  "name": "resnest50d_4s2x40d",
                  "orientation": "v",
                  "showlegend": true,
                  "type": "scatter",
                  "x": [
                    30.42
                  ],
                  "xaxis": "x",
                  "y": [
                    81.108
                  ],
                  "yaxis": "y"
                },
                {
                  "customdata": [
                    [
                      45
                    ]
                  ],
                  "hovertemplate": "model=tv_resnet101<br>param_count=%{x}<br>top1=%{y}<br>fps=%{customdata[0]}<extra></extra>",
                  "legendgroup": "tv_resnet101",
                  "marker": {
                    "color": "#FF6692",
                    "symbol": "circle"
                  },
                  "mode": "markers",
                  "name": "tv_resnet101",
                  "orientation": "v",
                  "showlegend": true,
                  "type": "scatter",
                  "x": [
                    44.55
                  ],
                  "xaxis": "x",
                  "y": [
                    77.374
                  ],
                  "yaxis": "y"
                },
                {
                  "customdata": [
                    [
                      45
                    ]
                  ],
                  "hovertemplate": "model=tv_densenet121<br>param_count=%{x}<br>top1=%{y}<br>fps=%{customdata[0]}<extra></extra>",
                  "legendgroup": "tv_densenet121",
                  "marker": {
                    "color": "#B6E880",
                    "symbol": "circle"
                  },
                  "mode": "markers",
                  "name": "tv_densenet121",
                  "orientation": "v",
                  "showlegend": true,
                  "type": "scatter",
                  "x": [
                    7.98
                  ],
                  "xaxis": "x",
                  "y": [
                    74.738
                  ],
                  "yaxis": "y"
                },
                {
                  "customdata": [
                    [
                      45
                    ]
                  ],
                  "hovertemplate": "model=densenet121<br>param_count=%{x}<br>top1=%{y}<br>fps=%{customdata[0]}<extra></extra>",
                  "legendgroup": "densenet121",
                  "marker": {
                    "color": "#FF97FF",
                    "symbol": "circle"
                  },
                  "mode": "markers",
                  "name": "densenet121",
                  "orientation": "v",
                  "showlegend": true,
                  "type": "scatter",
                  "x": [
                    7.98
                  ],
                  "xaxis": "x",
                  "y": [
                    75.578
                  ],
                  "yaxis": "y"
                },
                {
                  "customdata": [
                    [
                      45
                    ]
                  ],
                  "hovertemplate": "model=res2net50_26w_6s<br>param_count=%{x}<br>top1=%{y}<br>fps=%{customdata[0]}<extra></extra>",
                  "legendgroup": "res2net50_26w_6s",
                  "marker": {
                    "color": "#FECB52",
                    "symbol": "circle"
                  },
                  "mode": "markers",
                  "name": "res2net50_26w_6s",
                  "orientation": "v",
                  "showlegend": true,
                  "type": "scatter",
                  "x": [
                    37.05
                  ],
                  "xaxis": "x",
                  "y": [
                    78.57
                  ],
                  "yaxis": "y"
                },
                {
                  "customdata": [
                    [
                      45
                    ]
                  ],
                  "hovertemplate": "model=densenetblur121d<br>param_count=%{x}<br>top1=%{y}<br>fps=%{customdata[0]}<extra></extra>",
                  "legendgroup": "densenetblur121d",
                  "marker": {
                    "color": "#636efa",
                    "symbol": "circle"
                  },
                  "mode": "markers",
                  "name": "densenetblur121d",
                  "orientation": "v",
                  "showlegend": true,
                  "type": "scatter",
                  "x": [
                    8
                  ],
                  "xaxis": "x",
                  "y": [
                    76.588
                  ],
                  "yaxis": "y"
                },
                {
                  "customdata": [
                    [
                      45
                    ]
                  ],
                  "hovertemplate": "model=gluon_resnet101_v1b<br>param_count=%{x}<br>top1=%{y}<br>fps=%{customdata[0]}<extra></extra>",
                  "legendgroup": "gluon_resnet101_v1b",
                  "marker": {
                    "color": "#EF553B",
                    "symbol": "circle"
                  },
                  "mode": "markers",
                  "name": "gluon_resnet101_v1b",
                  "orientation": "v",
                  "showlegend": true,
                  "type": "scatter",
                  "x": [
                    44.55
                  ],
                  "xaxis": "x",
                  "y": [
                    79.306
                  ],
                  "yaxis": "y"
                },
                {
                  "customdata": [
                    [
                      44
                    ]
                  ],
                  "hovertemplate": "model=mixnet_xl<br>param_count=%{x}<br>top1=%{y}<br>fps=%{customdata[0]}<extra></extra>",
                  "legendgroup": "mixnet_xl",
                  "marker": {
                    "color": "#00cc96",
                    "symbol": "circle"
                  },
                  "mode": "markers",
                  "name": "mixnet_xl",
                  "orientation": "v",
                  "showlegend": true,
                  "type": "scatter",
                  "x": [
                    11.9
                  ],
                  "xaxis": "x",
                  "y": [
                    80.476
                  ],
                  "yaxis": "y"
                },
                {
                  "customdata": [
                    [
                      44
                    ]
                  ],
                  "hovertemplate": "model=gluon_resnet101_v1c<br>param_count=%{x}<br>top1=%{y}<br>fps=%{customdata[0]}<extra></extra>",
                  "legendgroup": "gluon_resnet101_v1c",
                  "marker": {
                    "color": "#ab63fa",
                    "symbol": "circle"
                  },
                  "mode": "markers",
                  "name": "gluon_resnet101_v1c",
                  "orientation": "v",
                  "showlegend": true,
                  "type": "scatter",
                  "x": [
                    44.57
                  ],
                  "xaxis": "x",
                  "y": [
                    79.534
                  ],
                  "yaxis": "y"
                },
                {
                  "customdata": [
                    [
                      44
                    ]
                  ],
                  "hovertemplate": "model=vgg13<br>param_count=%{x}<br>top1=%{y}<br>fps=%{customdata[0]}<extra></extra>",
                  "legendgroup": "vgg13",
                  "marker": {
                    "color": "#FFA15A",
                    "symbol": "circle"
                  },
                  "mode": "markers",
                  "name": "vgg13",
                  "orientation": "v",
                  "showlegend": true,
                  "type": "scatter",
                  "x": [
                    133.05
                  ],
                  "xaxis": "x",
                  "y": [
                    69.926
                  ],
                  "yaxis": "y"
                },
                {
                  "customdata": [
                    [
                      43
                    ]
                  ],
                  "hovertemplate": "model=gluon_resnet101_v1d<br>param_count=%{x}<br>top1=%{y}<br>fps=%{customdata[0]}<extra></extra>",
                  "legendgroup": "gluon_resnet101_v1d",
                  "marker": {
                    "color": "#19d3f3",
                    "symbol": "circle"
                  },
                  "mode": "markers",
                  "name": "gluon_resnet101_v1d",
                  "orientation": "v",
                  "showlegend": true,
                  "type": "scatter",
                  "x": [
                    44.57
                  ],
                  "xaxis": "x",
                  "y": [
                    80.414
                  ],
                  "yaxis": "y"
                },
                {
                  "customdata": [
                    [
                      43
                    ]
                  ],
                  "hovertemplate": "model=resnet101d<br>param_count=%{x}<br>top1=%{y}<br>fps=%{customdata[0]}<extra></extra>",
                  "legendgroup": "resnet101d",
                  "marker": {
                    "color": "#FF6692",
                    "symbol": "circle"
                  },
                  "mode": "markers",
                  "name": "resnet101d",
                  "orientation": "v",
                  "showlegend": true,
                  "type": "scatter",
                  "x": [
                    44.57
                  ],
                  "xaxis": "x",
                  "y": [
                    83.022
                  ],
                  "yaxis": "y"
                },
                {
                  "customdata": [
                    [
                      43
                    ]
                  ],
                  "hovertemplate": "model=efficientnet_b4<br>param_count=%{x}<br>top1=%{y}<br>fps=%{customdata[0]}<extra></extra>",
                  "legendgroup": "efficientnet_b4",
                  "marker": {
                    "color": "#B6E880",
                    "symbol": "circle"
                  },
                  "mode": "markers",
                  "name": "efficientnet_b4",
                  "orientation": "v",
                  "showlegend": true,
                  "type": "scatter",
                  "x": [
                    19.34
                  ],
                  "xaxis": "x",
                  "y": [
                    83.428
                  ],
                  "yaxis": "y"
                },
                {
                  "customdata": [
                    [
                      43
                    ]
                  ],
                  "hovertemplate": "model=tf_efficientnet_b4_ns<br>param_count=%{x}<br>top1=%{y}<br>fps=%{customdata[0]}<extra></extra>",
                  "legendgroup": "tf_efficientnet_b4_ns",
                  "marker": {
                    "color": "#FF97FF",
                    "symbol": "circle"
                  },
                  "mode": "markers",
                  "name": "tf_efficientnet_b4_ns",
                  "orientation": "v",
                  "showlegend": true,
                  "type": "scatter",
                  "x": [
                    19.34
                  ],
                  "xaxis": "x",
                  "y": [
                    85.162
                  ],
                  "yaxis": "y"
                },
                {
                  "customdata": [
                    [
                      43
                    ]
                  ],
                  "hovertemplate": "model=wide_resnet50_2<br>param_count=%{x}<br>top1=%{y}<br>fps=%{customdata[0]}<extra></extra>",
                  "legendgroup": "wide_resnet50_2",
                  "marker": {
                    "color": "#FECB52",
                    "symbol": "circle"
                  },
                  "mode": "markers",
                  "name": "wide_resnet50_2",
                  "orientation": "v",
                  "showlegend": true,
                  "type": "scatter",
                  "x": [
                    68.88
                  ],
                  "xaxis": "x",
                  "y": [
                    81.456
                  ],
                  "yaxis": "y"
                },
                {
                  "customdata": [
                    [
                      43
                    ]
                  ],
                  "hovertemplate": "model=tf_efficientnet_b4<br>param_count=%{x}<br>top1=%{y}<br>fps=%{customdata[0]}<extra></extra>",
                  "legendgroup": "tf_efficientnet_b4",
                  "marker": {
                    "color": "#636efa",
                    "symbol": "circle"
                  },
                  "mode": "markers",
                  "name": "tf_efficientnet_b4",
                  "orientation": "v",
                  "showlegend": true,
                  "type": "scatter",
                  "x": [
                    19.34
                  ],
                  "xaxis": "x",
                  "y": [
                    83.022
                  ],
                  "yaxis": "y"
                },
                {
                  "customdata": [
                    [
                      42
                    ]
                  ],
                  "hovertemplate": "model=repvgg_b1<br>param_count=%{x}<br>top1=%{y}<br>fps=%{customdata[0]}<extra></extra>",
                  "legendgroup": "repvgg_b1",
                  "marker": {
                    "color": "#EF553B",
                    "symbol": "circle"
                  },
                  "mode": "markers",
                  "name": "repvgg_b1",
                  "orientation": "v",
                  "showlegend": true,
                  "type": "scatter",
                  "x": [
                    57.42
                  ],
                  "xaxis": "x",
                  "y": [
                    78.366
                  ],
                  "yaxis": "y"
                },
                {
                  "customdata": [
                    [
                      42
                    ]
                  ],
                  "hovertemplate": "model=tf_efficientnet_b4_ap<br>param_count=%{x}<br>top1=%{y}<br>fps=%{customdata[0]}<extra></extra>",
                  "legendgroup": "tf_efficientnet_b4_ap",
                  "marker": {
                    "color": "#00cc96",
                    "symbol": "circle"
                  },
                  "mode": "markers",
                  "name": "tf_efficientnet_b4_ap",
                  "orientation": "v",
                  "showlegend": true,
                  "type": "scatter",
                  "x": [
                    19.34
                  ],
                  "xaxis": "x",
                  "y": [
                    83.248
                  ],
                  "yaxis": "y"
                },
                {
                  "customdata": [
                    [
                      42
                    ]
                  ],
                  "hovertemplate": "model=regnety_016<br>param_count=%{x}<br>top1=%{y}<br>fps=%{customdata[0]}<extra></extra>",
                  "legendgroup": "regnety_016",
                  "marker": {
                    "color": "#ab63fa",
                    "symbol": "circle"
                  },
                  "mode": "markers",
                  "name": "regnety_016",
                  "orientation": "v",
                  "showlegend": true,
                  "type": "scatter",
                  "x": [
                    11.2
                  ],
                  "xaxis": "x",
                  "y": [
                    77.862
                  ],
                  "yaxis": "y"
                },
                {
                  "customdata": [
                    [
                      41
                    ]
                  ],
                  "hovertemplate": "model=regnety_064<br>param_count=%{x}<br>top1=%{y}<br>fps=%{customdata[0]}<extra></extra>",
                  "legendgroup": "regnety_064",
                  "marker": {
                    "color": "#FFA15A",
                    "symbol": "circle"
                  },
                  "mode": "markers",
                  "name": "regnety_064",
                  "orientation": "v",
                  "showlegend": true,
                  "type": "scatter",
                  "x": [
                    30.58
                  ],
                  "xaxis": "x",
                  "y": [
                    79.722
                  ],
                  "yaxis": "y"
                },
                {
                  "customdata": [
                    [
                      41
                    ]
                  ],
                  "hovertemplate": "model=skresnext50_32x4d<br>param_count=%{x}<br>top1=%{y}<br>fps=%{customdata[0]}<extra></extra>",
                  "legendgroup": "skresnext50_32x4d",
                  "marker": {
                    "color": "#19d3f3",
                    "symbol": "circle"
                  },
                  "mode": "markers",
                  "name": "skresnext50_32x4d",
                  "orientation": "v",
                  "showlegend": true,
                  "type": "scatter",
                  "x": [
                    27.48
                  ],
                  "xaxis": "x",
                  "y": [
                    80.156
                  ],
                  "yaxis": "y"
                },
                {
                  "customdata": [
                    [
                      41
                    ]
                  ],
                  "hovertemplate": "model=repvgg_b2g4<br>param_count=%{x}<br>top1=%{y}<br>fps=%{customdata[0]}<extra></extra>",
                  "legendgroup": "repvgg_b2g4",
                  "marker": {
                    "color": "#FF6692",
                    "symbol": "circle"
                  },
                  "mode": "markers",
                  "name": "repvgg_b2g4",
                  "orientation": "v",
                  "showlegend": true,
                  "type": "scatter",
                  "x": [
                    61.76
                  ],
                  "xaxis": "x",
                  "y": [
                    79.366
                  ],
                  "yaxis": "y"
                },
                {
                  "customdata": [
                    [
                      40
                    ]
                  ],
                  "hovertemplate": "model=ecaresnet101d_pruned<br>param_count=%{x}<br>top1=%{y}<br>fps=%{customdata[0]}<extra></extra>",
                  "legendgroup": "ecaresnet101d_pruned",
                  "marker": {
                    "color": "#B6E880",
                    "symbol": "circle"
                  },
                  "mode": "markers",
                  "name": "ecaresnet101d_pruned",
                  "orientation": "v",
                  "showlegend": true,
                  "type": "scatter",
                  "x": [
                    24.88
                  ],
                  "xaxis": "x",
                  "y": [
                    80.818
                  ],
                  "yaxis": "y"
                },
                {
                  "customdata": [
                    [
                      40
                    ]
                  ],
                  "hovertemplate": "model=gluon_resnet101_v1s<br>param_count=%{x}<br>top1=%{y}<br>fps=%{customdata[0]}<extra></extra>",
                  "legendgroup": "gluon_resnet101_v1s",
                  "marker": {
                    "color": "#FF97FF",
                    "symbol": "circle"
                  },
                  "mode": "markers",
                  "name": "gluon_resnet101_v1s",
                  "orientation": "v",
                  "showlegend": true,
                  "type": "scatter",
                  "x": [
                    44.67
                  ],
                  "xaxis": "x",
                  "y": [
                    80.302
                  ],
                  "yaxis": "y"
                },
                {
                  "customdata": [
                    [
                      40
                    ]
                  ],
                  "hovertemplate": "model=nf_regnet_b1<br>param_count=%{x}<br>top1=%{y}<br>fps=%{customdata[0]}<extra></extra>",
                  "legendgroup": "nf_regnet_b1",
                  "marker": {
                    "color": "#FECB52",
                    "symbol": "circle"
                  },
                  "mode": "markers",
                  "name": "nf_regnet_b1",
                  "orientation": "v",
                  "showlegend": true,
                  "type": "scatter",
                  "x": [
                    10.22
                  ],
                  "xaxis": "x",
                  "y": [
                    79.306
                  ],
                  "yaxis": "y"
                },
                {
                  "customdata": [
                    [
                      40
                    ]
                  ],
                  "hovertemplate": "model=vgg13_bn<br>param_count=%{x}<br>top1=%{y}<br>fps=%{customdata[0]}<extra></extra>",
                  "legendgroup": "vgg13_bn",
                  "marker": {
                    "color": "#636efa",
                    "symbol": "circle"
                  },
                  "mode": "markers",
                  "name": "vgg13_bn",
                  "orientation": "v",
                  "showlegend": true,
                  "type": "scatter",
                  "x": [
                    133.05
                  ],
                  "xaxis": "x",
                  "y": [
                    71.594
                  ],
                  "yaxis": "y"
                },
                {
                  "customdata": [
                    [
                      40
                    ]
                  ],
                  "hovertemplate": "model=regnety_080<br>param_count=%{x}<br>top1=%{y}<br>fps=%{customdata[0]}<extra></extra>",
                  "legendgroup": "regnety_080",
                  "marker": {
                    "color": "#EF553B",
                    "symbol": "circle"
                  },
                  "mode": "markers",
                  "name": "regnety_080",
                  "orientation": "v",
                  "showlegend": true,
                  "type": "scatter",
                  "x": [
                    39.18
                  ],
                  "xaxis": "x",
                  "y": [
                    79.876
                  ],
                  "yaxis": "y"
                },
                {
                  "customdata": [
                    [
                      40
                    ]
                  ],
                  "hovertemplate": "model=ecaresnet101d<br>param_count=%{x}<br>top1=%{y}<br>fps=%{customdata[0]}<extra></extra>",
                  "legendgroup": "ecaresnet101d",
                  "marker": {
                    "color": "#00cc96",
                    "symbol": "circle"
                  },
                  "mode": "markers",
                  "name": "ecaresnet101d",
                  "orientation": "v",
                  "showlegend": true,
                  "type": "scatter",
                  "x": [
                    44.57
                  ],
                  "xaxis": "x",
                  "y": [
                    82.172
                  ],
                  "yaxis": "y"
                },
                {
                  "customdata": [
                    [
                      39
                    ]
                  ],
                  "hovertemplate": "model=dla102x<br>param_count=%{x}<br>top1=%{y}<br>fps=%{customdata[0]}<extra></extra>",
                  "legendgroup": "dla102x",
                  "marker": {
                    "color": "#ab63fa",
                    "symbol": "circle"
                  },
                  "mode": "markers",
                  "name": "dla102x",
                  "orientation": "v",
                  "showlegend": true,
                  "type": "scatter",
                  "x": [
                    26.31
                  ],
                  "xaxis": "x",
                  "y": [
                    78.51
                  ],
                  "yaxis": "y"
                },
                {
                  "customdata": [
                    [
                      38
                    ]
                  ],
                  "hovertemplate": "model=res2net50_14w_8s<br>param_count=%{x}<br>top1=%{y}<br>fps=%{customdata[0]}<extra></extra>",
                  "legendgroup": "res2net50_14w_8s",
                  "marker": {
                    "color": "#FFA15A",
                    "symbol": "circle"
                  },
                  "mode": "markers",
                  "name": "res2net50_14w_8s",
                  "orientation": "v",
                  "showlegend": true,
                  "type": "scatter",
                  "x": [
                    25.06
                  ],
                  "xaxis": "x",
                  "y": [
                    78.15
                  ],
                  "yaxis": "y"
                },
                {
                  "customdata": [
                    [
                      37
                    ]
                  ],
                  "hovertemplate": "model=gluon_xception65<br>param_count=%{x}<br>top1=%{y}<br>fps=%{customdata[0]}<extra></extra>",
                  "legendgroup": "gluon_xception65",
                  "marker": {
                    "color": "#19d3f3",
                    "symbol": "circle"
                  },
                  "mode": "markers",
                  "name": "gluon_xception65",
                  "orientation": "v",
                  "showlegend": true,
                  "type": "scatter",
                  "x": [
                    39.92
                  ],
                  "xaxis": "x",
                  "y": [
                    79.716
                  ],
                  "yaxis": "y"
                },
                {
                  "customdata": [
                    [
                      37
                    ]
                  ],
                  "hovertemplate": "model=xception65<br>param_count=%{x}<br>top1=%{y}<br>fps=%{customdata[0]}<extra></extra>",
                  "legendgroup": "xception65",
                  "marker": {
                    "color": "#FF6692",
                    "symbol": "circle"
                  },
                  "mode": "markers",
                  "name": "xception65",
                  "orientation": "v",
                  "showlegend": true,
                  "type": "scatter",
                  "x": [
                    39.92
                  ],
                  "xaxis": "x",
                  "y": [
                    79.552
                  ],
                  "yaxis": "y"
                },
                {
                  "customdata": [
                    [
                      37
                    ]
                  ],
                  "hovertemplate": "model=inception_v4<br>param_count=%{x}<br>top1=%{y}<br>fps=%{customdata[0]}<extra></extra>",
                  "legendgroup": "inception_v4",
                  "marker": {
                    "color": "#B6E880",
                    "symbol": "circle"
                  },
                  "mode": "markers",
                  "name": "inception_v4",
                  "orientation": "v",
                  "showlegend": true,
                  "type": "scatter",
                  "x": [
                    42.68
                  ],
                  "xaxis": "x",
                  "y": [
                    80.168
                  ],
                  "yaxis": "y"
                },
                {
                  "customdata": [
                    [
                      36
                    ]
                  ],
                  "hovertemplate": "model=vgg16<br>param_count=%{x}<br>top1=%{y}<br>fps=%{customdata[0]}<extra></extra>",
                  "legendgroup": "vgg16",
                  "marker": {
                    "color": "#FF97FF",
                    "symbol": "circle"
                  },
                  "mode": "markers",
                  "name": "vgg16",
                  "orientation": "v",
                  "showlegend": true,
                  "type": "scatter",
                  "x": [
                    138.36
                  ],
                  "xaxis": "x",
                  "y": [
                    71.594
                  ],
                  "yaxis": "y"
                },
                {
                  "customdata": [
                    [
                      36
                    ]
                  ],
                  "hovertemplate": "model=legacy_seresnet101<br>param_count=%{x}<br>top1=%{y}<br>fps=%{customdata[0]}<extra></extra>",
                  "legendgroup": "legacy_seresnet101",
                  "marker": {
                    "color": "#FECB52",
                    "symbol": "circle"
                  },
                  "mode": "markers",
                  "name": "legacy_seresnet101",
                  "orientation": "v",
                  "showlegend": true,
                  "type": "scatter",
                  "x": [
                    49.33
                  ],
                  "xaxis": "x",
                  "y": [
                    78.382
                  ],
                  "yaxis": "y"
                },
                {
                  "customdata": [
                    [
                      36
                    ]
                  ],
                  "hovertemplate": "model=tf_efficientnet_b5_ns<br>param_count=%{x}<br>top1=%{y}<br>fps=%{customdata[0]}<extra></extra>",
                  "legendgroup": "tf_efficientnet_b5_ns",
                  "marker": {
                    "color": "#636efa",
                    "symbol": "circle"
                  },
                  "mode": "markers",
                  "name": "tf_efficientnet_b5_ns",
                  "orientation": "v",
                  "showlegend": true,
                  "type": "scatter",
                  "x": [
                    30.39
                  ],
                  "xaxis": "x",
                  "y": [
                    86.088
                  ],
                  "yaxis": "y"
                },
                {
                  "customdata": [
                    [
                      36
                    ]
                  ],
                  "hovertemplate": "model=tf_efficientnet_b5<br>param_count=%{x}<br>top1=%{y}<br>fps=%{customdata[0]}<extra></extra>",
                  "legendgroup": "tf_efficientnet_b5",
                  "marker": {
                    "color": "#EF553B",
                    "symbol": "circle"
                  },
                  "mode": "markers",
                  "name": "tf_efficientnet_b5",
                  "orientation": "v",
                  "showlegend": true,
                  "type": "scatter",
                  "x": [
                    30.39
                  ],
                  "xaxis": "x",
                  "y": [
                    83.812
                  ],
                  "yaxis": "y"
                },
                {
                  "customdata": [
                    [
                      36
                    ]
                  ],
                  "hovertemplate": "model=tf_efficientnet_b5_ap<br>param_count=%{x}<br>top1=%{y}<br>fps=%{customdata[0]}<extra></extra>",
                  "legendgroup": "tf_efficientnet_b5_ap",
                  "marker": {
                    "color": "#00cc96",
                    "symbol": "circle"
                  },
                  "mode": "markers",
                  "name": "tf_efficientnet_b5_ap",
                  "orientation": "v",
                  "showlegend": true,
                  "type": "scatter",
                  "x": [
                    30.39
                  ],
                  "xaxis": "x",
                  "y": [
                    84.252
                  ],
                  "yaxis": "y"
                },
                {
                  "customdata": [
                    [
                      35
                    ]
                  ],
                  "hovertemplate": "model=res2net50_26w_8s<br>param_count=%{x}<br>top1=%{y}<br>fps=%{customdata[0]}<extra></extra>",
                  "legendgroup": "res2net50_26w_8s",
                  "marker": {
                    "color": "#ab63fa",
                    "symbol": "circle"
                  },
                  "mode": "markers",
                  "name": "res2net50_26w_8s",
                  "orientation": "v",
                  "showlegend": true,
                  "type": "scatter",
                  "x": [
                    48.4
                  ],
                  "xaxis": "x",
                  "y": [
                    79.198
                  ],
                  "yaxis": "y"
                },
                {
                  "customdata": [
                    [
                      35
                    ]
                  ],
                  "hovertemplate": "model=resnetrs101<br>param_count=%{x}<br>top1=%{y}<br>fps=%{customdata[0]}<extra></extra>",
                  "legendgroup": "resnetrs101",
                  "marker": {
                    "color": "#FFA15A",
                    "symbol": "circle"
                  },
                  "mode": "markers",
                  "name": "resnetrs101",
                  "orientation": "v",
                  "showlegend": true,
                  "type": "scatter",
                  "x": [
                    63.62
                  ],
                  "xaxis": "x",
                  "y": [
                    82.288
                  ],
                  "yaxis": "y"
                },
                {
                  "customdata": [
                    [
                      35
                    ]
                  ],
                  "hovertemplate": "model=ssl_resnext101_32x4d<br>param_count=%{x}<br>top1=%{y}<br>fps=%{customdata[0]}<extra></extra>",
                  "legendgroup": "ssl_resnext101_32x4d",
                  "marker": {
                    "color": "#19d3f3",
                    "symbol": "circle"
                  },
                  "mode": "markers",
                  "name": "ssl_resnext101_32x4d",
                  "orientation": "v",
                  "showlegend": true,
                  "type": "scatter",
                  "x": [
                    44.18
                  ],
                  "xaxis": "x",
                  "y": [
                    80.924
                  ],
                  "yaxis": "y"
                },
                {
                  "customdata": [
                    [
                      35
                    ]
                  ],
                  "hovertemplate": "model=swsl_resnext101_32x4d<br>param_count=%{x}<br>top1=%{y}<br>fps=%{customdata[0]}<extra></extra>",
                  "legendgroup": "swsl_resnext101_32x4d",
                  "marker": {
                    "color": "#FF6692",
                    "symbol": "circle"
                  },
                  "mode": "markers",
                  "name": "swsl_resnext101_32x4d",
                  "orientation": "v",
                  "showlegend": true,
                  "type": "scatter",
                  "x": [
                    44.18
                  ],
                  "xaxis": "x",
                  "y": [
                    83.23
                  ],
                  "yaxis": "y"
                },
                {
                  "customdata": [
                    [
                      34
                    ]
                  ],
                  "hovertemplate": "model=gluon_resnext101_32x4d<br>param_count=%{x}<br>top1=%{y}<br>fps=%{customdata[0]}<extra></extra>",
                  "legendgroup": "gluon_resnext101_32x4d",
                  "marker": {
                    "color": "#B6E880",
                    "symbol": "circle"
                  },
                  "mode": "markers",
                  "name": "gluon_resnext101_32x4d",
                  "orientation": "v",
                  "showlegend": true,
                  "type": "scatter",
                  "x": [
                    44.18
                  ],
                  "xaxis": "x",
                  "y": [
                    80.334
                  ],
                  "yaxis": "y"
                },
                {
                  "customdata": [
                    [
                      34
                    ]
                  ],
                  "hovertemplate": "model=regnetx_120<br>param_count=%{x}<br>top1=%{y}<br>fps=%{customdata[0]}<extra></extra>",
                  "legendgroup": "regnetx_120",
                  "marker": {
                    "color": "#FF97FF",
                    "symbol": "circle"
                  },
                  "mode": "markers",
                  "name": "regnetx_120",
                  "orientation": "v",
                  "showlegend": true,
                  "type": "scatter",
                  "x": [
                    46.11
                  ],
                  "xaxis": "x",
                  "y": [
                    79.596
                  ],
                  "yaxis": "y"
                },
                {
                  "customdata": [
                    [
                      34
                    ]
                  ],
                  "hovertemplate": "model=hrnet_w18_small_v2<br>param_count=%{x}<br>top1=%{y}<br>fps=%{customdata[0]}<extra></extra>",
                  "legendgroup": "hrnet_w18_small_v2",
                  "marker": {
                    "color": "#FECB52",
                    "symbol": "circle"
                  },
                  "mode": "markers",
                  "name": "hrnet_w18_small_v2",
                  "orientation": "v",
                  "showlegend": true,
                  "type": "scatter",
                  "x": [
                    15.6
                  ],
                  "xaxis": "x",
                  "y": [
                    75.114
                  ],
                  "yaxis": "y"
                },
                {
                  "customdata": [
                    [
                      34
                    ]
                  ],
                  "hovertemplate": "model=vgg16_bn<br>param_count=%{x}<br>top1=%{y}<br>fps=%{customdata[0]}<extra></extra>",
                  "legendgroup": "vgg16_bn",
                  "marker": {
                    "color": "#636efa",
                    "symbol": "circle"
                  },
                  "mode": "markers",
                  "name": "vgg16_bn",
                  "orientation": "v",
                  "showlegend": true,
                  "type": "scatter",
                  "x": [
                    138.37
                  ],
                  "xaxis": "x",
                  "y": [
                    73.35
                  ],
                  "yaxis": "y"
                },
                {
                  "customdata": [
                    [
                      34
                    ]
                  ],
                  "hovertemplate": "model=resnetv2_101x1_bitm<br>param_count=%{x}<br>top1=%{y}<br>fps=%{customdata[0]}<extra></extra>",
                  "legendgroup": "resnetv2_101x1_bitm",
                  "marker": {
                    "color": "#EF553B",
                    "symbol": "circle"
                  },
                  "mode": "markers",
                  "name": "resnetv2_101x1_bitm",
                  "orientation": "v",
                  "showlegend": true,
                  "type": "scatter",
                  "x": [
                    44.54
                  ],
                  "xaxis": "x",
                  "y": [
                    82.212
                  ],
                  "yaxis": "y"
                },
                {
                  "customdata": [
                    [
                      33
                    ]
                  ],
                  "hovertemplate": "model=densenet169<br>param_count=%{x}<br>top1=%{y}<br>fps=%{customdata[0]}<extra></extra>",
                  "legendgroup": "densenet169",
                  "marker": {
                    "color": "#00cc96",
                    "symbol": "circle"
                  },
                  "mode": "markers",
                  "name": "densenet169",
                  "orientation": "v",
                  "showlegend": true,
                  "type": "scatter",
                  "x": [
                    14.15
                  ],
                  "xaxis": "x",
                  "y": [
                    75.906
                  ],
                  "yaxis": "y"
                },
                {
                  "customdata": [
                    [
                      32
                    ]
                  ],
                  "hovertemplate": "model=res2net101_26w_4s<br>param_count=%{x}<br>top1=%{y}<br>fps=%{customdata[0]}<extra></extra>",
                  "legendgroup": "res2net101_26w_4s",
                  "marker": {
                    "color": "#ab63fa",
                    "symbol": "circle"
                  },
                  "mode": "markers",
                  "name": "res2net101_26w_4s",
                  "orientation": "v",
                  "showlegend": true,
                  "type": "scatter",
                  "x": [
                    45.21
                  ],
                  "xaxis": "x",
                  "y": [
                    79.198
                  ],
                  "yaxis": "y"
                },
                {
                  "customdata": [
                    [
                      32
                    ]
                  ],
                  "hovertemplate": "model=densenet161<br>param_count=%{x}<br>top1=%{y}<br>fps=%{customdata[0]}<extra></extra>",
                  "legendgroup": "densenet161",
                  "marker": {
                    "color": "#FFA15A",
                    "symbol": "circle"
                  },
                  "mode": "markers",
                  "name": "densenet161",
                  "orientation": "v",
                  "showlegend": true,
                  "type": "scatter",
                  "x": [
                    28.68
                  ],
                  "xaxis": "x",
                  "y": [
                    77.358
                  ],
                  "yaxis": "y"
                },
                {
                  "customdata": [
                    [
                      31
                    ]
                  ],
                  "hovertemplate": "model=repvgg_b3g4<br>param_count=%{x}<br>top1=%{y}<br>fps=%{customdata[0]}<extra></extra>",
                  "legendgroup": "repvgg_b3g4",
                  "marker": {
                    "color": "#19d3f3",
                    "symbol": "circle"
                  },
                  "mode": "markers",
                  "name": "repvgg_b3g4",
                  "orientation": "v",
                  "showlegend": true,
                  "type": "scatter",
                  "x": [
                    83.83
                  ],
                  "xaxis": "x",
                  "y": [
                    80.212
                  ],
                  "yaxis": "y"
                },
                {
                  "customdata": [
                    [
                      31
                    ]
                  ],
                  "hovertemplate": "model=regnety_120<br>param_count=%{x}<br>top1=%{y}<br>fps=%{customdata[0]}<extra></extra>",
                  "legendgroup": "regnety_120",
                  "marker": {
                    "color": "#FF6692",
                    "symbol": "circle"
                  },
                  "mode": "markers",
                  "name": "regnety_120",
                  "orientation": "v",
                  "showlegend": true,
                  "type": "scatter",
                  "x": [
                    51.82
                  ],
                  "xaxis": "x",
                  "y": [
                    80.366
                  ],
                  "yaxis": "y"
                },
                {
                  "customdata": [
                    [
                      31
                    ]
                  ],
                  "hovertemplate": "model=dla169<br>param_count=%{x}<br>top1=%{y}<br>fps=%{customdata[0]}<extra></extra>",
                  "legendgroup": "dla169",
                  "marker": {
                    "color": "#B6E880",
                    "symbol": "circle"
                  },
                  "mode": "markers",
                  "name": "dla169",
                  "orientation": "v",
                  "showlegend": true,
                  "type": "scatter",
                  "x": [
                    53.39
                  ],
                  "xaxis": "x",
                  "y": [
                    78.688
                  ],
                  "yaxis": "y"
                },
                {
                  "customdata": [
                    [
                      31
                    ]
                  ],
                  "hovertemplate": "model=tv_resnet152<br>param_count=%{x}<br>top1=%{y}<br>fps=%{customdata[0]}<extra></extra>",
                  "legendgroup": "tv_resnet152",
                  "marker": {
                    "color": "#FF97FF",
                    "symbol": "circle"
                  },
                  "mode": "markers",
                  "name": "tv_resnet152",
                  "orientation": "v",
                  "showlegend": true,
                  "type": "scatter",
                  "x": [
                    60.19
                  ],
                  "xaxis": "x",
                  "y": [
                    78.312
                  ],
                  "yaxis": "y"
                },
                {
                  "customdata": [
                    [
                      31
                    ]
                  ],
                  "hovertemplate": "model=vgg19<br>param_count=%{x}<br>top1=%{y}<br>fps=%{customdata[0]}<extra></extra>",
                  "legendgroup": "vgg19",
                  "marker": {
                    "color": "#FECB52",
                    "symbol": "circle"
                  },
                  "mode": "markers",
                  "name": "vgg19",
                  "orientation": "v",
                  "showlegend": true,
                  "type": "scatter",
                  "x": [
                    143.67
                  ],
                  "xaxis": "x",
                  "y": [
                    72.368
                  ],
                  "yaxis": "y"
                },
                {
                  "customdata": [
                    [
                      31
                    ]
                  ],
                  "hovertemplate": "model=gluon_resnet152_v1b<br>param_count=%{x}<br>top1=%{y}<br>fps=%{customdata[0]}<extra></extra>",
                  "legendgroup": "gluon_resnet152_v1b",
                  "marker": {
                    "color": "#636efa",
                    "symbol": "circle"
                  },
                  "mode": "markers",
                  "name": "gluon_resnet152_v1b",
                  "orientation": "v",
                  "showlegend": true,
                  "type": "scatter",
                  "x": [
                    60.19
                  ],
                  "xaxis": "x",
                  "y": [
                    79.686
                  ],
                  "yaxis": "y"
                },
                {
                  "customdata": [
                    [
                      30
                    ]
                  ],
                  "hovertemplate": "model=dpn92<br>param_count=%{x}<br>top1=%{y}<br>fps=%{customdata[0]}<extra></extra>",
                  "legendgroup": "dpn92",
                  "marker": {
                    "color": "#EF553B",
                    "symbol": "circle"
                  },
                  "mode": "markers",
                  "name": "dpn92",
                  "orientation": "v",
                  "showlegend": true,
                  "type": "scatter",
                  "x": [
                    37.67
                  ],
                  "xaxis": "x",
                  "y": [
                    80.008
                  ],
                  "yaxis": "y"
                },
                {
                  "customdata": [
                    [
                      30
                    ]
                  ],
                  "hovertemplate": "model=tf_efficientnet_b6<br>param_count=%{x}<br>top1=%{y}<br>fps=%{customdata[0]}<extra></extra>",
                  "legendgroup": "tf_efficientnet_b6",
                  "marker": {
                    "color": "#00cc96",
                    "symbol": "circle"
                  },
                  "mode": "markers",
                  "name": "tf_efficientnet_b6",
                  "orientation": "v",
                  "showlegend": true,
                  "type": "scatter",
                  "x": [
                    43.04
                  ],
                  "xaxis": "x",
                  "y": [
                    84.11
                  ],
                  "yaxis": "y"
                },
                {
                  "customdata": [
                    [
                      30
                    ]
                  ],
                  "hovertemplate": "model=tf_efficientnet_b6_ns<br>param_count=%{x}<br>top1=%{y}<br>fps=%{customdata[0]}<extra></extra>",
                  "legendgroup": "tf_efficientnet_b6_ns",
                  "marker": {
                    "color": "#ab63fa",
                    "symbol": "circle"
                  },
                  "mode": "markers",
                  "name": "tf_efficientnet_b6_ns",
                  "orientation": "v",
                  "showlegend": true,
                  "type": "scatter",
                  "x": [
                    43.04
                  ],
                  "xaxis": "x",
                  "y": [
                    86.452
                  ],
                  "yaxis": "y"
                },
                {
                  "customdata": [
                    [
                      30
                    ]
                  ],
                  "hovertemplate": "model=gluon_resnet152_v1c<br>param_count=%{x}<br>top1=%{y}<br>fps=%{customdata[0]}<extra></extra>",
                  "legendgroup": "gluon_resnet152_v1c",
                  "marker": {
                    "color": "#FFA15A",
                    "symbol": "circle"
                  },
                  "mode": "markers",
                  "name": "gluon_resnet152_v1c",
                  "orientation": "v",
                  "showlegend": true,
                  "type": "scatter",
                  "x": [
                    60.21
                  ],
                  "xaxis": "x",
                  "y": [
                    79.91
                  ],
                  "yaxis": "y"
                },
                {
                  "customdata": [
                    [
                      30
                    ]
                  ],
                  "hovertemplate": "model=tf_efficientnet_b6_ap<br>param_count=%{x}<br>top1=%{y}<br>fps=%{customdata[0]}<extra></extra>",
                  "legendgroup": "tf_efficientnet_b6_ap",
                  "marker": {
                    "color": "#19d3f3",
                    "symbol": "circle"
                  },
                  "mode": "markers",
                  "name": "tf_efficientnet_b6_ap",
                  "orientation": "v",
                  "showlegend": true,
                  "type": "scatter",
                  "x": [
                    43.04
                  ],
                  "xaxis": "x",
                  "y": [
                    84.788
                  ],
                  "yaxis": "y"
                },
                {
                  "customdata": [
                    [
                      30
                    ]
                  ],
                  "hovertemplate": "model=resnet152d<br>param_count=%{x}<br>top1=%{y}<br>fps=%{customdata[0]}<extra></extra>",
                  "legendgroup": "resnet152d",
                  "marker": {
                    "color": "#FF6692",
                    "symbol": "circle"
                  },
                  "mode": "markers",
                  "name": "resnet152d",
                  "orientation": "v",
                  "showlegend": true,
                  "type": "scatter",
                  "x": [
                    60.21
                  ],
                  "xaxis": "x",
                  "y": [
                    83.68
                  ],
                  "yaxis": "y"
                },
                {
                  "customdata": [
                    [
                      30
                    ]
                  ],
                  "hovertemplate": "model=gluon_resnet152_v1d<br>param_count=%{x}<br>top1=%{y}<br>fps=%{customdata[0]}<extra></extra>",
                  "legendgroup": "gluon_resnet152_v1d",
                  "marker": {
                    "color": "#B6E880",
                    "symbol": "circle"
                  },
                  "mode": "markers",
                  "name": "gluon_resnet152_v1d",
                  "orientation": "v",
                  "showlegend": true,
                  "type": "scatter",
                  "x": [
                    60.21
                  ],
                  "xaxis": "x",
                  "y": [
                    80.474
                  ],
                  "yaxis": "y"
                },
                {
                  "customdata": [
                    [
                      30
                    ]
                  ],
                  "hovertemplate": "model=repvgg_b2<br>param_count=%{x}<br>top1=%{y}<br>fps=%{customdata[0]}<extra></extra>",
                  "legendgroup": "repvgg_b2",
                  "marker": {
                    "color": "#FF97FF",
                    "symbol": "circle"
                  },
                  "mode": "markers",
                  "name": "repvgg_b2",
                  "orientation": "v",
                  "showlegend": true,
                  "type": "scatter",
                  "x": [
                    89.02
                  ],
                  "xaxis": "x",
                  "y": [
                    78.792
                  ],
                  "yaxis": "y"
                },
                {
                  "customdata": [
                    [
                      30
                    ]
                  ],
                  "hovertemplate": "model=gluon_seresnext101_32x4d<br>param_count=%{x}<br>top1=%{y}<br>fps=%{customdata[0]}<extra></extra>",
                  "legendgroup": "gluon_seresnext101_32x4d",
                  "marker": {
                    "color": "#FECB52",
                    "symbol": "circle"
                  },
                  "mode": "markers",
                  "name": "gluon_seresnext101_32x4d",
                  "orientation": "v",
                  "showlegend": true,
                  "type": "scatter",
                  "x": [
                    48.96
                  ],
                  "xaxis": "x",
                  "y": [
                    80.904
                  ],
                  "yaxis": "y"
                },
                {
                  "customdata": [
                    [
                      29
                    ]
                  ],
                  "hovertemplate": "model=dm_nfnet_f0<br>param_count=%{x}<br>top1=%{y}<br>fps=%{customdata[0]}<extra></extra>",
                  "legendgroup": "dm_nfnet_f0",
                  "marker": {
                    "color": "#636efa",
                    "symbol": "circle"
                  },
                  "mode": "markers",
                  "name": "dm_nfnet_f0",
                  "orientation": "v",
                  "showlegend": true,
                  "type": "scatter",
                  "x": [
                    71.49
                  ],
                  "xaxis": "x",
                  "y": [
                    83.342
                  ],
                  "yaxis": "y"
                },
                {
                  "customdata": [
                    [
                      29
                    ]
                  ],
                  "hovertemplate": "model=legacy_seresnext101_32x4d<br>param_count=%{x}<br>top1=%{y}<br>fps=%{customdata[0]}<extra></extra>",
                  "legendgroup": "legacy_seresnext101_32x4d",
                  "marker": {
                    "color": "#EF553B",
                    "symbol": "circle"
                  },
                  "mode": "markers",
                  "name": "legacy_seresnext101_32x4d",
                  "orientation": "v",
                  "showlegend": true,
                  "type": "scatter",
                  "x": [
                    48.96
                  ],
                  "xaxis": "x",
                  "y": [
                    80.228
                  ],
                  "yaxis": "y"
                },
                {
                  "customdata": [
                    [
                      29
                    ]
                  ],
                  "hovertemplate": "model=xception71<br>param_count=%{x}<br>top1=%{y}<br>fps=%{customdata[0]}<extra></extra>",
                  "legendgroup": "xception71",
                  "marker": {
                    "color": "#00cc96",
                    "symbol": "circle"
                  },
                  "mode": "markers",
                  "name": "xception71",
                  "orientation": "v",
                  "showlegend": true,
                  "type": "scatter",
                  "x": [
                    42.34
                  ],
                  "xaxis": "x",
                  "y": [
                    79.874
                  ],
                  "yaxis": "y"
                },
                {
                  "customdata": [
                    [
                      29
                    ]
                  ],
                  "hovertemplate": "model=gluon_resnet152_v1s<br>param_count=%{x}<br>top1=%{y}<br>fps=%{customdata[0]}<extra></extra>",
                  "legendgroup": "gluon_resnet152_v1s",
                  "marker": {
                    "color": "#ab63fa",
                    "symbol": "circle"
                  },
                  "mode": "markers",
                  "name": "gluon_resnet152_v1s",
                  "orientation": "v",
                  "showlegend": true,
                  "type": "scatter",
                  "x": [
                    60.32
                  ],
                  "xaxis": "x",
                  "y": [
                    81.016
                  ],
                  "yaxis": "y"
                },
                {
                  "customdata": [
                    [
                      29
                    ]
                  ],
                  "hovertemplate": "model=vgg19_bn<br>param_count=%{x}<br>top1=%{y}<br>fps=%{customdata[0]}<extra></extra>",
                  "legendgroup": "vgg19_bn",
                  "marker": {
                    "color": "#FFA15A",
                    "symbol": "circle"
                  },
                  "mode": "markers",
                  "name": "vgg19_bn",
                  "orientation": "v",
                  "showlegend": true,
                  "type": "scatter",
                  "x": [
                    143.68
                  ],
                  "xaxis": "x",
                  "y": [
                    74.214
                  ],
                  "yaxis": "y"
                },
                {
                  "customdata": [
                    [
                      29
                    ]
                  ],
                  "hovertemplate": "model=resnest101e<br>param_count=%{x}<br>top1=%{y}<br>fps=%{customdata[0]}<extra></extra>",
                  "legendgroup": "resnest101e",
                  "marker": {
                    "color": "#19d3f3",
                    "symbol": "circle"
                  },
                  "mode": "markers",
                  "name": "resnest101e",
                  "orientation": "v",
                  "showlegend": true,
                  "type": "scatter",
                  "x": [
                    48.28
                  ],
                  "xaxis": "x",
                  "y": [
                    82.89
                  ],
                  "yaxis": "y"
                },
                {
                  "customdata": [
                    [
                      28
                    ]
                  ],
                  "hovertemplate": "model=eca_nfnet_l1<br>param_count=%{x}<br>top1=%{y}<br>fps=%{customdata[0]}<extra></extra>",
                  "legendgroup": "eca_nfnet_l1",
                  "marker": {
                    "color": "#FF6692",
                    "symbol": "circle"
                  },
                  "mode": "markers",
                  "name": "eca_nfnet_l1",
                  "orientation": "v",
                  "showlegend": true,
                  "type": "scatter",
                  "x": [
                    41.41
                  ],
                  "xaxis": "x",
                  "y": [
                    84.008
                  ],
                  "yaxis": "y"
                },
                {
                  "customdata": [
                    [
                      27
                    ]
                  ],
                  "hovertemplate": "model=densenet201<br>param_count=%{x}<br>top1=%{y}<br>fps=%{customdata[0]}<extra></extra>",
                  "legendgroup": "densenet201",
                  "marker": {
                    "color": "#B6E880",
                    "symbol": "circle"
                  },
                  "mode": "markers",
                  "name": "densenet201",
                  "orientation": "v",
                  "showlegend": true,
                  "type": "scatter",
                  "x": [
                    20.01
                  ],
                  "xaxis": "x",
                  "y": [
                    77.286
                  ],
                  "yaxis": "y"
                },
                {
                  "customdata": [
                    [
                      27
                    ]
                  ],
                  "hovertemplate": "model=dla102x2<br>param_count=%{x}<br>top1=%{y}<br>fps=%{customdata[0]}<extra></extra>",
                  "legendgroup": "dla102x2",
                  "marker": {
                    "color": "#FF97FF",
                    "symbol": "circle"
                  },
                  "mode": "markers",
                  "name": "dla102x2",
                  "orientation": "v",
                  "showlegend": true,
                  "type": "scatter",
                  "x": [
                    41.28
                  ],
                  "xaxis": "x",
                  "y": [
                    79.448
                  ],
                  "yaxis": "y"
                },
                {
                  "customdata": [
                    [
                      27
                    ]
                  ],
                  "hovertemplate": "model=regnetx_160<br>param_count=%{x}<br>top1=%{y}<br>fps=%{customdata[0]}<extra></extra>",
                  "legendgroup": "regnetx_160",
                  "marker": {
                    "color": "#FECB52",
                    "symbol": "circle"
                  },
                  "mode": "markers",
                  "name": "regnetx_160",
                  "orientation": "v",
                  "showlegend": true,
                  "type": "scatter",
                  "x": [
                    54.28
                  ],
                  "xaxis": "x",
                  "y": [
                    79.856
                  ],
                  "yaxis": "y"
                },
                {
                  "customdata": [
                    [
                      25
                    ]
                  ],
                  "hovertemplate": "model=regnety_160<br>param_count=%{x}<br>top1=%{y}<br>fps=%{customdata[0]}<extra></extra>",
                  "legendgroup": "regnety_160",
                  "marker": {
                    "color": "#636efa",
                    "symbol": "circle"
                  },
                  "mode": "markers",
                  "name": "regnety_160",
                  "orientation": "v",
                  "showlegend": true,
                  "type": "scatter",
                  "x": [
                    83.59
                  ],
                  "xaxis": "x",
                  "y": [
                    83.686
                  ],
                  "yaxis": "y"
                },
                {
                  "customdata": [
                    [
                      24
                    ]
                  ],
                  "hovertemplate": "model=legacy_seresnet152<br>param_count=%{x}<br>top1=%{y}<br>fps=%{customdata[0]}<extra></extra>",
                  "legendgroup": "legacy_seresnet152",
                  "marker": {
                    "color": "#EF553B",
                    "symbol": "circle"
                  },
                  "mode": "markers",
                  "name": "legacy_seresnet152",
                  "orientation": "v",
                  "showlegend": true,
                  "type": "scatter",
                  "x": [
                    66.82
                  ],
                  "xaxis": "x",
                  "y": [
                    78.66
                  ],
                  "yaxis": "y"
                },
                {
                  "customdata": [
                    [
                      24
                    ]
                  ],
                  "hovertemplate": "model=resnetrs152<br>param_count=%{x}<br>top1=%{y}<br>fps=%{customdata[0]}<extra></extra>",
                  "legendgroup": "resnetrs152",
                  "marker": {
                    "color": "#00cc96",
                    "symbol": "circle"
                  },
                  "mode": "markers",
                  "name": "resnetrs152",
                  "orientation": "v",
                  "showlegend": true,
                  "type": "scatter",
                  "x": [
                    86.62
                  ],
                  "xaxis": "x",
                  "y": [
                    83.712
                  ],
                  "yaxis": "y"
                },
                {
                  "customdata": [
                    [
                      24
                    ]
                  ],
                  "hovertemplate": "model=seresnet152d<br>param_count=%{x}<br>top1=%{y}<br>fps=%{customdata[0]}<extra></extra>",
                  "legendgroup": "seresnet152d",
                  "marker": {
                    "color": "#ab63fa",
                    "symbol": "circle"
                  },
                  "mode": "markers",
                  "name": "seresnet152d",
                  "orientation": "v",
                  "showlegend": true,
                  "type": "scatter",
                  "x": [
                    66.84
                  ],
                  "xaxis": "x",
                  "y": [
                    84.362
                  ],
                  "yaxis": "y"
                },
                {
                  "customdata": [
                    [
                      23
                    ]
                  ],
                  "hovertemplate": "model=inception_resnet_v2<br>param_count=%{x}<br>top1=%{y}<br>fps=%{customdata[0]}<extra></extra>",
                  "legendgroup": "inception_resnet_v2",
                  "marker": {
                    "color": "#FFA15A",
                    "symbol": "circle"
                  },
                  "mode": "markers",
                  "name": "inception_resnet_v2",
                  "orientation": "v",
                  "showlegend": true,
                  "type": "scatter",
                  "x": [
                    55.84
                  ],
                  "xaxis": "x",
                  "y": [
                    80.458
                  ],
                  "yaxis": "y"
                },
                {
                  "customdata": [
                    [
                      23
                    ]
                  ],
                  "hovertemplate": "model=ens_adv_inception_resnet_v2<br>param_count=%{x}<br>top1=%{y}<br>fps=%{customdata[0]}<extra></extra>",
                  "legendgroup": "ens_adv_inception_resnet_v2",
                  "marker": {
                    "color": "#19d3f3",
                    "symbol": "circle"
                  },
                  "mode": "markers",
                  "name": "ens_adv_inception_resnet_v2",
                  "orientation": "v",
                  "showlegend": true,
                  "type": "scatter",
                  "x": [
                    55.84
                  ],
                  "xaxis": "x",
                  "y": [
                    79.982
                  ],
                  "yaxis": "y"
                },
                {
                  "customdata": [
                    [
                      23
                    ]
                  ],
                  "hovertemplate": "model=resnet200d<br>param_count=%{x}<br>top1=%{y}<br>fps=%{customdata[0]}<extra></extra>",
                  "legendgroup": "resnet200d",
                  "marker": {
                    "color": "#FF6692",
                    "symbol": "circle"
                  },
                  "mode": "markers",
                  "name": "resnet200d",
                  "orientation": "v",
                  "showlegend": true,
                  "type": "scatter",
                  "x": [
                    64.69
                  ],
                  "xaxis": "x",
                  "y": [
                    83.962
                  ],
                  "yaxis": "y"
                },
                {
                  "customdata": [
                    [
                      22
                    ]
                  ],
                  "hovertemplate": "model=dpn98<br>param_count=%{x}<br>top1=%{y}<br>fps=%{customdata[0]}<extra></extra>",
                  "legendgroup": "dpn98",
                  "marker": {
                    "color": "#B6E880",
                    "symbol": "circle"
                  },
                  "mode": "markers",
                  "name": "dpn98",
                  "orientation": "v",
                  "showlegend": true,
                  "type": "scatter",
                  "x": [
                    61.57
                  ],
                  "xaxis": "x",
                  "y": [
                    79.642
                  ],
                  "yaxis": "y"
                },
                {
                  "customdata": [
                    [
                      22
                    ]
                  ],
                  "hovertemplate": "model=tf_efficientnet_b7<br>param_count=%{x}<br>top1=%{y}<br>fps=%{customdata[0]}<extra></extra>",
                  "legendgroup": "tf_efficientnet_b7",
                  "marker": {
                    "color": "#FF97FF",
                    "symbol": "circle"
                  },
                  "mode": "markers",
                  "name": "tf_efficientnet_b7",
                  "orientation": "v",
                  "showlegend": true,
                  "type": "scatter",
                  "x": [
                    66.35
                  ],
                  "xaxis": "x",
                  "y": [
                    84.936
                  ],
                  "yaxis": "y"
                },
                {
                  "customdata": [
                    [
                      22
                    ]
                  ],
                  "hovertemplate": "model=tf_efficientnet_b7_ap<br>param_count=%{x}<br>top1=%{y}<br>fps=%{customdata[0]}<extra></extra>",
                  "legendgroup": "tf_efficientnet_b7_ap",
                  "marker": {
                    "color": "#FECB52",
                    "symbol": "circle"
                  },
                  "mode": "markers",
                  "name": "tf_efficientnet_b7_ap",
                  "orientation": "v",
                  "showlegend": true,
                  "type": "scatter",
                  "x": [
                    66.35
                  ],
                  "xaxis": "x",
                  "y": [
                    85.12
                  ],
                  "yaxis": "y"
                },
                {
                  "customdata": [
                    [
                      22
                    ]
                  ],
                  "hovertemplate": "model=tf_efficientnet_b7_ns<br>param_count=%{x}<br>top1=%{y}<br>fps=%{customdata[0]}<extra></extra>",
                  "legendgroup": "tf_efficientnet_b7_ns",
                  "marker": {
                    "color": "#636efa",
                    "symbol": "circle"
                  },
                  "mode": "markers",
                  "name": "tf_efficientnet_b7_ns",
                  "orientation": "v",
                  "showlegend": true,
                  "type": "scatter",
                  "x": [
                    66.35
                  ],
                  "xaxis": "x",
                  "y": [
                    86.84
                  ],
                  "yaxis": "y"
                },
                {
                  "customdata": [
                    [
                      22
                    ]
                  ],
                  "hovertemplate": "model=wide_resnet101_2<br>param_count=%{x}<br>top1=%{y}<br>fps=%{customdata[0]}<extra></extra>",
                  "legendgroup": "wide_resnet101_2",
                  "marker": {
                    "color": "#EF553B",
                    "symbol": "circle"
                  },
                  "mode": "markers",
                  "name": "wide_resnet101_2",
                  "orientation": "v",
                  "showlegend": true,
                  "type": "scatter",
                  "x": [
                    126.89
                  ],
                  "xaxis": "x",
                  "y": [
                    78.856
                  ],
                  "yaxis": "y"
                },
                {
                  "customdata": [
                    [
                      22
                    ]
                  ],
                  "hovertemplate": "model=repvgg_b3<br>param_count=%{x}<br>top1=%{y}<br>fps=%{customdata[0]}<extra></extra>",
                  "legendgroup": "repvgg_b3",
                  "marker": {
                    "color": "#00cc96",
                    "symbol": "circle"
                  },
                  "mode": "markers",
                  "name": "repvgg_b3",
                  "orientation": "v",
                  "showlegend": true,
                  "type": "scatter",
                  "x": [
                    123.09
                  ],
                  "xaxis": "x",
                  "y": [
                    80.492
                  ],
                  "yaxis": "y"
                },
                {
                  "customdata": [
                    [
                      22
                    ]
                  ],
                  "hovertemplate": "model=swsl_resnext101_32x8d<br>param_count=%{x}<br>top1=%{y}<br>fps=%{customdata[0]}<extra></extra>",
                  "legendgroup": "swsl_resnext101_32x8d",
                  "marker": {
                    "color": "#ab63fa",
                    "symbol": "circle"
                  },
                  "mode": "markers",
                  "name": "swsl_resnext101_32x8d",
                  "orientation": "v",
                  "showlegend": true,
                  "type": "scatter",
                  "x": [
                    88.79
                  ],
                  "xaxis": "x",
                  "y": [
                    84.284
                  ],
                  "yaxis": "y"
                },
                {
                  "customdata": [
                    [
                      22
                    ]
                  ],
                  "hovertemplate": "model=ig_resnext101_32x8d<br>param_count=%{x}<br>top1=%{y}<br>fps=%{customdata[0]}<extra></extra>",
                  "legendgroup": "ig_resnext101_32x8d",
                  "marker": {
                    "color": "#FFA15A",
                    "symbol": "circle"
                  },
                  "mode": "markers",
                  "name": "ig_resnext101_32x8d",
                  "orientation": "v",
                  "showlegend": true,
                  "type": "scatter",
                  "x": [
                    88.79
                  ],
                  "xaxis": "x",
                  "y": [
                    82.688
                  ],
                  "yaxis": "y"
                },
                {
                  "customdata": [
                    [
                      22
                    ]
                  ],
                  "hovertemplate": "model=resnext101_32x8d<br>param_count=%{x}<br>top1=%{y}<br>fps=%{customdata[0]}<extra></extra>",
                  "legendgroup": "resnext101_32x8d",
                  "marker": {
                    "color": "#19d3f3",
                    "symbol": "circle"
                  },
                  "mode": "markers",
                  "name": "resnext101_32x8d",
                  "orientation": "v",
                  "showlegend": true,
                  "type": "scatter",
                  "x": [
                    88.79
                  ],
                  "xaxis": "x",
                  "y": [
                    79.308
                  ],
                  "yaxis": "y"
                },
                {
                  "customdata": [
                    [
                      21
                    ]
                  ],
                  "hovertemplate": "model=ssl_resnext101_32x8d<br>param_count=%{x}<br>top1=%{y}<br>fps=%{customdata[0]}<extra></extra>",
                  "legendgroup": "ssl_resnext101_32x8d",
                  "marker": {
                    "color": "#FF6692",
                    "symbol": "circle"
                  },
                  "mode": "markers",
                  "name": "ssl_resnext101_32x8d",
                  "orientation": "v",
                  "showlegend": true,
                  "type": "scatter",
                  "x": [
                    88.79
                  ],
                  "xaxis": "x",
                  "y": [
                    81.616
                  ],
                  "yaxis": "y"
                },
                {
                  "customdata": [
                    [
                      21
                    ]
                  ],
                  "hovertemplate": "model=gluon_resnext101_64x4d<br>param_count=%{x}<br>top1=%{y}<br>fps=%{customdata[0]}<extra></extra>",
                  "legendgroup": "gluon_resnext101_64x4d",
                  "marker": {
                    "color": "#B6E880",
                    "symbol": "circle"
                  },
                  "mode": "markers",
                  "name": "gluon_resnext101_64x4d",
                  "orientation": "v",
                  "showlegend": true,
                  "type": "scatter",
                  "x": [
                    83.46
                  ],
                  "xaxis": "x",
                  "y": [
                    80.604
                  ],
                  "yaxis": "y"
                },
                {
                  "customdata": [
                    [
                      19
                    ]
                  ],
                  "hovertemplate": "model=gluon_seresnext101_64x4d<br>param_count=%{x}<br>top1=%{y}<br>fps=%{customdata[0]}<extra></extra>",
                  "legendgroup": "gluon_seresnext101_64x4d",
                  "marker": {
                    "color": "#FF97FF",
                    "symbol": "circle"
                  },
                  "mode": "markers",
                  "name": "gluon_seresnext101_64x4d",
                  "orientation": "v",
                  "showlegend": true,
                  "type": "scatter",
                  "x": [
                    88.23
                  ],
                  "xaxis": "x",
                  "y": [
                    80.894
                  ],
                  "yaxis": "y"
                },
                {
                  "customdata": [
                    [
                      18
                    ]
                  ],
                  "hovertemplate": "model=resnetrs200<br>param_count=%{x}<br>top1=%{y}<br>fps=%{customdata[0]}<extra></extra>",
                  "legendgroup": "resnetrs200",
                  "marker": {
                    "color": "#FECB52",
                    "symbol": "circle"
                  },
                  "mode": "markers",
                  "name": "resnetrs200",
                  "orientation": "v",
                  "showlegend": true,
                  "type": "scatter",
                  "x": [
                    93.21
                  ],
                  "xaxis": "x",
                  "y": [
                    84.066
                  ],
                  "yaxis": "y"
                },
                {
                  "customdata": [
                    [
                      18
                    ]
                  ],
                  "hovertemplate": "model=tf_efficientnet_b8<br>param_count=%{x}<br>top1=%{y}<br>fps=%{customdata[0]}<extra></extra>",
                  "legendgroup": "tf_efficientnet_b8",
                  "marker": {
                    "color": "#636efa",
                    "symbol": "circle"
                  },
                  "mode": "markers",
                  "name": "tf_efficientnet_b8",
                  "orientation": "v",
                  "showlegend": true,
                  "type": "scatter",
                  "x": [
                    87.41
                  ],
                  "xaxis": "x",
                  "y": [
                    85.37
                  ],
                  "yaxis": "y"
                },
                {
                  "customdata": [
                    [
                      18
                    ]
                  ],
                  "hovertemplate": "model=tf_efficientnet_b8_ap<br>param_count=%{x}<br>top1=%{y}<br>fps=%{customdata[0]}<extra></extra>",
                  "legendgroup": "tf_efficientnet_b8_ap",
                  "marker": {
                    "color": "#EF553B",
                    "symbol": "circle"
                  },
                  "mode": "markers",
                  "name": "tf_efficientnet_b8_ap",
                  "orientation": "v",
                  "showlegend": true,
                  "type": "scatter",
                  "x": [
                    87.41
                  ],
                  "xaxis": "x",
                  "y": [
                    85.37
                  ],
                  "yaxis": "y"
                },
                {
                  "customdata": [
                    [
                      17
                    ]
                  ],
                  "hovertemplate": "model=hrnet_w30<br>param_count=%{x}<br>top1=%{y}<br>fps=%{customdata[0]}<extra></extra>",
                  "legendgroup": "hrnet_w30",
                  "marker": {
                    "color": "#00cc96",
                    "symbol": "circle"
                  },
                  "mode": "markers",
                  "name": "hrnet_w30",
                  "orientation": "v",
                  "showlegend": true,
                  "type": "scatter",
                  "x": [
                    37.71
                  ],
                  "xaxis": "x",
                  "y": [
                    78.206
                  ],
                  "yaxis": "y"
                },
                {
                  "customdata": [
                    [
                      17
                    ]
                  ],
                  "hovertemplate": "model=pnasnet5large<br>param_count=%{x}<br>top1=%{y}<br>fps=%{customdata[0]}<extra></extra>",
                  "legendgroup": "pnasnet5large",
                  "marker": {
                    "color": "#ab63fa",
                    "symbol": "circle"
                  },
                  "mode": "markers",
                  "name": "pnasnet5large",
                  "orientation": "v",
                  "showlegend": true,
                  "type": "scatter",
                  "x": [
                    86.06
                  ],
                  "xaxis": "x",
                  "y": [
                    82.782
                  ],
                  "yaxis": "y"
                },
                {
                  "customdata": [
                    [
                      17
                    ]
                  ],
                  "hovertemplate": "model=hrnet_w18<br>param_count=%{x}<br>top1=%{y}<br>fps=%{customdata[0]}<extra></extra>",
                  "legendgroup": "hrnet_w18",
                  "marker": {
                    "color": "#FFA15A",
                    "symbol": "circle"
                  },
                  "mode": "markers",
                  "name": "hrnet_w18",
                  "orientation": "v",
                  "showlegend": true,
                  "type": "scatter",
                  "x": [
                    21.3
                  ],
                  "xaxis": "x",
                  "y": [
                    76.758
                  ],
                  "yaxis": "y"
                },
                {
                  "customdata": [
                    [
                      17
                    ]
                  ],
                  "hovertemplate": "model=hrnet_w32<br>param_count=%{x}<br>top1=%{y}<br>fps=%{customdata[0]}<extra></extra>",
                  "legendgroup": "hrnet_w32",
                  "marker": {
                    "color": "#19d3f3",
                    "symbol": "circle"
                  },
                  "mode": "markers",
                  "name": "hrnet_w32",
                  "orientation": "v",
                  "showlegend": true,
                  "type": "scatter",
                  "x": [
                    41.23
                  ],
                  "xaxis": "x",
                  "y": [
                    78.45
                  ],
                  "yaxis": "y"
                },
                {
                  "customdata": [
                    [
                      17
                    ]
                  ],
                  "hovertemplate": "model=nasnetalarge<br>param_count=%{x}<br>top1=%{y}<br>fps=%{customdata[0]}<extra></extra>",
                  "legendgroup": "nasnetalarge",
                  "marker": {
                    "color": "#FF6692",
                    "symbol": "circle"
                  },
                  "mode": "markers",
                  "name": "nasnetalarge",
                  "orientation": "v",
                  "showlegend": true,
                  "type": "scatter",
                  "x": [
                    88.75
                  ],
                  "xaxis": "x",
                  "y": [
                    82.62
                  ],
                  "yaxis": "y"
                },
                {
                  "customdata": [
                    [
                      16
                    ]
                  ],
                  "hovertemplate": "model=dpn131<br>param_count=%{x}<br>top1=%{y}<br>fps=%{customdata[0]}<extra></extra>",
                  "legendgroup": "dpn131",
                  "marker": {
                    "color": "#B6E880",
                    "symbol": "circle"
                  },
                  "mode": "markers",
                  "name": "dpn131",
                  "orientation": "v",
                  "showlegend": true,
                  "type": "scatter",
                  "x": [
                    79.25
                  ],
                  "xaxis": "x",
                  "y": [
                    79.822
                  ],
                  "yaxis": "y"
                },
                {
                  "customdata": [
                    [
                      16
                    ]
                  ],
                  "hovertemplate": "model=dm_nfnet_f1<br>param_count=%{x}<br>top1=%{y}<br>fps=%{customdata[0]}<extra></extra>",
                  "legendgroup": "dm_nfnet_f1",
                  "marker": {
                    "color": "#FF97FF",
                    "symbol": "circle"
                  },
                  "mode": "markers",
                  "name": "dm_nfnet_f1",
                  "orientation": "v",
                  "showlegend": true,
                  "type": "scatter",
                  "x": [
                    132.63
                  ],
                  "xaxis": "x",
                  "y": [
                    84.604
                  ],
                  "yaxis": "y"
                },
                {
                  "customdata": [
                    [
                      16
                    ]
                  ],
                  "hovertemplate": "model=hrnet_w48<br>param_count=%{x}<br>top1=%{y}<br>fps=%{customdata[0]}<extra></extra>",
                  "legendgroup": "hrnet_w48",
                  "marker": {
                    "color": "#FECB52",
                    "symbol": "circle"
                  },
                  "mode": "markers",
                  "name": "hrnet_w48",
                  "orientation": "v",
                  "showlegend": true,
                  "type": "scatter",
                  "x": [
                    77.47
                  ],
                  "xaxis": "x",
                  "y": [
                    79.3
                  ],
                  "yaxis": "y"
                },
                {
                  "customdata": [
                    [
                      16
                    ]
                  ],
                  "hovertemplate": "model=hrnet_w40<br>param_count=%{x}<br>top1=%{y}<br>fps=%{customdata[0]}<extra></extra>",
                  "legendgroup": "hrnet_w40",
                  "marker": {
                    "color": "#636efa",
                    "symbol": "circle"
                  },
                  "mode": "markers",
                  "name": "hrnet_w40",
                  "orientation": "v",
                  "showlegend": true,
                  "type": "scatter",
                  "x": [
                    57.56
                  ],
                  "xaxis": "x",
                  "y": [
                    78.92
                  ],
                  "yaxis": "y"
                },
                {
                  "customdata": [
                    [
                      16
                    ]
                  ],
                  "hovertemplate": "model=hrnet_w44<br>param_count=%{x}<br>top1=%{y}<br>fps=%{customdata[0]}<extra></extra>",
                  "legendgroup": "hrnet_w44",
                  "marker": {
                    "color": "#EF553B",
                    "symbol": "circle"
                  },
                  "mode": "markers",
                  "name": "hrnet_w44",
                  "orientation": "v",
                  "showlegend": true,
                  "type": "scatter",
                  "x": [
                    67.06
                  ],
                  "xaxis": "x",
                  "y": [
                    78.896
                  ],
                  "yaxis": "y"
                },
                {
                  "customdata": [
                    [
                      15
                    ]
                  ],
                  "hovertemplate": "model=hrnet_w64<br>param_count=%{x}<br>top1=%{y}<br>fps=%{customdata[0]}<extra></extra>",
                  "legendgroup": "hrnet_w64",
                  "marker": {
                    "color": "#00cc96",
                    "symbol": "circle"
                  },
                  "mode": "markers",
                  "name": "hrnet_w64",
                  "orientation": "v",
                  "showlegend": true,
                  "type": "scatter",
                  "x": [
                    128.06
                  ],
                  "xaxis": "x",
                  "y": [
                    79.474
                  ],
                  "yaxis": "y"
                },
                {
                  "customdata": [
                    [
                      15
                    ]
                  ],
                  "hovertemplate": "model=dpn107<br>param_count=%{x}<br>top1=%{y}<br>fps=%{customdata[0]}<extra></extra>",
                  "legendgroup": "dpn107",
                  "marker": {
                    "color": "#ab63fa",
                    "symbol": "circle"
                  },
                  "mode": "markers",
                  "name": "dpn107",
                  "orientation": "v",
                  "showlegend": true,
                  "type": "scatter",
                  "x": [
                    86.92
                  ],
                  "xaxis": "x",
                  "y": [
                    80.156
                  ],
                  "yaxis": "y"
                },
                {
                  "customdata": [
                    [
                      15
                    ]
                  ],
                  "hovertemplate": "model=ecaresnet269d<br>param_count=%{x}<br>top1=%{y}<br>fps=%{customdata[0]}<extra></extra>",
                  "legendgroup": "ecaresnet269d",
                  "marker": {
                    "color": "#FFA15A",
                    "symbol": "circle"
                  },
                  "mode": "markers",
                  "name": "ecaresnet269d",
                  "orientation": "v",
                  "showlegend": true,
                  "type": "scatter",
                  "x": [
                    102.09
                  ],
                  "xaxis": "x",
                  "y": [
                    84.976
                  ],
                  "yaxis": "y"
                },
                {
                  "customdata": [
                    [
                      15
                    ]
                  ],
                  "hovertemplate": "model=regnety_320<br>param_count=%{x}<br>top1=%{y}<br>fps=%{customdata[0]}<extra></extra>",
                  "legendgroup": "regnety_320",
                  "marker": {
                    "color": "#19d3f3",
                    "symbol": "circle"
                  },
                  "mode": "markers",
                  "name": "regnety_320",
                  "orientation": "v",
                  "showlegend": true,
                  "type": "scatter",
                  "x": [
                    145.05
                  ],
                  "xaxis": "x",
                  "y": [
                    80.812
                  ],
                  "yaxis": "y"
                },
                {
                  "customdata": [
                    [
                      15
                    ]
                  ],
                  "hovertemplate": "model=resnest200e<br>param_count=%{x}<br>top1=%{y}<br>fps=%{customdata[0]}<extra></extra>",
                  "legendgroup": "resnest200e",
                  "marker": {
                    "color": "#FF6692",
                    "symbol": "circle"
                  },
                  "mode": "markers",
                  "name": "resnest200e",
                  "orientation": "v",
                  "showlegend": true,
                  "type": "scatter",
                  "x": [
                    70.2
                  ],
                  "xaxis": "x",
                  "y": [
                    83.832
                  ],
                  "yaxis": "y"
                },
                {
                  "customdata": [
                    [
                      15
                    ]
                  ],
                  "hovertemplate": "model=regnetx_320<br>param_count=%{x}<br>top1=%{y}<br>fps=%{customdata[0]}<extra></extra>",
                  "legendgroup": "regnetx_320",
                  "marker": {
                    "color": "#B6E880",
                    "symbol": "circle"
                  },
                  "mode": "markers",
                  "name": "regnetx_320",
                  "orientation": "v",
                  "showlegend": true,
                  "type": "scatter",
                  "x": [
                    107.81
                  ],
                  "xaxis": "x",
                  "y": [
                    80.246
                  ],
                  "yaxis": "y"
                },
                {
                  "customdata": [
                    [
                      13
                    ]
                  ],
                  "hovertemplate": "model=resnetrs270<br>param_count=%{x}<br>top1=%{y}<br>fps=%{customdata[0]}<extra></extra>",
                  "legendgroup": "resnetrs270",
                  "marker": {
                    "color": "#FF97FF",
                    "symbol": "circle"
                  },
                  "mode": "markers",
                  "name": "resnetrs270",
                  "orientation": "v",
                  "showlegend": true,
                  "type": "scatter",
                  "x": [
                    129.86
                  ],
                  "xaxis": "x",
                  "y": [
                    84.434
                  ],
                  "yaxis": "y"
                },
                {
                  "customdata": [
                    [
                      13
                    ]
                  ],
                  "hovertemplate": "model=gluon_senet154<br>param_count=%{x}<br>top1=%{y}<br>fps=%{customdata[0]}<extra></extra>",
                  "legendgroup": "gluon_senet154",
                  "marker": {
                    "color": "#FECB52",
                    "symbol": "circle"
                  },
                  "mode": "markers",
                  "name": "gluon_senet154",
                  "orientation": "v",
                  "showlegend": true,
                  "type": "scatter",
                  "x": [
                    115.09
                  ],
                  "xaxis": "x",
                  "y": [
                    81.234
                  ],
                  "yaxis": "y"
                },
                {
                  "customdata": [
                    [
                      13
                    ]
                  ],
                  "hovertemplate": "model=legacy_senet154<br>param_count=%{x}<br>top1=%{y}<br>fps=%{customdata[0]}<extra></extra>",
                  "legendgroup": "legacy_senet154",
                  "marker": {
                    "color": "#636efa",
                    "symbol": "circle"
                  },
                  "mode": "markers",
                  "name": "legacy_senet154",
                  "orientation": "v",
                  "showlegend": true,
                  "type": "scatter",
                  "x": [
                    115.09
                  ],
                  "xaxis": "x",
                  "y": [
                    81.31
                  ],
                  "yaxis": "y"
                },
                {
                  "customdata": [
                    [
                      12
                    ]
                  ],
                  "hovertemplate": "model=ig_resnext101_32x16d<br>param_count=%{x}<br>top1=%{y}<br>fps=%{customdata[0]}<extra></extra>",
                  "legendgroup": "ig_resnext101_32x16d",
                  "marker": {
                    "color": "#EF553B",
                    "symbol": "circle"
                  },
                  "mode": "markers",
                  "name": "ig_resnext101_32x16d",
                  "orientation": "v",
                  "showlegend": true,
                  "type": "scatter",
                  "x": [
                    194.03
                  ],
                  "xaxis": "x",
                  "y": [
                    84.17
                  ],
                  "yaxis": "y"
                },
                {
                  "customdata": [
                    [
                      12
                    ]
                  ],
                  "hovertemplate": "model=ssl_resnext101_32x16d<br>param_count=%{x}<br>top1=%{y}<br>fps=%{customdata[0]}<extra></extra>",
                  "legendgroup": "ssl_resnext101_32x16d",
                  "marker": {
                    "color": "#00cc96",
                    "symbol": "circle"
                  },
                  "mode": "markers",
                  "name": "ssl_resnext101_32x16d",
                  "orientation": "v",
                  "showlegend": true,
                  "type": "scatter",
                  "x": [
                    194.03
                  ],
                  "xaxis": "x",
                  "y": [
                    81.844
                  ],
                  "yaxis": "y"
                },
                {
                  "customdata": [
                    [
                      12
                    ]
                  ],
                  "hovertemplate": "model=swsl_resnext101_32x16d<br>param_count=%{x}<br>top1=%{y}<br>fps=%{customdata[0]}<extra></extra>",
                  "legendgroup": "swsl_resnext101_32x16d",
                  "marker": {
                    "color": "#ab63fa",
                    "symbol": "circle"
                  },
                  "mode": "markers",
                  "name": "swsl_resnext101_32x16d",
                  "orientation": "v",
                  "showlegend": true,
                  "type": "scatter",
                  "x": [
                    194.03
                  ],
                  "xaxis": "x",
                  "y": [
                    83.346
                  ],
                  "yaxis": "y"
                },
                {
                  "customdata": [
                    [
                      12
                    ]
                  ],
                  "hovertemplate": "model=resnetv2_50x3_bitm<br>param_count=%{x}<br>top1=%{y}<br>fps=%{customdata[0]}<extra></extra>",
                  "legendgroup": "resnetv2_50x3_bitm",
                  "marker": {
                    "color": "#FFA15A",
                    "symbol": "circle"
                  },
                  "mode": "markers",
                  "name": "resnetv2_50x3_bitm",
                  "orientation": "v",
                  "showlegend": true,
                  "type": "scatter",
                  "x": [
                    217.32
                  ],
                  "xaxis": "x",
                  "y": [
                    83.784
                  ],
                  "yaxis": "y"
                },
                {
                  "customdata": [
                    [
                      11
                    ]
                  ],
                  "hovertemplate": "model=resnest269e<br>param_count=%{x}<br>top1=%{y}<br>fps=%{customdata[0]}<extra></extra>",
                  "legendgroup": "resnest269e",
                  "marker": {
                    "color": "#19d3f3",
                    "symbol": "circle"
                  },
                  "mode": "markers",
                  "name": "resnest269e",
                  "orientation": "v",
                  "showlegend": true,
                  "type": "scatter",
                  "x": [
                    110.93
                  ],
                  "xaxis": "x",
                  "y": [
                    84.518
                  ],
                  "yaxis": "y"
                },
                {
                  "customdata": [
                    [
                      11
                    ]
                  ],
                  "hovertemplate": "model=dm_nfnet_f2<br>param_count=%{x}<br>top1=%{y}<br>fps=%{customdata[0]}<extra></extra>",
                  "legendgroup": "dm_nfnet_f2",
                  "marker": {
                    "color": "#FF6692",
                    "symbol": "circle"
                  },
                  "mode": "markers",
                  "name": "dm_nfnet_f2",
                  "orientation": "v",
                  "showlegend": true,
                  "type": "scatter",
                  "x": [
                    193.78
                  ],
                  "xaxis": "x",
                  "y": [
                    84.99
                  ],
                  "yaxis": "y"
                },
                {
                  "customdata": [
                    [
                      10
                    ]
                  ],
                  "hovertemplate": "model=resnetrs350<br>param_count=%{x}<br>top1=%{y}<br>fps=%{customdata[0]}<extra></extra>",
                  "legendgroup": "resnetrs350",
                  "marker": {
                    "color": "#B6E880",
                    "symbol": "circle"
                  },
                  "mode": "markers",
                  "name": "resnetrs350",
                  "orientation": "v",
                  "showlegend": true,
                  "type": "scatter",
                  "x": [
                    163.96
                  ],
                  "xaxis": "x",
                  "y": [
                    84.72
                  ],
                  "yaxis": "y"
                },
                {
                  "customdata": [
                    [
                      9
                    ]
                  ],
                  "hovertemplate": "model=resnetrs420<br>param_count=%{x}<br>top1=%{y}<br>fps=%{customdata[0]}<extra></extra>",
                  "legendgroup": "resnetrs420",
                  "marker": {
                    "color": "#FF97FF",
                    "symbol": "circle"
                  },
                  "mode": "markers",
                  "name": "resnetrs420",
                  "orientation": "v",
                  "showlegend": true,
                  "type": "scatter",
                  "x": [
                    191.89
                  ],
                  "xaxis": "x",
                  "y": [
                    85.008
                  ],
                  "yaxis": "y"
                },
                {
                  "customdata": [
                    [
                      9
                    ]
                  ],
                  "hovertemplate": "model=resnetv2_152x2_bitm<br>param_count=%{x}<br>top1=%{y}<br>fps=%{customdata[0]}<extra></extra>",
                  "legendgroup": "resnetv2_152x2_bitm",
                  "marker": {
                    "color": "#FECB52",
                    "symbol": "circle"
                  },
                  "mode": "markers",
                  "name": "resnetv2_152x2_bitm",
                  "orientation": "v",
                  "showlegend": true,
                  "type": "scatter",
                  "x": [
                    236.34
                  ],
                  "xaxis": "x",
                  "y": [
                    84.44
                  ],
                  "yaxis": "y"
                },
                {
                  "customdata": [
                    [
                      8
                    ]
                  ],
                  "hovertemplate": "model=dm_nfnet_f3<br>param_count=%{x}<br>top1=%{y}<br>fps=%{customdata[0]}<extra></extra>",
                  "legendgroup": "dm_nfnet_f3",
                  "marker": {
                    "color": "#636efa",
                    "symbol": "circle"
                  },
                  "mode": "markers",
                  "name": "dm_nfnet_f3",
                  "orientation": "v",
                  "showlegend": true,
                  "type": "scatter",
                  "x": [
                    254.92
                  ],
                  "xaxis": "x",
                  "y": [
                    85.56
                  ],
                  "yaxis": "y"
                },
                {
                  "customdata": [
                    [
                      7
                    ]
                  ],
                  "hovertemplate": "model=dm_nfnet_f4<br>param_count=%{x}<br>top1=%{y}<br>fps=%{customdata[0]}<extra></extra>",
                  "legendgroup": "dm_nfnet_f4",
                  "marker": {
                    "color": "#EF553B",
                    "symbol": "circle"
                  },
                  "mode": "markers",
                  "name": "dm_nfnet_f4",
                  "orientation": "v",
                  "showlegend": true,
                  "type": "scatter",
                  "x": [
                    316.07
                  ],
                  "xaxis": "x",
                  "y": [
                    85.658
                  ],
                  "yaxis": "y"
                },
                {
                  "customdata": [
                    [
                      6
                    ]
                  ],
                  "hovertemplate": "model=resnetv2_101x3_bitm<br>param_count=%{x}<br>top1=%{y}<br>fps=%{customdata[0]}<extra></extra>",
                  "legendgroup": "resnetv2_101x3_bitm",
                  "marker": {
                    "color": "#00cc96",
                    "symbol": "circle"
                  },
                  "mode": "markers",
                  "name": "resnetv2_101x3_bitm",
                  "orientation": "v",
                  "showlegend": true,
                  "type": "scatter",
                  "x": [
                    387.93
                  ],
                  "xaxis": "x",
                  "y": [
                    84.394
                  ],
                  "yaxis": "y"
                },
                {
                  "customdata": [
                    [
                      5
                    ]
                  ],
                  "hovertemplate": "model=ig_resnext101_32x32d<br>param_count=%{x}<br>top1=%{y}<br>fps=%{customdata[0]}<extra></extra>",
                  "legendgroup": "ig_resnext101_32x32d",
                  "marker": {
                    "color": "#ab63fa",
                    "symbol": "circle"
                  },
                  "mode": "markers",
                  "name": "ig_resnext101_32x32d",
                  "orientation": "v",
                  "showlegend": true,
                  "type": "scatter",
                  "x": [
                    468.53
                  ],
                  "xaxis": "x",
                  "y": [
                    85.094
                  ],
                  "yaxis": "y"
                },
                {
                  "customdata": [
                    [
                      5
                    ]
                  ],
                  "hovertemplate": "model=dm_nfnet_f5<br>param_count=%{x}<br>top1=%{y}<br>fps=%{customdata[0]}<extra></extra>",
                  "legendgroup": "dm_nfnet_f5",
                  "marker": {
                    "color": "#FFA15A",
                    "symbol": "circle"
                  },
                  "mode": "markers",
                  "name": "dm_nfnet_f5",
                  "orientation": "v",
                  "showlegend": true,
                  "type": "scatter",
                  "x": [
                    377.21
                  ],
                  "xaxis": "x",
                  "y": [
                    85.714
                  ],
                  "yaxis": "y"
                },
                {
                  "customdata": [
                    [
                      5
                    ]
                  ],
                  "hovertemplate": "model=tf_efficientnet_l2_ns_475<br>param_count=%{x}<br>top1=%{y}<br>fps=%{customdata[0]}<extra></extra>",
                  "legendgroup": "tf_efficientnet_l2_ns_475",
                  "marker": {
                    "color": "#19d3f3",
                    "symbol": "circle"
                  },
                  "mode": "markers",
                  "name": "tf_efficientnet_l2_ns_475",
                  "orientation": "v",
                  "showlegend": true,
                  "type": "scatter",
                  "x": [
                    480.31
                  ],
                  "xaxis": "x",
                  "y": [
                    88.234
                  ],
                  "yaxis": "y"
                },
                {
                  "customdata": [
                    [
                      5
                    ]
                  ],
                  "hovertemplate": "model=tf_efficientnet_l2_ns<br>param_count=%{x}<br>top1=%{y}<br>fps=%{customdata[0]}<extra></extra>",
                  "legendgroup": "tf_efficientnet_l2_ns",
                  "marker": {
                    "color": "#FF6692",
                    "symbol": "circle"
                  },
                  "mode": "markers",
                  "name": "tf_efficientnet_l2_ns",
                  "orientation": "v",
                  "showlegend": true,
                  "type": "scatter",
                  "x": [
                    480.31
                  ],
                  "xaxis": "x",
                  "y": [
                    88.352
                  ],
                  "yaxis": "y"
                },
                {
                  "customdata": [
                    [
                      5
                    ]
                  ],
                  "hovertemplate": "model=dm_nfnet_f6<br>param_count=%{x}<br>top1=%{y}<br>fps=%{customdata[0]}<extra></extra>",
                  "legendgroup": "dm_nfnet_f6",
                  "marker": {
                    "color": "#B6E880",
                    "symbol": "circle"
                  },
                  "mode": "markers",
                  "name": "dm_nfnet_f6",
                  "orientation": "v",
                  "showlegend": true,
                  "type": "scatter",
                  "x": [
                    438.36
                  ],
                  "xaxis": "x",
                  "y": [
                    86.296
                  ],
                  "yaxis": "y"
                },
                {
                  "customdata": [
                    [
                      3
                    ]
                  ],
                  "hovertemplate": "model=ig_resnext101_32x48d<br>param_count=%{x}<br>top1=%{y}<br>fps=%{customdata[0]}<extra></extra>",
                  "legendgroup": "ig_resnext101_32x48d",
                  "marker": {
                    "color": "#FF97FF",
                    "symbol": "circle"
                  },
                  "mode": "markers",
                  "name": "ig_resnext101_32x48d",
                  "orientation": "v",
                  "showlegend": true,
                  "type": "scatter",
                  "x": [
                    828.41
                  ],
                  "xaxis": "x",
                  "y": [
                    85.428
                  ],
                  "yaxis": "y"
                },
                {
                  "customdata": [
                    [
                      2
                    ]
                  ],
                  "hovertemplate": "model=resnetv2_152x4_bitm<br>param_count=%{x}<br>top1=%{y}<br>fps=%{customdata[0]}<extra></extra>",
                  "legendgroup": "resnetv2_152x4_bitm",
                  "marker": {
                    "color": "#FECB52",
                    "symbol": "circle"
                  },
                  "mode": "markers",
                  "name": "resnetv2_152x4_bitm",
                  "orientation": "v",
                  "showlegend": true,
                  "type": "scatter",
                  "x": [
                    936.53
                  ],
                  "xaxis": "x",
                  "y": [
                    84.932
                  ],
                  "yaxis": "y"
                }
              ],
              "layout": {
                "legend": {
                  "title": {
                    "text": "model"
                  },
                  "tracegroupgap": 0
                },
                "template": {
                  "data": {
                    "bar": [
                      {
                        "error_x": {
                          "color": "#2a3f5f"
                        },
                        "error_y": {
                          "color": "#2a3f5f"
                        },
                        "marker": {
                          "line": {
                            "color": "#E5ECF6",
                            "width": 0.5
                          },
                          "pattern": {
                            "fillmode": "overlay",
                            "size": 10,
                            "solidity": 0.2
                          }
                        },
                        "type": "bar"
                      }
                    ],
                    "barpolar": [
                      {
                        "marker": {
                          "line": {
                            "color": "#E5ECF6",
                            "width": 0.5
                          },
                          "pattern": {
                            "fillmode": "overlay",
                            "size": 10,
                            "solidity": 0.2
                          }
                        },
                        "type": "barpolar"
                      }
                    ],
                    "carpet": [
                      {
                        "aaxis": {
                          "endlinecolor": "#2a3f5f",
                          "gridcolor": "white",
                          "linecolor": "white",
                          "minorgridcolor": "white",
                          "startlinecolor": "#2a3f5f"
                        },
                        "baxis": {
                          "endlinecolor": "#2a3f5f",
                          "gridcolor": "white",
                          "linecolor": "white",
                          "minorgridcolor": "white",
                          "startlinecolor": "#2a3f5f"
                        },
                        "type": "carpet"
                      }
                    ],
                    "choropleth": [
                      {
                        "colorbar": {
                          "outlinewidth": 0,
                          "ticks": ""
                        },
                        "type": "choropleth"
                      }
                    ],
                    "contour": [
                      {
                        "colorbar": {
                          "outlinewidth": 0,
                          "ticks": ""
                        },
                        "colorscale": [
                          [
                            0,
                            "#0d0887"
                          ],
                          [
                            0.1111111111111111,
                            "#46039f"
                          ],
                          [
                            0.2222222222222222,
                            "#7201a8"
                          ],
                          [
                            0.3333333333333333,
                            "#9c179e"
                          ],
                          [
                            0.4444444444444444,
                            "#bd3786"
                          ],
                          [
                            0.5555555555555556,
                            "#d8576b"
                          ],
                          [
                            0.6666666666666666,
                            "#ed7953"
                          ],
                          [
                            0.7777777777777778,
                            "#fb9f3a"
                          ],
                          [
                            0.8888888888888888,
                            "#fdca26"
                          ],
                          [
                            1,
                            "#f0f921"
                          ]
                        ],
                        "type": "contour"
                      }
                    ],
                    "contourcarpet": [
                      {
                        "colorbar": {
                          "outlinewidth": 0,
                          "ticks": ""
                        },
                        "type": "contourcarpet"
                      }
                    ],
                    "heatmap": [
                      {
                        "colorbar": {
                          "outlinewidth": 0,
                          "ticks": ""
                        },
                        "colorscale": [
                          [
                            0,
                            "#0d0887"
                          ],
                          [
                            0.1111111111111111,
                            "#46039f"
                          ],
                          [
                            0.2222222222222222,
                            "#7201a8"
                          ],
                          [
                            0.3333333333333333,
                            "#9c179e"
                          ],
                          [
                            0.4444444444444444,
                            "#bd3786"
                          ],
                          [
                            0.5555555555555556,
                            "#d8576b"
                          ],
                          [
                            0.6666666666666666,
                            "#ed7953"
                          ],
                          [
                            0.7777777777777778,
                            "#fb9f3a"
                          ],
                          [
                            0.8888888888888888,
                            "#fdca26"
                          ],
                          [
                            1,
                            "#f0f921"
                          ]
                        ],
                        "type": "heatmap"
                      }
                    ],
                    "heatmapgl": [
                      {
                        "colorbar": {
                          "outlinewidth": 0,
                          "ticks": ""
                        },
                        "colorscale": [
                          [
                            0,
                            "#0d0887"
                          ],
                          [
                            0.1111111111111111,
                            "#46039f"
                          ],
                          [
                            0.2222222222222222,
                            "#7201a8"
                          ],
                          [
                            0.3333333333333333,
                            "#9c179e"
                          ],
                          [
                            0.4444444444444444,
                            "#bd3786"
                          ],
                          [
                            0.5555555555555556,
                            "#d8576b"
                          ],
                          [
                            0.6666666666666666,
                            "#ed7953"
                          ],
                          [
                            0.7777777777777778,
                            "#fb9f3a"
                          ],
                          [
                            0.8888888888888888,
                            "#fdca26"
                          ],
                          [
                            1,
                            "#f0f921"
                          ]
                        ],
                        "type": "heatmapgl"
                      }
                    ],
                    "histogram": [
                      {
                        "marker": {
                          "pattern": {
                            "fillmode": "overlay",
                            "size": 10,
                            "solidity": 0.2
                          }
                        },
                        "type": "histogram"
                      }
                    ],
                    "histogram2d": [
                      {
                        "colorbar": {
                          "outlinewidth": 0,
                          "ticks": ""
                        },
                        "colorscale": [
                          [
                            0,
                            "#0d0887"
                          ],
                          [
                            0.1111111111111111,
                            "#46039f"
                          ],
                          [
                            0.2222222222222222,
                            "#7201a8"
                          ],
                          [
                            0.3333333333333333,
                            "#9c179e"
                          ],
                          [
                            0.4444444444444444,
                            "#bd3786"
                          ],
                          [
                            0.5555555555555556,
                            "#d8576b"
                          ],
                          [
                            0.6666666666666666,
                            "#ed7953"
                          ],
                          [
                            0.7777777777777778,
                            "#fb9f3a"
                          ],
                          [
                            0.8888888888888888,
                            "#fdca26"
                          ],
                          [
                            1,
                            "#f0f921"
                          ]
                        ],
                        "type": "histogram2d"
                      }
                    ],
                    "histogram2dcontour": [
                      {
                        "colorbar": {
                          "outlinewidth": 0,
                          "ticks": ""
                        },
                        "colorscale": [
                          [
                            0,
                            "#0d0887"
                          ],
                          [
                            0.1111111111111111,
                            "#46039f"
                          ],
                          [
                            0.2222222222222222,
                            "#7201a8"
                          ],
                          [
                            0.3333333333333333,
                            "#9c179e"
                          ],
                          [
                            0.4444444444444444,
                            "#bd3786"
                          ],
                          [
                            0.5555555555555556,
                            "#d8576b"
                          ],
                          [
                            0.6666666666666666,
                            "#ed7953"
                          ],
                          [
                            0.7777777777777778,
                            "#fb9f3a"
                          ],
                          [
                            0.8888888888888888,
                            "#fdca26"
                          ],
                          [
                            1,
                            "#f0f921"
                          ]
                        ],
                        "type": "histogram2dcontour"
                      }
                    ],
                    "mesh3d": [
                      {
                        "colorbar": {
                          "outlinewidth": 0,
                          "ticks": ""
                        },
                        "type": "mesh3d"
                      }
                    ],
                    "parcoords": [
                      {
                        "line": {
                          "colorbar": {
                            "outlinewidth": 0,
                            "ticks": ""
                          }
                        },
                        "type": "parcoords"
                      }
                    ],
                    "pie": [
                      {
                        "automargin": true,
                        "type": "pie"
                      }
                    ],
                    "scatter": [
                      {
                        "fillpattern": {
                          "fillmode": "overlay",
                          "size": 10,
                          "solidity": 0.2
                        },
                        "type": "scatter"
                      }
                    ],
                    "scatter3d": [
                      {
                        "line": {
                          "colorbar": {
                            "outlinewidth": 0,
                            "ticks": ""
                          }
                        },
                        "marker": {
                          "colorbar": {
                            "outlinewidth": 0,
                            "ticks": ""
                          }
                        },
                        "type": "scatter3d"
                      }
                    ],
                    "scattercarpet": [
                      {
                        "marker": {
                          "colorbar": {
                            "outlinewidth": 0,
                            "ticks": ""
                          }
                        },
                        "type": "scattercarpet"
                      }
                    ],
                    "scattergeo": [
                      {
                        "marker": {
                          "colorbar": {
                            "outlinewidth": 0,
                            "ticks": ""
                          }
                        },
                        "type": "scattergeo"
                      }
                    ],
                    "scattergl": [
                      {
                        "marker": {
                          "colorbar": {
                            "outlinewidth": 0,
                            "ticks": ""
                          }
                        },
                        "type": "scattergl"
                      }
                    ],
                    "scattermapbox": [
                      {
                        "marker": {
                          "colorbar": {
                            "outlinewidth": 0,
                            "ticks": ""
                          }
                        },
                        "type": "scattermapbox"
                      }
                    ],
                    "scatterpolar": [
                      {
                        "marker": {
                          "colorbar": {
                            "outlinewidth": 0,
                            "ticks": ""
                          }
                        },
                        "type": "scatterpolar"
                      }
                    ],
                    "scatterpolargl": [
                      {
                        "marker": {
                          "colorbar": {
                            "outlinewidth": 0,
                            "ticks": ""
                          }
                        },
                        "type": "scatterpolargl"
                      }
                    ],
                    "scatterternary": [
                      {
                        "marker": {
                          "colorbar": {
                            "outlinewidth": 0,
                            "ticks": ""
                          }
                        },
                        "type": "scatterternary"
                      }
                    ],
                    "surface": [
                      {
                        "colorbar": {
                          "outlinewidth": 0,
                          "ticks": ""
                        },
                        "colorscale": [
                          [
                            0,
                            "#0d0887"
                          ],
                          [
                            0.1111111111111111,
                            "#46039f"
                          ],
                          [
                            0.2222222222222222,
                            "#7201a8"
                          ],
                          [
                            0.3333333333333333,
                            "#9c179e"
                          ],
                          [
                            0.4444444444444444,
                            "#bd3786"
                          ],
                          [
                            0.5555555555555556,
                            "#d8576b"
                          ],
                          [
                            0.6666666666666666,
                            "#ed7953"
                          ],
                          [
                            0.7777777777777778,
                            "#fb9f3a"
                          ],
                          [
                            0.8888888888888888,
                            "#fdca26"
                          ],
                          [
                            1,
                            "#f0f921"
                          ]
                        ],
                        "type": "surface"
                      }
                    ],
                    "table": [
                      {
                        "cells": {
                          "fill": {
                            "color": "#EBF0F8"
                          },
                          "line": {
                            "color": "white"
                          }
                        },
                        "header": {
                          "fill": {
                            "color": "#C8D4E3"
                          },
                          "line": {
                            "color": "white"
                          }
                        },
                        "type": "table"
                      }
                    ]
                  },
                  "layout": {
                    "annotationdefaults": {
                      "arrowcolor": "#2a3f5f",
                      "arrowhead": 0,
                      "arrowwidth": 1
                    },
                    "autotypenumbers": "strict",
                    "coloraxis": {
                      "colorbar": {
                        "outlinewidth": 0,
                        "ticks": ""
                      }
                    },
                    "colorscale": {
                      "diverging": [
                        [
                          0,
                          "#8e0152"
                        ],
                        [
                          0.1,
                          "#c51b7d"
                        ],
                        [
                          0.2,
                          "#de77ae"
                        ],
                        [
                          0.3,
                          "#f1b6da"
                        ],
                        [
                          0.4,
                          "#fde0ef"
                        ],
                        [
                          0.5,
                          "#f7f7f7"
                        ],
                        [
                          0.6,
                          "#e6f5d0"
                        ],
                        [
                          0.7,
                          "#b8e186"
                        ],
                        [
                          0.8,
                          "#7fbc41"
                        ],
                        [
                          0.9,
                          "#4d9221"
                        ],
                        [
                          1,
                          "#276419"
                        ]
                      ],
                      "sequential": [
                        [
                          0,
                          "#0d0887"
                        ],
                        [
                          0.1111111111111111,
                          "#46039f"
                        ],
                        [
                          0.2222222222222222,
                          "#7201a8"
                        ],
                        [
                          0.3333333333333333,
                          "#9c179e"
                        ],
                        [
                          0.4444444444444444,
                          "#bd3786"
                        ],
                        [
                          0.5555555555555556,
                          "#d8576b"
                        ],
                        [
                          0.6666666666666666,
                          "#ed7953"
                        ],
                        [
                          0.7777777777777778,
                          "#fb9f3a"
                        ],
                        [
                          0.8888888888888888,
                          "#fdca26"
                        ],
                        [
                          1,
                          "#f0f921"
                        ]
                      ],
                      "sequentialminus": [
                        [
                          0,
                          "#0d0887"
                        ],
                        [
                          0.1111111111111111,
                          "#46039f"
                        ],
                        [
                          0.2222222222222222,
                          "#7201a8"
                        ],
                        [
                          0.3333333333333333,
                          "#9c179e"
                        ],
                        [
                          0.4444444444444444,
                          "#bd3786"
                        ],
                        [
                          0.5555555555555556,
                          "#d8576b"
                        ],
                        [
                          0.6666666666666666,
                          "#ed7953"
                        ],
                        [
                          0.7777777777777778,
                          "#fb9f3a"
                        ],
                        [
                          0.8888888888888888,
                          "#fdca26"
                        ],
                        [
                          1,
                          "#f0f921"
                        ]
                      ]
                    },
                    "colorway": [
                      "#636efa",
                      "#EF553B",
                      "#00cc96",
                      "#ab63fa",
                      "#FFA15A",
                      "#19d3f3",
                      "#FF6692",
                      "#B6E880",
                      "#FF97FF",
                      "#FECB52"
                    ],
                    "font": {
                      "color": "#2a3f5f"
                    },
                    "geo": {
                      "bgcolor": "white",
                      "lakecolor": "white",
                      "landcolor": "#E5ECF6",
                      "showlakes": true,
                      "showland": true,
                      "subunitcolor": "white"
                    },
                    "hoverlabel": {
                      "align": "left"
                    },
                    "hovermode": "closest",
                    "mapbox": {
                      "style": "light"
                    },
                    "paper_bgcolor": "white",
                    "plot_bgcolor": "#E5ECF6",
                    "polar": {
                      "angularaxis": {
                        "gridcolor": "white",
                        "linecolor": "white",
                        "ticks": ""
                      },
                      "bgcolor": "#E5ECF6",
                      "radialaxis": {
                        "gridcolor": "white",
                        "linecolor": "white",
                        "ticks": ""
                      }
                    },
                    "scene": {
                      "xaxis": {
                        "backgroundcolor": "#E5ECF6",
                        "gridcolor": "white",
                        "gridwidth": 2,
                        "linecolor": "white",
                        "showbackground": true,
                        "ticks": "",
                        "zerolinecolor": "white"
                      },
                      "yaxis": {
                        "backgroundcolor": "#E5ECF6",
                        "gridcolor": "white",
                        "gridwidth": 2,
                        "linecolor": "white",
                        "showbackground": true,
                        "ticks": "",
                        "zerolinecolor": "white"
                      },
                      "zaxis": {
                        "backgroundcolor": "#E5ECF6",
                        "gridcolor": "white",
                        "gridwidth": 2,
                        "linecolor": "white",
                        "showbackground": true,
                        "ticks": "",
                        "zerolinecolor": "white"
                      }
                    },
                    "shapedefaults": {
                      "line": {
                        "color": "#2a3f5f"
                      }
                    },
                    "ternary": {
                      "aaxis": {
                        "gridcolor": "white",
                        "linecolor": "white",
                        "ticks": ""
                      },
                      "baxis": {
                        "gridcolor": "white",
                        "linecolor": "white",
                        "ticks": ""
                      },
                      "bgcolor": "#E5ECF6",
                      "caxis": {
                        "gridcolor": "white",
                        "linecolor": "white",
                        "ticks": ""
                      }
                    },
                    "title": {
                      "x": 0.05
                    },
                    "xaxis": {
                      "automargin": true,
                      "gridcolor": "white",
                      "linecolor": "white",
                      "ticks": "",
                      "title": {
                        "standoff": 15
                      },
                      "zerolinecolor": "white",
                      "zerolinewidth": 2
                    },
                    "yaxis": {
                      "automargin": true,
                      "gridcolor": "white",
                      "linecolor": "white",
                      "ticks": "",
                      "title": {
                        "standoff": 15
                      },
                      "zerolinecolor": "white",
                      "zerolinewidth": 2
                    }
                  }
                },
                "title": {
                  "text": "PyTorch Backbone Benchmark - Scatter Plot(Y: top1 acc, X: #param)"
                },
                "xaxis": {
                  "anchor": "y",
                  "domain": [
                    0,
                    1
                  ],
                  "title": {
                    "text": "param_count"
                  }
                },
                "yaxis": {
                  "anchor": "x",
                  "domain": [
                    0,
                    1
                  ],
                  "title": {
                    "text": "top1"
                  }
                }
              }
            }
          },
          "metadata": {},
          "output_type": "display_data"
        }
      ],
      "source": [
        "fig = px.scatter(df, x=\"param_count\", y=\"top1\",\n",
        "                 color=\"model\", \n",
        "                 hover_data=['fps'],\n",
        "                 title='PyTorch Backbone Benchmark - Scatter Plot(Y: top1 acc, X: #param)'\n",
        "                )\n",
        "fig.show()"
      ]
    },
    {
      "cell_type": "markdown",
      "metadata": {},
      "source": [
        "As depicted in the figure, numerous pre-trained backbones outperform Resnet50 in rankings. However, it's essential to note that while these alternative backbones may exhibit superior performance in certain scenarios, their effectiveness might not translate well to our specific use case. This discrepancy could arise due to the unique nature of our task, where certain characteristics or patterns favor Resnet50. Additionally, it's crucial to consider that more complex models, while potentially offering improved performance, demand increased computational power and time for training and fine-tuning. Consequently, the decision to explore alternative backbones should be approached with careful consideration, balancing the potential benefits with the practical constraints of computational resources and training time. While this may not be the immediate solution, it presents a promising avenue for future enhancements."
      ]
    },
    {
      "cell_type": "markdown",
      "metadata": {},
      "source": [
        "### <span style=\"color:orange\" > 2 - Hyperparameter Tuning :"
      ]
    },
    {
      "cell_type": "markdown",
      "metadata": {},
      "source": [
        "We are transitioning to the Hyperparameter Tuning phase, where the approach entails retraining the model while adjusting existing parameters and introducing new ones.\n"
      ]
    },
    {
      "cell_type": "markdown",
      "metadata": {},
      "source": [
        " We start by changing :\n",
        " \n",
        " - `image_size` = 256 , `Batch_size` = 32 to accelerate training process\n",
        " - `lambda_seg` = 0.1 , `lambda_clf` = 0.1 to balance between classification loss and segmentation loss\n",
        " - `optim` = \"adam\", then in another experience we introduce \"RMSprop\" because is converge rapidly and ensure learnings rates adpting "
      ]
    },
    {
      "cell_type": "markdown",
      "metadata": {},
      "source": [
        "####  <span style=\"color:green\" > Results after changing "
      ]
    },
    {
      "cell_type": "markdown",
      "metadata": {},
      "source": [
        "![images/training_hp.png](data:image/png;base64,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)"
      ]
    },
    {
      "cell_type": "markdown",
      "metadata": {},
      "source": [
        "This approach might face efficiency challenges due to the fact that the model developed in the research paper is likely hyperparameterized to achieve optimal parameters.The researchers have probably invested time and effort to identify the most effective combination of hyperparameters that yields superior results for the given task.\n",
        "\n",
        "In essence, the efficiency concern stems from the fact that recreating and evaluating the model with alternative hyperparameter settings might not only be computationally expensive but also could yield less favorable outcomes compared to the meticulously tuned version presented in the research paper. Therefore, before considering a departure from the established hyperparameters, it is essential to weigh the potential benefits against the costs and complexities associated with this experimentation process.\n",
        "\n",
        "That's way we will focus specilly in the third Approach"
      ]
    },
    {
      "cell_type": "markdown",
      "metadata": {},
      "source": [
        "### <span style=\"color:orange\" > 3 - Dataset"
      ]
    },
    {
      "cell_type": "markdown",
      "metadata": {},
      "source": [
        "####  <span style=\"color:green\" >  Insights"
      ]
    },
    {
      "cell_type": "markdown",
      "metadata": {},
      "source": [
        "![images/images/data_in_gdrive.png](data:image/png;base64,iVBORw0KGgoAAAANSUhEUgAAA3wAAADxCAYAAACQ0rW5AAAABHNCSVQICAgIfAhkiAAAABl0RVh0U29mdHdhcmUAZ25vbWUtc2NyZWVuc2hvdO8Dvz4AAAAzaVRYdENyZWF0aW9uIFRpbWUAAAAAADExINiv2YrYs9mF2KjYsSwgMjAyMyAwNTo0NDozMSDYtfU8x3YAACAASURBVHic7N15XFRl//j/FwybKOKCKIiaGy6JmhqiqLeW3aIp2W0uKW1qWWbp7Zbept7d+lFD66MlambdYW5EVq5p9XUhKcVdRLZQXEJAZF8dZq7fH/5mPk5sMzDDDMP1fDx6JDNnrvN+n7nec+bMOee6bIQQAkmSJEmSJEmSJMnq2Jo7AEmSJEmSJEmSJMk05AGfJEmSJEmSJEmSlbKraoEzZ86gUqlo0KBBbcQjSZVSKBSoVCpzhyFJkiRJkiRJFu3mzZuMHTsWm6ru4RszZgwPHjzAzc3NJIHk5uZia2tLXl4erVq1wsbGxiTrqeuUSiVZWVk4OjpiZ2dHw4YNzR1SrVMqldjY2FBQUIBCoaBRo0bmDkmSJEmSJEmSLNLp06dJSkqq+gyfp6cnQUFBDB482CSBrF27Fjc3N7Zs2cJnn32Gi4uLSdZT18XHx7No0SL69etHu3btCAoKMndItS4xMZH58+fj7++Pl5cXL730krlDkiRJkiRJkiSL1K1bN0DewydJkiRJkiRJkmS1qjzDJ0mSJEmSdcnLy6OgoKDc5xwdHWnatKnR1hUbG0t2djb9+vWjoKCAJk2aGK1tSZIkqWryDJ+VysvLIzU1tdz/srKyDG7vypUr5ObmGm05SZIkyXyWLl3KO++8w8GDB+nSpQseHh788MMPfPDBB0yePNng9o4fP17mMSEEU6ZM4dixY6hUKmbNmsWMGTOq3Z4kSZJUPfKAz0oZc2eelpbGE088wdy5c42ynCRJkmRenTt3JiwsjOnTp2tH4Q4KCmLz5s08++yzBrX1xRdfEBoaWubxiIgIwsPDCQoKYtCgQWzatAl3d/dqtydJkiRVj7yk00p17tyZjz/+GFtbW95//31yc3MJCgrizTffZOPGjQa15e7uzpo1axg2bJhRlpMkSZLM64033sDWtvzffDVn4WJiYti3bx85OTm8++67tG7dmuLiYpYvX46bmxvp6el06NCBWbNm4e3tzbx58/joo4+07QghUCqVDBs2jE8++YRBgwbp/CBYXvubN2+usD1JkiSpeuQZPitV1c48Ojqad955h40bN/LLL7/wwgsvkJmZyeHDh9m0aRMTJkwgPDwcgB9//JGbN2+SlJQEwNmzZ5k1axZbtmxhzZo1BAYGcuHCBb2X09i5cyeLFy9m9erVvP/++3LHLkmSVEvs7e0rfS49PR1/f38CAgLw8vJi4sSJAHz55Zd8//33zJw5EyEEkydPRq1W4+vrS3BwsE47gwYNYvjw4Vy8eJHBgwczduxYHB0dASpsf8qUKRW2J0mSJFWPPMNnparamfv4+BAaGkqLFi34xz/+we3bt4mIiGDcuHEkJCRw8+ZNJk2axNChQ+nbty/PPvsspaWlTJw4kX79+tG/f38ee+wx9u/fz/r165k7dy5hYWF6LXfixAn2799PUFAQp06d4u7du0yePJljx47V4haSJEmSKrJ3715ycnKIjIzk6tWrREZGkpOTQ6NGjUhMTKRv376EhoZqf1i0sbFBoVDotGFnZ8fBgwdZt24dwcHB7Nu3j8uXLxMTE1Nh+5o2ymtPkiRJqh55hq8es7W1RQjB2rVrOXPmDP7+/syZM4eioiLi4uJQq9VkZmaW2ena2Nhga2tLz5496dGjh/bSHn2XA7h06RIAzZs3p3nz5iiVSjIyMmoncUmSJKlS9+7dA2DYsGGEhISgVCpxdXUlKCiI2bNnEx8fz4gRI/jzzz8rbOPIkSMIIViyZAk3btzgueeeIzk5mdOnT1fYviRJkmR88oCvnmvXrp323y1atMDLy4s1a9ZoJ2oUQujVjlqtNmi5V155hfbt2xMZGclvv/3GgAEDePrppw2MXpIkSTKFnj17ArB9+3bs7OyIjY1FqVRy+PBh1qxZw549e8jJydFewi+EoKioSKeNjIwMtm3bBkCzZs349NNPUSgUtG/fvsL27ezsKmxPkiRJqh55wFfPPXpWbv/+/cydO5cXX3wRpVJp0vV6eXkRFBRE06ZNefrpp4mIiMDFxcWk65QkSZL+j1qtZv/+/dqpesLCwigsLARgzJgxjB8/nrVr1+Ln58fFixext7fn/v37TJ06lYKCAnx9fXnqqacYOXIkR48eZdeuXWXWsWfPHlauXMlPP/3E6tWrCQkJoX379hW27+TkVGl7kiRJkuHkPXxWTK1Wc/DgQZ2d+YsvvoizszNXrlwhPz+f5ORkbt26Rdu2bXF2dsbOzo4PPviAUaNGoVAoOHDgAI899hgA0dHRZGVl8ccff6BSqUhMTOTixYvcvXsXIYT2l9yqlktKSiIpKYm1a9cyduxYHBwcaNGiBa+//jpdunQx1+aSJEmqV2xtbQkMDKSkpKTMcwqFgm+++Yb09HTs7e21E7GPHz+eKVOmcOfOHV577TVsbGw4fPgwhYWFODs767QRGBhIUFAQBQUF3Llzh48++kg7BURF7QMVtidJkiRVjzzgs2KV7cx79uxJaWmpzmPDhw8nPz9fO4rakiVLtIO/PHpp55NPPqnz9/3797X/XrRokV7LNWnSBA8PDy5fvowQgpSUFI4fP8758+erm64kSZJkZH+dN09zEKb5IfCvjz+qcePGADRs2LDCH/MqmpdPHuxJkiQZT5UHfM2aNdNeU28KDRs2xMnJibZt22JjY2Oy9dR1tra2tGzZkkaNGuHg4GCy9WgO9qDykT5r6quvvmLUqFHaOQFPnz7N+vXrK32Nra0trVq1olGjRmRkZHDixAmTxSdJkiRJkiRJdZlmrI4qj+RM+aUfHl7WYWtrq73MQ6qYo6MjCoXCKoaqfuONN/jiiy/YsGEDDg4OODs7s2PHjipf5+DggEKhID4+nsTExFqIVJKkmhJCcP36ddzc3Hjw4AEtWrQwd0iSJOkpKSkJLy8v0tLSaNu2rbnDkSTJAJor7ao84EtLSytz6Z8x5ebm4uDgQHx8vN4jQtZHarWaW7du4e7uTpMmTcwdTo25uLgwZ84cg16j2Qaenp7079+fl156yUTRSZJkTCUlJfj5+fHyyy+TnJzMkiVLzB2SJEl66tOnD+vXr2fBggVs2rTJ3OFIkmQAzaj7cpROSZIkSZIkSZIkKyUHbZHKFRsbS3Z2Nv369aOgoMAqzipKVSvvfc/Ly6OgoAAnJye9+0FmZiYPHjzA2dmZxo0bl/m7ptLT04mNjaV79+7lXh6Ym5tLYWGhQTFLkjXKyMjQXqVjY2ND48aNTX4LhaxPSTIfzf5Ww8HBAVdX12rdDlSd/b9kmeQZPkmHEIIpU6Zw7NgxVCoVs2bNYsaMGXq99vjx4yaOTjKVyt73O3fu4OHhwauvvqp3e5cuXcLDw4OFCxeW+3dN7N+/Hz8/P44cOUL//v3LXSY1NdXgmCXJGmVnZzNs2DA8PDxYt24d//nPf+jWrRtr165FpVIZfX2yPiXJvPLz83nuuefw8PDgo48+YvHixbi4uPD+++/r3Ybm+1x19v+SZZIHfJKOiIgIwsPDCQoKYtCgQWzatKnCYbMf9cUXXxAaGloLEUqmUNn73q1bN4N/GezZs2elf9fE+vXrsbOzY/HixRw9erTcZby9va1icCNJqqlOnTrRsWNHAJ599llWr17N3LlzWbhwIYsXLzb6+mR9SpJ5tW3bVnvf1ogRI/jss8/w9fXlf/7nfzh27FiVr3/0+1x19v+SZZIHfJIOIQRKpZJhw4Zx6tQpFAoFc+fO1T4fExPDqlWreO+99/jzzz8B2Lx5M2+88QZnzpxh3rx55gpdqoGq3ncAlUrF6tWrCQwMJCoqSvv44cOH2bRpExMmTCA8PFyv9V24cIEFCxbw3nvv8fPPPwMQEhLCrFmz2LZtG+fOnWPWrFn861//4v79+2zZsoUff/yRXbt2cfXqVdLT0wkLC6Nz585Vrl+lUvHRRx+xdOlSbt68CZTtx8XFxbz33nusXbuWBQsWVHczSlKdMGXKFBwcHNiwYQMZGRlA+Z/t5T124MABZs2aRWhoKDNnzmTChAnExsYCyPqUJAtVWFiIjY2NzmWZ5e2HK/o+V9H+X6o75AGfpGPQoEEMHz6cixcvMnjwYMaOHaudmy89PR1/f38CAgLw8vJi4sSJwMMvD2q1Gl9fX4KDg80ZvlRNlb3vGjExMYwZM4aoqCjee+89AKKiohgzZgwjRoygffv2TJo0iXv37lW6rpSUFIYMGYKfnx+TJk0iICCA06dP88wzz7Bp0yaioqLo168f+/fvZ+vWrTRu3BiVSsVTTz3F5MmTadu2LW5ubrz++ut6rV+hUJCZmclrr71Gu3btyu3HX375Jd9//z0zZ85ECCFHDJasmrOzMx4eHjx48IBLly6VWxMVfd736dOHkJAQPv30U1asWMGNGzcYPXo0arVa1qckWZjdu3czZswY/vzzTw4ePEifPn2AivfDFX2fK2//L9Ut8oBP0mFnZ8fBgwdZuXIljRs3Zt++ffj7+1NYWMjevXvJyckhMjKSq1evEhkZSU5ODra2D7uRjY2NPPVfR1X2vmv07NmTHj164ObmRlpaGgDt27dnzpw5FBUVERcXh1qtJjMzs9J17dmzh4KCAtq0aUPr1q1Rq9WEhobi7e3NsGHDCA8P5+rVq/Tr14/79+9z5MgRhBBlDkD1Xf/s2bPp0aMHHTp0ACi3H6tUKhITE+nbty/jx4+v6eaUJIunOWhSqVTl1sSXX35Z7ue95jPez8+P5s2bM3ToUK5fv050dHSZdRirPhUKhaxPSaqGcePGsWrVKlxcXJg2bRrnzp0DKt4PV/R9rrz9v1S3yAM+SYfmy/WSJUu4ceMGzz33HMnJyZw+fVr7y+ywYcMICQlBqVTi6upq5oglY6jsfS+PWq0GoEWLFnh5ebFmzRrtPQNV/fqelZUFgL29vfaxvLw8AF5++WWys7NZtGgRn332GQ4ODixZsoTevXuX21ZV64+JieHAgQMsWrSI3NxcgHL78dtvv83s2bOJj49nxIgR2svXJMkaKZVK7t69S8OGDfH19S23JjSj/FX1ee/s7Az8Xw0/ylj1+frrr8v6lKRqcHBwwMfHh7feeovU1FTWrl0LVL4fropm/y/VLfKAT9KRkZHBtm3bAGjWrBmffvopCoWC9u3bawfe2L59O3Z2dsTGxqJUKrGzezi7hxCCoqIis8UuVV9l73tl9u/fz9y5c3nxxRdRKpV6rWvgwIEA5OTkUFBQAMCAAQOAh79GOjs706NHD1q0aMGYMWPIycnB39+/Wut//PHH+eqrr7hz5w6zZ88GKLcf79u3jzVr1rBnzx5ycnKIj4/XKxdJqot27NiBUqlkxYoVNG3atNya0Byg/fXzXkMzwmdaWhp2dnZ07969zHqMVZ/79++X9SlJNXDjxg0A7QBOFe2H5fc56yXn4ZPK2LNnD9nZ2fj6+vLDDz8QEhJC+/btadu2LePHj2ft2rVEREQwc+ZMfHx8sLe3Z+TIkRw9epRdu3Yxbdo0c6cgVUNF7/vZs2dRqVTEx8dz6dIl7t69i1qtJikpCWdnZ+zs7Pjggw8YNWoUCoWCAwcOaA8UY2JiyMrK4sSJE9q/V69ezYwZM9i6dSseHh6MGzeO6dOnA9CoUSP+8Y9/8PLLLwPwyiuv0KlTJ2xsbICH8wT++eefFBYWcunSpQrXn52djUql4o8//qB79+7069ePr776Ch8fH2bPnl2mHwshmDp1KsOHD8fX11e7M5Skuu7MmTPaQVU+//xzfvrpJ06fPk1YWBgTJkwAYMyYMWVqYsqUKeV+3mtERUWxfPly9u7dy/Lly2nWrJmsT0myAJcvX+bixYvAw8HQDhw4wI8//siiRYtYtmwZACNHjix3P+zo6Kjzfa5nz54V7v81B49S3WAjqrj+asaMGQQFBTF48GCTBLB27Vrc3NzYsmULv/zyCy4uLiZZT10XHx/PokWL6NevH+3atSMoKMgk68nNzaVx48YUFBRw584d2rZtW2aS3vT0dOzt7WnatKnO44WFhdrLe0whMTGR+fPn4+fnh5eXFy+99JLJ1lXf6PO+V6SkpER7f51SqdS5RKQy2dnZlJaW4ubmVuZxzUhiKpWKgoKCSidrr+76H+3HhYWFODg4cOfOHdq1a6c9wJSMo6SkBD8/P+bPn09ycjJLliwxd0hSOcr7bP/rY5o59N5++21Wr15NQUEBrVq1qrBNWZ91X58+fdi5cycLFizg4MGD5g5HMqKK9sOm/j4n1Z5u3boRGxsrz/BJujRfrBs2bEiXLl3KXaaiefnkh0Pdpc/7XpFHB1PR98scoDM8dEWPKxSKSg/2arL+R/uxpu8+9thjer9ekqxNeZ/tf31Mc/+OEAIXF5cqf6SV9SlJlqui/bD8Pmd9qjzga9mypfaaXlNo3Lgxzs7OdOnSRf5qVwlbW1vatm2Lq6sriYmJhISEmDukWldSUlLvt4Ek1VXdunWjQYMGZGVlydqtw6KjoxkwYADXr19n9erVVf4gI9V9HTp0wNbWlubNm8valaQ6plOnToActEUy0E8//SRHaJIkE0pMTCQpKcncYUhSuXx8fJgyZQqjR4+WB3t/kZWVZbWTUssf5CVrVlxcrB1rwFpVeeouLS2N0tJSkwWQm5uLg4MD8fHxcjLVSqjVam7duoW7uzudO3c22T18Vfn888+ZMWMGDg4Otb5uzT18np6edO7cWd7DJ1mlDRs24OjoyJtvvmnuUIympKSEbdu2UVRURNOmTXn77bfNHZIkGd3Zs2dJTEy0uv79xRdfoFKpuH//vtXlJknw8Fjn4MGDVtm/N27cCFjZKJ2ZmZnauYMaNmxY5t6CtLQ07UFl06ZNy53I+a/y8vIoKCjAycmpwmudK5OTk0NRURF2dnZlboqVJEmSJEmSJEkyJau6pDMvL48JEybg4eHBsGHDdJ47c+YM7dq1w8PDg2+//VY7h1BFjh8/DsCdO3fw8PDg1VdfrVZM9+7dw8fHh0GDBlXr9ZJUW7KyskhNTS33v0cv471165YZo5Qk6a9k7UpS3SRrV6otVnXA165dOwIDA+nVqxfnz5/n999/1z73888/07dvXwAGDRpU6QhEX3zxBaGhocDDgQYUCkW1Y+rUqRMtW7as9uslqbbk5+czceJEPDw8WL58OYcOHSIkJITu3buTkpLCuXPnmDhxIt7e3uYOVZKkR8jalaS6SdauVFus6pJOjXfeeYfp06fzySefMGDAADIzM3Fzcytz03FMTAz79u0jJyeHd999l9atW7N582ZmzZqFt7c38+bN46OPPgIezge2evVqfv/9d95//318fX25cOECu3fvxtbWluHDh/PMM89o2z558iQhISH06dMHpVIpb3iWLF6bNm3w8fEhIiKCwYMHExQUhBACHx8fioqKsLGx4fz58ya9p1eSJMPJ2pWkuknWrlRbrOoMn8aUKVNo3rw5e/fu5e7du4SFhTFp0iSdZdLT0/H39ycgIAAvLy8mTpyofa1arcbX15fg4GDt8jExMYwZM4aoqCjee+89UlJSGDJkCH5+fkyaNImAgABOnz4NPDz1HhAQgL+/P1OnTiUjI6P2kpckI9qxYwdjxoyhXbt29O3bFy8vL3OHJEmSHmTtSlLdJGtXMgWrPOBzcnLijTfeQKlUsnnzZgoKCsoMuLJ3715ycnKIjIzk6tWrREZGkpOTg63tw01iY2Ojcylnz5496dGjB25ubqSlpbFnzx4KCgpo06YNrVu3Rq1Way8D/f777ykuLuaJJ57A3d0dDw+P2ktekozg3LlzzJkzhwsXLtCgQQOzjMoqSZLhZO1KUt0ka1cyJas84AOYOXMmdnZ2BAcHM2LEiDLP37t3D4Bhw4YREhKCUqnE1dVVr7bVajVZWVkA2Nvbax/Py8sDIDs7G0B78ChJdY2npycdO3aUlyJLUh0ja1eS6iZZu5IpWe0RiZeXF88//zz9+/fHx8enzPM9e/YEYPv27djZ2REbG4tSqcTO7uFtjUIIioqKKmx/4MCBwMNpFwoKCgAYMGAAgHZ9SUlJqNVqCgoK5ByDUp3i6enJO++8I0eXlaQ6RtauJNVNsnYlU7KqQVuioqL473//S9u2bZkwYQKzZ88mJSUFgIiICP744w8A9u3bx8yZMxk/fjxr164lIiKCmTNn4uPjg729PSNHjuTo0aPs2rWLnj17olKpiI+P59KlS9y9exe1Wo23tzczZsxg69ateHh4MG7cOKZPnw5AYGAgo0ePZvny5Zw/fx6lUolKpeLatWt0797dbNtHkgz1/PPP6/wthJA/XkhSHSBrV5LqJlm7kilY1QGfr68vMTEx2r/9/f21/x4yZAipqak6y3/zzTekp6djb29P06ZNtY8fPnyYwsJC7dQNjxba/fv3tf/esmUL2dnZlJaW6kyqbmdnx4EDB0hJSaFly5YsX76c5s2bGy9RSTKB6OhooqKigIfTmAwZMoS2bdsCoFQqOXnyJLGxsajVarZv38748eNp0KCBOUOWJAlZu5JUV8nalWqLVR3wVYe7u3u5j1c2T9+j/joYzKM8PT0B5MGeVCf4+Phodzx/ZW9vz/Dhw0lPT6/lqCRJqoqsXUmqm2TtSrXFau/hkyRJkiRJkiRJqu+qPMPXqlUrnZEoja1x48Y4OzvTtWtXOTJRJWxtbWnXrh1NmjQx6+n8xx9/3Gzvk2YbuLq6EhMTw6pVq8wShySZ0q1bt3QuR7cGNjY2PP744zRo0IB79+7J2q2jXF1dycnJMXcYFkupVGqv7LEm3bt3x9bWlqZNm8ralazSgwcP6NSpk7nDMAnNIJVVHvCp1WqT3iyquRlVpVKZbB3WQqVSoVarzR6DOWn6o4uLi/Y6d2uRl5fHr7/+yqhRo8wdismcP38eV1dXq/1gNQZr/UJdWlqKEAInJyerq10hBOHh4UyYMMHcoZhMQkIC+fn5cuCxSmRnZ3P79m1zh2F0KpUKGxsbbG1tra52Afbs2cOkSZPMHYbJ5OTk8PvvvxMQEGDuUCxWUVGRVdYuPNz3gh4HfOnp6dqFTSEvLw9HR0cSExPlKESVUKvV3Llzh1atWukMMFPb4uLizPY+qdVqbt++TevWrWnbti1BQUFmicNUbty4wcGDB60ur0clJyfToUMHJk+ebO5QLNaGDRu0U71YCyEE8fHxFBcX4+LiYnV9XKVSERwcbHV5PWr79u2kpKRYdY41dfbsWc6ePWvuMIwuPj4elUrF/fv3rfL9X7VqlVXmpZGYmMhPP/1k1TnWVFpaGrt27TJ3GCZx7do1QA7aUq/ExsaSnZ1Nv379KCgoqHTAGWPJyMjQ/mBgY2ND48aN5QhTklRLcnNzady4sc5jWVlZlJSUaP92cXHB0dGRjIwMABo0aICrq6tOGzExMSgUCnr37o1araa0tJRGjRrVThKSVA/J2pWkuslSa1cO2lIPCCGYMmUKx44dQ6VSMWvWLGbMmFEr687OzmbYsGF4eHiwbt06/vOf/9CtWzfWrl1bq5eHZmdnk5qaSmpqKmlpaTqFB3DlyhVyc3MNbjczM5PU1NRqvbYmNOvV/GdtZ4SkmispKWHs2LFlzsjn5+cTEBCAh4cHn332GaWlpajVan755RdeeuklbV8qLS1lyZIlPP744/z222+kpKTwr3/9C39/f5KTk2stD1m7Un1TX2oXqle/5qrdR9ct61cqjyXXrjzgqwciIiIIDw8nKCiIQYMGsWnTpgqnozC2Tp060bFjRwCeffZZVq9ezdy5c1m4cCGLFy+ulRgACgoKePHFF/Hw8GDlypVMmjSJ7t27c/ToUdLS0njiiSeYO3euwe1eunQJDw8PFi5caIKoK5aXl8fzzz+Ph4cHwcHBKJXKWl2/ZPl27tzJ8ePHOXLkiM7jbdq0oWvXrgD0798fV1dXHBwcmDhxIn/729+0g07Mnj2bVatWERYWxrx58xg7dizr1q3jqaeeqtU8ZO1K9U19qF2g2vVrrtoFWb9S5Sy5duUBXz0ghECpVDJs2DBOnTqFQqGo1hckY5kyZQoODg5s2LBBezrb1Fq3bk2vXr0AGDFiBGFhYdy6dYsJEybQrFkz1qxZw5tvvmlwu5rRj2pbu3btePzxxwEYOHBgrVyeK9Ut3333HQD/+7//q9fyj46+GxcXx+bNm+nRowcDBw7UWW7BggW0aNHCeIFWQdauVN/Uh9otLS3F3d29WvVrrtoFWb9S5Sy5duU9fPXAoEGDGD58OL/88guDBw/mueeeY9OmTWaLx9nZGQ8PD27evMmlS5cYPnx4rcfg4OCAo6MjOTk5/PDDD9y8eZOkpCT69evHkSNHOHjwIA0aNOC1114jNDSUwMBA/P39iYmJYd++feTk5PDuu+/i6OhY67FX5OrVq2zZsgVvb29KS0s5deoUr732Gk5OTnz22Wf06tWLpUuXAnD48GGSk5M5ceIE48ePZ/z48cDDX6euXr1K48aNKSgooGnTpsybN69M3q1btzZnqlIVjhw5wuLFi4mLi+Pnn38mJiZG+yVFH0ePHkUIQZcuXco8V1tXB1RE1q5htQvI+q1D6kvtlpSUcPLkSW39ZmRk1NvaBbnvtQaWXrvyDF89YGdnx8GDB1m5ciWNGzdm3759+Pv7U1hYaLaYNNc3m2Oah7S0NNatW0d2djYrV65kyJAhhISEcPz4ceDhL5HR0dFs2LCB3NxcOnTogL+/P+np6fj7+xMQEICXlxcTJ06s9dgr06NHD0JDQwkODiYgIICUlBQmTZpEQUEBnTp1YtmyZcTExBAVFcWYMWMYMWIE7du3Z9KkSdy7d4/9+/cTFBTE6NGj6dy5M8HBwfTv39/i85bK+v333/H39+edd94BYP369Xq9ztb24S5Bc6+NuaeB+StZu4bVLmDxuUu66kvtNmzYkL59+2rrt77WLiD3vVbC0mtXnuGrB44cOcLQoUNZsmQJb731FlOnwcn2iQAAIABJREFUTmXfvn2cPn261q/ph4eT0969e5eGDRvi6+tb6+tPTExkyJAh3L59G09PzzKXldrY2PDxxx/z5JNPMnXqVGJiYgDYu3cvOTk5REZGcvXqVSIjI8vcNH7o0CFu3LgBQKtWrXjhhRdqJ6n/n0KhoGvXrnTv3h0vLy/OnDnD2LFjSU1NBR7udH18fJgzZw5FRUXExcWhVqvJzMzk0qVLADRv3pwHDx6gVCrJyMggOjq6TN45OTmcOnXKrLlK5bt8+TK3bt1i3bp1FBYW0rBhQ3bs2MGqVau0l4TY29sDujuWvLw8GjZsCMCAAQOAhyP7WhJZu4bVLpSf+65du8jMzDRbrlL56lPtwsM+r1Ffa7dFixYG7Xtl7VqmulC78gxfPZCRkcG2bdsAaNasGZ9++ikKhYL27dubJZ4dO3agVCpZsWKFWeYUHDRoEKNGjdLudMrTt29fRo8eTWxsLOfPnwfQ/ho3bNgwQkJCUCqVZYbePXr0KNu2bWPbtm3s37/fdElUk1qtpkWLFnh5ebFmzRq6desGPDzj+sorr9C+fXsiIyP57bffGDBgAE8//XS5ebu6ulp8rvXVzp072bZtG/Pnz2fZsmVMmzaN4uJiQkJCtMtobh5/dKLZo0ePau+3GTx4MCNHjiQuLo6IiAid9sPDw802UIGsXcNqF8rP/fTp0xada30la7f+1S5g0L5X1q5lqgu1K8/w1RN79uwhOzsbX19ffvjhB0JCQmrlgO/MmTPaXys+//xzfvrpJ06fPk1YWBgTJkww+fofZciE8devX2fQoEEcPXqURYsW8csvv2hvFN++fTvBwcFER0fj5uam87pPPvnEqDGbwv79+5k7dy4HDx7k2LFj2se9vLwICgqiadOmPP7447z33nvY2dmVm3fXrl1rLVdTziWVmZnJgwcPaNiwIS4uLjrPXblyhccee6zMlwtD5eTkUFRUhJ2dXZn+YmwhISF89913jBs3jv79+5Ofn6/9UeXjjz/mb3/7G8OGDePdd98lIiKCRYsWkZycjLOzM05OTkyaNEnbVnh4OAsXLmTKlCm8+uqrtG7dmps3bzJo0CDtL5W1RdbuQ4bWLlBu7h999FGtvIeydvUna7d+1i4Ytu+trdoF09WvrF0z1a6owhtvvCEiIiKqWqzagoODxZdffil8fX1Fbm6uydZT18XFxYmxY8eKlStXiq+//tqg1+bk5AghhMjPzxdxcXGisLCw2nH06tVLlJSUVPv1NZGQkCACAwPFqlWrxPbt2w16bUxMjOjfv78AxMyZM8Xdu3e1z33zzTcCEAMHDhSZmZni1KlTwtfXV1y7dk307t1bAGLdunWitLRUjB8/XgCif//+IjQ0VISHhwtADBo0SGRmZtYov+vXr4tRo0bptezFixdFr169BCCmT58ubt++LS5evCgUCoVo3769uHbtmvDx8RGAOHnypJg0aZIAxL///W/x888/Czs7O/Hkk0+K5cuXC4VCIYKDg8XRo0eFk5OTmDRpknj55ZfFvHnzRFxcXLl5V9eKFSvEzp079VpWqVSKf/3rX8LLy0usW7dOfP/992LevHmiT58+Ijo6utoxPOrEiRMCEG+//bbO46mpqcLW1lZMmzatxutITEwUbm5uokuXLnotv379erF58+Yar1cfd+/eFdeuXRN5eXkVLlNcXCwSEhJEUlKSUKvV1VpPcXGx6N27t9ixY4dYuXKlQa+tC7VbWloqevToodeytVm7mtiMUb+hoaFi9erVei1bX2s3KipKvPzyyzVerz5qq3aFEOKJJ54Q165dE88++6xBr6usdoXQrd8ff/zRLLUrhBDdunXTe9m/1u+BAwdqVLtCCJPvezXfnfRl6vq1xNpNTU0VQ4cOrfF69VGbtSuEEF27dhVCCCHP8NUDml9KGjZsWO7oP/VB9+7dOX36dLnPjR8/XudXSH9/f86cOQPAxYsXdZb95ptvSE9Px97eXvsLjjDgF0xj6d27t/a6fw0vLy9KS0u1f1+5ckX77yFDhrB7927t3/n5+dqRzpYsWYK9vT3379/Hw8ODy5cvI4QgJSWF48ePc/78+XLzNrXZs2ezadMmIiMjtUMUjx07lgULFhhtHRWNoKUZLnzYsGE1XkenTp1o2bKlzntjKVq1akWrVq0qXcbR0ZHOnTvXUkRlydqtWe0qFIpar19Zu6ZX12sXytZvQEAAYLm1C+XXb01qFx5eylqf9r2yds1Tu/KAT5IMZO6hrY3h0WGtNTudr776ilGjRrFx40YATp8+rTPKVG3mXdV8NJqd/YULF9i9eze2trYMHz6cZ555xqBhsjUyMzOZPXs2KSkpLFu2jNu3b+sM93/27FlCQ0Pp0aMH2dnZ/Pbbb/z73/+mT58+FQ6bffLkSUJCQujTpw9KpVJnvh3JPOpr7ULt5V6T2gXDhrmHmtUulD9lhaxdy2OttQt1b98ra7dukoO2SJIEwBtvvEGnTp3YsGEDmzdvJj4+nh07dpgllqrmo2nZsiUpKSkMGTIEPz8/Jk2aREBAAKdPn9Z7mOxHZWVlsXbtWtLT0wkICMDHx0dnuP9+/fqxadMmgoODGT16NFFRUcydO7fCYbNv3bpFQEAA/v7+TJ06tcxokpJkTNZSu6D/MPca1a1dKH/KClm7Um2rS/WrUqlk7dZR8gyfJEkAuLi4MGfOHHOHAeg3H82ePXsoKCigTZs2tG7dGrVaTWhoKH5+fnoNk/3oZSUdO3bEwcGBgQMHEhERUeaSIhsbG2xtbenZsyc9evTAzc2N9PT0cocMz8nJ4fvvv6e4uJgnnngCd3d3PDw8LPLSEsk6WFPtgn7D3Lds2RKofu1C+UP+7969W9auVKvqUv3K2q275Bk+SZIsjj7z0WRlZQG6l8bk5eXp1X5FOzPNJTeaiVCraqOiKSuys7P1bkeSrImpaxfKr19DaxfKH/K/uLhY73YkydpUVb+ydusuuVWkeiczM5PU1NQyk7daSns1ZQ356TMfjeb+gpycHAoKCoD/21kZSrMTycjIwN3dXXuPQFUeHTbbzs6O2NhYlEolPj4+ACQlJaFWqykoKDDbIAPWxBr6dmWsIb+6UrtQfv12794dkLVrbNbQtytjLflVVb++vr6ArN26SB7wSfXOpUuX8PDwYOHChRbZXk1ZS37h4eHMnDmTKVOmsHTpUrZs2cLixYtxdnbG3t6ekSNHMmPGDLZu3crGjRsZN24c06dP59KlS+Tn53P9+nViY2NJSEgAICIigpMnTwIQGRmpXc9jjz3GzZs3CQ8PJyIigu3bt2ufj46OJisri7Nnz6JSqUhMTOTixYvcvXuX9PR0unfvzvjx41m7di1+fn5cvHgRe3t7AgMDGT16NMuXL2fOnDkolUqKioq4du1arW5Da2Mtfbsi1pJfdWtXE7O+9VuT2k1KSmLMmDFl6vf555+XtWsC1tK3K2JN+VVWv2PGjJG1W0fJe/ikekfzy5CltldT1pJfw4YNCQkJ4eOPP+bWrVsoFArat2+vM+rWli1byM7OprS0VDu5au/evfUeJrtp06Zcu3YNBwcHbt68SVRUFE5OToDusN9PPvmkzt/379/X/ru8YbPt7Ow4cOAAKSkptGzZkuXLl9O8eXNjbZp6y1r6dkWsJb/q1i7oX78qlarGtQvl16+sXeOzlr5dEWvKr6r6lbVbN8kDPqneK29o388++4zo6Ghat27NggUL2L9/P3/88QcLFy4ss/yjQy1borqeX1Xz0TRp0qTabSsUCho0aABAhw4dqt1ORcNme3p6AsidjonU9b5dlbqeX12oXSi/fmXtmlZd79tVsYb8KqtfWbt1j7ykU6rXKhpW/5lnnmHLli1ERUVhZ2eHnZ0dQ4cOrXB5S2Xt+Un1l7X3bWvPT6q/rL1vW3t+Ut0kD/ikeq2iYfU7dOjA888/z6FDh0hJSeHGjRv4+vpWuLylsvb8pPrL2vu2tecn1V/W3retPT+pbpIHfFK9VtGw+oD2pt9ly5bh5eVV5fKWyNrzk+ova+/b1p6fVH9Ze9+29vykukke8En1WkXD6gP4+/vTr18/Dh06RGBgYJXLWyJrz0+qv6y9b1t7flL9Ze1929rzk+omecAn1TsnTpwAHt5UPWjQoHKH1deYPXs2M2bM0D5W3lDAmqGEY2JitJOSmpO15yfVX9bet609P6n+sva+be35SXWfHKVTqndeeOEFnaF+yxvaV2PSpEmUlJRo/1YoFOUub0mTe1p7flL9Ze1929rzk+ova+/b1p6fVPfJAz5JouJh9TUjaem7vKWy9vyk+sva+7a15yfVX9bet609P6lusRFV/ISwdOlS0tLSKCgoMEkATk5OPPPMMxw8eBCFQqEzaaP0fxo0aECDBg3w9vYmOjraZO9HVXJzc3FxcaFVq1akpaXV6rqdnJxo0KAB3bp14/Lly2bbBqbi5OTEzZs3admyJZ6enqSkpJg7JKNzdHQkMzOThg0bolAoUKlU5g7J4jRo0ID09HRcXFxwcnKiuLjY3CHVmEKh4MGDB4wfP55Dhw7p/LptDWxtbblz5w6enp60bt2aP//809whGZ2zszN3797F1dWVxo0bk5uba+6QLE7Dhg25efMmbm5utGzZstb3kaaSl5fHunXreP/993UuTbQW9+/fp3nz5la733VycuLWrVu4u7vj4eHB3bt3zR2SxXFwcODWrVu0atXK6j7Ds7OzOXToUNUHfDNmzGDo0KF07drVJIEoFAq8vLzIyMigsLBQnsKugK2tLY0bN8bZ2Zm0tDSzfVG2tbVFrVab5cu6pWwDU9FsW8BqD4YezcvGxkbWezke3UaP9om6zMbGhgYNGuDu7s7t27etrm8/2pfrQ+1aS780Nmv9DLe1taVr167Ex8dbTU6PMuf3mtpgrf3SmKx5G7344ovExcVVfUmnQqEgNDSUW7dumSSQrl278sILLxAWFsadO3coKioyyXrqupYtW9KxY0d8fHw4fvw4CQkJZomjRYsW3Lt3jy5duhAfH1+r63Z3d6djx4706tWLY8eOmW0bmIqbmxupqanY2dnx+OOPExMTY+6QjK5r167ExsZiY2ODvb29HImsHF27duXatWvY2tri4uJCXl6euUOqMXt7e1q3bs20adPYuXMncXFx5g7JqBQKBcXFxdjb2+Pj40N0dLS5QzK6Ll26EBsbi62trVWdvTKmNm3acOPGDezs7PD29raafVSLFi3Ytm0bixYtIjk52dzhGF2jRo3Iz8+32v2uu7s7KSkp2NnZ0b17d65du2bukCyOq6sr9+/fx87Ojh49enD16lVzh2Q0NjY2gB738KlUKpYsWcLgwYNNEsjatWspKSkhNTWVEydO4OLiYpL11HXx8fEsWrSI/Px8XnjhBYKCgswSR+/evbl06RIODg61vu7ExETmz59PQUEB48aN46WXXqr1GEzpxo0bzJo1i0OHDpk7FJNZuXIlL7zwApMnTzZ3KBZrw4YN/P3vf+fNN980dyhGU1JSgp+fH8XFxfTt25fvvvvO3CEZlUqlonfv3lZ5oKexfft2+vfvz6JFi8wdisU6e/YsGzduJDQ01NyhGFWfPn0oLS3F1tbWKg8WrP0gSPPdad++feYOxWKlpaUxadIkjh8/bu5QjK5bt26AnJZBkiRJkiRJkiTJaskDvnpq9+7dHDlyxNxhSJIkSZIkSZJkQvKAr54KCwujc+fO5g7DbK5fv05YWBg3b97U+zWZmZkcO3ZM5x6G6rRTG4yVX3R0NN999x2nT582QZSmZaxtoHHt2jWioqKMGKFp3b59m127dlWa/40bNzh37pzOf49O8nvhwgXCwsK4fft2bYSsN31yE0Jw/Phxvv32W+7du1fhcsePH7e4+9H0yQ8ejr6med8uXLhQ5vlz587Vyfvi9c0fHk54vXfv3nInp67sOUtmSP6V9QFLzN+Q3KBsfepb1+ZiaH4JCQns3buX7OxswPLz04cxPr8M3Y6Wojpx/7UPAFy8eJHdu3dz5coVo8VmkgO+O3fumKJZyUjUajXJycl07NjR3KGYRXh4OGPHjqV79+4MHTqUw4cPV7p8Tk4O06dP591338XLy4vHHnusWu3UFmPkJ4Tg5ZdfZu7cuTz55JOsW7eOgICAOjNtirHeY43s7GyeffZZvvnmGxNGbTwRERHMnz8fPz8/lixZQkRERJll1Go1Tz31FAEBAYwePZrRo0czcOBA7cHdihUriIqKon///kybNo2ff/65ttMolz65AUyePJng4GCWLVuGt7c3586dK7NMTEwMo0aNIjEx0dRh603f/ADee+89hg4dytChQ1mxYoX28bS0NBYuXMiTTz5JTk5ObYRtNIbkv3DhQr799ls+/PBDevXqpXNgU9lzlsyQ/KHiPmCJ+RuaW3n1qU9dm4sh+WVnZ/PSSy8RERHB6NGjadKkCWDZ+enDGJ9fhvYTS2Fo3BX1gaVLl3LlyhWee+45jh07xocffmicAEUV3njjDREREVHVYkIIIf744w8RGBgopk2bptfyQggRHBwsvvzyS+Hr6ytyc3P1fl19ExcXJ8aOHStWrlwpvv766xq1de7cOfHqq69W67W9evUSJSUlNVp/dSUkJIjAwECxatUqsX379mq1UVRUJNzc3MTUqVOFEEIEBgYKLy8vUVpaWu7yGRkZonPnzuK1116rUTv6uH79uhg1alS1X1+duCrK7/jx4wIQixcvFkIIsXfvXgGIkydP1ii+FStWiJ07d9aojaoYaxs8aty4cQIQ8+bNM0nMj1q/fr3YvHlztV+vVCpFhw4dxMWLF4UQQpw/f1506NBBqFQqneVOnjwpIiMjdV43cOBAIYQQiYmJwtvbW/tcZGSkaNeunSguLq5WTMXFxaJ3795ix44dYuXKldVqQxOjPrn9+uuv4tdffxVCCFFaWipGjBghRo8erbNMSUmJeOutt0SrVq20y1ZXaWmp6NGjR43aEEL//IQQ4saNG+Ljjz+usK3MzEwBiLt379Y4LiGECA0NFatXrzZKWxUxJP+UlBRx/fp1IcTD/tWyZUtx4MCBKp8zpaioKPHyyy9X+/WG5C9ExX3A2Pk/8cQT4tq1a+LZZ5+tdhuG5lZefepT19XRrVu3GrdhSH65ubmid+/eYt++fTqPmyo/zXcnUzPG55eh/cRYUlNTxdChQ6v9ekPjrqgPPHjwQLi4uGi/r2RlZQlPT89qxyWEEF27dhVCCGHUM3wdO3YkICDAmE1KNaRWq3n11VeZP3++9rFjx47x9NNPmzEq8/ntt9/IyMjAyckJeDhR7p07d7h48WK5y7/++uvcvHmT4ODgGrVTW4yVn2Zi7M8//5yEhATtcMVt2rQxbQJGYKxtoLFlyxY8PT1NFq+x/fbbb9y+fZtevXoB0KtXL/78809+//13neUGDx7MwIEDtX//v//3/7SfCydOnKBRo0ba5/r06cPt27e5fPlyLWRQMX1z69mzJ4MGDQIeTpnwwgsvkJ+fr7NMcHAw8+fPR6FQ1E7wetA3P4BVq1Zx+PBhtm7dWu6Z9wYNGpg8XmMzJH8PDw/at28PgKOjI61bt9b258qes2SG5A8V9wFLzN/Q3MqrT33q2lwMyW/BggV06dKFwMBAncctOT99GOPzy9B+YikMjbuiPmBnZ4ezszPr1q0DHp41HD58uFFiNPolnfb29sZuUqoBW1tb5syZw6lTpzhz5gzw8Jr4p556ysyRmYdmjh07u4czkmjmJ4mNjS2z7PXr1/nhhx9o2rQp06dPZ+DAgYSFhRncTm0yVn5PPfUUgwYNIiMjA19fXzZu3MgPP/yg/RJhyYy1DQAuX75MVlZWnaqXy5cv06xZM23eCoWCJk2alJlfSvO8xjfffMOECROAh18Sr1+/zoMHDwBwcnLC0dHR7Jfr65tb48aNdf6+ceMGL7zwgvbvkydP8thjj9GhQwfTB20AffMD6Nu3Lx06dGDBggUMHDjQIi7ZqylD8tdQq9V88sknTJs2jWbNmun9nCUyNP+q+oAl5W9IbhXVZ1V1bU765peZmckXX3yBp6cn8+bNY+TIkURGRgKWnZ8+jPH5VZ3PAEtgSNyV9QEbGxv++9//snz5cqZOncrvv//O1q1bjRKjHLSlHujduzdz5swhJCSE0tJS7t27V6fOWBhTbm4u8H9fdjX/L29y619//RUhBKNGjSI8PJyioiImT57MlStXDGqnNhkrP3t7e7799ls8PT3JycnhypUrdWbgFmNtg/z8fDZt2sTChQtrL3gjyM/P194LoKGZGLwipaWlJCQk0KNHDwBGjRqFra0twcHBPHjwgP3791NUVETr1q1NGntVqpNbQUEB58+fZ8aMGcDD+zUPHTpktrlMK2NIfjNmzOCzzz4jMTERpVLJkiVLaitMk6nO+7tr1y7Cw8N55513OHjwoN7PWSJD86+qD1hS/vrmpm99/rWuzU3f/DT7nH/+85989NFHjBkzhpEjR5KamqqznKXlpw9jfH5V5zPAEhgSd1V9ICAggBkzZrB//36uXLmCUqk0SozygK+eGDduHKdOneLQoUP4+vqaOxyzcXV11flbpVIBlClUgPT0dAAcHBywt7dn5MiRqNVqfv75Z4PaqU3Gyi89PR1/f3/eeustNm3ahI2NDStXruS3334zfRI1ZKxtsHz5chwdHVm7dq12ovCoqCijjpplCu7u7hQWFuo8VlBQgJubW4WvefRyToDmzZvz+++/c+/ePZYuXcqFCxfw9PSkb9++JotbH9XJbd26dWzatEl7xnfhwoW4u7uzbds2tm3bRmFhIQcPHrSI97U6+bm7u/PZZ59x4sQJE0dnetXJPygoiF9//ZXXXnuNTz75RO/nLFF18te8rrw+YEn565ubvvX517o2N33zu3//Ps2bN9feHvH6669jY2PDsWPHdJaztPz0YYzPr+rWgLkZEndVfWDevHkEBgZy+vRp4uLijPbjpDzgqyfs7e157bXXePvtt+vU5WnG1qdPHwDtLyaagwHNddeFhYUIIQBo27YtgHZo5JYtW+rdjrkYK78dO3aQlJTEgAEDeOutt3j11VcBOH/+vOmTqCFjbYPs7Gy2b9/OmjVr2Lt3L/DwgM/c97FVxdfXl/T0dO3lmLm5ueTk5ODn51fha8LDw7WXc2p4e3uzYcMG1qxZw9GjR1m6dKnZv3wYmltoaCgjR47UuTTM29ub5ORkLl26xKVLl3jw4AGJiYkWMTVDdd47gO7du9O8efPaCNGkqps/wIQJE3B0dDT4OUtSk/wr6wOWkL++uelTn+XVtbnpm1+7du3IysrS7p/s7e1p27atzvtjifnpwxifXzWpAXMyJO7K+kBGRgY7d+7k6aefplOnTvz4448cOHCgzBng6pAHfPXIjBkzyMzMZOjQoeYOxWz8/Pzo2LEjmZmZwMNfYHr06MHjjz/O+fPnadasGZMnTwZg5MiRNG/enISEBACKi4uxtbVl5MiRlbZjTsbKT/Phq7lhXPOh1a9fv9pOyWDG2gZffPEF2dnZZGdns3PnTgBmzZrFSy+9ZJ7E9OTj40Pfvn21N4ufOXOG4cOHa788REdH6/wSWVpaSmJiIt27dy+3veDgYLp3786bb75p+uCrYEhuX3/9NS1btqRnz54UFhZy8uRJYmJimDdvHhs3btT+16RJE/75z3/yzDPPmC0vDX3zKy0t1Zkb8fvvv2fp0qU6bWl+1KhLDO27mh9zAJKSknR+Ca/sOUtlSP5V9QFLy1/f3Kqqz4rq2tz0zW/IkCG0adNGu5xSqaSkpEQ7MIel5qcPY3x+VdWGpTKkdivrA05OTpSWlmovBfX29qZbt25GuXrMqD/X3r17l1OnThEXF0dCQgLe3t7GbF6qofJOOdc3tra27Nmzh6lTp7J161bu3LmjHaSjsLAQpVKpvdercePGhIWFMWXKFNavX8+PP/7Ixo0btV+MK2rHnIyVn7e3Nz///DOrV68GYPv27Xz88ccMGDDAbLnpy5jvcV313//+l2XLlnH//n2+//57vvrqK+1zzzzzDGvWrNGetT127FiZs/5KpZLY2Fh++OEHmjVrxhdffFGL0VdOn9yKi4uZOXOmzkFPq1atzD7ojD70ya93794MHDiQwMBA2rRpw8CBA/n73/+uXS4vL48dO3YAD8/WT58+3eyXm+tL37578OBBXnnlFaZOnYqbmxsuLi5MnDgRoNLnLJ2++V+9erXCPmCp+RvyuVSeLVu2WHRd65vf3r17+de//kVhYSERERF8+umnuLq6Wnx++jDG51dlbVgyfd9/e3v7CvsAwKeffsq7777LlClTuHz5Mv/5z3+0o47XSFXzNxgyD191yHn49GPMefhqoq7Pw6dRVFQkYmNjxYMHD3Qe//PPP8vkV1JSIuLi4kReXp7e7VSHMebh0zBWfpmZmSI+Pr7a86/9VW3Mw6dhrG1Q22o6D5+GUqkUt27dEmq1Wufxe/fu6TyWlpYmcnJydJbJy8sTSUlJNZpX8lHGmodPQ9/caoux5uHT0Ce/7OxskZycbPL5qTRqYx4+DX3f39TUVHH9+nWhVCrLtFHZc6ZS03n4NPTNv7I+YMz8jTEPn4al1a4QxpmHT0Pf/EpLS0VycnKtfJ+qrXn4NIzx+VVRG6ZS03n4NAzp35X1AU07xqhfzTx8deduUEkyIicnJ7p27Vrm8fJGL3VwcKBLly4GtWNuxsqvadOmNG3a1Ojx1QZjbYO6qqJ5E/96E7m7u3uZZRo1aqQzD5+l0Te3ukqf/FxdXcsMUGQt9H1/H73n9q8qe87S6Zt/ZX3AUvOXtfuQQqGgXbt2tRVWrTLG51ddmff3rwzp35X1AVPkL+/hkyRJkiRJkiRJslI2QlR+Z/fy5cu5f/8+Li4uJgkgJSWFUaNGcfjwYUJCQiz6V2VzSkxMJCQkhM6dO3P9+nWsjMuJAAAgAElEQVQcHBzMEseVK1fw8fEpM2lzbbCxsSE/P5+uXbuSlJRktm1gKiUlJdy4ccMizxgay59//omjo6PV/JprCqmpqdjY2FjsL/TVYWtrS3JyMuPGjePYsWMm25+Y0+XLl80+Sq8p3bt3jwYNGsh9dCWEECQlJdGpUydzh2JUCQkJrF69mg8++EA7srE1uXTpEr179zZ3GCZTXFzMzZs3re4qFmNSKpWVDl5Wl125coVDhw5VPWhLaWkpXbt2Ndmp1TNnziCEMNrEgtZMqVSiUqlo2bKl2Qo3JiYGX19fFApFra87NzeX33//HbVajbu7u9UdGOXk5JCWlmbxww/XRGRkJE2aNDH7aKaW7Ny5cygUCp544glzh2I0QggSEhIQQuDq6mp1c4EKIbh69apV1+7Vq1cpLi6uEyP1msu9e/fIyMiwun4QFxcHPLwEzdpyg4cjKFpjXhpZWVlW2S+NqbCwkFu3blnlNoqOjgb0GKUzIyODgIAABg8ebJJAEhISKCoqIikpqU4OI11b1Go1KSkpeHp60q5dO5577jmzxLF8+XJGjx5tlrNriYmJfPvtt7Rp0wYvLy+zbQNTuXHjBmFhYVaX16Oio6N57LHHrDrHmkpOTsbR0dGqtlFJSQkffPABxcXFODs7W1Vu8HAI/KVLl1pdXo/KyckhJSXFqnOsqbNnz/Lrr79a3Tb64IMPUKlUZGZmWl1uAIsXL7bKvDQSExP5/vvvrTrHmkpLS2Pr1q1WuY0WLVoEyHv4JDPavXs3R44cMXcYkiRJkiRJkmS15AGfZDZhYWF07tzZ3GFIkiRJkiRJktUy6gGfSqXi0qVL3L5925jN6rh//z6pqank5+eX+3x2djapqan88ccfpKamkpqaqjPZuOb12dnZ2sdiY2P57bffUCqVZGRk6LRX2XPwMGfNeh69JPXRx3NycmqattVRq9UkJyfTsWNHs6z/9u3b7Nq1i5s3b+r9muPHj5OWlqbzWHZ2NufOnePcuXNcuHDB2GFWmyH5VbZsdbaTpTDWNoCH99UVFRUZO0ST0jf/yvqwpb7/+sZ14cIFwsLCyt0nWWpuYJz8Tpw4wd69e8nKyjJVmCZjyHtT2TYA665dqDz/ixcvsnv3bq5cuWKKMKvF0LpLSEhg79692u9sN27c0H5eaf6zpD5e0/yEEBw/fpxvv/2We/fumTJUk6npNnhUed+7LJm+uevTj4392WW0A76SkhL+8Y9/8P777+Pj48PKlSuN1bSOrKwshg0bxt///vcyzxUXF9OlSxfefvttoqOj6dmzJzNmzKCkpES7TFxcHH5+fiQnJwPw9ttvExkZSWFhIRMmTOCDDz7QLlvZcxpqtZrLly/j6+vLsmXLdB6Piopi2rRplb5h5XXw+uDixYtmG5QiIiKC+fPn4+fnx5IlS4iIiKjyNTExMYwaNYrExESdx9977z2GDh3K0KFDWbFihalCNogh+VW2bHW2k6Uw1jZIS0tj4cKFPPnkk3XqhxtD8q+oD1vq+69vXCtWrCAqKor+/fszbdo0fv75Z4PbMAdj5Ldw4UK+/fZbPvzwQ3r16mVRX4irYsh7U9k2qA+1W1n+S5cu5cqVKzz33HMcO3aMDz/8sDbCr5QhuWVnZ/PSSy8RERHB6NGjadKkCWq1mqeeeoqAgABGjx7N6NGjGThwoElPMhiipvkBTJ48meDgYJYtW4a3tzfnzp2rrfCNwhjbQKOi712WSt/cq+rHJvvsqmqG9jfeeENERERUOZP7jz/+KFJTU4UQQpw/f14oFAqRn59f5euCg4PFl19+KXx9fUVubm6VywshxKxZs0STJk3Er7/+qvP41q1bhbe3t1i9erUQQoiVK1eKwYMH6yxz+fJlsW3bNiGEEHFxcaJfv37a54qKisQHH3xQ5XPlmT9/vmjUqJEIDw/XPqZUKsWSJUsqzWX27NmVPq8RFxcnxo4dK1auXCm+/vprvV5jCr169RIlJSUGvUalUolXXnlFzJs3T/tYcHCwwXkkJCSIwMBAsWrVKrF9+3aDXquhVCpFhw4dxMWLF4UQD/tqhw4dhEqlqvA1JSUl4q233hKtWrXS6XM3btwQH3/8cbXiKM/169fFqFGjatSGIflVtmx1tpM+VqxYIXbu3FmjNqpirG2gkZmZKQBx9+5dk8atsX79erF58+Zqv96Q/Cvqw8Z+/4uLi0Xv3r3Fjh07xMqVK6vVhiFxJSYmCm9vb+3fkZGRol27dqK4uNgkfbu0tFT06NGj2q/XMEZ+KSkp4vr160KIh9u9ZcuW4sCBAzWOLTQ0VLtvNRVD3pvKtoFGbdduVFSUePnll6v9emPl/+DBA+Hi4iJKS0uFEEJkZWUJT0/Pasf1xBNPiGvXrolnn3222m0Ykltubq7o3bu32Ldvn87jJ0+eFJGRkTptDhw4sNoxaXTr1q3GbRgjv19//VX7HaO0tFSMGDFCjB49usaxab47mZoxtoFGRd+7TCU1NVUMHTq02q83JHd9+rExP7u6du0qhBDCaGf4RowYoZ03qk+fPri6upps6P6GDRvy1ltv6fxipVariY6OxsfHR/vYjBkzOHv2LJcvX9Y+Fh7+/7F37mFRVesf/zIw3AQlQEAUUShMVCBMJcrieElARE95zB/qSUHD0jwqaKcMreQU4eWEeE9TMzVC8pKXTEUuKmkigankJCAX5X6/zgyzfn/Ms/dxBGb2ntlzYZzP8/gUe6295v2+67LX3nvt9Sbj//7v/wAAtra2yMvLw3//+19IJBKYm5sjLCxMYVp3mJmZ4cCBA1iwYIHM7z1OQUEBvv76a6xbtw6VlZX46quvsH37dmzduhVlZWUq+USX4fF4WL58OS5fvoxr164BkL6mnzBhgsZtuXr1KkpKSuh4Wd7e3igrK0NWVlaP58THxyM6OrpLe/78889x5swZ7N69G2KxWK12M4WNPnl5lfGTrsCVDygsLCw0YzhHsNHfUxvW1fpnaldaWppMvDhfX1+UlJQgNzdXZ7UB3OgbMGAAhg4dCkB6XRo4cCD8/f01J0IF2NSNPB9Q6HPflaffxMQElpaW2LhxIwDpm4dJkyZpRkQPsNG2atUqDBs2DKGhoTLHx48fL9OWL168iIkTJ6rXcIZwoc/LywuvvPIKAGkIjJkzZ/b4+ZIuwoUPKHqad+kqbLQzacfqGLs4u+F7PBD3H3/8gVmzZsHc3Jyr4ruwbNkyXLhwAbdv3wYAnDx5skvDsbe3R1hYGBISEgAALS0tMDY2hqWlJQCgf//+2Lt3Lz766COMHj0aaWlpdMBUeWk98cYbbyAqKgrTp0/vsva6qqoKe/fuxaJFi+Dm5oZp06Zh6dKl4PF4WLp0KQYOHMiJX3QVHx8fLF++HNu2bYNYLEZVVRWcnZ01bkdubi5sbW3p9mpsbAwbGxu6HT1Jeno6hgwZAjc3ty5po0ePhpubG1atWgV/f3+dWDbFRp+8vGz9pEtw5YPeChtNPbVhXfULU7vMzMxQUFAAoVAIADA3N4eZmRlKS0t1VhvAjT4KiUSCLVu2ICIiAra2tpoToQJs6oaJD3obXOk3MjLCvn37sG7dOoSHhyMrKwu7d+/WqJYnYaqttrYWe/fuhbOzM6KiohAUFIQrV64AkJ1nAsAPP/yAWbNmaUaAArjQ17dvX5m8hYWFmDlzpmYEcAAXPgDkz7t0FTZ9V1vtWC27dO7btw9ffPGFOoqmcXJywty5cxEfHw8AuHDhQrdPsP71r3/hyJEjqKqqwpEjR+i3exRz587F7du3MXToUPztb39DXFycwrTy8nL8/vvv+P3337u8mVu3bh1efPFFzJw5UyaYfFJSEtra2vD9999DLBbD19dXZ94KaYo333wTly9fxunTp7UWeLm5ubnLOnFjY2O0t7d3ydvQ0IDTp09j7ty53ZYVGRmJXbt2QSAQQCQSYc2aNWqxmQ1s9MnLy6YcXYMrH/RW2GjqqQ3rql+Y2hUcHAwej4f4+HgIhUKcPHkSbW1tGDhwoM5qA7jRR3H48GEkJyfj/fffx6lTpzRiv6qwqRsmPuhtcKk/MDAQkZGROHnyJPLy8mTmI9qAqbbMzEwQQrBixQps2rQJ06ZNQ1BQEMrLy2XyicVi3Lt3DyNHjlS77UzgWl9LSwuys7MRGRmpdtu5ggsfKJp36SrKXlc02Y45v+Hbv38/Fi9e3EW4OoiOjkZSUhKSkpLw8ssvd5vHy8sLfn5+2LlzJ+7du4dhw4bRaRUVFaiuroabmxt+/PFHfPPNN/j444/R3NwsNy01NRUff/wxPv74Y/z0008yv2dkZIQDBw6goaEB//rXv+jjVVVVGDx4MGbPno2IiAhs27YNJiYK497rFXw+HwsWLMCSJUu0spwTABwcHGR2bQWkA6u9vX2XvKtXr4aDgwP27NmDPXv2oLW1FadOneqy45mDgwN27dqFtLQ0dZrOCDb65OVlU46uwZUPeivKaHqyDeuqX5jaZWdnh6ysLFRVVSEmJgY3b96Es7MzRo8erbPaAG70UcydOxeZmZlYsGABtmzZohH7VYVN3TDxQW+DS/1RUVEIDQ3Fr7/+ivz8fK1PoJlqq6mpgZ2dHVxcXAAAixYtgpGREVJTU2Xy6dJyToB7fRs3bsT27dt71TyRCx8wnXfpGspeVzTZjjm94UtOTsYLL7yA5557DiKRCNnZ2VwWTyORSAAAw4YNQ2BgINauXUu/DiWEyIRHAKRv+eLj47u8Vaqrq8PRo0fpv99++21YWlrC2NhYblpYWBhOnTqFU6dOYfHixTI2AdJvDE+cOIHjx4/Tx7y9vZGQkEC/ETx06BAIIfR5T8vbvsjISNTW1iIgIEArvz927FhUVlbSy2AaGxvR0NAAPz+/Lnk9PDxQVFREv80VCoUQCATdbhHs6ekJOzs7tduvCDb65OVlU46uwZUPeivKanq8DeuqX9j234SEBMTFxeHcuXOIiYmBiYmJzmoDuNH3JLNmzYKZmZnabecCtnXD1Ae9Ba70V1dX49ChQ5g4cSKeffZZnD17Fj/99FOXt0iahKk2V1dX1NXV0W8k+Xw+Bg8e3KUNJycn68xyToBbfQcOHEBQUFCvWtIIcOMDNvMuXULZ64om2zFnN3w7duzAggULMGXKFDg5OcHGxkYmHAJXZGdn49y5c/TN1KpVq7BkyRIYGxvjxo0byMvLQ3p6usw2rqGhofD29sb06dO7lPftt98iPj4ex48fx3vvvYeEhAT6Y0l5aY/zxx9/4OLFizh06BBd2a6urkhJSYGpqSkA4O9//zteeuklPPvssxg1ahRsbGzA5/MxcuRIzJ8/Hw8fPuTcV7oI9RREWzdHo0aNwujRo+kPaa9du4ZJkybRA+utW7fopzRRUVHYunUr/c/GxgYrVqzA5MmTIRaLZbaCPnbsGGJiYjQv6AnY6JOXV1E5ugxXPqB48gGSrsNUv7w2rKv1z6ZuKeLj4+Hp6Uk/nNNVbQA3+gBpHFiK+/fva/3tDlOU0Q907wNAf/vukzyp39zcHGKxmF5O5uHhgeHDh2tk5VVPMNX26quvwsXFhc4nEonQ0dEh88mOWCyGQCCAp6en5oX0AFf6Dh48CEdHR3h5eaG1tRXp6ek68X0xE7jwgbx5ly6jTN+V147VMnYp2s6TaVgGZVEmLIMyNDQ0dDlGbdHd2tpK7t69KxNGQl4aG9ra2mT+fvToEWlqaqL/FovFjMIc9OawDFzBRVgGQgj5888/yVtvvUVSUlLI3LlzSWlpKZ3m6OhI9u3b1+15AwcOpLcHzsnJIRYWFuStt94i0dHR5Mcff1TaHgouwjIQwk6fvLzy0pRFE2EZCOHOB42NjWT79u0EANmwYQOpq6tTu+2qhmUghJl+RW2Yy/rnKiyDIrsobUKhkOTm5pJPP/2UJCYmsipDGbgKy6DINib6fvrpJ2Jra0uio6NJXFwc2bZtGyd2aSIsAyHM+66iOtZG31U1LAMh3Ok/dOgQWbRoEUlLSyMJCQkkJSVFaZu4CMtACHNtOTk5JCgoiJw9e5Z8+OGH5Oeff5Yp59y5c+STTz5RyZbH4SIsAyGq69uxYwcxMjIiAOh/Tk5OdHgNZdFUWAZCuKtjisfnXepE1bAMhLCfW/bUjrkeu6iwDE/NDV9vx3DDx90NHyHSuCfFxcVEIpHIHK+qqupyrCfq6+tJUVGRyrHpKLi64SOEnb6e8ipKUwZN3fARwp0PNA0XN3yEMNOvqA1z5Rcub/jk2UVpa2pqIvfv35c7UeKyzrm84SNEdX3l5eWkoKCAiEQizmzS1A0fIczaLpM61jRc3PARwp1+qhxV2wFXN3yP26RoXBaLxaSoqKjb+UZFRUW3D/GVhasbPkK40cc1mrzhI0Q3faAILm74CGE37+C6HfcEdcPXexe7GzCgAiYmJvQHw4/DZuOGfv36oV+/flyaxRls9PWUV1GarsOVD3orTPQrasO66hdF2qysrGRilLEpQxdQVR8VE7e3wqTtMqnj3sbixYvR1tamtvIXLFigte/nKZiOy8bGxnB1de22DAcHB7XYxgVc6OvtPM0+YDPv0HQ7VnjDZ2ZmhpaWFlRXV6vFAIlEAmNjY1hZWXWJTWHgfxgZGcHCwgJ8Ph8ikUht9aEIKysr1NTUgM/na/y3GxsbdcIH6qKhoQHm5uZ6p+txCCEQCoV6rVFVOjs7IRaL9cpHIpEI1tbWdBBdfdIGSK9jVlZWeqfrcagNFvRZo6q0traCz+cr7aPY2FiOLeqKMrZZWVmBx+Pp7fVJ3/tuY2MjzMzM9FqjqtTX18PCwkIvfWRtbQ0AMCJE/peBH374ITIyMtQW7b6jowPLly/Hjz/+iH379undEzuuEAgE2LRpE4YPH45ff/21S/w/TdHc3Ky1OrKxsYGTkxNGjhyJrKwsrflAXUgkErS3t8PS0lLbpqiNjo4O8Hg8rTww6C1QGz9RGz7pA3w+H3379sWcOXNw9OhRvdykSptjoyYQiURwdXXVy7rjiv79+6O4uLjbzd16M+bm5ti6dSuioqLQ0NCgbXM4R9/77tMwt1AVQghaW1vRp08fbZvCOW1tbfjtt98Uv+Grra1FXFwcxo8frxZDNmzYgPb2dhQXF/e6HbU0iUQiQUVFBVxcXDB16lSt7brm4+ODCxcuaGUyKhAIEB0djaFDhyI4OBjz5s3TuA3qpLCwEEuXLsXp06e1bYraiI2NhZubG8LCwrRtis6SkJAAMzOzLjsO9mY6Ojrg5+eHjo4OjBo1Ct9//722TeKUzs5O+Pj4ICMjQ9umqI1vv/0WDx8+1Lu645LffvsNW7duxYEDB7RtCqf4+vqis7MThBC9bOOenp64efOmts1QG9Tc6cSJE9o2RWepqKjA7NmzcenSJW2bwjnDhw8HoIbA6wYMGDBgwIABAwYMGDBgQDcw3PA9pRw5cgQ///zzU2+DAQMGDBgwYMCAAQP6DKe7dBJC8Pvvv6N///4YNGgQl0Ub4JikpCRs2rTpqbWhpKQEmZmZePnllxXuElVfX4+//voLAMDj8eDr60un3bx5EwKBAP7+/jq14x8bfRT37t3DrVu3MHHixC4Bei9dugRPT89etfsfFz4ghCAtLQ01NTV47bXX0L9/fzVbzR1M9BcWFqKmpkbmmLu7O5555hkAQE5ODvLz8zFixAh4eXmp3WamMK1bef1TmfahKbjQR6HvfbcnH+h736XoSb+ivq0tCgoK8Ntvv8HPz69HbXl5efS3zBQODg4YPHgwACA3N5feRAgAhgwZwmqHbXXCtO4Uja03btzAiBEjeuX3oFzU8a1btyAQCODs7Aw/Pz+128wVbPpuT21AXX2Xszd8YrEYS5cuxfbt2+Hl5WVY56/DSCQSFBUVwd3d/am0ISMjA9HR0fDz88OaNWsUfpPwwQcfICAgAAEBAVi/fj19fP369bh+/TrGjRuHiIgInD9/Xt2mM4Ktvvr6esybNw8ZGRkICQnpcrN3+/ZtBAcHQyAQqNNsTuHKB2FhYYiPj8fatWvh4eGBGzduaMJ8lWGiXyKRYMKECQgMDERISAhCQkLg7++PkpISAEBMTAzy8vIwffp0pKam4ssvv9S0jG5hWrfy+ifb9qFJuNBHoe99V54P9LnvUvSkX1Hf1hbJycmYMWMGPD09ERAQgDNnznTJ09LSgtGjR2PMmDEy/3755RcA0smwj4+PTFpVVZWmpXQL07qTN7ZWVFRg9erVGDNmTK/cIEfVOiaE4J///CdWrlyJMWPGYOPGjQgMDIRYLNaCGnaw6bs9tQG19l1FAfuYBl4vKiqiAwju2LGDzJ49m1FAQEPgdWZwGXj9xo0bZP78+Uqdy1XgdWVs4CLwukgkIm5ubiQnJ4cQQkh2djZxc3PrMfB0YWEh2bx5c5fjAoGAeHh40H9fuXKFuLq6kvb2dqXsIoSbwOts9TU2NhIfHx9y4sSJbtM7OjrIu+++S5ycnEhmZqZKthGimcDrXPkgMzOT1iwWi8mUKVNISEiIWm0nRPXA60z1p6enkytXrsic5+/vTwghRCgUEmtrazqoc11dHXF2dlbaJq4CrzPVJq9/sm0fTOAq8DoX+ii47ruaCLzOpm7k+UBbfVfVwOtc6ZfXt5WBi8DrbW1txN7enoSHhxNCCAkNDSWDBg3qEjj+woULxN3dncydO5dERkaSefPmEWNjY1JVVUUIISQ2NpYsW7aMREVFkaioKBIXF6e0TRRcBF5nWndMxtba2loCgDx69EhluwjRXOB1Lur40qVLBAD58MMPCSGEpKSkEAAkPT1drbarGnidTd+V1wa47ruE/C/wOmdv+FxdXdG3b18A0h3Z3nnnHa6KNqACEokE8+fPR3R0NH0sNTUVEydOfKpsoLh69SpKSkrg7e0NAPD29kZZWRmysrK6zf/555/jzJkz2L17t8wTprS0NJltnH19fVFSUoLc3Fz1ClAAW32rVq3CsGHDEBoa2m16fHw8oqOj1RaWRR1w5QMvLy+88sorAKQBYmfOnInm5mb1Gs8BTPWPHz8e/v7+9N8XL16k+6SJiQksLS2xceNGANInl5MmTdKQgp5hqk1e/2TbPjQJF/oo9L3vyvOBvvddQL5+eX1bW1y9ehXV1dUwNzcHAPTp0welpaXIycmRyWdmZoY7d+7g4MGD2LlzJ6ZNm4a//e1v9JLNM2fOwMXFBYGBgYiLi8MHH3ygcS3dwbTumIytvXEZJ8BNHXd0dAAAvv76a9y7dw81NTU9BjPXJdj0XXltQJ19l9NNWzo6OpCYmIjdu3f32garb/B4PCxfvhyXL1/GtWvXAEi/6ZgwYcJTZQNFbm4ubG1tYWRkBEA6GbCxscHt27e7zT969Gi4ublh1apV8Pf3R11dHQDpgFVQUECvQTc3N4eZmRlKS0s1I6QH2Oirra3F3r174ezsjKioKAQFBeHKlSt0enp6OoYMGQI3NzeN2c8FXPmAeoBFUVhYiJkzZ6pfgIow1U+lU/zwww+YNWsWnbZv3z6sW7cO4eHhyMrKwu7duzUjQA5Mtcnrn2zHAE3ChT7g6ei78nyg730XkK9fXt/WFpQGExPp1hGUjXfv3pXJ98orr8iEfTp69Chdd9nZ2bh69SpWrVqFyZMn49lnn9WZ5dhsxl1dHFu5gIs6njBhAl555RVUV1dj7Nix2Lp1K44fP46hQ4dqQoLSsOm78tqAOvsupzd8ZmZmeOuttzBlyhT8/e9/R2dnJ5fFG1ASHx8fLF++HNu2bYNYLEZVVRWcnZ2fOhsAaYDVJ79RMzY2Rnt7e7f5IyMjsWvXLggEAohEIqxZswYAEBwcDB6Ph/j4eAiFQpw8eRJtbW0YOHCg2jXIg42+zMxMEEKwYsUKbNq0CdOmTUNQUBDKy8vR0NCA06dPay3eoypw5YPHaWlpQXZ2NiIjI9VqOxewbeOA9Bvse/fuYeTIkfSxwMBAREZG4uTJk8jLy5PZJEFbMNUmr38q4x9NwYW+p6XvMh2D9bXvMtXfXd/WBo2NjQD+N6Gl/tvU1NTjOW1tbTh37hz+/ve/0+d8+umnWLBgAZ555hk8ePAAU6dOxaNHj9RsvWLY1J0ujq1cwEUd8/l8HD16FM7OzmhoaEBeXh5+/fVXNVuuOmyvK0zaANd9l/OwDA4ODti8eTOMjIzkVrIBzfLmm2/i8uXLOH36NMaOHfvU2uDg4IDW1laZYy0tLQp3+HJwcMCuXbuQlpYGALCzs0NWVhaqqqoQExODmzdvwtnZGaNHj1aX6Yxgo6+mpgZ2dnb0UolFixbByMgIqampWL16NRwcHLBnzx7s2bMHra2tOHXqFPLy8jSiQxW48sHjbNy4Edu3b6efXOoyyrTx7paNREVFITQ0FL/++ivy8/N14gaCqTZ5/VPZMUATcKHvaem7TMdgfe27TPXrwnJOAOjXr5/M39QLgScnyY9z9uxZ+Pr6wsHBAYB02eratWvxzTffoKysDO+99x6am5tx7tw59RnOEDZ1p4tjKxdwUceVlZV4+eWX8e6772L79u0wMjJCbGwsrl69qj7DOYDtdYVJG+C676plBOzs7MTYsWPlVrIBzcLn87FgwQIsWbIECQkJT60NY8eORWVlJYRCIUxNTdHY2IiGhgZG2/56enrCzs6O/tvDwwMJCQkghMDf3x8xMTFan1Sw0efq6oq6ujqIRCLw+Xzw+XwMHjwYZmZm8PDwQGFhIZ1XKBRCIBCgoqJCk3KUgisfUBw4cABBQUG9ZnmcMm08OTkZK1eupP+urq7GoUOHsHnzZgDSi/Lw4cNRXl4OJycntWvoCTbaeuqfqowB6oYLfU9L3wUUj8H63neZXIOe7NvaggpnRL3JoG4GqG+eWltbYWFhIbOk7fGlfk9iYWGBxMREnDx5UuuhJgDmdaerYysXcFHH3333He7fv4+XXnoJEydOxG+//YZ9+/YhOztb5ts2XW+OsY8AACAASURBVINN32XaBrjuu5y94UtOToa/vz+2bduGLVu20EIM6A6RkZGora1FQEDAU2vDqFGjMHr0aPpD2mvXrmHSpEn0hODWrVv0UxqxWCyzFe6xY8cQExPTpcz4+Hh4enpi8eLFGlAgHzb6Xn31Vbi4uNB5RSIROjo6MGnSJERFRWHr1q30PxsbG6xYsQKTJ0/WjjAWcOUDADh48CAcHR3h5eWF1tZWpKen68S3XvJgox+QtnOBQABPT0/6mLm5OcRiMb0cxcPDA8OHD9f6Qzy22oCu/VNRGdqEC31PS999nO7G4Keh71L0dA3qrm9rCz8/P7i7u6O2thaA9O3HyJEjMWLECGRnZ8PW1hZhYWF0/o6ODpw9exZvvPEGfeyPP/7AihUr6Li4RkZG8PT0RGBgoGbFdAPTumMythJCNC+AA7ioY+qhOrXJEnXD9OKLL2pKhlKw6btM2oA6+i5nryP+8Y9/4OWXX0a/fv3Qp08froo1wCHdvXJ+Gm3Yt28f1q5di5qaGhw7dgz79++n0yZPnoy4uDjMnz8ff/zxB/z9/REaGgoXFxf4+/vj9ddfByC9Mbh79y6OHz8OW1tb7N27V0tqusJUH5/PR0pKCj766CO0trYiIyMDiYmJXZZl9Ea48MHOnTvx3nvvyVx8nZyctL4xDxOY6gekO+Y+uYGSlZUVEhMTsWzZMsyZMwe5ubn47LPP6N3XtAkTbXPmzJHbP+WVoW240NebYdp25Y3BT0PfZXIN6q5vawsej4fvv/8e4eHh2L17N0pLS5GUlARA+uZHJBLJfAZ07tw5eHl5ybzxKCsrw9dff42dO3fi7bffhru7O7Zt2yazIkObMK07eWNrU1MTvvvuOwDSt10LFy7U+oM2pnBRx3PmzMH58+fxxRdfAAC+/fZbbN68GS+99JJmxSgB0/pncn1VS99VFL+BaRw+ZTHE4WMGl3H4VIGrOHzKwEUcPgqRSESKi4uJRCKROV5VVSVzrL6+nhQVFXWJpdLU1ETu37/fJb6MKnARh4+CqT5CpHGqioqKNFKvmojDR6GrPlCEqnH4KJjqr6iooGOo9lSGSCRSyRau4vA9aVdP2pj0z57KUAau4vBRcKGPazQRh4+CSdvVhg8UoWocPgqu9Mvr22zgIg4fRVtbG7l79y4RCoUyx8vKymTG30ePHpGysrIu57e0tJC7d++SyspKlW2h4CIOHwXTcZersZUJmorDR6FqHRMijUX4559/qhTbmA2qxuGjYDPvkNcGuOq7hPwvDp/uf8VswACHpKSk4PTp02or38XFBZ9++qnaymdKT3FruvuA2NjYGK6urpowS6M87T5gqp/6WJ5NGdpGkTYrKyuZGGVsytAWGRkZan3TaGZmhh07dqitfC5h0naZ1HFvhSv98vq2tjA3N8fzzz/f5fiTu3b39D2bpaVlt+drk9u3b2PTpk1q/Y0tW7b0mvauah0DwDPPPKMT32ayhc28Q941SB1913DDZ+Cp4o033qC3/1UHT8ZQMWDAgAEmvPrqq3SwcHVgGJsMGFAPI0aMwJ49e9T6Gzwe55vqG3jKMCJE/tehH330EQoKClBVVaUWAxwdHTFt2jQcO3YMTU1NdBBRA7L069cPjo6OeP7553Ht2jWt7bhmbGyMzs5ODB48GMXFxRr97X79+qF///4YOXIksrKyesWuc2zo27cvHj58CCsrK7i5uaGgoEDbJnGOo6MjSkpKYGpqChMTE4jFYm2bpHM4OjqiuLgYZmZm6NOnD1paWrRtksrw+XxYWloiLCwMP/74o971XR6Ph/r6evTt2xfPPvssvamEPuHk5ISioiKYm5vD1taW3pjBwP+wt7fHgwcP0KdPH61cI9WFiYkJtmzZgtWrV9ObaegTYrEYJiYmenvd7devH8rKymBlZYWhQ4fK7OJrQIqlpSUqKipgbW0Nd3d33L9/X9smcYaRkREuXLig+IYvMjISr7/+OkaMGKEWQ3g8HhwdHVFfX4+Ojg5IJBK1/E5vx8jICFZWVjAzM0Ntba3W/MTj8SCRSOgbP01C+cDc3Bw1NTV611aMjIzoTQYoP+sbj+vSV42q8rhfHm8TvRkejwdTU1PY2tqivLxc7+r9aWjXj4/5+tIuuUZf2wGPx8PQoUNRVFSk8eu+JqDaszbmNZrgaZhbqIo++2jGjBnIz89XvKSzT58+OHTokNqeyLq4uGD69On48ccfUVtb22NU+qcdOzs7ODs7Y/jw4bh69arWdhuzsLBAW1ubVp4S2draYsCAARg5ciSuXr0qEzJBH7CxscGjR49gYWGht28JXFxcUFhYCBMTE8Mbvh5wcXFBQUEB+Hw+rKys9OKJOp/Ph42NDebMmYOUlBS967vGxsZoamqCpaUlhg0bhj///FPbJnHOoEGDUFBQAFNTU9jZ2aGmpkbbJukcDg4OKC4uhrm5uV69SenTpw+2bt2K6Ohovax3aoL/3HPPQSAQaNsczrG1tUVZWZlezy1UpU+fPqiqqoKlpSU8PDxw7949bZvEGX379gXA4Bu+lpYWrFixAuPHj1eLIRs2bEB7ezuKi4tx4cIFWFtbq+V3ejt//vkn/v3vf8PFxQXTpk3D3LlztWKHj48Prl+/DlNTU43/tkAgQHR0NIYOHYqpU6di3rx5GrdBnRQWFmLp0qVq3VRG28TGxiI0NFQmFo8BWRISEhAQEKATcR25oqOjA35+fhAKhRg1ahS+//57bZvEKZ2dnfDx8cGVK1e0bYra+Pbbb/Hw4UP8+9//1rYpOstvv/2GrVu34sCBA9o2hVN8fX3R2dkJiUSil23c09MTd+7c0bYZaoOaO504cULbpugsFRUVmD17Ni5duqRtUzhn+PDhADgMvG7AgAEDBgwYMGDAgAEDBnQLww3fU8qRI0fw888/a9sMAwYMGDBgwIABAwYMqBHDDd9TSlJSEp577jltm6E1CgoKkJSUhAcPHjA+p7a2FqmpqSgqKlKpHE1QUlKCw4cPs7Lr3r17SElJQX19PQCAEIJLly7h6NGjatulV51w4QOKGzduoK2tjWsT1QpT/Tk5OThy5Ajy8vK6pKWlpSElJQV1dXXqMlMpmGqTZ78y7UNTMLFNUf+8efMmkpKSeuX3kkzrRl99wKZt1tfX48aNG7hx4wZu3rzJOE1bsO13ly5d6rKHhC7qolBVX2FhIa2N+qdr468iuKhjip6uyboKU+3y6lldcy+13PC1t7fr5Ufr+oJEIkFRURHc3d21bYpWSE5OxowZM+Dp6YmAgACcOXNGbv6GhgYsXLgQy5Ytw6BBgzBkyBClytEUGRkZiI6Ohp+fH9asWYOMjAy5+evr6zFv3jxkZGQgJCQENjY2AICwsDDEx8dj7dq18PDwwI0bNzRhPidw5YOKigqsXr0aY8aMQUNDgyZM5wSm+mNiYpCXl4fp06cjNTUVX375JZ22evVqHD16FF9++SW8vb11ZtLBVJs8+9m2D03C1DZ5/XP9+vW4fv06xo0bh4iICJw/f15T5qsMm7rRRx+wbZsffPABAgICEBAQgPXr1zNO0wZstd2+fRvBwcFdNlLRNV0UquqTSCSYMGECAgMDERISgpCQEPj7+/eqBxZc1XFP12Rdhql2RfWstrkXUcA777xDMjIyFGWTYcmSJSQiIoJR3vj4ePLNN9+QsWPHksbGRla/8zSRn59PZsyYQWJjY8nBgwdVKuvGjRtk/vz5Sp3r7e1NOjo6VPp9Zbl37x4JDQ0ln3/+Ofn222+VKqOtrY3Y29uT8PBwQgghoaGhZNCgQUQsFnebv7q6mjz33HNkwYIFKpXDhIKCAhIcHKz0+YQQIhKJiJubG8nJySGEEJKdnU3c3NxIZ2dnt/kbGxuJj48POXHihMzxzMxMkpmZSQghRCwWkylTppCQkBCVbCOEkPXr15NDhw6pXI48uPIBRW1tLQFAHj16pDabH+err74iO3bsUPp8pvqFQiGxtram22xdXR1xdnYmhBDy8OFDUlBQQAghpL29nTg6OpKffvpJaZva29uJj48P+e6770hsbKzS5TDVJs9+tu2DCWKxmIwcOVLp8ymY2iavfwoEAuLh4UHnvXLlCnF1dSXt7e0q2XbgwAHyxRdfqFSGItjUjTZ8oIjr16+Tf/7zn0qfz7ZtFhYWks2bN7NOY8sLL7xA7ty5Q6ZOnap0GWy1dXR0kHfffZc4OTnR9UwIt7oohg8frnIZXOhLT08nV65ckSnT399fZduouZO64aqOFV2T1UF5eTkJCAhQ+nw22uXVszrmXs8//zwhhBDO3/CdO3dOZ54EG5A+SZg/fz6io6PpY6mpqZg4caIWrdIeV69eRXV1NczNzQFIt+ItLS1FTk5Ot/kXLVqEBw8eID4+XqVyNAUVrsLb2xsA4O3tjbKyMmRlZXWbf9WqVRg2bBhCQ0Nljnt5eeGVV14BIN1yfubMmb0mPABXPqCwsLBQm63qgKl+ExMTWFpaYuPGjQCkTycnTZoEABgwYACGDh0KADAzM8PAgQPh7++vQRXdw1SbPPvZtg9NwtQ2ef0zLS0NVlZWdF5fX1+UlJQgNzdXQyqUh03d6KMP2LbNzz//HGfOnMHu3bu7hLiRl6YN2GqLj49HdHQ0jI2NZY7rmi4KLvSNHz9eZpy9ePFir5qrcVXHiq7Juggb7fLqWZ1zL05v+Kqrq5Gbm4vJkydzWaxaEAgEuHTpUq96Va4MPB4Py5cvx+XLl3Ht2jUA0vXSEyZM0LJl2uH27dsApJNdQBpsEwDu3r3bJW9BQQGOHz+OZ555BgsXLoS/vz+SkpJYl6NJcnNzYWtrS9tjbGwMGxsb2t7Hqa2txd69e+Hs7IyoqCgEBQXRW25TcVsoCgsLMXPmTPUL4ACufNBbYarfyMgI+/btw7p16xAeHo6srCzs3r1bJo9EIsGWLVsQEREBW1tbjWnoCTZ1C3RvP9syNAlT2+T1TzMzMxQUFEAoFAIAzM3NYWZmprXYrWxgUzf66AO2bXP06NFwc3PDqlWr4O/vL/OwXV6aNmCjLT09HUOGDIGbm1uXNF3TRcGFPupcih9++AGzZs1Sn9Ecw4UPeus1mY12efWszrkXpzd8CQkJ+Ne//sVlkZzz6NEjzJw5E5cvX0afPn1w4MABRERE9LoNGdjg4+OD5cuXY9u2bRCLxaiqqoKzs7O2zdIKjY2NAP7X4aj/NjU1dcmbmZkJQgiCg4ORnJyMtrY2hIWFIS8vj1U5mqS5ubnLWndjY2O0t7d3yUvpW7FiBTZt2oRp06YhKCgI5eXlMvlaWlqQnZ2NyMhItdrOFerwQW+Cjf7AwEBERkbi5MmTyMvLg0gkkkk/fPgwkpOT8f777+PUqVNqtZsJbLQB3dvPtgxNooxtT/bP4OBg8Hg8xMfHQygU4uTJk2hra8PAgQPVajsXKFs3+uIDtvojIyOxa9cuCAQCiEQirFmzhlGaNmCqraGhAadPn+4x1rCu6aLgSh+FWCzGvXv3MHLkSM5tVRdc+KC3XpOVHbvk1TPXcy/ObvgOHjyIWbNmwczMjKsiOUcsFiM4OBgzZ87EggULMHbsWHz88cdwcnLSqyDH3fHmm2/i8uXLOH36NMaOHattc7RGv379ZP7u7OwEgG4/CK6srAQAmJqags/nIygoCBKJBOfPn2dVjiZxcHBAa2urzLGWlhbY29t3yVtTUwM7Ozu4uLgAkC5fNTIyQmpqqky+jRs3Yvv27fTbTF1HHT7oTbDRHxUVhdDQUPz666/Iz8/vcgGeO3cuMjMzsWDBAmzZskWtdjOBjTage/vZlqFJlLHtyf5pZ2eHrKwsVFVVISYmBjdv3oSzszNGjx6tVtu5QNm60RcfKKvfwcEBu3btQlpaGqs0TcJU2+rVq+Hg4IA9e/Zgz549aG1txalTp7rsIqwruii41tfblnMC3Pigt16Tle278uqZ67kXZzO4o0eP4j//+Q8A6d17W1sbzM3NsXXrVq5+QmVOnDiBP//8s8sr8rCwMIwaNQqffPIJcnNzUVxcjGXLluH333/HuXPnEBERgaamJuzfvx9vvvkmDh06hNjYWHp5X3l5ucw3croIn8/HggULsGTJEiQkJGjbHK3h6+sLAPSbDOpGjVp33draCgsLCxgZGWHw4MEAQG+L6+joyLgcbTF27FhUVlZCKBTC1NQUjY2NaGhogJ+fX5e8rq6uqKurg0gkAp/PB5/Px+DBg2Ue2hw4cABBQUHdLq3RVbj2QW+Dqf7q6mocOnQImzdvBgCcPXsWw4cPR3l5OZycnGTyzpo1C4mJiRrT0BNs6vZxHrdf2TI0AVvbeuqfHh4eSEhIACEE/v7+iImJ6RUPbJSpG33ygSpt09PTE3Z2dqzTNAVTbR4eHigsLKT/FgqFEAgE3W7brwu6KLjWl5ycjJUrV2rEdq7gwge99ZqsbN/tqZ7VMffi7A3fiRMnkJ+fj/z8fHzxxReYOXOmTt3sAUB2djYGDx4MHk9Wtru7OwghyMnJgZ+fHz777DMA0qWQBw4cQHl5OUpLSxEbG4s7d+6gX79+OHHiBFpbWzF37lytL+NjSmRkJGpraxEQEKBtU7SGn58f3N3dUVtbC0D6BGbkyJEYMWIEsrOzYWtri7CwMABAUFAQ7OzscO/ePQDScCM8Hg9BQUFyy9Emo0aNwujRo+kPha9du4ZJkybRg8atW7fop1CvvvoqXFxc6LwikQgdHR30xh0HDx6Eo6MjvLy80NraivT0dJ34zkkRXPoAkMbE6U0w1W9ubg6xWEwvOfHw8MDw4cPpt9TUQwwAuH//vsIlSJqATd32ZL+iMrQJG31M+md8fDw8PT17zQoWNvoB/fMBG/1isVhmD4Jjx44hJiZGYZq2YKotKioKW7dupf/Z2NhgxYoVmDx5sk7qouBCH4VYLIZAIICnp6dWtCgLFz5gck3WRdiOXUDP9ayuuZduP+7iGB6P1+UbFQD0DkF8Pp/edZHC1NQUgHRXHSMjI8yePRuAdKfLlStXwtraGsuXL1ez5dzQ3Svnpw0ej4fvv/8e4eHh2L17N0pLS+k3ta2trRCJRPQNfN++fZGUlIQ5c+bgq6++wtmzZ7F161a6c/ZUjrbZt28f1q5di5qaGhw7dgz79++n0yZPnoy4uDjMnz8ffD4fKSkp+Oijj9Da2oqMjAwkJiaiX79+2LlzJ9577z2Zmx0nJyed3/SAggsfANJvMr/77jsAwHfffYeFCxdqfdkuE5jqT0xMxLJlyzBnzhzk5ubis88+g7m5OU6dOoW3334b4eHhsLe3h7W1Nd566y3tCXoMJtrs7e3l2i+vDG3DRF97e3uP/VMkEuHu3bs4fvw4bG1tsXfvXi2oUB6mbVfeGNWbfcBU/x9//AF/f3+EhobCxcUF/v7+eP311wFAbpo2YaqtJ3RVF4Wq+ihSU1N77cZ6qvpA0TVZl2Grvbt6VuvcS1H8BmXi8LFBk3H4Tp48Sfh8Pmlra5M5np+fT0xMTEh5eTmpq6sjdnZ2dJq3tze5desWIYQQY2NjmfNOnTpFhg0bRsaNG0eam5vVajuXcfhUobfH4aNoa2sjd+/eJUKhUOZ4WVlZF30dHR0kPz+fNDU1MS5HGbiIw0chEolIcXExkUgkMserqqq6HBOLxaSoqEgj9aqJOHwUuuoDRagah4+CqX4qn0gkkslXXl5OCgoKuhxXBq7i8FEw0abI/p7KUAau4vBRsGm7T9LU1ETu37+vUkzQ7tBEHD4KVfQToj4fKELVOHwUTPXX19eToqKibmN9yUtjCxdx+ChUrVsudVFwEYePQlV9hBBSUVFBGhoaOLNJU3H4KLjwgaavyarG4aNgo53reu4JKg7fU/WGLzg4GN7e3ti7dy+WLFlCH9+3bx9WrFgBR0dHtLW1ob29HYQQSCQSNDc3yywNovjll1/w+uuv49atW5gyZQouX76MKVOmaFKOARUwNzfH888/3+V4d7uXmpqaYtiwYazK0TYmJib0R8+P090HxMbGxnB1ddWEWRrlafcBU/095Xv8m1Vdg4k2Rfb3VIYuwKbtPomVlZVMDLreiCr6gd7vA6b6+/Xr1+ObD3lp2kTVutVVXRSq6gOkq7F6M1z4oLdek9lo13Q9P1U3fMbGxjhz5gyWLl2KtrY2eHp6Ii0tDaampvR3exYWFvD398fUqVMxceJEmJub49ixYygqKkJnZycOHz6MsLAwPHr0CIsXL8a8efMwZMgQnfjg34ABAwYMGDBgwIABAwYex4gQ+TsSxMTEQCAQwMLCQi0G1NXVYfbs2Th9+jR27Nihsady1dXVqKysxJAhQ2BpaSmTJhKJ6Fh1VVVV6N+/f5fzxWIxJBIJysrKMHjwYPo7QHUhEAiQmJgIDw8P3L59W2sxo0pKSjBo0KAugSM1gampKUxNTfH888/j1q1b6Ojo0LgN6uTxdqev1NXVwcTEBNbW1to2RWepr6+HkZGRTj/FZguPx0NraytmzpyJn3/+GWKxWNsmcU5xcTG9s68+0tTUhGeeeUYv644rzM3N8eDBA51+O64MtbW12LBhA2JiYrrMl/QBfe+7IpEI1dXVGDBggLZN0Vk6OztRXl6u87E6laG0tBTnz59X/IZPKBQiJCQEzz33nFoMOXfuHCQSCVpaWtRSfk/Y29v3+HqZz+fTk+7ubvYA0Ns7Dx06VD0GdkN7ezvEYjE8PT21Fkvvk08+wTvvvKP2G9zuqKqqwokTJyAWizFixAi9iydIbZPfG3aTU5ZTp06hf//+GDdunLZN0VkuXLgAExMTvdpNt7OzE3FxcZBIJBg4cCCCgoK0bRKnSCQSfPrpp3rdd7OystDY2Gj4dEEOxcXFOH/+PCIiIrRtCqesX78egHRupI9t/OOPP9ZLXRQVFRVITk7Wa42q0tjYiF27dumlj6idbBXe8NXX18PV1VVtE7SMjAx0dHSgrKys121/rkkkEgmqqqrQ0tKi1vpQxKNHj/Diiy/Su5dqEoFAgMrKSrS2tmLQoEF6d9NQWFiIhoYGvdP1OOfPn4e9vb1ea1SVX3/9FWZmZnrlo46ODpSUlEAoFILP5+uVNkB6Q1tWVqZ3uh7nzz//RHt7u15rVBUej4eOjg6989HDhw/R2dmJ+vp6vdMGQO/7rkAgQGNjo15rVJWKigrU1NTopY+oUCacxeEzYIAtR44cwc8//6xtMwwYMGDAgAEDBgwY0FsMN3wGtEZSUpLalgoroqSkBIcPH8aDBw8Yn3Pp0iVUVFSwTtMGTPURQnDp0iUcPXoUVVVVMmmFhYW4ceOGzL+6ujp1ms0pbOo4LS0NKSkp3eqTl6bLsG3j3bVhXdVeUFCApKQkhdquX7+OI0eOyARrfjzt8OHD3aZpGy705ebmyvTd6upqdZnLOUz1A/J9QHHnzh1cv36dSxPVClf6mfhG07Adl+7du4eUlBTU19fTx3JycnDkyBHk5eWpy0yl4ULfzZs3kZSUpFP1xgZ9r2N5MNWuaH6lDv2c3/A1NjaivLwc5eXlEAqFXBevFerr63Hnzh1tm6FXSCQSFBUVwd3dXeO/nZGRgejoaPj5+WHNmjXIyMhQeM7t27cRHBwMgUDAKk0bsNEXFhaG+Ph4rF27Fh4eHrhx4wYAaf1MmDABgYGBCAkJQUhICPz9/XvNBYiND1avXo2jR4/iyy+/hLe3t8ygKy9Nl2Hbxrtrw7qqPTk5GTNmzICnpycCAgJw5syZbvNFRERg06ZNcHBwwHPPPYfDhw/TaUuXLsW4ceMwZ84cjBgxAllZWZoyXyFc6CssLISPjw/GjBlD/3vygY6uwlQ/IN8HFPX19Zg6dSp++OEHdZrNGVzpZ+IbTcNmXKqvr8e8efOQkZGBkJAQ2NjYAJB+j5SXl4fp06cjNTUVX375pabMVwgX+tavX4/r169j3LhxiIiIwPnz5zVlPifoex3Lg6l2RfMrtelXFLCPTeB1kUhEvLy8iJ2dHXF2dibV1dUKz9Fk4HVl2b9/P3n48KFWbdC3wOs3btwg8+fPZ3UOF4HXRSIRcXNzIzk5OYQQQrKzs4mbm5vcIK4dHR3k3XffJU5OTiQzM5NxGlu4CLzORl9mZiZts1gsJlOmTCEhISGEEELS09PJlStXZMr19/dXyTZCNBN4nY0PHj58SAoKCggh0uDgjo6O5KefflKYpk5UDbzOto1314a51s5V4PW2tjZib29PwsPDCSGEhIaGkkGDBnUJsP3LL78QAGTr1q2EEOm4ZWlpSaqqqsjVq1fJ+vXryaVLl8hrr71GAJDx48crbRMh3AVe50IfIYTExsaSZcuWkaioKBIVFUXi4uJUtk0TgdeZ6idEsQ8o3nzzTQKAREVFqdV2QlQPvM6Vfqa+YQoXgdfZjEuNjY3Ex8eHnDhxQua4UCgk1tbWtD/q6uqIs7Oz0jZRcBF4nQt9AoGAeHh40H9fuXKFuLq6kvb2dpVs01TgdV2uY0WoGnidjXZ58yt16KcCr3P6hu/IkSP48ccfUV1djbKyMtjZ2XFZvNZ49OiRYTtbFZBIJJg/fz6io6PpY6mpqZg4caLGbbl69SpKSkrg7e0NAPD29kZZWZncJ/zx8fGIjo7udmdSeWnagI0+Ly8vvPLKKwCkMSpnzpyJ5uZmAMD48ePh7+9P57148aJW6ksZ2PhgwIAB9E67ZmZmGDhwIK1bXpouw7aNd9eGdVX71atXUV1dDXNzcwBAnz59UFpaipycHJl8ly9fBiDdRAMAPDw80NraivPnz+P555/Hxx9/jICAACQkJACAVsLMdAcX+gDgzJkzcHFxQWBgIOLi4vDBBx9oUIXyMNUPKPYBAOzcubNXhbnhSj8T32gaNuPSqlWrMGzYMISGhsocNzExgaWlJTZu3AhA+kZl0qRJ6jeeAVzoS0tLkwlN5uvri5KSEuTm5qrXeI7Q9zqWBxvt8uZX6tTP2Q1fZ2cn1q9fk2j3mwAAIABJREFUj1mzZmHHjh06v+PmwYMHsWHDBjx8+BAnT55EXFwcPUju37+fHhhramro8A3FxcXYtWsXNm7caFjiyQIej4fly5fj8uXLuHbtGgDp90ITJkzQuC25ubmwtbWlJ3jGxsawsbHB7du3u82fnp6OIUOGwM3NjVWatmCjr2/fvjJ/FxYWYubMmQC6ToB/+OEHzJo1S01WcwvbOgakDyW2bNmCiIgI2NraMk7TRdjoV9SGdU07pYEKi0NpvHv3rkw+atJUWloKQDpxBqTj+TPPPEPn6+zsBAD84x//UKPVzOFCX3Z2Nq5evYpVq1Zh8uTJePbZZxktW9cFmOoH5PsAkPaDuro6rVxnlIUr/Yp8ow2Yjku1tbXYu3cvnJ2dERUVhaCgIFy5cgWA1B/79u3DunXrEB4ejqysLOzevVvjWrqDC31mZmYoKCigP4cyNzeHmZkZXY+6jr7XsTzYXHflza/UqZ+zGz4ej4eLFy9i1apV2Lx5M5YuXcpV0Wph/PjxiIuLg4ODAyZMmIBNmzbR35NVVlbipZdeAgAcP34coaGhqK6uxrvvvouFCxdi/vz5CA4O7nYQNtA9Pj4+WL58ObZt2waxWKy1AOPNzc30OnEKY2PjbgPZNzQ04PTp05g7dy6rNG3CRt/jtLS0IDs7G5GRkV3SxGIx7t27h5EjR3Jqq7pQxgeHDx9GcnIy3n//fZw6dYpxmi7CVD+TNqxr2hsbGwH874JJ/bepqUkm3xtvvAEzMzP88MMP+Ouvv+gJ06BBg2Ty/fTTT3jxxRe7bffagAt9RkZG+PTTT7FgwQI888wzePDgAaZOnYpHjx5pUIlyMNUPyPdBc3Mztm/fjtWrV2vIcm7gSj/T9q9JmI5LmZmZIIRgxYoV2LRpE6ZNm4agoCCUl5cDAAIDAxEZGYmTJ08iLy8PIpFIYxrkwYW+4OBg8Hg8xMfHQygU4uTJk2hra+s1wcD1vY7loezcq7v5lbr0c3bDZ2RkBBcXF8yePRuXL19GUlISGhoauCqec4YMGYJx48bh3Llz6NOnD1xcXHDw4EFIJBKYmZnRT8gqKirg4OCAAwcOwNPTE8bGxrC3t8e0adOwY8cOLavoXbz55pu4fPkyTp8+rbWg6Q4ODmhtbZU51tLSQr/FfZzVq1fDwcEBe/bswZ49e9Da2opTp04hLy9Pbpo2YaPvcTZu3Ijt27fTT5Yfpzct5wSU88HcuXORmZmJBQsWYMuWLYzTdBGm+pm0YV3T3q9fP5m/qTd0T15o3d3dkZGRgddeew1btmxBTk4OLC0tZd72PHz4ECkpKTh27Bj4fL76jWcAF/p8fX2xdu1afPPNNygrK8N7772H5uZmnDt3TmM6lIWpfkC+D9atWwczMzNs2LABP/74IwDpjpXaHp8VwZV+Ju1f0zAdl2pqamBnZwcXFxcAwKJFi2BkZITU1FQAQFRUFEJDQ/Hrr78iPz9fZx66cqHPzs4OWVlZqKqqQkxMDG7evAlnZ2eMHj1aYzpUQd/rWB7Kzr26m1+pS7/CwOvK4OjoiClTpqCxsbHLAKZLREREYP/+/ZBIJFi3bh1WrVqFUaNG4fXXXwcgvdlzdHQEIJ0ctLW10ee6urri999/14rdvRU+n48FCxZgyZIl9Lczmmbs2LGorKyEUCiEqakpGhsb0dDQAD8/vy55PTw8UFhYSP8tFAohEAhQUVEhN02bsNFHceDAAQQFBfW4rC85ORkrV65Ul8mco4wPKGbNmoXExETWaboEU/1s2rCuaPf19QUA+oknNSGmvptobW2FhYUFjIyMMHbsWIwdOxa3bt1CYmIi1qxZQy9j7uzsRFRUFH744QcMGjQIZWVlaGtrw7PPPqsFVf+DK30UFhYWSExMxMmTJ2WWsuoqbPQD6NEH9fX1SElJkSnr+vXryM3NhZeXl0Y1sYEr/YrStAHTccnV1RV1dXUQiUTg8/ng8/kYPHgwzMzMUF1djUOHDmHz5s0AgLNnz2L48OEoLy+Hk5OTNmTRcKEPkI7LCQkJIITA398fMTEx3T6I1UX0vY7loey848n5lTr1c7ppi1gsBiD97sPR0ZG+e9dVqDvonJwcTJ8+HQ4ODjhy5AiGDx8OQLqcc/r06QCAV155BWlpafS51dXV9I2hAeZERkaitrYWAQEBWvn9UaNGYfTo0fSHtNeuXcOkSZPom51bt27RT2mioqKwdetW+p+NjQ1WrFiByZMny03TJmz0AdJvWR0dHeHl5YXW1lakp6fLrDkXi8UQCATw9PTUrBAVYOsDalIFAPfv35d5miYvTVdhql9RG9ZF7X5+fnB3d0dtbS0A6RPUkSNHYsSIEcjOzoatrS3CwsLo/M3NzYiIiMCMGTPwySef0MdXr16Nq1evYv78+Rg3bhx8fHzQv39/TcvpAhf6/vjjD6xYsQJ//fUXAOnqG09PTwQGBmpcD1vY6ge698HevXtRX1+P+vp6HDp0CIA0FMe8efM0qoctXOlnkqZpmI5Lr776KlxcXOh8IpEIHR0dmDRpEszNzSEWi+llch4eHhg+fHi3b0A1DRf6Hic+Ph6enp5YvHixZoWogL7XsTzYzjuA7udX6tTP2WODc+fOITIyEnPnzoW1tXWv2BWMz+fjH//4B93RFi5cCIlEQqdXVVXRr2NnzJiB8+fPY/HixZgwYQKEQqFOTIB6G9299tY0+/btw9q1a1FTU4Njx45h//79dNrkyZMRFxeH+fPna80+VWGqb+fOnXjvvfdkNlhycnKS+UA8NTW1V216QMHUB6dOncLbb7+N8PBw2Nvbw9raGm+99RYAyE3TdVRt47qqncfj4fvvv0d4eDh2796N0tJSJCUlAZC+/RCJRGhqakJzczNOnTqFEydOIDIyEuHh4fRbke+++45+elpcXAxAujxOF1ajcKGvrKwMX3/9NXbu3Im3334b7u7u2LZtG/0GQZdhqh+AXB/0VrjSr6u+YToupaSk4KOPPkJraysyMjKQmJhI98/ExEQsW7YMc+bMQW5uLj777DN6V1Nto6o+kUiEu3fv4vjx47C1tcXevXu1J0ZJ9L2O5cH2utvd/MrKykp9+hXFb2ATh6+qqorU1NSwig+h7Th8TU1N9P93dHTIxJirrKzskr+2tpY8evRII7Y9jr7F4VMGLuLwUYhEIlJcXEwkEonM8aqqqi7HNAUXcfgouNJXUVFBGhoaOLGJEM3E4aNg6oPy8nJSUFBARCJRlzLkpakLVePwUajaBrjUzlUcPoq2tjZy9+5dIhQKZY6XlZWRjo4OUllZSVpaWlT+HaZwFYePQlV9LS0t5O7du91ew5RFE3H4KBTpJ4RovI6ZoGocPgpV9XPtGy7i8FEwHZfEYjEpKirqdr5BlcHVuMxFHD4KVfQ1NTWR+/fvdxt3URU0FYePQhfrWBGqxuGjYHPdlTe/4lI/FYeP04XBij5O1EUej3liamoqk9bdEp/e8B2EAcWYmJh0u+S4N7bh7uBKn4ODA1cmaRymPqC+0+0OeWm6jqptQJe1m5ub4/nnn+9ynNr5VxeWZ6qCqvosLS27Pb+3oEg/0PvrWB6q6tdl3zAdl4yNjeHq6sqqDF1AFX1WVlYyc9Leir7XsTzYXHflza/UoZ/Tb/gMGDBgwIABAwYMGDBgwIDuoPANn52dHe7cuaO2764aGhowaNAgDBkyRCfWmOsqPB4PAwYMgLW1NSoqKrS2xbaLiwsuXLgAY2Njjf92fX09BgwYACsrK1RWVvaKbcbZUFdXBxsbG73T9TgtLS0oLS3Va42qUltbCxMTE73yUWdnJ9zc3GBmZoaOjg690gYAhBAMHjxY73Q9zqNHj9DW1qbXGlWlvLwcpqameuejwYMHg8fjwdbWVu+0AdIwXfqoi6KmpgZ9+/bVa42q0tzcDHt7e7300dChQwEwuOEzMTFBdnY28vPz1WJIZWUlRo0a1Ss+yNQ2fD4fPB4PxcXFMhtraBKxWIxffvlFKzfnxsbGMDU1hbGxsVZ9oC6EQiGamprw888/a9sUtVFeXo5Hjx71iiDQ2qKqqgpGRkb0Tn36AI/Hg7m5OXg8Hqqrq/WyjXd2duqlLora2lpYWVnptUZVMTY2Rk1Njd75iMeTLgYTi8V6pw2Q7iyvj7ooOjo60NjYqNcaVUUsFqOtrU2vfaTwhq+iogLz5s3D+PHj1WLAhg0b0Nraivz8fJndArujpqaGjk9jZGQES0tLWFtbq8Wu7igpKUFBQQGGDBkCV1dXVFdXa+ybL4lEguLiYjg4OGDMmDFa2yHUx8cHJ06c6PK9oyYQCASIjo7GgAED8OKLL+r8FttsKSwsxNKlS/Hf//5X26aojdjYWLi5uXXZWtzA/0hISICZmVmv2o5bER0dHfDz80NwcDAGDhyINWvWaNskTuns7ISPj49eTxa+/fZbPHz4EP/+97+1bYrO8ttvv2Hr1q16N4b7+vpCIpGgsbERhw8f1rY5nOPp6anXfZeaO+lbu+SSiooKzJ49Wy99RIWa61Xf8DU3N2Pq1KkIDw/HpUuXsH37drz88ss4ffq0Wn+3rq4Oc+bMQUpKCvr27Yvs7GzMmjULR48eVevvqpMjR45ofYDTBRsMGDBgwIABAwYMGNBnON2lU924urpi5MiRcHFxwezZswFIgx3Onj0b1dXVannrRAjBG2+8gblz5yIiIgIA8MILL2DMmDFITk7m/Pc0RVJSEjZt2vTU22DAgAEDBgwYMGDAgD6jlhs+Qgju3r0La2trzrcVffLbMWNjYwiFQojFYpiamuLo0aOor69HTU0NoqKiYGJigkOHDqGkpATBwcHw8vJCZmYm7ty5g0WLFqGoqAgXL15EaWkplixZgpaWFuzfvx9vvvkmDh06hL/97W+4du0azp49K/O7Li4ueOONNwBIg/eePXsWTU1NCA4OhqenJwDpEr19+/Zh8eLF+O9//wtfX1/83//9H5KTk3H//n1MmjQJL774ItLT03H//n2Eh4dz6quekEgkKCoqgru7u0Z+TxdtKCkpQWZmJl5++eUetwWmqK+vx19//QVA+i2Dr68vnXbz5k0IBAL4+/vr1BbCbPRR3Lt3D7du3cLEiRNhY2MDQL52XYcLHxBCkJaWhpqaGrz22ms6vd35kxQUFOC3336Dn5+fXP23bt2CQCCAs7Mz/Pz8ZNJyc3PpZfSAdHMDXQhdwrRuc3JykJ+fjxEjRsDLy4s+XlhYiJqaGpm87u7uOhN2h6k+eeMP1W4nTJigM7qYwqbvyvOBMmOALsCV/p7avzZhok1e/9T1MVnVsYnixo0bGDFiBCwsLNRprlpQtY4fp7t5iS7DVd8FuG8DnC/pvHLlCiIiItDR0YFBgwZxXTwAqRO++eYbxMfHY8mSJdi7dy8sLS2RlpaGI0eOYOHChcjPz6ej3L/22mv4/PPPMXDgQABAY2Mjhg4dipqaGuzduxeLFi2Cm5sbpk2bhtLSUsTGxuLOnTvo168f0tLS4Orq2u2mMkOGDEF1dTXeffddLFy4EPPnz0dwcDDu3r0LAHjw4AH+85//4OLFi5gzZw6WLVuG4uJivP7669iwYQPs7OwASJeqUjeJmiAnJwcvvPCCxn5P12zIyMhAdHQ0/Pz8sGbNGmRkZMjN/8EHHyAgIAABAQFYv349fXz9+vW4fv06xo0bh4iICJw/f17dpjOCrb76+nrMmzcPGRkZCAkJkRlUe9Ku63Dlg7CwMMTHx2Pt2rXw8PDAjRs3NGG+yiQnJ2PGjBnw9PREQEAAzpw50yUPIQT//Oc/sXLlSowZMwYbN25EYGAgxGIxAOkF2cfHB2PGjKH/VVVVaVpKF5jWbUxMDPLy8jB9+nSkpqbiyy+/BCB92DRhwgQEBgYiJCQEISEh8Pf3R0lJiSZl9AhTffLGn9WrV+Po0aP48ssv4e3tjbq6Ok2ZrzJs+q48H7AdA3QFrvT31P61CRNtivqnLo/Jqo5NgPRbstWrV2PMmDFoaGjQlOmcwUUdA/LnJboKV31XbW1AUYT2d955h2RkZDCK5p6RkUH8/f1JR0cH4wjw8fHx5JtvviFjx44ljY2NCvO//fbbZOXKlaS+vp7cuXOHzJkzh7z44oukrq6ONDY2EoFAQK5cuUJCQkJIXFwcfd7KlSvJ+vXrCSGEfPjhh0QikZDExESyYsUKcuTIEbJnzx6yePFiIhKJiLGxMX3eunXriKenZ4/2bNy4kURHR9N/L126lLz//vuEEEKEQqFMWS+99BK5cuUKIYSQ6Ohosm7dOtoHisjPzyczZswgsbGx5ODBgwrzU3R2dpK3336bREVF0cfi4+NZlfE43t7erOqXSxvu3btHQkNDyeeff06+/fZbVudSiEQi4ubmRnJycgghhGRnZxM3NzfS2dnZbf7CwkKyefPmLscFAgHx8PCg/75y5QpxdXUl7e3tStlFCCEFBQUkODhY6fMJYa+vsbGR+Pj4kBMnTnRJ60m7Kqxfv54cOnSI0zKfhCsfZGZmkszMTEIIIWKxmEyZMoWEhISo1XZCCPnqq6/Ijh07lD6/ra2N2Nvbk/DwcEIIIaGhoWTQoEFELBbL5Lt06RIBQD788ENCCCEpKSkEAElPTyeEEBIbG0uWLVtGoqKiSFRUlMx4ypb29nbi4+NDvvvuOxIbG6t0OUzrVigUEmtra1pzXV0dcXZ2JoQQkp6eTo/DVJn+/v5K20SItH2MHDlSpTIoW5jokzf+PHz4kPw/e2ce1sS1//93ApFFEARFS0UUFWVRKFREqpWr2AIitdV6vWKrgl7c6lVB/bYWbSs/pVS9VXApLtQFraLVultaRVSsKFKwIooCyir7GiAJOb8/eDLXCIRJMkkGmtfz8Ghmzpz5vD9nme2c88nJySGEtPq9X79+5Ny5c0rbdvDgQbJ582al85GFPG1Xlg/k7QOYIiUlhXz66acKH8+Ufln1XxHeeustkpmZSaZMmaJwHnS1yWqfquqT7ezslM6Dib5JQmVlJQFAiouLlbaLkP/dO6kaJsqYENn3JaqipKSEeHp6Knw8U21XApN1YMSIEYQQQhj7wicUCjFv3jx8++23aGxsZCrbdjEwMICJiQns7Oxw4MABZGVlIS4uDk1NTdiyZQuMjY3h5OQktepnSEgIdu/ejezsbPTv3x8cDgdlZWUYOHAgZs2ahaCgIOzcuRO6utKjXF1dXZGTk9NhHMKioiI0NDRQv62tranl1F8ffsrlciEWiwEAS5Yswb59+5CXl6fSoYBcLhcrVqzAzZs3cefOHQDAtWvXMHHiRJWdk402SEhOTkZ+fj6cnJwAAE5OTigsLMTt27fbTb9p0yZcvHgRMTEx1JcPoHW4lJGREfXbxcUF+fn5SE9PV62ATpBX3+rVqzF8+HD4+/u32deRdrbDlA9GjRqFcePGAWgdOj5jxgzU19er1ngGSE5ORnl5OTUqoWfPnigoKEBaWppUuubmZgDA3r178eTJE1RUVEBXV5fqjy5evAgrKyt4e3sjIiICa9euVa+QdqBbtrq6ujA0NMSWLVsAtL559fLyAgCMHz8eHh4eVNrff/8dkyZNUpMC2dDVJ6v/eeONN6i4S3p6enjzzTel9LIZedquLB/I2wewBab0y6r/moKuNlntk819MhN9k4SuOIwTYKaMAdn3JWyFqbYrQRV1gLEHvsTERJSVleHx48f4/PPP4erqqpI4UuS10A0VFRVoamqCtbU1du/eDTMzM4wcORJCoRCEEOoBy9LSEn5+fvjwww8REBAAoLVAtm/fjsLCQgBAXFwclV6Cn58f7O3tqcYpoaamBgkJCRg3bhwSExOp7eXl5Xjvvfc61TF48GC4uLhg0aJF+PDDD+X2gzw4OztjxYoV2LlzJ0QiEcrKymBpaanSc7LRBqB1TpKZmRn1MK6jowNTU1M8fPiw3fSurq6wsbHB6tWr4eHhQQ2N0tPTQ05ODgQCAQBAX18fenp6Go8NKI++yspK7N+/H5aWlggJCYGPjw9u3bpF7e9IO9thyge9evWSSpubm4sZM2aoXoCSSHRKXl5J/CAZai5h4sSJGDduHMrLy+Hm5obo6GicOXMGgwcPRmpqKpKTk7F69WpMnjwZQ4cOZcWQOLply+FwEBsbiw0bNiAwMBC3b99GTEwMte9VTpw4gZkzZ6pHQCfQ1Uen/xGLxdixYweCgoJgZmamPhFKIE/bleUDeft5tsCUfln1X1PI03Zf5dX2yeY+mYm+qavDRBl3dl/CVphqu6qEsQe+zMxMTJgwAUFBQdi1axfeeOMN7Ny5k6nsAbROcLx79y5+++03fPvtt9i0aRPmzJmDjRs3ws/PD87OzoiNjcXatWvx8uVLnDt3Drm5udTxq1evhouLCzV37sMPP8TYsWMxdOhQjBw5Eqamprhw4QJaWlqoWDMcDgfnzp1DcnIy/vWvf2H//v2IiYnBuXPn4OXlhWnTpsHT0xOLFi3CiRMnIBAIqBh5V65cQUtLCxISEvDw4UM8f/4cv/32G1paWgAAn332Gd566y3o6ekx6qf2mD59Om7evIkLFy7Azc1N5edjqw319fVtxoLr6Oigqamp3fTBwcH44YcfkJ2dDaFQSMUP8/X1BZfLRWRkJAQCAc6ePYvGxkZqnqimkEffjRs3QAjBypUrsXXrVkydOhU+Pj4oKSkB0LF2tsOkDyQ0NDQgNTUVwcHBKrWdCWprawH876Iq+beurk4qHY/Hw8mTJ2FpaYmamhpkZGTgjz/+oI75+uuvMX/+fPTu3RvPnz/HlClTUFxcrEYlbZGnbL29vREcHIyzZ88iIyNDavEZCSKRCE+ePIGjo6PKbJYHuvro9D9Hjx5FfHw8PvvsM5w/f14t9iuLPOUrywfy9vNsgSn9AL36r04UKRNZ7ZNtfTLTfVNXhIkypntNZhtMtl1VwdgDn4GBgdTXt3HjxqGoqIip7AG0fvbMzMzEH3/8gbVr1+KLL77A77//TgWC9ff3x+PHjxEREYEff/wRiYmJUqtAPn36VKpz4HA4OHr0KHJzc3H79m1MnToVU6dOBSFEKjC0paUlLl++jB07duCdd97BnDlzMGfOHHA4HHA4HOzatQubN2/Gu+++i23btoHLbXXrlClTQAjB5MmT4eDggPz8fHz11VfQ0dEBAHh5eantJprH42H+/PlYunSpRoZSssUGCwuLNsNzGxoaOl150MLCAj/88AP1Ndfc3By3b99GWVkZwsLCcP/+fVhaWsLV1VVVptNCHn0VFRUwNzenhvAtXLgQHA4HV69ebZPnq9rZjip8sGXLFuzatavNkG82YmJiIvVb8oLp9YtRaWkp3nnnHSxevBi7du0Ch8NBeHg4kpOT4eLigvXr1+PAgQMoLCzEkiVLUF9fjytXrqhNR3vIU7YhISHw9/fHH3/8gaysLOpF3KuwaTgnQF8fnf5nzpw5uHHjBubPn48dO3aoxX5lkad8ZflA0X5e0zClH6BX/9WJImUiq32yrU9mum/qijBRxnSvyWyDybarKhhrKe+//z42b94MsVgMLpcLPp+PCRMmMJU9bV795C+Jy3fp0iU8ePAA+fn5iIqKanNM//79aeXdt2/fDpcAVmTZaw6HIzWOV9UEBwdj8+bN8PT0VNs52WaDm5sbSktLIRAI0KNHD9TW1qKmpqbNcvTtYW9vT30dBgBbW1ts374dhBB4eHggLCxM4xcfefRZW1ujqqoKQqEQPB4PPB4PAwcObPeL8+va2QzTPjh48CB8fHxgY2OjThkKIwmdIXlrLHngk8wt4PP5MDAwwJEjR/Ds2TOMHTsWkyZNwt27dxEbG4vU1FSp+RUGBgaIiorC2bNnNb68P92yLS8vR1xcHLZt2wag9RpgZ2eHkpISqf4+Pj4eq1atUqsGWchTd+n2PzNnzmz3usdG5O2fO/KBMv28JmFKP936r04UKZOO2icb+2Sm+6auCBNlLM99CZtgqu2qEsa+8FlbW2PdunUICwvDlStXIBAIWDMvQk9PD+Xl5fj66681bYpGkbyB0OSNu6ZtGDlyJFxdXamJtHfu3IGXlxd14Xjw4AH1lkYkEkktE3z69GmEhYW1yTMyMhL29vZYtGiRGhTIRh597777LqysrKi0QqEQzc3N8PLyoq2djTDlAwA4fPgw+vXrh1GjRoHP5+P69eusnwfk7u6OIUOGUHOoGxoa4OjoCAcHB6SmpsLMzAyzZ8+WCgsjOQ4A3n77bfz1119YuXIlFYORw+HA3t4e3t7eGlD0P+iWrb6+PkQiETWcxtbWFnZ2dlJfOUUiEbKzs9UaEqcz5Km7EtrrfyQP+QDw7NmzLvMFQRH9QFsfdJYPW2FKP536r27k1dZR+2Rrn8xk3/T6WhVdBSbKuLNrMlthqu1KUEUdYPRxcsGCBWhoaEBjYyPef/99JrNWiokTJ2psCKEW9hEbG4v169ejoqICp0+fpuI1AsDkyZMRERGBefPm4a+//oKHhwf8/f1hZWUFDw8PakEeoVCIR48e4cyZMzAzM8P+/fs1pKYtdPXxeDycOnUKX3zxBfh8PpKSkhAVFQUTExP8+eefHWrvCjDhgz179mDJkiVSHW///v01vjBPZ3C5XPz0008IDAxETEwMCgoKcPz4cQCtX/eEQiHq6uoQEBCAhIQEbN68GQBw6NAhbNu2DWPHjsWVK1ewd+9e7NmzB3PnzsWQIUOwc+dOVrxlpVu2UVFRWL58OQICApCeno5vvvlGKp7q1atXWXldoKMvICCgw/7n/PnzmDt3LgIDA9GnTx8YGxvjn//8pwaUKAbd8u2sD5aVD5thQr+RkVGn9V8T0NUGtN8+2d4nM9E31dXV4ciRIwCAI0eOYMGCBV0iBp0EZctY1jWZ7TDVd6msDnQWv0GeOHyKIG8cvr8risbhYxpF4vAxBRNx+CQIhULy4sULIhaLpbaXlZVJbauuriZ5eXltYqkA+SddAAAgAElEQVTU1dWRZ8+etYltpgxMxOGTQFcfIa3xjPLy8tqUa0falUEdcfgkMOEDTaBsHD4JjY2N5NGjR0QgEEhtLywslNJZWVlJHj9+3CaGZENDA3n06BEpLS1V2ham4vBJoFu2knRCobBNHi9fviQ1NTVK20IIc3H4JHSmr7P+p6SkhOTk5LSrW1HUEYdPAp3ypdMHd5SPqlA2Dp8EpvUrWw+YiMP3uk2dtV0m22dnMBGHTwITfRPTqCsOnwQmyljd12Rl4/BJYKrtMokkDh87Zrtq0aImTp48qdIV66ysrLBx40aV5U+XV+OpvUp7E4h1dHRgbW3dZruJiUmXeKvWEUz4oCujr6+PESNGtNn+ejiU3r17tzs3z9DQsN3j2QDdsu0oHdA6vJytdKbPyMhI5vzvfv36qcw2dUCnfDvzgax82MrixYtVGsd4/vz5GllbISMjg5qzpip2796tsfh1Dx8+xHfffafSc0RHR6t1zQd5OX/+PE6ePKmy/Pv27atyHyvDli1b8Ndff6ks/3HjxmHBggVK5aF94NPyt2LGjBmsidujRYsWLVq0SNi9e7emTVAJo0aN6jJDahXBwcGhW+ujg5+fH/z8/DRthsYIDQ3VtAmdwiFE9szA0NBQPHz4EC9evFCJAcOHD8f06dNx/PhxFBUVqfTtVlfGwsICgwcPhqOjI65fv04tpqBuzMzMUFlZCVtbWzx58kSt5+7bty8GDx4MJycnJCYmIjs7W63nVzV9+vRBcXExeDwe7O3tkZmZqWmTGMfW1hZZWVngcrnQ1dWFSCTStEmsw9bWFo8ePYKOjg6MjY3bxM/rivB4PLzxxhuYP38+jh07pva+Q9Xo6OigsbERPXr0wMiRI/HgwQNNm8Q4w4YNQ1ZWFnR0dGBhYYHS0lJNm8Q6BgwYgLy8POjq6mrkGqkqzM3NsXfvXvznP/+RWsyru2BoaAg+nw8HBwdWLADDNH379kVRUVG3vrdQll69eqGiogI8Hg+Ojo4q/VqnbkxNTXHr1q3OH/iCg4Ph5eUFBwcHlRiiq6uLfv36oaqqCk1NTRCLxSo5T1dHR0cHPXv2hIGBAcrLy6VWYVO3HS0tLdS/6j43G3ygKl71qSb8qw5efcjjcrna9t4O3dFHXC4Xenp6MDc3R0lJSbd70H+1nLrri4y/Q/+kLN3VRzo6Ohg8eDByc3O7jaZX0eR9jTrorvWSSbpzH/7RRx8hKyur8yGdpqamuHjxIn766SeVGNKrVy94e3vj3LlzEIlEVOwoLdL07NkTJiYmGD58ONLS0lBdXa0ROyQxRt544w0UFxer9dxGRkYwNjaGvb09UlNTNeYDVWFoaIiCggKYmZlhwIABrFl5jEl69eqFly9fwsDAoNt1qkxhYmKC4uJiGBoawsDAoFuMetDV1QWHw8HMmTNx7tw51NbWatokRuFyuXj58iX69u2LgQMHqmxEjCYxNTVFQUEBjIyMYGJigpqaGk2bxDp69eqFFy9ewNTUVCPXSFUhFAqxbds2hIWFdcuHhfr6ehgZGXXb666RkRHy8/PRu3fvbqtRWfT09FBcXAwzMzNYWVl1qy/Zb7zxBgAac/iqq6sRGBiI8ePHq8SQ7777Dnw+H9nZ2fjtt99gbGyskvN0dR4/foz/+7//Q//+/fGPf/xDY3GVnJ2dkZKSQgW1VyfZ2dkIDQ3Fm2++CU9PT3zyySdqt0GV5ObmYtmyZTh16pSmTVEZ4eHhmDx5MmbPnq1pU1jL9u3b4ebmxoq4jkzR3NwMd3d3NDY2YujQoVi3bp2mTWKUlpYWODs7IykpSdOmqIxDhw6hqKgI//d//6dpU1jL3bt3ER0djYMHD2raFEZxcXGBUCgEn89X6aJnmqK7D3OU3Dt153sLZXn58iVmzZrVLX1kZ2cHgMHA61q0aNGiRYsWLVq0aNGihV1oH/j+phw7dgyXL1/WtBlatGjRokWLFi1atGhRIYyGZaisrIRAIKB+9+zZUztEk6UcP34cW7du1bQZGiMnJwd3796Fu7s77fhrlZWV+PPPP2FjY4NBgwYpnI86YErfgwcPkJ2dDUtLS7i7u6vQYuZhygcSMjMzUV9fDzc3NxVYyzx09csq4/T0dKl51YMGDWo3jqG6yc/Px40bN/DOO+90qI0QgsTERFRUVGDChAno27cvtS83NxcVFRVS6YcMGdJuPEJNoKw+ALh//z6ys7Ph4eHRpWLRAfT0A537IC0tDVlZWXBwcMCoUaNUbTZj0NX/KteuXYO9vT0Vg5GtdVxeba/rortPU9DVV11dTa22zuVy4eLiIrX/3r17cHBw0FhsQWVQtozZWnfpQFd7ZxoV6QM6g7EvfHV1dRg2bBjGjBkDd3d3ODo6IiYmhqnstTCIWCxGXl4ehgwZomlTNEJ8fDymTZsGe3t7eHp64uLFizLT19TUYMGCBVi+fDkGDBhAPQjIm4+6YEIfIQSffvopVq1ahdGjR2PLli3w9vbuMousMFXGEqqrqzFlyhScOHFChVYzBx39nZVxbm4unJ2dMXr0aOqvrKxM3VLakJSUhNDQULi7u2PdunUdzpubPXs2IiMjsX79etja2uLevXsAWvu/iRMnwtvbm4od5eHhwZpJ+srqA4CNGzciJSUFY8aMQVBQEBISEtRlvtLQ1Q/I9kFYWBgyMjLwwQcf4OrVq/j222/VYb7SyKNfwsOHD+Hr60uFKmJrHZdX2+u66O7TFPLoW7t2LTw9PeHp6YmNGzdS21++fIk1a9Zg9OjRXXJhJGXLmK11lw50tXemUZE+gBakE/7973+TpKSkzpKR69evk+LiYur30qVLSV5eXqfHRUZGkgMHDhA3NzdSW1vbafq/K1lZWWTatGkkPDycHD58WKm87t27R+bNm6fQsU5OTqS5uVmp8yvKkydPiL+/P9m0aRM5dOiQQnk0NjaSPn36kMDAQEIIIf7+/mTAgAFEJBK1m768vJwMGzaMzJ8/X6l86JCTk0N8fX0VPl4RuzrSd+3aNQKAfP7554QQQk6dOkUAkOvXrytl38aNG0lcXJxSeXQGUz54lenTpxMAJCQkRCU2v8r3339Pdu/erfDxdPV3Vsbh4eFk+fLlJCQkhISEhJCIiAiFbWpqaiLOzs7kyJEjJDw8XOF8hEIhsbGxIWlpaYQQQlJTU4mNjQ1paWmRSnfjxg1y48YNQgghIpGIvP/++8TPz48Q0nqtunXrllSeHh4eCtskOYejo6NSeUhsUVZfdnY2sbW1pdLeunWLWFtbk6amJqVsO3jwINm8ebNSeXQGXf2EyPaBQCAgxsbGVJ2vqqoilpaWKrWdEEJSUlLIp59+qvDx8uiX0NzcTBYvXkz69+9P+YPpOv7WW2+RzMxMMmXKFIXzkFdbe7ro7FMEOzs7pfOQR19ubi7Ztm1bh3lVVlYSAFL31MoguXdSNUyUsSr6ZzqUlJQQT09PhY+XR7ssjYr0AZ0xYsQIQgghjH3he/fdd9G/f38ArU+vhYWFrBri9ndFLBZj3rx5CA0NpbZdvXoVkyZN0qBVmiM5ORnl5eXQ19cH0DrsuKCgAGlpae2mX7hwIZ4/f47IyEil8lEXTOlrbm4GAOzduxdPnjxBRUUFdHV1u8TQMKZ8IGHPnj2wtLRUmb1MQ1d/Z2V88eJFWFlZwdvbGxEREVi7dq16hbRDcnIy8vPz4eTkBABwcnJCYWEhbt++LZVu1KhRGDduHIDWuFMzZsxAfX09AGD8+PHw8PCg0v7++++s6Q+Z0JeYmAgjIyMqrYuLC/Lz85Genq4mFYpDVz8g2we6urowNDTEli1bALS+Mffy8lKTCsWRR7+EyMhIhIaGQkdHh9rGxjour7b2dNHZpynk0bdp0yZcvHgRMTEx7Y6a6YrDOAFmypiNdZcO8miXpVGRPoAuKlm05caNGyoL48AU2dnZuHbtWpf4TKwMXC4XK1aswM2bN3Hnzh0AreOlJ06cqGHLNMPDhw8BtN4QAACHwwEAPHr0qE3anJwcnDlzBr1798aCBQvg4eGB48ePy52POmFK38SJEzFu3DiUl5fDzc0N0dHROHPmDAYPHqwmJYrDlA+A1jlsVVVVXaq90NUvq4xTU1ORnJyM1atXY/LkyRg6dCgrQg6kp6fDzMyM0qSjowNTU1NKs4RevXpJ/c7NzcWMGTMA/M8fEk6cOIGZM2eq0Gr6MKFPT08POTk51Hx6fX196OnpdYnYW3T1A52XcWxsLDZs2IDAwEDcvn27S0wxkUc/AFy/fh2DBg2CjY2N1HY21nF5tHWkq7N9mkQefa6urrCxscHq1avh4eGBqqoqdZurEpgoYzbWXTrIo12WRnn7AHlQyQPfyZMn8fHHH6sia6UpLi7GjBkzcPPmTfTs2RMHDx5EUFBQtwhu3BHOzs5YsWIFdu7cCZFIhLKysi71xYJJJAGfJY1J8m9dXV2btDdu3AAhBL6+voiPj0djYyNmz56NjIwMufJRJ0zp4/F4OHnyJCwtLVFTU4OMjAz88ccf6hOiBEz5oL6+Hrt27cKaNWvUZzwD0NUvq4w5HA6+/vprzJ8/H71798bz588xZcoUjQeSrq+vh6mpqdQ2HR0dNDU1dXhMQ0MDUlNTERwc3GafSCTCkydP4OjoyLitisCEPl9fX3C5XERGRkIgEODs2bNobGzEm2++qVLbmUAR/UD7Zezt7Y3g4GCcPXsWGRkZUosPsRV59NfU1ODChQudxuRlSx2nq02WLrqaNYE8ZRccHIwffvgB2dnZEAqF3SYuKRNl/Cpsqbt0ULTvel2jovnQgfEHPrFYjOLiYlYO/RKJRPD19cWMGTMwf/58uLm54csvv0T//v27VZDj9pg+fTpu3ryJCxcudJlVBlWBiYmJ1O+WlhYAaNPAAKC0tBQA0KNHD/B4PPj4+EAsFiMhIUGufNQJU/pKS0vxzjvvYPHixdi1axc4HA7Cw8ORnJysehFKwpQPNmzYAD09PXz33Xf4+eefAQApKSnIyMhQsQLloKtfVhm7uLhg/fr1OHDgAAoLC7FkyRLU19fjypUratPRHhYWFuDz+VLbGhoaZK4cumXLFuzatYv64vkqbBsuxIQ+c3Nz3L59G2VlZQgLC8P9+/dhaWkJV1dXldrOBIroB9ov45CQEPj7++OPP/5AVlYWKx8SXkce/WvWrIGFhQX27duHffv2UUHRX++f2FLH6WqTpYuuZk2gSN21sLDADz/8gMTERBVbpx6YKONXYUvdpYOifdfrGhXNhw6MhmUAgJs3b7J2OOcvv/yCx48ft/k8PHv2bIwcORJfffUV0tPT8eLFCyxfvhx//vknrly5gqCgINTV1eHHH3/E9OnTERcXh/DwcGroV0lJidQcOTbC4/Ewf/58LF26FNu3b9e0ORpDsvSx5G2v5GZYMl6az+fDwMAAHA4HAwcOBABqZcJXl37uLB9NwZS+I0eO4NmzZxg7diwmTZqEu3fvIjY2FqmpqVJjz9kIUz6orq7GqVOnpPJKSUlBeno6q5d4p6ufbhkbGBggKioKZ8+e1fiy2G5ubigtLYVAIECPHj1QW1uLmpqaDkOGHDx4ED4+Ph0O/4qPj8eqVatUabJcMKXP1tYW27dvByEEHh4eCAsLa/eBl23Iqx9o3wfl5eWIi4vDtm3bAACXLl2CnZ0dSkpKqLUG2Ig8+m1tbZGbm0v9FggEyM7OxsuXL6XSsaWO09UmSxddzZpAkboLAPb29jA3N1eTlaqFiTJ+FbbUXTooWv6va1Q0Hzow/oXv1KlT1Dh6tpGamoqBAweCy5WWPWTIEBBCkJaWBnd3d3zzzTcAWodCHjx4ECUlJSgoKEB4eDgyMzNhYmKCX375BXw+H3PmzNH4MD66BAcHo7KyEp6enpo2RWO4u7tjyJAhqKysBND65sTR0REODg5ITU2FmZkZZs+eDQDw8fGBubk5njx5AgBoamoCl8uFj4+PzHw0CVP6JBcgySIIks7m7bffVrckuWHKB/v370d1dTWqq6sRFxcHAFi2bBk++eQTzQijCV39ssr4r7/+wsqVK6k4URwOB/b29vD29taAov8xcuRIuLq6UhPY79y5Ay8vL+pm/8GDB9Tb0cOHD6Nfv34YNWoU+Hw+rl+/LjUPQiQSITs7G/b29uoX0gFM6gNaF0Wwt7fvMiNY5NEPdOwDfX19iEQiahiUra0t7OzsND4CozPk0R8SEoLo6Gjqz9TUFCtXrsTkyZOp/NhUx+lqk6WLjmZNQVefSCSSWjvi9OnTCAsLk8qLEKI+wxmEiTKWwKa6Swd5+y6gfY2d5aMMjL/yCw0NZe1cAS6X2+44fskKQTwej1rZTkKPHj0AtK6qw+FwMGvWLACtK12uWrUKxsbGWLFihYotZ4b2PhX/3eByufjpp58QGBiImJgYFBQUUF9q+Xw+hEIh9QDfq1cvHD9+HAEBAfj+++9x6dIlREdHU42zo3w0CVP6bG1tkZCQgM2bNwMADh06hG3btmHs2LEa00YXJsu4K0JXf0BAQIdlfOXKFezduxd79uzB3LlzMWTIEOzcuRN6enqalAYAiI2Nxfr161FRUYHTp0/jxx9/pPZNnjwZERERaGpqwpIlS6RunPr37y+1cMnVq1dZuRiPsvqEQiEePXqEM2fOwMzMDPv379eACsWho3/evHnYs2dPhz7Q0dFBVFQUli9fjoCAAKSnp+Obb75pc31nI3T104FtdZxJbWyEjj5nZ2d4eHjA398fVlZW8PDwwHvvvUelq6urw5EjRwC0jrRZsGAB619UvApTZcy2uksHebV3pFFWPkrRWfwGunH4FEWdcfjOnj1LeDweaWxslNqelZVFdHV1SUlJCamqqiLm5ubUPicnJ/LgwQNCCCE6OjpSx50/f54MHz6cjBkzhtTX16vUdibj8ClDV4/DJ6GxsZE8evSICAQCqe2FhYVt9DU3N5OsrCxSV1dHOx9FYCIOnwSm9FVWVpLHjx8rHcNLgjri8ElgygfqRtk4fBLo6u+ojBsaGsijR49IaWmp0rYwFYdPglAoJC9evCBisVhqe1lZWZttHfHy5UtSU1OjtC2EMBeHT4Iy+urq6sizZ8+UignaHuqIwyeBifJ9NR+hUMi0ie2ibBw+CUzpZ6qOMxGHTwJT2piEiTh8Eujoq66uJnl5eUrFVpMHdcXhk8C2/pkOysbhkyCPdlkaO8pHESRx+Ng/qJ9BfH194eTkhP3792Pp0qXU9tjYWKxcuRL9+vVDY2MjmpqaQAiBWCxGfX09NQfmVX799Ve89957ePDgAd5//33cvHkT77//vjrlaFECfX19jBgxos329lYv7dGjB4YPHy5XPpqGKX29e/fW+LwtRWHKB10Vuvo7KmNDQ0NW1m0AHcaElGdiu4WFBZMmMYoy+oyMjKTi8HVFmChfWfmwHab0s7GOM6WNrdDRZ2Ji0mZxre5Ed++fZSGPdlkaVdF3/a0e+HR0dHDx4kUsW7YMjY2NsLe3R2JiInr06EHN2zMwMICHhwemTJmCSZMmQV9fH6dPn0ZeXh5aWlpw9OhRzJ49G8XFxVi0aBE++eQTDBo0iJEJlVq0aNGiRYsWLVq0aNHCJBxCZM8O/eKLL5CSkgIej6cSAxobGxEcHIxffvkF+/btU9ubyfLycpSWlmLQoEEwNDSU2icUCqlYdWVlZejbt2+b40UiEcRiMQoLCzFw4EBqHqCqyM7Oxn//+1+MGDEC9+7do1YVVDdVVVUa++JjbGwMc3Nz2Nvb4+7duxrzgapoaWlBQ0NDm4DC3Qk+nw8dHR1WzAVjK42NjeBwOF1ivhFddHV1oaenh1mzZuHMmTOoqKjQtEmMo8m+UR00NzfD0tKyW5YdU/Tu3RsvXryAsbGxpk1hnO3bt2Pt2rWMxANjG9297f4d7i2URSwWo66urlt+ea2pqUFycnLnX/gaGxuxfPlylS03f/ToUbS0tKCmpkYl+XdEnz59Ovy8zOPxqGFP7T3sAaCWuB48eLBqDGyHhoYGCAQCvPvuuxpblWrevHmIjo7WyBLfhYWF2L17N4RCIcaPHy810bk7UFxcjK1bt2LLli2aNkVlHDx4EJaWlqxYVY2txMfHg8fjYdq0aZo2hTFEIhGCg4PR0tKC4cOH49NPP9W0SYwiFosxd+5c7NmzR9OmqIzLly+joqICAQEBmjaFtTx+/Bjx8fH48ssvNW0KowQGBoIQgh49euD777/XtDmMExAQ0K3bbkFBAaKjoxEREaFpU1hLZWUlNmzYgKioKE2bwjiSPrvTu3Y+n4/evXvD2tpaJYbo6upCKBSisrKyyy5Fqw7EYjFqa2vR3NwMfX19lZVHZ1RVVcHKyopavVSdCAQCygd9+/bVmA9UhVgsBp/P73a6XoXL5cLQ0LBba1QWHo8HPT29buWj5uZmVFRUQCQSgcvldittQOsb9Kqqqm6n61UMDAy6ZdkxiSR+VnfzUVVVFcRiMRoaGrqdNqD1Zr876pIgEAi6/b2Fsujr66Ourq5b+kgyKoPxOHxatNDl2LFjuHz5sqbN0KJFixYtWrRo0aKl26J94NOiMY4fP45hw4Zp5Nz5+fk4evQonj9/TvuYa9eu4eXLl1Lbqqurce/ePdy7dw/3799n2kyFkVffvXv30NjYKLWNEIJr167h5MmTXXK+JBM+AID79+/j+PHjUsFyuwLy6u9K9TsnJwfHjx/vVFtKSgqOHTvWbtmlpKTg6NGjrCxXJvSlp6dTZXfv3j2Ul5erylzGoasfkO0DCZmZmUhJSWHSRJXClH46vlE38vZLT548walTp1BdXU1tS0tLw7Fjx5CRkaEqMxWGCX109rEZZX2Qm5sr1Xfdu3cPVVVVqjSZMeTR3lk97uieRFEYf+DLyspCRkZGlx+eefnyZZSWlrbZ3tDQgEOHDmnAou6FWCxGXl4ehgwZovZzJyUlITQ0FO7u7li3bh2SkpI6Pebhw4fw9fVFdna21Pa1a9fC09MTnp6e2Lhxo6pMlgt59L18+RJr1qzB6NGj28yjnT17NiIjI7F+/XrY2tri3r17qjadMZjywcaNG5GSkoIxY8YgKCgICQkJqjadEeSt412pfsfHx2PatGmwt7eHp6cnLl682G66oKAgbN26FRYWFhg2bBiOHj1K7Vu2bBnGjBmDgIAAODg44Pbt2+oyv1OY0JebmwtnZ2eMHj2a+usqL23o6gdk+0BCdXU1pkyZghMnTqjSbMZgSj8d36gbefql6upqfPLJJ0hKSoKfnx8VfDwsLAwZGRn44IMPcPXqVXz77bfqMr9TmNDX2T62o6wPxGIxJk6cCG9vb/j5+cHPzw8eHh6semnREfJol1WPZd2TKEVnAfvkCby+ZMkScu3aNXLv3j0yd+5cWsFO1Rl4XR6++eYbkpGRQQghpKqqitr+888/twnArg66W+D1e/fukXnz5sl1DBOB14VCIbGxsSFpaWmEEEJSU1OJjY2NzACozc3NZPHixaR///7kxo0b1Pbc3Fyybds2hexoDyYCryuir7KykgAgxcXF1LYbN25QWkUiEXn//feJn5+fUrYRop7A60z5IDs7m9ja2lK/b926RaytrRkLQt8RygZel1e/Ouo3U4HXGxsbSZ8+fUhgYCAhhBB/f38yYMCANkHGf/31VwKAREdHE0Ja+y1DQ0NSVlZGkpOTycaNG8m1a9fIhAkTCAAyfvx4xcUR5gKvM6GPEELCw8PJ8uXLSUhICAkJCSERERFK26aOwOt09RPSuQ8kTJ8+nQAgISEhKrWdEOUDrzOln65v6MJE4HV5+qXa2lri7OxMfvnlF6ntAoGAGBsbU/6oqqoilpaWCtskgYnA60zo62yfoqgr8DoTPrh+/Tq5deuWVJ4eHh6qNZwoH3hdHu106nF79ySKIgm8ztgXvhcvXuD+/fvw9PSEq6sr+Hw+MjMzmcpe7YSFhWHkyJEAgK+++ora3p1WzlMXYrEY8+bNQ2hoKLXt6tWrmDRpktptSU5ORn5+PrXqrJOTEwoLC2W+4Y+MjERoaGib0BubNm3CxYsXERMTA5FIpFK76aKIPgMDgzbbRo0ahXHjxgFojV85Y8YM1NfXq8ZohmHKB4mJiVJhYlxcXJCfn4/09HTmjWYQefV3tfpdXl5Ohazo2bMnCgoKkJaWJpXu5s2bAFoXCQIAW1tb8Pl8JCQkYMSIEfjyyy/h6emJ7du3AwA4HI4aVXQME/oA4OLFi7CysoK3tzciIiKwdu1aNapQHLr6gc59AAB79uyhVtzuCjCln45v1I08/dLq1asxfPhw+Pv7S23X1dWFoaEhtZJ1UlISvLy8VG88DZjQ19k+tsOED8aPHw8PDw/q9++//66Re0V5kUc7nXrc3j2JsjD2wGdhYYG8vDzs3bsXJSUlEIlEcHBwYCp7xjh8+DC+++47FBUV4ezZs4iIiKA6xx9//BEJCQmora3Fzp07kZmZie+//x67du1CdHQ0CgsLqRuDoqIirF27Vju8kwZcLhcrVqzAzZs3cefOHQCt84UmTpyodlvS09NhZmZGlaOOjg5MTU3x8OHDdtNfv34dgwYNgo2NTZt9rq6usLGxwerVq+Hh4cGKMeby6uuI1+P15ObmYsaMGYzZqUqY8oGenh5ycnIgEAgAtK7ipaenh4KCAsZtZhJ59He1+i3RIAkLI9H46NEjqXSSB3VJWfXs2RNA62plr8bbamlpAQB8/PHHKrSaPkzoS01NRXJyMlavXo3Jkydj6NChtIatswG6+gHZPgBa20FVVZVGrjOKwpT+znyjCej2S5WVldi/fz8sLS0REhICHx8f3Lp1C0CrP2JjY7FhwwYEBgbi9u3biImJUbuW9mBCn6x9XQGmyvhVTpw4gZkzZ6pHgBLIc93VVD1m7IFPX18f586dw+eff44ZM2bgyJEjKg9Grgjjx49HREQELCwsMHHiRGzdupWaR1ZaWiQF2+EAACAASURBVIqxY8eisrISO3fuRFFREZYtWwYul4tly5bhzTffBNC6mEVycjJmz56NkJAQFBUVaVJSl8DZ2RkrVqzAzp07IRKJqMD26qa+vr7NeHgdHZ12g8nW1NTgwoULmDNnTrt5BQcH44cffkB2djaEQiHWrVunEpvlQR59dGloaEBqaiqCg4OVNU8tMOUDX19fcLlcREZGQiAQ4OzZs2hsbKT6AbZCV39XrN+1tbUA/ndTIPm3rq5OKt1HH30EPT09nDhxAk+fPqVufAcMGCCV7ty5c3j77bdZU7eZ0MfhcPD1119j/vz56N27N54/f44pU6aguLhYjUoUg65+QLYP6uvrsWvXLqxZs0ZNljMDU/rp1n91QrdfunHjBgghWLlyJbZu3YqpU6fCx8cHJSUlAABvb28EBwfj7NmzyMjIgFAoVJsGWTChrzPtbIepMpYgEonw5MkTODo6qtx2ZZH3vkMT9ZjRRVuys7OxefNmVFZWIjAwkMmsGWPQoEEYM2YMrly5gp49e8LKygqHDx+GWCyGnp4ejIyMMGjQIFhZWXWYB4fDwYwZM+Dk5IRhw4bhxYsXalTQdZk+fTpu3ryJCxcuwM3NTSM2WFhYgM/nS21raGhAnz592qRds2YNLCwssG/fPuzbtw98Ph/nz59vs6KShYUFfvjhByQmJqrSdFrIo48uW7Zswa5du6i3zmyHKR+Ym5vj9u3bKCsrQ1hYGO7fvw9LS0u4uroyaS7j0NXfFeu3iYmJ1G/JF7rXL7RDhgxBUlISJkyYgB07diAtLQ2GhoZSX3uKiopw6tQpnD59GjweT/XG04AJfS4uLli/fj0OHDiAwsJCLFmyBPX19bhy5YradCgKXf2AbB9s2LABenp6+O677/Dzzz8DaF2xko2rOr4KU/rp1H91Q7dfqqiogLm5OXUPtnDhQnA4HFy9ehUAEBISAn9/f/zxxx/Iysrq8IWVumFCX2fa2Q5TZSyhqwznBOS/79BEPWbsDq6wsBDR0dG4desWPvroI7i7uyMhIQGTJ09m6hSMERQUhB9//BFisRgbNmzA6tWrMXLkSLz33ntUGrpzOrhcLmvmt7AdHo+H+fPnY+nSpdTcGXXj5uZGBcft0aMHamtrUVNTA3d39zZpbW1tkZubS/0WCATIzs5us3Q9ANjb28Pc3FylttNBHn10OHjwIHx8fNod8sdWmPSBra0ttm/fDkIIPDw8EBYWxvoHX7r6u2L9dnFxAQDqbajkhlgyb4LP58PAwAAcDgdubm5wc3PDgwcPEBUVhXXr1lFDlVtaWhASEoITJ05gwIABKCwsRGNjI4YOHaoBVf+DKX0SDAwMEBUVhbNnz0oNZWUr8ugH0KEPqqurcerUKam8UlJSkJ6ejlGjRqlVkzwwpb+zfZqAbr9kbW2NqqoqCIVC8Hg88Hg8DBw4EHp6eigvL0dcXBy2bdsGALh06RLs7OxQUlKC/v37a0IWBRP6+vXr1+G+rgATPniV+Ph4rFq1Sp0SFEae+w5N1WPGvvCVl5dT48bNzc0REBCAhoYGprJnFMlTdVpaGj744ANYWFjg2LFjsLOza5OWw+FALBYDgPbBjgGCg4NRWVkJT09PjZx/5MiRcHV1pSbS3rlzB15eXtQDzYMHD6i3NCEhIYiOjqb+TE1NsXLlSkyePBkikUhqmeDTp08jLCxM/YJeQx59EkgHIVQOHz6Mfv36YdSoUeDz+bh+/brc8+A0AZM+kBAZGQl7e3ssWrRINUYzCF39XbF+u7u7Y8iQIaisrATQ+gbV0dERDg4OSE1NhZmZGWbPnk2lr6+vR1BQEKZNmya1+NaaNWuQnJyMefPmYcyYMXB2dkbfvn3VLacNTOj766+/sHLlSjx9+hRA6zXM3t4e3t7eatcjL/LqB9r3wf79+1FdXY3q6mrExcUBaA3F8cknn6hVj7wwpZ/OPnVDt1969913YWVlRaUTCoVobm6Gl5cX9PX1IRKJqGFytra2sLOzY0XYAib0ydrXFWDCBxJEIhGys7Nhb2+vfiEKIM99B5163Nk9iSIw9sDn5OQER0dHxMbG4vr16yCEYOrUqUxlzyg8Hg8ff/wxVbkWLFgg9QDy7NkzPH78GL/99hvEYjEcHR0xb948FBUV4fz582hpacGlS5fw8OFDPH/+nEqnpXMkn701+bUgNjYWu3fvxs8//4xDhw7hxx9/pPZNnjyZVrymv/76C8OHD8esWbOwevVqGBkZSX0h1iTy6Kurq6P2HzlyhAp8umfPHsydOxc+Pj4wMDBAz549MWvWLIwYMUKdUhSGCR8IhUJkZGTgm2++Qc+ePbF//351SlAKZes4W+s3l8vFTz/9hIcPHyImJgYFBQU4fvw4gNavH0KhEHV1daivr8dPP/2EhQsXIjg4GD///DP1ZfbIkSPYtm0bXrx4gTt37iAlJQUmJiZthtNpAib0FRYWYu/evRg5ciQWLVqELVu2YOfOnV3iKwFd/QBk+qCrwpR+tvqGTr/E4/Fw6tQpRERE4PLly9iwYQOioqJgYmICIyMjREVFYfny5bh+/Tp27NiBb775hlrVVNMoq0/Wvq6Csj6QcPXq1S614BJA/7rbWT3u6J5EaTqL3yBPHD5CCKmrqyOVlZW002sqDl9dXR31/+bmZpmx5UQiESOx55Shu8XhUwQm4vBJEAqF5MWLF0QsFkttLysra7OtI6qrq0leXp7M+G7ywEQcPglM6FMF6ojDJ0FZH9TV1ZFnz561GwNLlSgbh0+CsvqZrN9MxeGT0NjYSB49ekQEAoHU9sLCQtLc3ExKS0tJQ0OD0uehC1Nx+CQoq6+hoYE8evSIlJaWMmaTOuLwSehMPyFE7WVMB2Xj8ElQVj/TvmEiDp8Euv2SSCQieXl57d5vSPKgE+uZDkzE4ZPAhD5Z+xRBXXH4JDDhg5cvX5KamhqV2ypB2Th8EuS57jJdjztCEoeP8Vc+r8atYjOv2tmjRw+ZaXV0dFi54qgWxdHV1W13YR55FvZgy1eB9mBCX1dHWR8YGRl1mf6sPZTVz+b6ra+v3+7XZsnKv2wYnqkMyuozNDTsMl/j26Mz/UDXL2NZKKufzb6h2y/p6OjA2tparjzYABP6ZO3rCjDhAwsLC5XYpmrkue6qux4zukqnFi1atGjRokWLFi1atGhhD51+4bOwsEBycjJycnJUYkBJSQmsrKxga2tLe2XMvyNcLhdWVlYwMTHB8+fPcfDgQY3YYW1tjbi4OHC56n9XwOfzYWVlhV69emnUB6qirq4OJiYm3U7Xq1RUVEAgEHRrjcpSWFgILpfbrXxECMGIESOgr6+Purq6bqUNaNU3ePDgbqfrVbKzs9HS0tKtNSpLTU0NdHR0up2PBg8eDC6XCzMzs26nDWgNcdEddUmora2FkZFRt9aoLI2Njejbt2+39JFk9elOH/i4XC6qqqpUZkhDQwM4HI5GHiC6GlwuFxwOBw0NDRoLxEkIQUlJiUbKq6WlhfIBn8/vMsFI6dLY2AiRSNTtdL1KQ0MDxGJxt9aoLPX19eByud3OR5K2KxAIup02QgjVN3ZXamtroaur2601KotAIEBzc3O38xGHwwGHw+m2dby76pLA5/O7/b2FsggEArS0tHRrH3X6wFdSUoI5c+Zg/PjxKjHgu+++A5/PR1ZWVqfLkFZUVFDxaTgcDgwNDWFsbKwSu9ojPz8fOTk5GDRoEKytrVFeXq62OVFisRjPnz9H3759YW9vr7Fgo87Ozjh58mSn8x5VQXZ2NkJDQ/HGG2/Azs6O9Utsy0tubi6WLVuGtWvXatoUlREeHg4bG5s2S4tr+R/bt2+Hnp5elwgBQZfm5ma4u7vD19cX5ubm3a6Ot7S0IC4uDufOndO0KSrj0KFDKCoq6nZlxyR3797F06dPu52PXFxc0NLSgqqqqm6nDWiNN3v+/HlNm6EyJPdO3bHsmOLly5eYNWtWt/SRZMXPLvVZrb6+HlOmTEFgYCCuXbuGXbt24Z133sGFCxdUet6qqioEBATg1KlT6NWrF1JTUzFz5kycPHlSpedVJceOHcPly5f/9jZo0aJFixYtWrRo0dKd0XxgFjmwtraGo6MjrKysMGvWLACtwQ5nzZqF8vJylXx1IoTgo48+wpw5cxAUFAQAeOuttzB69GjEx8czfj51cfz4cWzduvVvb4MWLVq0aNGiRYsWLd0Zxh/4cnNz0dLSQk0SZJrXF3bR0dGBQCCASCRCjx49cPLkSVRXV6OiogIhISHQ1dVFXFwc8vPz4evri1GjRuHGjRvIzMzEwoULkZeXh99//x0FBQVYunQpGhoa8OOPP2L69OmIi4vDP/7xD9y5cweXLl2SOq+VlRU++ugjAMCLFy9w6dIl1NXVwdfXF/b29pQvYmNjsWjRIvz3v/+Fi4sL/vWvfyE+Ph7Pnj2Dl5cX3n77bVy/fh3Pnj1DYGCgSnz2OmKxGHl5eRgyZIhazsdGG3JycnD37l24u7vTXv64srISf/75J2xsbDBo0CCF81EH+fn5uHHjBt555x3adj158gQPHjzApEmTYGpqSnsfW2HKB4mJiaioqMDEiRPRu3dvVZrMKHT1p6WlISsrCw4ODhg1alS7aa5duwZ7e3v069dPVebKBV1t9+/fR3Z2Njw8PNpd/vrevXtwcHCAgYGBKs2VG6b0AewrOzrI03Zl+aCrtl15rispKSl49uwZxo0b10a/rH2ago62jIwMCAQCqW0WFhYYOHAgACA9PZ2a3gMAgwYNYk3IIbpl9+DBA2RnZ8PS0hLu7u5S+1JSUvD06VOMHz+eNeUmD0yUsSz/sBkm2y7TdYDRIZ1r1qxBbm4url69iv/85z9MZi3FvXv3cODAAURGRmLp0qXYv38/DA0NkZiYiGPHjmHBggXIysqixq1OmDABmzZtwptvvgmgdfL54MGDUVFRgf3792PhwoWwsbHB1KlTUVBQgPDwcGRmZsLExASJiYmwtraGvr5+GzsGDRqE8vJyLF68GAsWLMC8efPg6+uLR48eAQCeP3+O//f//h9+//13BAQEYPny5Xjx4gXee+89fPfddzA3NwfQOlRV8pCoDtLS0vDWW2+p7XxssyE+Ph7Tpk2Dvb09PD09cfHiRZnpa2pqsGDBAixfvhwDBgygHvbkzUddJCUlITQ0FO7u7li3bh2SkpJkpq+ursYnn3yCpKQk+Pn5ST3QydrHZpjywZo1a3Dy5El8++23cHJyUukCVkxCV39YWBgyMjLwwQcf4OrVq/j222/bpHn48CF8fX2RnZ2tarNpQVfbxo0bkZKSgjFjxiAoKAgJCQnUvpcvX2LNmjUYPXo0ampq1GU6LZjQJ4FtZUcHedquLB901bYrz3UlKCgIW7duhYWFBYYNG4ajR4/S2qcp6GhraGiAq6srRo8eLfX366+/Amh9ke7s7Cy1r6ysTN1S2oWOPkIIPv30U6xatQqjR4/Gli1b4O3tDZFIBABYtmwZxowZg4CAADg4OOD27dvqlqEUypZxZ/5hM0y1XZXVgc4itP/73/8mSUlJnUZyT0hIIIGBgdTvMWPG0DouMjKSHDhwgLi5uZHa2tpO08+dO5esWrWKVFdXk8zMTBIQEEDefvttUlVVRWpra0l2dja5desW8fPzIxEREdRxq1atIhs3biSEEPL5558TsVhMoqKiyMqVK8mxY8fIvn37yKJFi4hQKCQ6OjrUcRs2bCD29vYd2rNlyxYSGhpK/V62bBn57LPPCCGECAQCqbzGjh1Lbt26RQghJDQ0lGzYsIHyQWdkZWWRadOmkfDwcHL48OFO00toaWkhc+fOJSEhIdS2yMhIufJ4FScnJ9Lc3CzXMUzZ8OTJE+Lv7082bdpEDh06JNexEhobG0mfPn2ouurv708GDBhARCJRu+nLy8vJsGHDyPz585XKhw45OTnE19dX4eMJIUQoFBIbGxuSlpZGCCEkNTWV2NjYkJaWlnbT19bWEmdnZ/LLL7/ItU9RNm7cSOLi4hjLrz2Y8kFRURHJyckhhBDS1NRE+vXrR86dO6dS2wkh5Pvvvye7d+9W+Hi6+gUCATE2NqbqbFVVFbG0tJRK09zcTBYvXkz69+9Pbty4obBNTU1NxNnZmRw5coSEh4crnA9dbdnZ2cTW1pb6fevWLWJtbU2ampqobZWVlQQAKS4uVtgeCSKRiDg6OiqdD5P6mCo7CQcPHiSbN29WOh9ZyNN2ZflAU203JSWFfPrppwofL8915ddffyUASHR0NCGk9dpsaGhIysrKZO5ThLfeeotkZmaSKVOmKKiMvrbffvuNDBkyhMyZM4cEBweTTz75hOjo6FC2h4eHk+XLl5OQkBASEhIidZ+nKHZ2dkrnQVfftWvXCADy+eefE0IIOXXqFAFArl+/TpKTk8nGjRvJtWvXyIQJEwgAMn78eKVtk9w7qRomyliWf1RJSUkJ8fT0VPh4ptquKurAiBEjCCGEMPaF7+7du9DR0aF+Ozs74+rVq0xlL4WBgQFMTExgZ2eHAwcOICsrC3FxcWhqasKWLVtgbGwMJycnqVU/Q0JCsHv3bmRnZ6N///7gcDgoKyvDwIEDMWvWLAQFBWHnzp3Q1ZUe5erq6oqcnBzw+fx2bSkqKkJDQwP129raGpWVlQDaDj/lcrkQi8UAgCVLlmDfvn3Iy8tT6Sd7LpeLFStW4ObNm7hz5w6A1iE+EydOVNk52WiDhOTkZJSXl1NfbHv27ImCggKkpaW1m37hwoV4/vw5IiMjlcpHXSQnJyM/Px9OTk4AACcnJxQWFnb4hmj16tUYPnw4/P395drHZpjywRtvvIHBgwcDAPT09PDmm2/Cw8NDtcYzAF39urq6MDQ0xJYtWwC0flnx8vKSShMZGYnQ0FCpvl2T0NWWmJgIIyMj6reLiwvy8/ORnp5ObWPbME6AWX1sKzs6yNN2ZfmgK7dduteVmzdvAgAVIsnW1hZ8Ph8JCQky92kKutr09PSQmZmJw4cPY8+ePZg6dSr+8Y9/UEM2L168CCsrK3h7eyMiIoI1qyrS1dfc3AwA2Lt3L548eYKKigro6urCysoKI0aMwJdffglPT09s374dQNv7SDbDRBnL8g+bYartqrIOMPbAZ21tjRs3blAPWYSQDh+SlIG8FrqhoqICTU1NsLa2xu7du2FmZoaRI0dCKBSCEEI9YFlaWsLPzw8ffvghAgICALReTLZv347CwkIAQFxcHJVegp+fH+zt7ambIgk1NTVISEjAuHHjkJiYSG0vLy/He++916mOwYMHw8XFBYsWLcKHH34otx/kwdnZGStWrMDOnTshEolQVlYGS0tLlZ6TjTYArUOcAFAP9pKGJBmG+yo5OTk4c+YMevfujQULFsDDwwPHjx+XOx91kp6eDjMzM8oeHR0dmJqaUva+SmVlJfbv3w9LS0uEhITAx8cHt27d6nQf22HKBxLEYjF27NiBoKAgmJmZqUWDMtDVz+FwEBsbiw0bNiAwMBC3b99GTEwMtf/69esYNGgQbGxs1Gq/LOhq09PTQ05ODjVHRF9fH3p6eigoKFC7zfLAlD42lh0d5Gm7dMq4q7Vdea4rkoddid6ePXsCaL0nkrVPU9DVNm7cOKkF+E6ePIkZM2YAAFJTU5GcnIzVq1dj8uTJGDp0aKfD9dUFXX0TJ07EuHHjUF5eDjc3N0RHR+PMmTMYPHiw1DzTlpYWAMDHH3+sDvMZgYkyluUfNsNU21VlHWDsgW/mzJlwdHTE9OnTERMTg4sXL3a4AICi3L9/H3fv3sVvv/2Gb7/9Fps2bcKcOXOwceNG+Pn5wdnZGbGxsVi7di1evnyJc+fOITc3lzp+9erVcHFxoebOffjhhxg7diyGDh2KkSNHwtTUFBcuXEBLSws1npbD4eDcuXNITk7Gv/71L+zfvx8xMTE4d+4cvLy8MG3aNHh6emLRokU4ceIEBAIBFSPvypUraGlpQUJCAh4+fIjnz5/jt99+owrxs88+w1tvvQU9PT1G/dQe06dPx82bN3HhwgW4ubmp/HxstaG2thbA/xqj5N+6uro2aSUvMHx9fREfH4/GxkbMnj0bGRkZcuWjTurr69vMs9PR0UFTU1ObtBJ9K1euxNatWzF16lT4+PigpKRE5j62w5QPJBw9ehTx8fH47LPPukSsJnn0e3t7Izg4GGfPnkVGRga1EEJNTQ0uXLigsXifHUFXm6+vL7hcLiIjIyEQCHD27Fk0NjZS87jZChP62Fp2dJCn7tIp467WduW5rnz00UfQ09PDiRMn8PTpU+rmccCAATL3aQpFrpmNjY24cuUK9VKcw+Hg66+/xvz589G7d288f/4cU6ZMQXFxsYqt7xy6+ng8Hk6ePAlLS0vU1NQgIyMDf/zxR5v8zp07h7fffhvBwcEqtpw5mChjuv5hG0y13Vdhug4wtkqnrq4u4uPjIRaLkZubi6+//ppaxZIpXFxckJmZKbXtiy++oP7v7+8PT09PGBsbg8PhQCAQSL1FePr0qZTjOBwOjh49ipKSEhgZGVFP3a9/RbS0tMTly5dRVlaGiooKDBw4EIaGhtT+Xbt2oaqqCs3NzZg5cya1fcqUKVJ55efnS+Xr5eWFsWPHKuIKueHxeJg/fz6WLl1KfSZWN2ywwcTEROq35OG7vcVISktLAQA9evQAj8eDj48P/vzzTyQkJMiVjzqxsLBo82W9oaGh3RXMKioqYG5uTg2VWLhwIT7//HNcvXoVTU1NHe5je9B0pnwg0TlnzhzMmTMHCxYswI4dO+Dn56d6EUogj/6QkBD4+/vjs88+w/vvv485c+bgzJkzWLNmDYYNG4Z9+/YBAPh8Ps6fP49evXox/iJPHuhqMzc3x+3bt7Fz506EhYXBwMAAlpaWcHV1Vae5csOEvqVLl7Ky7OggT92lU8Zdre3Kc10ZMmQIkpKSEBMTgx07diAtLQ2GhoaYOHEievXq1eE+TaHINfPSpUtwcXGBhYUFgNZ7QBcXFwDAzp07ERoail27duHKlSuYN2+eagynCV19paWleOedd7B48WKYm5tj6dKlCA8Ph4+PDzXsuKioCKdOncLFixfB4/HUI4ABmChjOv5hI0y1XQmqqAOMh2UghGDVqlU4fPiwRuZI9OrVi/q/5GHv0qVLePDgAfLz8xEVFdXmmP79+9PKu2/fvujbt2+7+xRZ8pnD4UjNQVA1wcHB2Lx5Mzw9PdV2TrbZILlYSL5kSBqlZM4In8+HgYEBOBwOtTywZAWwV5c17ywfTeHm5obS0lLqZUdtbS1qamraXdbY2toaVVVVEAqF4PF44PF4GDhwIPT09NCvX78O97EdpnzwOjNnzmy3/2AbdPWXl5cjLi4O27ZtA9DaT9rZ2aGkpAS2trZSoyMEAgGys7Px8uVLtWp5HXnK1tbWFtu3bwchBB4eHggLC2szR5ttMKGPrWVHB3n0A/TLuKu0XXmuT0Crv9zc3PDgwQNERUVh3bp11D2QrH2aQF5tgPRQv9cxMDBAVFQUzp49y4qQG3T1HTlyBM+ePcPYsWMxadIk3L17F7GxsUhNTYWHhwdaWloQEhKCEydOYMCAASgsLERjY6PKQp0xCRNl3Jl/2AqTbVdVdYCxIZ0CgQCpqan46quv8MUXX2j0TdLr6Onpoby8HF9//bWmTdEokrenkiGtf0cb3N3dMWTIEGphnYaGBjg6OsLBwQGpqakwMzOjvuz4+PjA3NwcT548AQA0NTWBy+XCx8dHZj6aZOTIkXB1daUWObhz5w68vLyouTwPHjyg3qC/++67sLKyotIKhUI0NzfDy8tL5j62w5QPgP912gDw7NmzLjFMjq5+fX19iEQiaricra0t7OzsYGpqipCQEERHR1N/pqamWLlyJSZPnqwxXYB8ZSshMjIS9vb2WLRokdT210dysAEm9LG17OigiH6g/TLuim1XnuuThPr6egQFBWHatGn46quvaO9TN/Jqa25uxqVLl6RGiv31119YuXIlnj59CqD1pbm9vT28vb3VK6Yd6Op7NRyX5DgAePvttwG0hhNJTk7GvHnzMGbMGDg7O3f4oYFtMFHGnfmHrTDZdlVVBxh73dnY2AhLS0ts3LiRqSwZY+LEiax6ANWiObhcLn766ScEBgYiJiYGBQUF1EIsfD4fQqGQGnPdq1cvHD9+HAEBAfj+++9x6dIlREdHUzETO8pH08TGxmL9+vWoqKjA6dOnqXiUADB58mRERERg3rx54PF4OHXqFL744gvw+XwkJSUhKiqKGpogax/bYcIH58+fx9y5cxEYGIg+ffrA2NgY//znPzUnSg7o6o+KisLy5csREBCA9PR0fPPNN+3GHGUTdLQFBATg/7d3xyzNA3EYwJ8iNTUKVRGdnBwaEN2lQ+nncAgExcFNEfwGbt0URVQq/QAKbg7Fr+Bg2sGihVipoEIMUiOeg1xfamubNne9NO/9xtT+e3dJvEYveUzTxNnZGSYnJ3F0dNRQw7Zt5HI5AD9/UV5ZWRG+HJti0b9B5vXYdV33zzEY1HO3m/np7e0NFxcXOD8/x9raGgzDqP/3oN1ronTTN+DnGQiLi4sNK7Asy8Lh4SH29/eh6zrm5uawu7sbiJUnXvu3vLyMy8tL7OzsAABOT0+RyWSwtLSEXC5XX3FRLpcB/Cz/G5R5l8U+bjc+Qcbq3OV6DHTKb/Caw9erbnP4/le95vCx1ksOHysscvio9/d3Ypom+fj4aNhuWVZT/2q1GikUCsS2bc91esEih49yXZeUy2Xy9fXVsP3p6alp2+fnJ7m7u2u5X9u91ot+5PBRLMbg8fGRlEol4rou9/ZSfnP4KK/9pz/Hs4+scvioTn2zbZvc3t76ysXsBqscPipo/SOkPzl8lJdjt9MYiDh3/ebwUV7mp2q1ShzHafn+dq/1gkUOH+V17q1UKsSyrKb3O45DTNMk1WrVd1soFjl8lNf+BKvanAAAAdRJREFUPT8/k2Kx2JCdyUu/cvgov/uYkP6ODyH+c/gov+cuDzSHL9g3NEgSJ7FYDJqmNW1vFRUxPDyMRCLRVR1Rjo+PuT6men5+HltbW9zqs5DJZHB9fc2tfjKZxOrqKrf6fjiOg/X1da6fsbm5iYWFBa6f0Uo+n0c2m+VWX1VV7O3tcavfydXVFU5OTrjVVxQFBwcH3OqzkM1mkc/nudXXNA3b29vc6rPiZX5qt8QryEsAvc69fz1bQVXVQM25v3nt38TERCDuPeTB7z4GBnd8/J67PMkLPkkKEcMwYBiG6GYItbGxIboJwoyOjjYsgQuTdDqNdDotuhncpFIppFIp0c0QStd16LouuhmSJEmhEyGk/Z3ryWQSDw8P3J64Sa+Eb25u6qnzUrOZmRkoioL7+3sAELYePx6P19cj99v09DQURamvaxZ9TwJrU1NTiMVigQ+H9kPTNBBCUCwWRTclsOjvxEKhILgl7ESjUaiqitfXVwDhO3eHhoagqqrwHE6eEokEIpFIqI5L1mZnZxGNRlEqlUQ3hanx8XE4joNarRbK72ljY2P1h4SEEf3u9DsaTPonHo9jZGRkILKGu1WpVPDy8tL5gk+SJEmSJEmSJEkaTN+iRUKAkpnijwAAAABJRU5ErkJggg==)"
      ]
    },
    {
      "cell_type": "markdown",
      "metadata": {},
      "source": [
        "Upon scrutinizing the results tabulated above, it is evident that our model demonstrates commendable performance on the Deepfakes dataset. However, when evaluating the model on Shallowfakes datasets, the outcomes are suboptimal, potentially influencing the overall efficacy of the model. To address this disparity and enhance the model's versatility, we propose undertaking a fine-tuning process using the Shallowfakes dataset. This strategic adjustment aims to optimize the model specifically for the challenges posed by shallowfake image manipulation detection. \n",
        "\n",
        "By fine-tuning on this distinct dataset, we anticipate improvements in performance and a more robust capability to discern shallowfake manipulations, thereby ensuring scalability and effectiveness across a broader spectrum of image manipulation scenarios. Fine-tuning on the Shallowfakes dataset will enable the model to adapt and refine its features, potentially mitigating the observed limitations and bolstering its overall detection capabilities."
      ]
    },
    {
      "cell_type": "markdown",
      "metadata": {},
      "source": [
        "####  <span style=\"color:green\" > Checking for labeled dataset"
      ]
    },
    {
      "cell_type": "markdown",
      "metadata": {},
      "source": [
        "To execute this approach, we are actively searching online for an open-source dataset that aligns with our specific requirements."
      ]
    },
    {
      "cell_type": "markdown",
      "metadata": {},
      "source": [
        "We use this open-source dataset available in [Kaggle](https://www.kaggle.com/datasets/birdy654/cifake-real-and-ai-generated-synthetic-images/data). [CIFAKE](https://www.kaggle.com/datasets/birdy654/cifake-real-and-ai-generated-synthetic-images/data) "
      ]
    },
    {
      "cell_type": "markdown",
      "metadata": {},
      "source": [
        "####  <span style=\"color:green\" > Dataset details : "
      ]
    },
    {
      "cell_type": "markdown",
      "metadata": {},
      "source": [
        "The dataset contains two classes - REAL and FAKE.\n",
        "\n",
        "    - For REAL, we collected the images from Krizhevsky & Hinton's CIFAR-10 dataset\n",
        "\n",
        "    - For the FAKE images, we generated the equivalent of CIFAR-10 with Stable Diffusion version 1.4\n",
        "\n",
        "    - There are 100,000 images for training (50k per class) and 20,000 for testing (10k per class)"
      ]
    },
    {
      "cell_type": "markdown",
      "metadata": {},
      "source": [
        "The dataset is varied and will contribute to enhancing the performance of our model."
      ]
    },
    {
      "cell_type": "markdown",
      "metadata": {},
      "source": [
        "### <span style=\"color:orange\" > 4 - Data preparation : "
      ]
    },
    {
      "cell_type": "markdown",
      "metadata": {},
      "source": [
        "In this step, we will undertake data preparation tasks such as consolidating all images into a single folder and generating a paths.txt file .. to the perform finetuning"
      ]
    },
    {
      "cell_type": "markdown",
      "metadata": {},
      "source": [
        "### <span style=\"color:orange\" >  5 - Training"
      ]
    },
    {
      "cell_type": "markdown",
      "metadata": {},
      "source": [
        "Now we can start Training after generating the paths file we perform training using this command in our machine "
      ]
    },
    {
      "cell_type": "code",
      "execution_count": null,
      "metadata": {},
      "outputs": [],
      "source": [
        "!python -u train_torch.py --paths_file paths_train.txt --val_paths_file paths_val.txt --load_path checkpoints/20231209183144_79_end.pth --model ours"
      ]
    },
    {
      "cell_type": "markdown",
      "metadata": {},
      "source": [
        "\n",
        "![images/finetuning.png](data:image/png;base64,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)"
      ]
    },
    {
      "cell_type": "markdown",
      "metadata": {},
      "source": [
        "Model stop training after reaching epoch 34"
      ]
    },
    {
      "cell_type": "markdown",
      "metadata": {},
      "source": [
        "After finishing training we will go through evaluation "
      ]
    },
    {
      "cell_type": "markdown",
      "metadata": {},
      "source": [
        "### <span style=\"color:orange\" >  5 - Evaluation"
      ]
    },
    {
      "cell_type": "markdown",
      "metadata": {},
      "source": [
        "#### <span style=\"color:green\" >  ShallowFakes"
      ]
    },
    {
      "cell_type": "code",
      "execution_count": 11,
      "metadata": {
        "colab": {
          "base_uri": "https://localhost:8080/"
        },
        "id": "XJWv4IcVm9fU",
        "outputId": "e7d99865-0f31-444e-d144-ee863c49ccf8"
      },
      "outputs": [
        {
          "name": "stdout",
          "output_type": "stream",
          "text": [
            "\n",
            "Detected CUDA files, patching ldflags\n",
            "Emitting ninja build file /root/.cache/torch_extensions/py310_cu102/_prroi_pooling/build.ninja...\n",
            "Building extension module _prroi_pooling...\n",
            "Allowing ninja to set a default number of workers... (overridable by setting the environment variable MAX_JOBS=N)\n",
            "ninja: no work to do.\n",
            "Loading extension module _prroi_pooling...\n",
            "load 20231209183144_79_end.pth finish\n",
            "Predicted maps will be saved in :out\n",
            "100% 3526/3526 [1:01:10<00:00,  2.02it/s]\n",
            "number of images in subset ALL is 3526\n",
            "best threshold=0.141037, G-Mean=0.857\n",
            "threshold 0.5000, pixel-f1: 0.8044\n",
            "threshold 0.5000, img level acc: 0.66 sen: 0.60  spe: 0.9565  f1: 0.8437 auc: 0.88\n",
            "threshold 0.5000, combine f1: 0.8236\n",
            "\n"
          ]
        }
      ],
      "source": [
        "!python -u evaluate.py --paths_file sf_test.txt --load_path checkpoints/20231267620664_34_end.pth --model ours"
      ]
    },
    {
      "cell_type": "markdown",
      "metadata": {},
      "source": [
        "#### <span style=\"color:green\" >Both"
      ]
    },
    {
      "cell_type": "code",
      "execution_count": 16,
      "metadata": {},
      "outputs": [
        {
          "name": "stdout",
          "output_type": "stream",
          "text": [
            "\n",
            "Using /root/.cache/torch_extensions/py310_cu102 as PyTorch extensions root...\n",
            "Detected CUDA files, patching ldflags\n",
            "Emitting ninja build file /root/.cache/torch_extensions/py310_cu102/_prroi_pooling/build.ninja...\n",
            "Building extension module _prroi_pooling...\n",
            "Allowing ninja to set a default number of workers... (overridable by setting the environment variable MAX_JOBS=N)\n",
            "ninja: no work to do.\n",
            "Loading extension module _prroi_pooling...\n",
            "load 20231209183144_79_end.pth finish\n",
            "Predicted maps will be saved in :out\n",
            " 16% 1179/7413 [02:20<10:33,  9.84it/s]/content/drive/MyDrive/ShallowDeepFakesLocalization/data/CASIA20revised/Tp/Tp_D_CRN_S_N_nat10130_pla00049_11524.jpg size not match\n",
            " 39% 2919/7413 [05:20<07:43,  9.70it/s]/content/drive/MyDrive/ShallowDeepFakesLocalization/data/COVERAGE/image/95t.tif size not match\n",
            "/content/drive/MyDrive/ShallowDeepFakesLocalization/data/COVERAGE/image/59t.tif size not match\n",
            "/content/drive/MyDrive/ShallowDeepFakesLocalization/data/COVERAGE/image/61t.tif size not match\n",
            " 46% 3419/7413 [06:00<07:12,  9.23it/s]/content/drive/MyDrive/ShallowDeepFakesLocalization/data/COVERAGE/image/58t.tif size not match\n",
            "/content/drive/MyDrive/ShallowDeepFakesLocalization/data/COVERAGE/image/56t.tif size not match\n",
            "/content/drive/MyDrive/ShallowDeepFakesLocalization/data/COVERAGE/image/48t.tif size not match\n",
            "/content/drive/MyDrive/ShallowDeepFakesLocalization/data/COVERAGE/image/57t.tif size not match\n",
            "/content/drive/MyDrive/ShallowDeepFakesLocalization/data/COVERAGE/image/41t.tif size not match\n",
            "/content/drive/MyDrive/ShallowDeepFakesLocalization/data/COVERAGE/image/55t.tif size not match\n",
            "100% 7413/7413 [15:01<00:00,  8.22it/s]\n",
            "number of images in subset ALL is 7413\n",
            "best threshold=0.141037, G-Mean=0.857\n",
            "threshold 0.5000, pixel-f1: 0.8044\n",
            "threshold 0.5000, img level acc: 0.8123 sen: 0.8451  spe: 0.9565  f1: 0.861 auc: 0.9331\n",
            "threshold 0.5000, combine f1: 0.8236\n",
            "\n"
          ]
        }
      ],
      "source": [
        "!python -u evaluate.py --paths_file test_paths.txt --load_path checkpoints/20231267620664_34_end.pth --model ours"
      ]
    },
    {
      "cell_type": "markdown",
      "metadata": {},
      "source": [
        "### <span style=\"color:orange\" > 6 - Conlusion"
      ]
    },
    {
      "cell_type": "markdown",
      "metadata": {},
      "source": [
        "In summary, our methodology has exhibited outstanding performance, notably outperforming others in both AUC and F1 score metrics. This success can be attributed to our meticulous fine-tuning strategy, leveraging a pre-trained model and harnessing the extensive data from the source domain. This approach enables us to effectively capture nuanced features from shallowfake images, enhancing model efficacy without succumbing to overfitting. Moreover, our findings underscore the robustness of our approach across diverse datasets, validating its versatility and applicability."
      ]
    }
  ],
  "metadata": {
    "accelerator": "GPU",
    "colab": {
      "provenance": []
    },
    "kernelspec": {
      "display_name": "Python 3",
      "name": "python3"
    },
    "language_info": {
      "codemirror_mode": {
        "name": "ipython",
        "version": 3
      },
      "file_extension": ".py",
      "mimetype": "text/x-python",
      "name": "python",
      "nbconvert_exporter": "python",
      "pygments_lexer": "ipython3",
      "version": "3.9.17"
    }
  },
  "nbformat": 4,
  "nbformat_minor": 0
}
